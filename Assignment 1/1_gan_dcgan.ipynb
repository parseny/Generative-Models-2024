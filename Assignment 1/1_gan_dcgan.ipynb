{
 "cells": [
  {
   "cell_type": "markdown",
   "metadata": {
    "colab_type": "text",
    "id": "view-in-github"
   },
   "source": [
    "<a href=\"https://colab.research.google.com/github/parseny/Generative-Models-2024/blob/assignment-1/Assignment%201/1_gan_dcgan.ipynb\" target=\"_parent\"><img src=\"https://colab.research.google.com/assets/colab-badge.svg\" alt=\"Open In Colab\"/></a>"
   ]
  },
  {
   "cell_type": "markdown",
   "metadata": {
    "id": "OUCkVdFc___N",
    "pycharm": {
     "name": "#%% md\n"
    }
   },
   "source": [
    "# Generative Models\n",
    "***\n",
    "\n",
    "**Autumn 2024**\n"
   ]
  },
  {
   "cell_type": "markdown",
   "metadata": {
    "id": "ML_snL71___T",
    "pycharm": {
     "name": "#%% md\n"
    }
   },
   "source": [
    "## Assignment 1\n",
    "\n",
    "***\n",
    "\n",
    "\n",
    "*Authored by Arip Asadulaev & Manh Lab*\n",
    "\n",
    "*Adapted by Alexander Panfilov*\n",
    "\n",
    "***\n"
   ]
  },
  {
   "cell_type": "markdown",
   "metadata": {
    "id": "JXCL_bw8___U",
    "pycharm": {
     "name": "#%% md\n"
    }
   },
   "source": [
    "The assignment is split into two parts: at first, you will implement classical GAN for the MNIST dataset, and after, you will enhance your results with DCGAN and the CIFAR dataset.\n",
    "\n",
    "Good luck!"
   ]
  },
  {
   "cell_type": "markdown",
   "metadata": {
    "id": "EUILjtbd___V",
    "pycharm": {
     "name": "#%% md\n"
    }
   },
   "source": [
    "## 1. GAN\n",
    "*Source: <a href=\"https://arxiv.org/pdf/1406.2661.pdf\" target=\"_blank\">Goodfellow, Ian J., et al. \"Generative Adversarial Networks.\" arXiv preprint arXiv:1406.2661 (2014)</a>.*"
   ]
  },
  {
   "cell_type": "markdown",
   "metadata": {
    "id": "Glhi9UoTJR0T",
    "pycharm": {
     "name": "#%% md\n"
    }
   },
   "source": [
    "In 2014, Ian Goodfellow and his colleagues at the University of Montreal published a stunning paper introducing the world to GANs, or generative adversarial networks. The models play two distinct (literally, adversarial) roles. Given some real data set $\\mathcal{X}$, $G$ is the generator, trying to create fake data that looks just like the genuine data, while $D$ is the discriminator, getting data from either the real set or $G$ and labeling the difference.\n",
    "\n",
    "Goodfellow’s metaphor (and a fine one it is) was that $G$ was like a team of forgers trying to match real paintings with their output, while $D$ was the team of detectives trying to tell the difference. (Except in this case, the forgers $G$ never get to see the original data — only the judgments of $D$. They’re like blind forgers.)\n",
    "\n",
    "<img src=\"https://production-media.paperswithcode.com/methods/gan.jpeg\" style=\"display=block; margin:auto\"/>\n",
    "<p style=\"text-align: center\">\n",
    "    <b>Picture taken from the <a href=\"https://paperswithcode.com/method/gan\" target=\"_blank\">paperswithcode</a> website. There you can find a whole bunch of papers on GANs with implementation.</b>\n",
    "</p>"
   ]
  },
  {
   "cell_type": "markdown",
   "metadata": {
    "id": "v2s_R0-J___W",
    "pycharm": {
     "name": "#%% md\n"
    }
   },
   "source": [
    "In this part, we are going to implement classical GAN. You can find a rough plan on how to do it below; however, it is not mandatory to stick with it precisely but one might expect some questions related to the listed steps. Feel free to adapt provided code!\n",
    "\n",
    "- Define the parameters\n",
    "- Load the data (with transforms and normalization)\n",
    "- Denormalize for visual inspection of samples\n",
    "- Define the Discriminator network, the Generator network\n",
    "- Study the activation function: Leaky ReLU\n",
    "- Explain the output activation function: Tanh, Sigmoid\n",
    "- Look at some sample outputs\n",
    "- Define losses, optimizers and helper functions for training\n",
    "     - For Discriminator\n",
    "     - For Generator\n",
    "- Train the model\n",
    "- Save intermediate generated images to file\n",
    "- Look at some outputs\n",
    "- Save the models"
   ]
  },
  {
   "cell_type": "markdown",
   "metadata": {
    "id": "t5m0Z5Sn___X",
    "pycharm": {
     "name": "#%% md\n"
    }
   },
   "source": [
    "### Imports"
   ]
  },
  {
   "cell_type": "code",
   "execution_count": 1,
   "metadata": {
    "execution": {
     "iopub.execute_input": "2024-10-10T14:19:00.662372Z",
     "iopub.status.busy": "2024-10-10T14:19:00.661190Z",
     "iopub.status.idle": "2024-10-10T14:19:09.156631Z",
     "shell.execute_reply": "2024-10-10T14:19:09.155827Z",
     "shell.execute_reply.started": "2024-10-10T14:19:00.662314Z"
    },
    "id": "bLWJJFYI___Y",
    "pycharm": {
     "name": "#%%\n"
    }
   },
   "outputs": [],
   "source": [
    "import os\n",
    "\n",
    "import matplotlib.pyplot as plt\n",
    "import numpy as np\n",
    "import torch\n",
    "import torch.nn as nn\n",
    "import torch.nn.functional as F\n",
    "from PIL import Image\n",
    "from torchvision import transforms\n",
    "from torchvision.datasets import CIFAR10, MNIST\n",
    "from torchvision.transforms import Compose, Normalize, ToTensor\n",
    "from torchvision.utils import save_image\n",
    "\n",
    "%matplotlib inline\n",
    "plt.style.use(\"ggplot\")"
   ]
  },
  {
   "cell_type": "markdown",
   "metadata": {
    "id": "eLj6X3bVn3eT",
    "pycharm": {
     "name": "#%% md\n"
    }
   },
   "source": [
    "### Define parameters & data loading"
   ]
  },
  {
   "cell_type": "code",
   "execution_count": 2,
   "metadata": {
    "colab": {
     "base_uri": "https://localhost:8080/"
    },
    "execution": {
     "iopub.execute_input": "2024-10-10T14:19:09.159182Z",
     "iopub.status.busy": "2024-10-10T14:19:09.158061Z",
     "iopub.status.idle": "2024-10-10T14:19:48.120611Z",
     "shell.execute_reply": "2024-10-10T14:19:48.119818Z",
     "shell.execute_reply.started": "2024-10-10T14:19:09.159141Z"
    },
    "id": "uI1speTm___a",
    "outputId": "5b75e6e2-1dcb-49fa-e1df-2cb8be270120",
    "pycharm": {
     "name": "#%%\n"
    }
   },
   "outputs": [
    {
     "name": "stdout",
     "output_type": "stream",
     "text": [
      "Downloading http://yann.lecun.com/exdb/mnist/train-images-idx3-ubyte.gz\n",
      "Failed to download (trying next):\n",
      "HTTP Error 403: Forbidden\n",
      "\n",
      "Downloading https://ossci-datasets.s3.amazonaws.com/mnist/train-images-idx3-ubyte.gz\n",
      "Downloading https://ossci-datasets.s3.amazonaws.com/mnist/train-images-idx3-ubyte.gz to data/MNIST/raw/train-images-idx3-ubyte.gz\n"
     ]
    },
    {
     "name": "stderr",
     "output_type": "stream",
     "text": [
      "100%|██████████| 9912422/9912422 [00:10<00:00, 902235.78it/s] "
     ]
    },
    {
     "name": "stdout",
     "output_type": "stream",
     "text": [
      "Extracting data/MNIST/raw/train-images-idx3-ubyte.gz to data/MNIST/raw\n"
     ]
    },
    {
     "name": "stderr",
     "output_type": "stream",
     "text": [
      "\n"
     ]
    },
    {
     "name": "stdout",
     "output_type": "stream",
     "text": [
      "\n",
      "Downloading http://yann.lecun.com/exdb/mnist/train-labels-idx1-ubyte.gz\n",
      "Failed to download (trying next):\n",
      "HTTP Error 403: Forbidden\n",
      "\n",
      "Downloading https://ossci-datasets.s3.amazonaws.com/mnist/train-labels-idx1-ubyte.gz\n",
      "Downloading https://ossci-datasets.s3.amazonaws.com/mnist/train-labels-idx1-ubyte.gz to data/MNIST/raw/train-labels-idx1-ubyte.gz\n"
     ]
    },
    {
     "name": "stderr",
     "output_type": "stream",
     "text": [
      "100%|██████████| 28881/28881 [00:00<00:00, 251563.65it/s]"
     ]
    },
    {
     "name": "stdout",
     "output_type": "stream",
     "text": [
      "Extracting data/MNIST/raw/train-labels-idx1-ubyte.gz to data/MNIST/raw\n",
      "\n",
      "Downloading http://yann.lecun.com/exdb/mnist/t10k-images-idx3-ubyte.gz\n"
     ]
    },
    {
     "name": "stderr",
     "output_type": "stream",
     "text": [
      "\n"
     ]
    },
    {
     "name": "stdout",
     "output_type": "stream",
     "text": [
      "Failed to download (trying next):\n",
      "HTTP Error 403: Forbidden\n",
      "\n",
      "Downloading https://ossci-datasets.s3.amazonaws.com/mnist/t10k-images-idx3-ubyte.gz\n",
      "Downloading https://ossci-datasets.s3.amazonaws.com/mnist/t10k-images-idx3-ubyte.gz to data/MNIST/raw/t10k-images-idx3-ubyte.gz\n"
     ]
    },
    {
     "name": "stderr",
     "output_type": "stream",
     "text": [
      "100%|██████████| 1648877/1648877 [00:00<00:00, 2372094.52it/s]\n"
     ]
    },
    {
     "name": "stdout",
     "output_type": "stream",
     "text": [
      "Extracting data/MNIST/raw/t10k-images-idx3-ubyte.gz to data/MNIST/raw\n",
      "\n",
      "Downloading http://yann.lecun.com/exdb/mnist/t10k-labels-idx1-ubyte.gz\n",
      "Failed to download (trying next):\n",
      "HTTP Error 403: Forbidden\n",
      "\n",
      "Downloading https://ossci-datasets.s3.amazonaws.com/mnist/t10k-labels-idx1-ubyte.gz\n",
      "Downloading https://ossci-datasets.s3.amazonaws.com/mnist/t10k-labels-idx1-ubyte.gz to data/MNIST/raw/t10k-labels-idx1-ubyte.gz\n"
     ]
    },
    {
     "name": "stderr",
     "output_type": "stream",
     "text": [
      "100%|██████████| 4542/4542 [00:00<00:00, 8659331.26it/s]"
     ]
    },
    {
     "name": "stdout",
     "output_type": "stream",
     "text": [
      "Extracting data/MNIST/raw/t10k-labels-idx1-ubyte.gz to data/MNIST/raw\n",
      "\n"
     ]
    },
    {
     "name": "stderr",
     "output_type": "stream",
     "text": [
      "\n"
     ]
    }
   ],
   "source": [
    "hidden_size = 256\n",
    "batch_size = 100\n",
    "LR = 0.0002\n",
    "num_epochs = 300\n",
    "sample_dir = \"./images\"\n",
    "latent_size = 64  # input random input vector latent\n",
    "image_size = 784  # 28*28 flatten\n",
    "device = \"cuda\" if torch.cuda.is_available() else \"cpu\"\n",
    "\n",
    "if not os.path.exists(sample_dir):\n",
    "    os.makedirs(sample_dir)\n",
    "## Define the dataset\n",
    "mnist_dataset = MNIST(\n",
    "    root=\"data\",\n",
    "    train=True,\n",
    "    download=True,\n",
    "    transform=Compose([ToTensor(), Normalize(mean=(0.5,), std=(0.5,))]),\n",
    ")"
   ]
  },
  {
   "cell_type": "code",
   "execution_count": 3,
   "metadata": {
    "colab": {
     "base_uri": "https://localhost:8080/",
     "height": 569
    },
    "execution": {
     "iopub.execute_input": "2024-10-10T14:19:48.122766Z",
     "iopub.status.busy": "2024-10-10T14:19:48.121838Z",
     "iopub.status.idle": "2024-10-10T14:19:48.439406Z",
     "shell.execute_reply": "2024-10-10T14:19:48.438372Z",
     "shell.execute_reply.started": "2024-10-10T14:19:48.122725Z"
    },
    "id": "tv3tRhsc___b",
    "outputId": "b6e78a52-4a7b-4c9a-b9ac-90de792f1e00",
    "pycharm": {
     "name": "#%%\n"
    }
   },
   "outputs": [
    {
     "name": "stdout",
     "output_type": "stream",
     "text": [
      "Label:  5\n"
     ]
    },
    {
     "data": {
      "text/plain": [
       "(array([55.,  4.,  3.,  0.,  3.,  2.,  1.,  0.,  1.,  3.,  1.,  3.,  2.,\n",
       "         1., 21.]),\n",
       " array([-1.        , -0.86771244, -0.73542482, -0.60313725, -0.47084966,\n",
       "        -0.3385621 , -0.20627451, -0.07398693,  0.05830066,  0.19058824,\n",
       "         0.32287583,  0.45516339,  0.58745098,  0.71973854,  0.85202616,\n",
       "         0.98431373]),\n",
       " <BarContainer object of 15 artists>)"
      ]
     },
     "execution_count": 3,
     "metadata": {},
     "output_type": "execute_result"
    },
    {
     "data": {
      "image/png": "[encoded data removed]",
      "text/plain": [
       "<Figure size 640x480 with 1 Axes>"
      ]
     },
     "metadata": {},
     "output_type": "display_data"
    }
   ],
   "source": [
    "img, label = mnist_dataset[0]\n",
    "print(\"Label: \", label)\n",
    "plt.hist(img[:, 5:15, 5:15].flatten(), bins=15)"
   ]
  },
  {
   "cell_type": "code",
   "execution_count": 4,
   "metadata": {
    "execution": {
     "iopub.execute_input": "2024-10-10T14:19:48.442865Z",
     "iopub.status.busy": "2024-10-10T14:19:48.441675Z",
     "iopub.status.idle": "2024-10-10T14:19:48.453086Z",
     "shell.execute_reply": "2024-10-10T14:19:48.452367Z",
     "shell.execute_reply.started": "2024-10-10T14:19:48.442823Z"
    },
    "id": "mDTAJ9hN___b",
    "pycharm": {
     "name": "#%%\n"
    }
   },
   "outputs": [],
   "source": [
    "# denormalization image from range (-1)-1 to range 0-1 to display it\n",
    "def denorm(x):\n",
    "  return (x + 1) / 2\n"
   ]
  },
  {
   "cell_type": "code",
   "execution_count": 5,
   "metadata": {
    "colab": {
     "base_uri": "https://localhost:8080/",
     "height": 430
    },
    "execution": {
     "iopub.execute_input": "2024-10-10T14:19:48.454655Z",
     "iopub.status.busy": "2024-10-10T14:19:48.454090Z",
     "iopub.status.idle": "2024-10-10T14:19:48.668532Z",
     "shell.execute_reply": "2024-10-10T14:19:48.667748Z",
     "shell.execute_reply.started": "2024-10-10T14:19:48.454618Z"
    },
    "id": "FdQspwIB___c",
    "outputId": "4e5243fb-5b3a-4a0b-8512-e3d9a6d77d43",
    "pycharm": {
     "name": "#%%\n"
    }
   },
   "outputs": [
    {
     "data": {
      "image/png": "[encoded data removed]",
      "text/plain": [
       "<Figure size 640x480 with 1 Axes>"
      ]
     },
     "metadata": {},
     "output_type": "display_data"
    }
   ],
   "source": [
    "# show image sample with matplotlib\n",
    "imgplot = plt.imshow(denorm(img.squeeze(0)))"
   ]
  },
  {
   "cell_type": "code",
   "execution_count": 6,
   "metadata": {
    "execution": {
     "iopub.execute_input": "2024-10-10T14:19:48.670061Z",
     "iopub.status.busy": "2024-10-10T14:19:48.669562Z",
     "iopub.status.idle": "2024-10-10T14:19:48.681059Z",
     "shell.execute_reply": "2024-10-10T14:19:48.680266Z",
     "shell.execute_reply.started": "2024-10-10T14:19:48.670025Z"
    },
    "id": "NFmgyzny___c",
    "pycharm": {
     "name": "#%%\n"
    }
   },
   "outputs": [],
   "source": [
    "from torch.utils.data import DataLoader\n",
    "\n",
    "# define the data_loader\n",
    "data_loader = DataLoader(dataset=mnist_dataset, batch_size=batch_size, shuffle=True)"
   ]
  },
  {
   "cell_type": "markdown",
   "metadata": {
    "id": "KPGRU37y___d",
    "pycharm": {
     "name": "#%% md\n"
    }
   },
   "source": [
    "### GAN implementation"
   ]
  },
  {
   "cell_type": "markdown",
   "metadata": {
    "id": "oCPhhAgp___d",
    "pycharm": {
     "name": "#%% md\n"
    }
   },
   "source": [
    "GAN consists of two deep networks, a generator ($G$) and a discriminator ($D$). The generator creates images before learning it. Since the discriminator is a binary classification model, we can use the binary cross-entropy loss function to quantify how well it can distinguish between real and generated images."
   ]
  },
  {
   "cell_type": "code",
   "execution_count": 7,
   "metadata": {
    "execution": {
     "iopub.execute_input": "2024-10-10T14:19:48.682561Z",
     "iopub.status.busy": "2024-10-10T14:19:48.682052Z",
     "iopub.status.idle": "2024-10-10T14:19:48.697126Z",
     "shell.execute_reply": "2024-10-10T14:19:48.696439Z",
     "shell.execute_reply.started": "2024-10-10T14:19:48.682527Z"
    },
    "id": "Eb6z7nry___d",
    "pycharm": {
     "name": "#%%\n"
    }
   },
   "outputs": [],
   "source": [
    "class Generator(nn.Module):\n",
    "    def __init__(self, latent_size, image_size, hidden_size):\n",
    "        super(Generator, self).__init__()\n",
    "        # set a linear layer with input size is latent_size and output size is hidden_size\n",
    "        self.linear1 = nn.Linear(latent_size, hidden_size)\n",
    "        # set a linear layer with input size is hidden_size and output size is hidden_size\n",
    "        self.linear2 = nn.Linear(hidden_size, hidden_size)\n",
    "        # set a linear layer with input size is hidden_size and output size is image_size\n",
    "        self.linear3 = nn.Linear(hidden_size, image_size)\n",
    "        # self.relu = nn.ReLU()\n",
    "        # self.tanh = nn.Tanh()\n",
    "    def forward(self, x):\n",
    "        # forward x -> linear1 -> relu -> linear2 -> relu -> linear3 -> tanh\n",
    "        x = nn.functional.relu(self.linear1(x))\n",
    "        x = nn.functional.relu(self.linear2(x))\n",
    "        x = nn.functional.tanh(self.linear3(x))\n",
    "        return x\n",
    "\n",
    "\n",
    "class Discriminator(nn.Module):\n",
    "    def __init__(self, image_size, hidden_size):\n",
    "        super(Discriminator, self).__init__()\n",
    "        ## set a linear layer with input size is image_size and output size is hidden_size\n",
    "        self.linear1 = nn.Linear(image_size, hidden_size)\n",
    "        # set a linear layer with input size is hidden_size and output size is hidden_size\n",
    "        self.linear2 = nn.Linear(hidden_size, hidden_size)\n",
    "        # set a linear layer with input size is hidden_size and output size is 1\n",
    "        self.linear3 = nn.Linear(hidden_size, 1)\n",
    "\n",
    "    def forward(self, x):\n",
    "        # forward x -> linear1 -> relu -> linear2 -> relu -> linear3 -> sigmoid\n",
    "        x = nn.functional.leaky_relu(self.linear1(x))\n",
    "        x = nn.functional.leaky_relu(self.linear2(x))\n",
    "        x = nn.functional.sigmoid(self.linear3(x))\n",
    "        return x"
   ]
  },
  {
   "cell_type": "markdown",
   "metadata": {
    "id": "dhViiJdk___e",
    "pycharm": {
     "name": "#%% md\n"
    }
   },
   "source": [
    "### Create the Generator and Discriminator"
   ]
  },
  {
   "cell_type": "code",
   "execution_count": 8,
   "metadata": {
    "execution": {
     "iopub.execute_input": "2024-10-10T14:19:48.698572Z",
     "iopub.status.busy": "2024-10-10T14:19:48.698076Z",
     "iopub.status.idle": "2024-10-10T14:19:48.723352Z",
     "shell.execute_reply": "2024-10-10T14:19:48.722435Z",
     "shell.execute_reply.started": "2024-10-10T14:19:48.698535Z"
    },
    "id": "n102NpQJ___e",
    "pycharm": {
     "name": "#%%\n"
    }
   },
   "outputs": [],
   "source": [
    "# create new Generator model\n",
    "\n",
    "G = Generator(latent_size, image_size, hidden_size)\n",
    "\n",
    "# create new Discriminator model\n",
    "\n",
    "D = Discriminator(image_size, hidden_size)"
   ]
  },
  {
   "cell_type": "code",
   "execution_count": 9,
   "metadata": {
    "colab": {
     "base_uri": "https://localhost:8080/",
     "height": 447
    },
    "execution": {
     "iopub.execute_input": "2024-10-10T14:19:48.725371Z",
     "iopub.status.busy": "2024-10-10T14:19:48.724552Z",
     "iopub.status.idle": "2024-10-10T14:19:48.973436Z",
     "shell.execute_reply": "2024-10-10T14:19:48.972482Z",
     "shell.execute_reply.started": "2024-10-10T14:19:48.725334Z"
    },
    "id": "rESTDDE5___f",
    "outputId": "f832a735-e914-40f7-b09a-d9eb6b34ece1",
    "pycharm": {
     "name": "#%%\n"
    }
   },
   "outputs": [
    {
     "data": {
      "text/plain": [
       "<matplotlib.image.AxesImage at 0x7fad88b81840>"
      ]
     },
     "execution_count": 9,
     "metadata": {},
     "output_type": "execute_result"
    },
    {
     "data": {
      "image/png": "[encoded data removed]",
      "text/plain": [
       "<Figure size 640x480 with 1 Axes>"
      ]
     },
     "metadata": {},
     "output_type": "display_data"
    }
   ],
   "source": [
    "# show the output of model\n",
    "y = G(torch.randn(1, latent_size))\n",
    "plt.imshow(denorm(y).view(28, 28).detach().numpy())"
   ]
  },
  {
   "cell_type": "code",
   "execution_count": 10,
   "metadata": {
    "execution": {
     "iopub.execute_input": "2024-10-10T14:19:48.977447Z",
     "iopub.status.busy": "2024-10-10T14:19:48.976673Z",
     "iopub.status.idle": "2024-10-10T14:19:49.014225Z",
     "shell.execute_reply": "2024-10-10T14:19:49.013382Z",
     "shell.execute_reply.started": "2024-10-10T14:19:48.977407Z"
    },
    "id": "cDqDOGc-___f",
    "pycharm": {
     "name": "#%%\n"
    }
   },
   "outputs": [],
   "source": [
    "# define the criterion is nn.BCELoss()\n",
    "criterion = nn.BCELoss()\n",
    "\n",
    "## Define the optimizer for generator and discrimator\n",
    "\n",
    "optimizer_G = torch.optim.Adam(G.parameters(), lr=LR)\n",
    "\n",
    "# Определение оптимизатора для дискриминатора\n",
    "optimizer_D = torch.optim.Adam(D.parameters(), lr=LR)"
   ]
  },
  {
   "cell_type": "markdown",
   "metadata": {
    "id": "UreJsJKb___g",
    "pycharm": {
     "name": "#%% md\n"
    }
   },
   "source": [
    "Discriminator Training"
   ]
  },
  {
   "cell_type": "code",
   "execution_count": 11,
   "metadata": {
    "execution": {
     "iopub.execute_input": "2024-10-10T14:19:49.016410Z",
     "iopub.status.busy": "2024-10-10T14:19:49.015308Z",
     "iopub.status.idle": "2024-10-10T14:19:49.029559Z",
     "shell.execute_reply": "2024-10-10T14:19:49.028858Z",
     "shell.execute_reply.started": "2024-10-10T14:19:49.016369Z"
    },
    "id": "Rs4ZPjcP___g",
    "pycharm": {
     "name": "#%%\n"
    }
   },
   "outputs": [],
   "source": [
    "def reset_grad():\n",
    "    ## reset gradient for optimizer of generator and discrimator\n",
    "    optimizer_G.zero_grad()\n",
    "    optimizer_D.zero_grad()\n",
    "\n",
    "def train_discriminator(D_model, G_model, images):\n",
    "\n",
    "    # Create the labels which are later used as input for the BCE loss\n",
    "    real_labels = torch.ones(batch_size, 1).to(device)\n",
    "    fake_labels = torch.zeros(batch_size, 1).to(device)\n",
    "\n",
    "\n",
    "    outputs = D_model(images)\n",
    "    # Loss for real images\n",
    "    real_loss = criterion(outputs, real_labels)\n",
    "    real_score = outputs\n",
    "\n",
    "    # Loss for fake images\n",
    "    z = torch.randn(batch_size, latent_size).to(device)\n",
    "    fake_images = G_model(z)\n",
    "    outputs = D_model(fake_images)\n",
    "\n",
    "    fake_loss = criterion(outputs, fake_labels)\n",
    "    fake_score = outputs\n",
    "\n",
    "    # Sum losses\n",
    "    d_loss = real_loss + fake_loss\n",
    "    # Reset gradients\n",
    "    reset_grad()\n",
    "    # Compute gradients\n",
    "    d_loss.backward()\n",
    "    optimizer_D.step()\n",
    "    # Adjust the parameters using backprop\n",
    "\n",
    "    return d_loss, real_score, fake_score"
   ]
  },
  {
   "cell_type": "markdown",
   "metadata": {
    "id": "GPF-F7k2___h",
    "pycharm": {
     "name": "#%% md\n"
    }
   },
   "source": [
    "Generator Training"
   ]
  },
  {
   "cell_type": "code",
   "execution_count": 12,
   "metadata": {
    "execution": {
     "iopub.execute_input": "2024-10-10T14:19:49.031425Z",
     "iopub.status.busy": "2024-10-10T14:19:49.030690Z",
     "iopub.status.idle": "2024-10-10T14:19:49.045442Z",
     "shell.execute_reply": "2024-10-10T14:19:49.044736Z",
     "shell.execute_reply.started": "2024-10-10T14:19:49.031386Z"
    },
    "id": "Yx02VmkA___h",
    "pycharm": {
     "name": "#%%\n"
    }
   },
   "outputs": [],
   "source": [
    "def train_generator(G_model):\n",
    "    # Generate fake images and calculate loss\n",
    "    # z = torch.randn(batch_size, latent_size).to(device)\n",
    "    z = torch.Tensor(np.random.normal(0, 1, (batch_size, latent_size))).to(device)\n",
    "    fake_images = G_model(z)\n",
    "    labels = torch.ones(batch_size, 1).to(device)\n",
    "    # calculate the generator loss\n",
    "    outputs = D(fake_images)\n",
    "    g_loss = criterion(outputs, labels)\n",
    "    # Reset gradients\n",
    "    reset_grad()\n",
    "    # Backprop and optimize\n",
    "    g_loss.backward()\n",
    "    optimizer_G.step()\n",
    "    return g_loss, fake_images"
   ]
  },
  {
   "cell_type": "markdown",
   "metadata": {
    "id": "FJHs15NF___i",
    "pycharm": {
     "name": "#%% md\n"
    }
   },
   "source": [
    "### Start the training proccess"
   ]
  },
  {
   "cell_type": "code",
   "execution_count": 13,
   "metadata": {
    "execution": {
     "iopub.execute_input": "2024-10-10T14:19:49.047978Z",
     "iopub.status.busy": "2024-10-10T14:19:49.046367Z",
     "iopub.status.idle": "2024-10-10T14:19:49.067065Z",
     "shell.execute_reply": "2024-10-10T14:19:49.066239Z",
     "shell.execute_reply.started": "2024-10-10T14:19:49.047919Z"
    },
    "id": "dlUgHAi6___i",
    "pycharm": {
     "name": "#%%\n"
    }
   },
   "outputs": [],
   "source": [
    "# function to save the sample output of generator\n",
    "def save_fake_images_mnist(G_model, index):\n",
    "    # sample_vectors = torch.randn(batch_size, latent_size).to(device)\n",
    "    sample_vectors = torch.Tensor(np.random.normal(0, 1, (batch_size, latent_size))).to(\n",
    "        device\n",
    "    )\n",
    "    fake_images = G_model(sample_vectors)\n",
    "    fake_images = fake_images.reshape(fake_images.size(0), 1, 28, 28)\n",
    "    fake_fname = \"fake_images-{0:0=4d}.png\".format(index)\n",
    "    print(\"Saving\", fake_fname)\n",
    "    save_image(denorm(fake_images), os.path.join(sample_dir, fake_fname), nrow=10)"
   ]
  },
  {
   "cell_type": "code",
   "execution_count": 16,
   "metadata": {
    "execution": {
     "iopub.execute_input": "2024-10-10T14:21:15.935243Z",
     "iopub.status.busy": "2024-10-10T14:21:15.933979Z",
     "iopub.status.idle": "2024-10-10T15:32:56.933619Z",
     "shell.execute_reply": "2024-10-10T15:32:56.932698Z",
     "shell.execute_reply.started": "2024-10-10T14:21:15.935204Z"
    },
    "id": "aCsHM9uS___j",
    "pycharm": {
     "name": "#%%\n"
    },
    "tags": []
   },
   "outputs": [
    {
     "name": "stdout",
     "output_type": "stream",
     "text": [
      "Epoch [0/300], Step [200/600], d_loss: 0.2716, g_loss: 2.9273, D(x): 0.91, D(G(z)): 0.13\n",
      "Epoch [0/300], Step [400/600], d_loss: 0.1543, g_loss: 4.2737, D(x): 0.96, D(G(z)): 0.08\n",
      "Epoch [0/300], Step [600/600], d_loss: 0.8296, g_loss: 2.3871, D(x): 0.83, D(G(z)): 0.40\n",
      "Saving fake_images-0001.png\n",
      "Epoch [1/300], Step [200/600], d_loss: 1.7553, g_loss: 1.1819, D(x): 0.49, D(G(z)): 0.37\n",
      "Epoch [1/300], Step [400/600], d_loss: 0.2699, g_loss: 3.5258, D(x): 0.93, D(G(z)): 0.14\n",
      "Epoch [1/300], Step [600/600], d_loss: 0.1433, g_loss: 4.2150, D(x): 0.92, D(G(z)): 0.04\n",
      "Saving fake_images-0002.png\n",
      "Epoch [2/300], Step [200/600], d_loss: 0.1956, g_loss: 2.5342, D(x): 0.94, D(G(z)): 0.11\n",
      "Epoch [2/300], Step [400/600], d_loss: 0.6719, g_loss: 2.2784, D(x): 0.80, D(G(z)): 0.15\n",
      "Epoch [2/300], Step [600/600], d_loss: 0.4352, g_loss: 3.7558, D(x): 0.90, D(G(z)): 0.19\n",
      "Saving fake_images-0003.png\n",
      "Epoch [3/300], Step [200/600], d_loss: 0.3412, g_loss: 3.2519, D(x): 0.88, D(G(z)): 0.06\n",
      "Epoch [3/300], Step [400/600], d_loss: 0.4849, g_loss: 3.9065, D(x): 0.86, D(G(z)): 0.09\n",
      "Epoch [3/300], Step [600/600], d_loss: 0.3012, g_loss: 3.9501, D(x): 0.98, D(G(z)): 0.21\n",
      "Saving fake_images-0004.png\n",
      "Epoch [4/300], Step [200/600], d_loss: 0.3821, g_loss: 5.6801, D(x): 0.88, D(G(z)): 0.03\n",
      "Epoch [4/300], Step [400/600], d_loss: 0.5982, g_loss: 3.6601, D(x): 0.84, D(G(z)): 0.15\n",
      "Epoch [4/300], Step [600/600], d_loss: 0.0601, g_loss: 4.9124, D(x): 0.99, D(G(z)): 0.04\n",
      "Saving fake_images-0005.png\n",
      "Epoch [5/300], Step [200/600], d_loss: 0.5924, g_loss: 2.6750, D(x): 0.84, D(G(z)): 0.11\n",
      "Epoch [5/300], Step [400/600], d_loss: 0.3007, g_loss: 3.2441, D(x): 0.93, D(G(z)): 0.15\n",
      "Epoch [5/300], Step [600/600], d_loss: 0.3875, g_loss: 3.0783, D(x): 0.89, D(G(z)): 0.08\n",
      "Saving fake_images-0006.png\n",
      "Epoch [6/300], Step [200/600], d_loss: 0.5649, g_loss: 4.6255, D(x): 0.83, D(G(z)): 0.06\n",
      "Epoch [6/300], Step [400/600], d_loss: 0.1642, g_loss: 5.2394, D(x): 0.95, D(G(z)): 0.06\n",
      "Epoch [6/300], Step [600/600], d_loss: 0.1715, g_loss: 5.3696, D(x): 0.95, D(G(z)): 0.02\n",
      "Saving fake_images-0007.png\n",
      "Epoch [7/300], Step [200/600], d_loss: 0.7817, g_loss: 3.1185, D(x): 0.84, D(G(z)): 0.14\n",
      "Epoch [7/300], Step [400/600], d_loss: 0.4846, g_loss: 4.0635, D(x): 0.86, D(G(z)): 0.12\n",
      "Epoch [7/300], Step [600/600], d_loss: 0.3353, g_loss: 3.8591, D(x): 0.87, D(G(z)): 0.05\n",
      "Saving fake_images-0008.png\n",
      "Epoch [8/300], Step [200/600], d_loss: 0.6976, g_loss: 3.6391, D(x): 0.85, D(G(z)): 0.19\n",
      "Epoch [8/300], Step [400/600], d_loss: 0.4486, g_loss: 2.8782, D(x): 0.85, D(G(z)): 0.09\n",
      "Epoch [8/300], Step [600/600], d_loss: 0.4785, g_loss: 4.7809, D(x): 0.86, D(G(z)): 0.08\n",
      "Saving fake_images-0009.png\n",
      "Epoch [9/300], Step [200/600], d_loss: 0.0874, g_loss: 5.6231, D(x): 0.97, D(G(z)): 0.05\n",
      "Epoch [9/300], Step [400/600], d_loss: 0.3673, g_loss: 3.3632, D(x): 0.92, D(G(z)): 0.15\n",
      "Epoch [9/300], Step [600/600], d_loss: 0.7370, g_loss: 2.2608, D(x): 0.83, D(G(z)): 0.22\n",
      "Saving fake_images-0010.png\n",
      "Epoch [10/300], Step [200/600], d_loss: 0.5028, g_loss: 2.5716, D(x): 0.81, D(G(z)): 0.12\n",
      "Epoch [10/300], Step [400/600], d_loss: 0.6960, g_loss: 3.7736, D(x): 0.86, D(G(z)): 0.20\n",
      "Epoch [10/300], Step [600/600], d_loss: 0.2348, g_loss: 5.5114, D(x): 0.93, D(G(z)): 0.05\n",
      "Saving fake_images-0011.png\n",
      "Epoch [11/300], Step [200/600], d_loss: 0.5690, g_loss: 2.6946, D(x): 0.82, D(G(z)): 0.17\n",
      "Epoch [11/300], Step [400/600], d_loss: 0.4930, g_loss: 4.0009, D(x): 0.91, D(G(z)): 0.19\n",
      "Epoch [11/300], Step [600/600], d_loss: 0.3662, g_loss: 3.2742, D(x): 0.86, D(G(z)): 0.10\n",
      "Saving fake_images-0012.png\n",
      "Epoch [12/300], Step [200/600], d_loss: 0.5319, g_loss: 3.0657, D(x): 0.83, D(G(z)): 0.07\n",
      "Epoch [12/300], Step [400/600], d_loss: 0.5092, g_loss: 3.0446, D(x): 0.83, D(G(z)): 0.12\n",
      "Epoch [12/300], Step [600/600], d_loss: 0.2283, g_loss: 4.1267, D(x): 0.94, D(G(z)): 0.10\n",
      "Saving fake_images-0013.png\n",
      "Epoch [13/300], Step [200/600], d_loss: 0.3187, g_loss: 3.8522, D(x): 0.90, D(G(z)): 0.09\n",
      "Epoch [13/300], Step [400/600], d_loss: 0.3720, g_loss: 3.2462, D(x): 0.92, D(G(z)): 0.15\n",
      "Epoch [13/300], Step [600/600], d_loss: 0.2135, g_loss: 4.3200, D(x): 0.93, D(G(z)): 0.07\n",
      "Saving fake_images-0014.png\n",
      "Epoch [14/300], Step [200/600], d_loss: 0.7371, g_loss: 3.6202, D(x): 0.81, D(G(z)): 0.15\n",
      "Epoch [14/300], Step [400/600], d_loss: 0.3699, g_loss: 3.7589, D(x): 0.87, D(G(z)): 0.06\n",
      "Epoch [14/300], Step [600/600], d_loss: 0.4145, g_loss: 4.8747, D(x): 0.92, D(G(z)): 0.14\n",
      "Saving fake_images-0015.png\n",
      "Epoch [15/300], Step [200/600], d_loss: 0.3496, g_loss: 3.8867, D(x): 0.91, D(G(z)): 0.12\n",
      "Epoch [15/300], Step [400/600], d_loss: 0.5397, g_loss: 3.5807, D(x): 0.80, D(G(z)): 0.09\n",
      "Epoch [15/300], Step [600/600], d_loss: 0.5845, g_loss: 2.6558, D(x): 0.83, D(G(z)): 0.16\n",
      "Saving fake_images-0016.png\n",
      "Epoch [16/300], Step [200/600], d_loss: 0.1871, g_loss: 3.6224, D(x): 0.93, D(G(z)): 0.07\n",
      "Epoch [16/300], Step [400/600], d_loss: 0.3525, g_loss: 3.3650, D(x): 0.92, D(G(z)): 0.17\n",
      "Epoch [16/300], Step [600/600], d_loss: 0.4857, g_loss: 3.1507, D(x): 0.83, D(G(z)): 0.11\n",
      "Saving fake_images-0017.png\n",
      "Epoch [17/300], Step [200/600], d_loss: 0.6923, g_loss: 3.1152, D(x): 0.79, D(G(z)): 0.12\n",
      "Epoch [17/300], Step [400/600], d_loss: 0.5277, g_loss: 1.9064, D(x): 0.82, D(G(z)): 0.16\n",
      "Epoch [17/300], Step [600/600], d_loss: 0.4915, g_loss: 2.8437, D(x): 0.80, D(G(z)): 0.08\n",
      "Saving fake_images-0018.png\n",
      "Epoch [18/300], Step [200/600], d_loss: 0.4482, g_loss: 3.4837, D(x): 0.89, D(G(z)): 0.17\n",
      "Epoch [18/300], Step [400/600], d_loss: 0.4166, g_loss: 3.3103, D(x): 0.87, D(G(z)): 0.09\n",
      "Epoch [18/300], Step [600/600], d_loss: 0.7815, g_loss: 2.9387, D(x): 0.89, D(G(z)): 0.29\n",
      "Saving fake_images-0019.png\n",
      "Epoch [19/300], Step [200/600], d_loss: 0.3558, g_loss: 3.3149, D(x): 0.93, D(G(z)): 0.17\n",
      "Epoch [19/300], Step [400/600], d_loss: 0.4100, g_loss: 3.3734, D(x): 0.82, D(G(z)): 0.05\n",
      "Epoch [19/300], Step [600/600], d_loss: 0.3642, g_loss: 3.3287, D(x): 0.92, D(G(z)): 0.16\n",
      "Saving fake_images-0020.png\n",
      "Epoch [20/300], Step [200/600], d_loss: 0.3249, g_loss: 3.4424, D(x): 0.89, D(G(z)): 0.09\n",
      "Epoch [20/300], Step [400/600], d_loss: 0.4344, g_loss: 4.3497, D(x): 0.92, D(G(z)): 0.21\n",
      "Epoch [20/300], Step [600/600], d_loss: 0.3813, g_loss: 3.2423, D(x): 0.91, D(G(z)): 0.13\n",
      "Saving fake_images-0021.png\n",
      "Epoch [21/300], Step [200/600], d_loss: 0.2475, g_loss: 4.8087, D(x): 0.91, D(G(z)): 0.10\n",
      "Epoch [21/300], Step [400/600], d_loss: 0.2221, g_loss: 2.8926, D(x): 0.92, D(G(z)): 0.08\n",
      "Epoch [21/300], Step [600/600], d_loss: 0.2888, g_loss: 3.3044, D(x): 0.90, D(G(z)): 0.12\n",
      "Saving fake_images-0022.png\n",
      "Epoch [22/300], Step [200/600], d_loss: 0.4921, g_loss: 4.4782, D(x): 0.84, D(G(z)): 0.05\n",
      "Epoch [22/300], Step [400/600], d_loss: 0.2689, g_loss: 3.8592, D(x): 0.88, D(G(z)): 0.04\n",
      "Epoch [22/300], Step [600/600], d_loss: 0.3111, g_loss: 2.8375, D(x): 0.95, D(G(z)): 0.17\n",
      "Saving fake_images-0023.png\n",
      "Epoch [23/300], Step [200/600], d_loss: 0.3015, g_loss: 4.8028, D(x): 0.89, D(G(z)): 0.04\n",
      "Epoch [23/300], Step [400/600], d_loss: 0.2777, g_loss: 4.2703, D(x): 0.91, D(G(z)): 0.09\n",
      "Epoch [23/300], Step [600/600], d_loss: 0.4801, g_loss: 3.3517, D(x): 0.91, D(G(z)): 0.19\n",
      "Saving fake_images-0024.png\n",
      "Epoch [24/300], Step [200/600], d_loss: 0.2641, g_loss: 4.9683, D(x): 0.90, D(G(z)): 0.05\n",
      "Epoch [24/300], Step [400/600], d_loss: 0.5286, g_loss: 3.3516, D(x): 0.94, D(G(z)): 0.23\n",
      "Epoch [24/300], Step [600/600], d_loss: 0.5636, g_loss: 3.4965, D(x): 0.79, D(G(z)): 0.08\n",
      "Saving fake_images-0025.png\n",
      "Epoch [25/300], Step [200/600], d_loss: 0.3850, g_loss: 3.6255, D(x): 0.87, D(G(z)): 0.14\n",
      "Epoch [25/300], Step [400/600], d_loss: 0.4428, g_loss: 3.5214, D(x): 0.83, D(G(z)): 0.03\n",
      "Epoch [25/300], Step [600/600], d_loss: 0.3442, g_loss: 3.1733, D(x): 0.93, D(G(z)): 0.14\n",
      "Saving fake_images-0026.png\n",
      "Epoch [26/300], Step [200/600], d_loss: 0.3313, g_loss: 4.4198, D(x): 0.87, D(G(z)): 0.11\n",
      "Epoch [26/300], Step [400/600], d_loss: 0.2675, g_loss: 4.2733, D(x): 0.89, D(G(z)): 0.08\n",
      "Epoch [26/300], Step [600/600], d_loss: 0.3346, g_loss: 3.5720, D(x): 0.93, D(G(z)): 0.16\n",
      "Saving fake_images-0027.png\n",
      "Epoch [27/300], Step [200/600], d_loss: 0.2921, g_loss: 3.7196, D(x): 0.91, D(G(z)): 0.08\n",
      "Epoch [27/300], Step [400/600], d_loss: 0.2593, g_loss: 4.3946, D(x): 0.93, D(G(z)): 0.11\n",
      "Epoch [27/300], Step [600/600], d_loss: 0.4157, g_loss: 3.9012, D(x): 0.90, D(G(z)): 0.15\n",
      "Saving fake_images-0028.png\n",
      "Epoch [28/300], Step [200/600], d_loss: 0.4000, g_loss: 4.1650, D(x): 0.94, D(G(z)): 0.18\n",
      "Epoch [28/300], Step [400/600], d_loss: 0.4970, g_loss: 3.7488, D(x): 0.87, D(G(z)): 0.17\n",
      "Epoch [28/300], Step [600/600], d_loss: 0.3961, g_loss: 4.2395, D(x): 0.87, D(G(z)): 0.12\n",
      "Saving fake_images-0029.png\n",
      "Epoch [29/300], Step [200/600], d_loss: 0.4290, g_loss: 3.4788, D(x): 0.86, D(G(z)): 0.12\n",
      "Epoch [29/300], Step [400/600], d_loss: 0.4251, g_loss: 2.8287, D(x): 0.89, D(G(z)): 0.19\n",
      "Epoch [29/300], Step [600/600], d_loss: 0.4165, g_loss: 3.1505, D(x): 0.91, D(G(z)): 0.19\n",
      "Saving fake_images-0030.png\n",
      "Epoch [30/300], Step [200/600], d_loss: 0.4086, g_loss: 3.7752, D(x): 0.85, D(G(z)): 0.07\n",
      "Epoch [30/300], Step [400/600], d_loss: 0.2903, g_loss: 2.8579, D(x): 0.95, D(G(z)): 0.15\n",
      "Epoch [30/300], Step [600/600], d_loss: 0.2846, g_loss: 4.1315, D(x): 0.94, D(G(z)): 0.11\n",
      "Saving fake_images-0031.png\n",
      "Epoch [31/300], Step [200/600], d_loss: 0.4507, g_loss: 3.5605, D(x): 0.83, D(G(z)): 0.08\n",
      "Epoch [31/300], Step [400/600], d_loss: 0.3369, g_loss: 3.2850, D(x): 0.89, D(G(z)): 0.14\n",
      "Epoch [31/300], Step [600/600], d_loss: 0.3859, g_loss: 2.3345, D(x): 0.91, D(G(z)): 0.18\n",
      "Saving fake_images-0032.png\n",
      "Epoch [32/300], Step [200/600], d_loss: 0.3547, g_loss: 2.8632, D(x): 0.87, D(G(z)): 0.10\n",
      "Epoch [32/300], Step [400/600], d_loss: 0.3759, g_loss: 3.7780, D(x): 0.86, D(G(z)): 0.07\n",
      "Epoch [32/300], Step [600/600], d_loss: 0.4742, g_loss: 2.5817, D(x): 0.85, D(G(z)): 0.15\n",
      "Saving fake_images-0033.png\n",
      "Epoch [33/300], Step [200/600], d_loss: 0.3655, g_loss: 4.0888, D(x): 0.85, D(G(z)): 0.04\n",
      "Epoch [33/300], Step [400/600], d_loss: 0.5019, g_loss: 2.8845, D(x): 0.89, D(G(z)): 0.22\n",
      "Epoch [33/300], Step [600/600], d_loss: 0.4608, g_loss: 3.1018, D(x): 0.91, D(G(z)): 0.22\n",
      "Saving fake_images-0034.png\n",
      "Epoch [34/300], Step [200/600], d_loss: 0.6008, g_loss: 2.2767, D(x): 0.88, D(G(z)): 0.25\n",
      "Epoch [34/300], Step [400/600], d_loss: 0.5175, g_loss: 2.7770, D(x): 0.81, D(G(z)): 0.13\n",
      "Epoch [34/300], Step [600/600], d_loss: 0.3912, g_loss: 2.7739, D(x): 0.89, D(G(z)): 0.16\n",
      "Saving fake_images-0035.png\n",
      "Epoch [35/300], Step [200/600], d_loss: 0.4472, g_loss: 3.2528, D(x): 0.81, D(G(z)): 0.10\n",
      "Epoch [35/300], Step [400/600], d_loss: 0.4049, g_loss: 2.6928, D(x): 0.90, D(G(z)): 0.19\n",
      "Epoch [35/300], Step [600/600], d_loss: 0.7022, g_loss: 2.9943, D(x): 0.74, D(G(z)): 0.11\n",
      "Saving fake_images-0036.png\n",
      "Epoch [36/300], Step [200/600], d_loss: 0.4766, g_loss: 3.8147, D(x): 0.82, D(G(z)): 0.12\n",
      "Epoch [36/300], Step [400/600], d_loss: 0.3487, g_loss: 3.8509, D(x): 0.87, D(G(z)): 0.10\n",
      "Epoch [36/300], Step [600/600], d_loss: 0.4870, g_loss: 3.3440, D(x): 0.93, D(G(z)): 0.25\n",
      "Saving fake_images-0037.png\n",
      "Epoch [37/300], Step [200/600], d_loss: 0.4451, g_loss: 4.1182, D(x): 0.83, D(G(z)): 0.10\n",
      "Epoch [37/300], Step [400/600], d_loss: 0.6082, g_loss: 4.8865, D(x): 0.80, D(G(z)): 0.06\n",
      "Epoch [37/300], Step [600/600], d_loss: 0.3916, g_loss: 4.9601, D(x): 0.90, D(G(z)): 0.12\n",
      "Saving fake_images-0038.png\n",
      "Epoch [38/300], Step [200/600], d_loss: 0.4387, g_loss: 3.0736, D(x): 0.86, D(G(z)): 0.12\n",
      "Epoch [38/300], Step [400/600], d_loss: 0.3642, g_loss: 4.1393, D(x): 0.86, D(G(z)): 0.11\n",
      "Epoch [38/300], Step [600/600], d_loss: 0.3764, g_loss: 3.5168, D(x): 0.90, D(G(z)): 0.14\n",
      "Saving fake_images-0039.png\n",
      "Epoch [39/300], Step [200/600], d_loss: 0.3294, g_loss: 4.5121, D(x): 0.85, D(G(z)): 0.09\n",
      "Epoch [39/300], Step [400/600], d_loss: 0.5203, g_loss: 3.2496, D(x): 0.86, D(G(z)): 0.15\n",
      "Epoch [39/300], Step [600/600], d_loss: 0.5181, g_loss: 3.4136, D(x): 0.82, D(G(z)): 0.11\n",
      "Saving fake_images-0040.png\n",
      "Epoch [40/300], Step [200/600], d_loss: 0.4534, g_loss: 3.3918, D(x): 0.85, D(G(z)): 0.07\n",
      "Epoch [40/300], Step [400/600], d_loss: 0.2613, g_loss: 3.3759, D(x): 0.90, D(G(z)): 0.09\n",
      "Epoch [40/300], Step [600/600], d_loss: 0.5634, g_loss: 2.0118, D(x): 0.80, D(G(z)): 0.15\n",
      "Saving fake_images-0041.png\n",
      "Epoch [41/300], Step [200/600], d_loss: 0.5706, g_loss: 2.6347, D(x): 0.85, D(G(z)): 0.22\n",
      "Epoch [41/300], Step [400/600], d_loss: 0.5232, g_loss: 2.3459, D(x): 0.89, D(G(z)): 0.25\n",
      "Epoch [41/300], Step [600/600], d_loss: 0.5000, g_loss: 2.8659, D(x): 0.83, D(G(z)): 0.13\n",
      "Saving fake_images-0042.png\n",
      "Epoch [42/300], Step [200/600], d_loss: 0.6260, g_loss: 1.3806, D(x): 0.83, D(G(z)): 0.27\n",
      "Epoch [42/300], Step [400/600], d_loss: 0.5989, g_loss: 3.3021, D(x): 0.80, D(G(z)): 0.15\n",
      "Epoch [42/300], Step [600/600], d_loss: 0.6029, g_loss: 2.3675, D(x): 0.81, D(G(z)): 0.21\n",
      "Saving fake_images-0043.png\n",
      "Epoch [43/300], Step [200/600], d_loss: 0.4515, g_loss: 2.8199, D(x): 0.82, D(G(z)): 0.10\n",
      "Epoch [43/300], Step [400/600], d_loss: 0.5686, g_loss: 2.5096, D(x): 0.80, D(G(z)): 0.16\n",
      "Epoch [43/300], Step [600/600], d_loss: 0.5604, g_loss: 2.3658, D(x): 0.80, D(G(z)): 0.15\n",
      "Saving fake_images-0044.png\n",
      "Epoch [44/300], Step [200/600], d_loss: 0.5170, g_loss: 2.3575, D(x): 0.85, D(G(z)): 0.20\n",
      "Epoch [44/300], Step [400/600], d_loss: 0.5977, g_loss: 2.3271, D(x): 0.82, D(G(z)): 0.20\n",
      "Epoch [44/300], Step [600/600], d_loss: 0.5038, g_loss: 2.4523, D(x): 0.82, D(G(z)): 0.12\n",
      "Saving fake_images-0045.png\n",
      "Epoch [45/300], Step [200/600], d_loss: 0.5711, g_loss: 2.5582, D(x): 0.84, D(G(z)): 0.17\n",
      "Epoch [45/300], Step [400/600], d_loss: 0.5002, g_loss: 2.1698, D(x): 0.87, D(G(z)): 0.19\n",
      "Epoch [45/300], Step [600/600], d_loss: 0.8519, g_loss: 1.9771, D(x): 0.72, D(G(z)): 0.21\n",
      "Saving fake_images-0046.png\n",
      "Epoch [46/300], Step [200/600], d_loss: 0.5352, g_loss: 2.5430, D(x): 0.84, D(G(z)): 0.14\n",
      "Epoch [46/300], Step [400/600], d_loss: 0.6239, g_loss: 2.2762, D(x): 0.81, D(G(z)): 0.16\n",
      "Epoch [46/300], Step [600/600], d_loss: 0.6357, g_loss: 3.3831, D(x): 0.79, D(G(z)): 0.12\n",
      "Saving fake_images-0047.png\n",
      "Epoch [47/300], Step [200/600], d_loss: 0.5498, g_loss: 2.6610, D(x): 0.80, D(G(z)): 0.13\n",
      "Epoch [47/300], Step [400/600], d_loss: 0.7272, g_loss: 2.2472, D(x): 0.74, D(G(z)): 0.17\n",
      "Epoch [47/300], Step [600/600], d_loss: 0.4738, g_loss: 2.7837, D(x): 0.91, D(G(z)): 0.19\n",
      "Saving fake_images-0048.png\n",
      "Epoch [48/300], Step [200/600], d_loss: 0.4734, g_loss: 3.3298, D(x): 0.84, D(G(z)): 0.15\n",
      "Epoch [48/300], Step [400/600], d_loss: 0.4961, g_loss: 2.8245, D(x): 0.87, D(G(z)): 0.18\n",
      "Epoch [48/300], Step [600/600], d_loss: 0.4724, g_loss: 2.2850, D(x): 0.83, D(G(z)): 0.15\n",
      "Saving fake_images-0049.png\n",
      "Epoch [49/300], Step [200/600], d_loss: 0.8273, g_loss: 3.0452, D(x): 0.72, D(G(z)): 0.11\n",
      "Epoch [49/300], Step [400/600], d_loss: 0.5372, g_loss: 3.1100, D(x): 0.82, D(G(z)): 0.18\n",
      "Epoch [49/300], Step [600/600], d_loss: 0.6175, g_loss: 2.5359, D(x): 0.87, D(G(z)): 0.26\n",
      "Saving fake_images-0050.png\n",
      "Epoch [50/300], Step [200/600], d_loss: 0.4826, g_loss: 2.6701, D(x): 0.88, D(G(z)): 0.20\n",
      "Epoch [50/300], Step [400/600], d_loss: 0.5062, g_loss: 2.7891, D(x): 0.79, D(G(z)): 0.11\n",
      "Epoch [50/300], Step [600/600], d_loss: 0.6005, g_loss: 2.8297, D(x): 0.79, D(G(z)): 0.14\n",
      "Saving fake_images-0051.png\n",
      "Epoch [51/300], Step [200/600], d_loss: 0.7087, g_loss: 1.9781, D(x): 0.83, D(G(z)): 0.27\n",
      "Epoch [51/300], Step [400/600], d_loss: 0.5334, g_loss: 2.7249, D(x): 0.90, D(G(z)): 0.24\n",
      "Epoch [51/300], Step [600/600], d_loss: 0.7341, g_loss: 2.2497, D(x): 0.73, D(G(z)): 0.16\n",
      "Saving fake_images-0052.png\n",
      "Epoch [52/300], Step [200/600], d_loss: 0.5505, g_loss: 2.1996, D(x): 0.81, D(G(z)): 0.18\n",
      "Epoch [52/300], Step [400/600], d_loss: 0.4905, g_loss: 2.9648, D(x): 0.82, D(G(z)): 0.11\n",
      "Epoch [52/300], Step [600/600], d_loss: 0.5136, g_loss: 1.8506, D(x): 0.79, D(G(z)): 0.14\n",
      "Saving fake_images-0053.png\n",
      "Epoch [53/300], Step [200/600], d_loss: 0.5699, g_loss: 2.6812, D(x): 0.78, D(G(z)): 0.12\n",
      "Epoch [53/300], Step [400/600], d_loss: 0.6160, g_loss: 2.3382, D(x): 0.79, D(G(z)): 0.16\n",
      "Epoch [53/300], Step [600/600], d_loss: 0.6475, g_loss: 1.8360, D(x): 0.86, D(G(z)): 0.27\n",
      "Saving fake_images-0054.png\n",
      "Epoch [54/300], Step [200/600], d_loss: 0.6461, g_loss: 2.6907, D(x): 0.79, D(G(z)): 0.17\n",
      "Epoch [54/300], Step [400/600], d_loss: 0.6391, g_loss: 2.0077, D(x): 0.86, D(G(z)): 0.26\n",
      "Epoch [54/300], Step [600/600], d_loss: 0.4994, g_loss: 2.6145, D(x): 0.82, D(G(z)): 0.16\n",
      "Saving fake_images-0055.png\n",
      "Epoch [55/300], Step [200/600], d_loss: 0.5439, g_loss: 2.2762, D(x): 0.88, D(G(z)): 0.25\n",
      "Epoch [55/300], Step [400/600], d_loss: 0.4865, g_loss: 1.6514, D(x): 0.87, D(G(z)): 0.23\n",
      "Epoch [55/300], Step [600/600], d_loss: 0.6639, g_loss: 2.0840, D(x): 0.77, D(G(z)): 0.21\n",
      "Saving fake_images-0056.png\n",
      "Epoch [56/300], Step [200/600], d_loss: 0.8646, g_loss: 2.1436, D(x): 0.76, D(G(z)): 0.19\n",
      "Epoch [56/300], Step [400/600], d_loss: 0.5643, g_loss: 1.8509, D(x): 0.81, D(G(z)): 0.18\n",
      "Epoch [56/300], Step [600/600], d_loss: 0.8096, g_loss: 2.3067, D(x): 0.74, D(G(z)): 0.20\n",
      "Saving fake_images-0057.png\n",
      "Epoch [57/300], Step [200/600], d_loss: 0.6725, g_loss: 1.9586, D(x): 0.77, D(G(z)): 0.20\n",
      "Epoch [57/300], Step [400/600], d_loss: 0.6257, g_loss: 2.2527, D(x): 0.79, D(G(z)): 0.20\n",
      "Epoch [57/300], Step [600/600], d_loss: 0.6658, g_loss: 2.0640, D(x): 0.79, D(G(z)): 0.20\n",
      "Saving fake_images-0058.png\n",
      "Epoch [58/300], Step [200/600], d_loss: 0.6852, g_loss: 2.2943, D(x): 0.80, D(G(z)): 0.19\n",
      "Epoch [58/300], Step [400/600], d_loss: 0.5758, g_loss: 2.2013, D(x): 0.82, D(G(z)): 0.19\n",
      "Epoch [58/300], Step [600/600], d_loss: 0.6269, g_loss: 2.2444, D(x): 0.82, D(G(z)): 0.23\n",
      "Saving fake_images-0059.png\n",
      "Epoch [59/300], Step [200/600], d_loss: 0.3525, g_loss: 2.9101, D(x): 0.88, D(G(z)): 0.14\n",
      "Epoch [59/300], Step [400/600], d_loss: 0.6853, g_loss: 2.5415, D(x): 0.77, D(G(z)): 0.15\n",
      "Epoch [59/300], Step [600/600], d_loss: 0.6496, g_loss: 2.4108, D(x): 0.80, D(G(z)): 0.20\n",
      "Saving fake_images-0060.png\n",
      "Epoch [60/300], Step [200/600], d_loss: 0.5300, g_loss: 2.8381, D(x): 0.82, D(G(z)): 0.17\n",
      "Epoch [60/300], Step [400/600], d_loss: 0.4850, g_loss: 2.6657, D(x): 0.81, D(G(z)): 0.12\n",
      "Epoch [60/300], Step [600/600], d_loss: 0.6667, g_loss: 2.2015, D(x): 0.78, D(G(z)): 0.17\n",
      "Saving fake_images-0061.png\n",
      "Epoch [61/300], Step [200/600], d_loss: 0.6628, g_loss: 1.9453, D(x): 0.77, D(G(z)): 0.20\n",
      "Epoch [61/300], Step [400/600], d_loss: 0.5357, g_loss: 2.4827, D(x): 0.82, D(G(z)): 0.19\n",
      "Epoch [61/300], Step [600/600], d_loss: 0.4414, g_loss: 1.9702, D(x): 0.87, D(G(z)): 0.18\n",
      "Saving fake_images-0062.png\n",
      "Epoch [62/300], Step [200/600], d_loss: 0.9603, g_loss: 1.8127, D(x): 0.83, D(G(z)): 0.38\n",
      "Epoch [62/300], Step [400/600], d_loss: 0.4494, g_loss: 2.2669, D(x): 0.89, D(G(z)): 0.21\n",
      "Epoch [62/300], Step [600/600], d_loss: 0.8464, g_loss: 2.2372, D(x): 0.72, D(G(z)): 0.19\n",
      "Saving fake_images-0063.png\n",
      "Epoch [63/300], Step [200/600], d_loss: 0.5217, g_loss: 2.2354, D(x): 0.84, D(G(z)): 0.21\n",
      "Epoch [63/300], Step [400/600], d_loss: 0.5867, g_loss: 2.7136, D(x): 0.77, D(G(z)): 0.16\n",
      "Epoch [63/300], Step [600/600], d_loss: 0.6736, g_loss: 1.6888, D(x): 0.82, D(G(z)): 0.26\n",
      "Saving fake_images-0064.png\n",
      "Epoch [64/300], Step [200/600], d_loss: 0.6632, g_loss: 1.7614, D(x): 0.86, D(G(z)): 0.28\n",
      "Epoch [64/300], Step [400/600], d_loss: 0.4841, g_loss: 2.4839, D(x): 0.84, D(G(z)): 0.16\n",
      "Epoch [64/300], Step [600/600], d_loss: 0.6104, g_loss: 2.4994, D(x): 0.78, D(G(z)): 0.16\n",
      "Saving fake_images-0065.png\n",
      "Epoch [65/300], Step [200/600], d_loss: 0.5695, g_loss: 2.9744, D(x): 0.84, D(G(z)): 0.19\n",
      "Epoch [65/300], Step [400/600], d_loss: 0.7044, g_loss: 2.1823, D(x): 0.80, D(G(z)): 0.26\n",
      "Epoch [65/300], Step [600/600], d_loss: 0.6762, g_loss: 2.0982, D(x): 0.74, D(G(z)): 0.15\n",
      "Saving fake_images-0066.png\n",
      "Epoch [66/300], Step [200/600], d_loss: 0.6940, g_loss: 2.6467, D(x): 0.77, D(G(z)): 0.21\n",
      "Epoch [66/300], Step [400/600], d_loss: 0.7102, g_loss: 2.1909, D(x): 0.80, D(G(z)): 0.22\n",
      "Epoch [66/300], Step [600/600], d_loss: 0.6261, g_loss: 2.1713, D(x): 0.84, D(G(z)): 0.23\n",
      "Saving fake_images-0067.png\n",
      "Epoch [67/300], Step [200/600], d_loss: 0.5631, g_loss: 1.7646, D(x): 0.88, D(G(z)): 0.27\n",
      "Epoch [67/300], Step [400/600], d_loss: 0.6724, g_loss: 1.7493, D(x): 0.80, D(G(z)): 0.26\n",
      "Epoch [67/300], Step [600/600], d_loss: 0.7355, g_loss: 2.1662, D(x): 0.84, D(G(z)): 0.28\n",
      "Saving fake_images-0068.png\n",
      "Epoch [68/300], Step [200/600], d_loss: 0.5012, g_loss: 2.2545, D(x): 0.89, D(G(z)): 0.24\n",
      "Epoch [68/300], Step [400/600], d_loss: 0.5901, g_loss: 2.4642, D(x): 0.80, D(G(z)): 0.16\n",
      "Epoch [68/300], Step [600/600], d_loss: 0.6434, g_loss: 2.5202, D(x): 0.80, D(G(z)): 0.18\n",
      "Saving fake_images-0069.png\n",
      "Epoch [69/300], Step [200/600], d_loss: 0.7651, g_loss: 2.1614, D(x): 0.76, D(G(z)): 0.22\n",
      "Epoch [69/300], Step [400/600], d_loss: 0.7605, g_loss: 2.0672, D(x): 0.82, D(G(z)): 0.30\n",
      "Epoch [69/300], Step [600/600], d_loss: 0.6060, g_loss: 1.8453, D(x): 0.85, D(G(z)): 0.29\n",
      "Saving fake_images-0070.png\n",
      "Epoch [70/300], Step [200/600], d_loss: 0.6515, g_loss: 2.6258, D(x): 0.78, D(G(z)): 0.17\n",
      "Epoch [70/300], Step [400/600], d_loss: 0.5299, g_loss: 2.1425, D(x): 0.82, D(G(z)): 0.19\n",
      "Epoch [70/300], Step [600/600], d_loss: 0.6324, g_loss: 2.4868, D(x): 0.80, D(G(z)): 0.16\n",
      "Saving fake_images-0071.png\n",
      "Epoch [71/300], Step [200/600], d_loss: 0.7048, g_loss: 2.0636, D(x): 0.78, D(G(z)): 0.24\n",
      "Epoch [71/300], Step [400/600], d_loss: 0.7595, g_loss: 1.8193, D(x): 0.74, D(G(z)): 0.25\n",
      "Epoch [71/300], Step [600/600], d_loss: 0.6481, g_loss: 2.0677, D(x): 0.86, D(G(z)): 0.27\n",
      "Saving fake_images-0072.png\n",
      "Epoch [72/300], Step [200/600], d_loss: 0.6868, g_loss: 2.2655, D(x): 0.73, D(G(z)): 0.15\n",
      "Epoch [72/300], Step [400/600], d_loss: 0.8017, g_loss: 2.0235, D(x): 0.72, D(G(z)): 0.17\n",
      "Epoch [72/300], Step [600/600], d_loss: 0.7439, g_loss: 1.7348, D(x): 0.85, D(G(z)): 0.32\n",
      "Saving fake_images-0073.png\n",
      "Epoch [73/300], Step [200/600], d_loss: 0.7097, g_loss: 1.9568, D(x): 0.86, D(G(z)): 0.32\n",
      "Epoch [73/300], Step [400/600], d_loss: 0.6932, g_loss: 1.7780, D(x): 0.78, D(G(z)): 0.23\n",
      "Epoch [73/300], Step [600/600], d_loss: 0.5847, g_loss: 2.3460, D(x): 0.79, D(G(z)): 0.18\n",
      "Saving fake_images-0074.png\n",
      "Epoch [74/300], Step [200/600], d_loss: 0.5898, g_loss: 2.3390, D(x): 0.80, D(G(z)): 0.16\n",
      "Epoch [74/300], Step [400/600], d_loss: 0.7510, g_loss: 1.5719, D(x): 0.76, D(G(z)): 0.24\n",
      "Epoch [74/300], Step [600/600], d_loss: 0.8443, g_loss: 1.9054, D(x): 0.76, D(G(z)): 0.28\n",
      "Saving fake_images-0075.png\n",
      "Epoch [75/300], Step [200/600], d_loss: 0.7018, g_loss: 2.4739, D(x): 0.75, D(G(z)): 0.20\n",
      "Epoch [75/300], Step [400/600], d_loss: 0.5412, g_loss: 2.0481, D(x): 0.81, D(G(z)): 0.20\n",
      "Epoch [75/300], Step [600/600], d_loss: 0.7010, g_loss: 2.4609, D(x): 0.79, D(G(z)): 0.25\n",
      "Saving fake_images-0076.png\n",
      "Epoch [76/300], Step [200/600], d_loss: 0.7197, g_loss: 2.1240, D(x): 0.79, D(G(z)): 0.24\n",
      "Epoch [76/300], Step [400/600], d_loss: 0.8889, g_loss: 2.1169, D(x): 0.73, D(G(z)): 0.24\n",
      "Epoch [76/300], Step [600/600], d_loss: 0.7100, g_loss: 2.3859, D(x): 0.74, D(G(z)): 0.17\n",
      "Saving fake_images-0077.png\n",
      "Epoch [77/300], Step [200/600], d_loss: 0.7740, g_loss: 2.2829, D(x): 0.83, D(G(z)): 0.33\n",
      "Epoch [77/300], Step [400/600], d_loss: 0.6454, g_loss: 2.1107, D(x): 0.79, D(G(z)): 0.20\n",
      "Epoch [77/300], Step [600/600], d_loss: 0.6120, g_loss: 2.2062, D(x): 0.84, D(G(z)): 0.23\n",
      "Saving fake_images-0078.png\n",
      "Epoch [78/300], Step [200/600], d_loss: 0.7025, g_loss: 2.1450, D(x): 0.76, D(G(z)): 0.22\n",
      "Epoch [78/300], Step [400/600], d_loss: 0.7282, g_loss: 2.1069, D(x): 0.76, D(G(z)): 0.22\n",
      "Epoch [78/300], Step [600/600], d_loss: 0.7364, g_loss: 1.7768, D(x): 0.79, D(G(z)): 0.27\n",
      "Saving fake_images-0079.png\n",
      "Epoch [79/300], Step [200/600], d_loss: 0.9543, g_loss: 1.5538, D(x): 0.70, D(G(z)): 0.30\n",
      "Epoch [79/300], Step [400/600], d_loss: 0.7505, g_loss: 2.0878, D(x): 0.76, D(G(z)): 0.24\n",
      "Epoch [79/300], Step [600/600], d_loss: 0.6202, g_loss: 1.7863, D(x): 0.78, D(G(z)): 0.19\n",
      "Saving fake_images-0080.png\n",
      "Epoch [80/300], Step [200/600], d_loss: 0.7865, g_loss: 1.9964, D(x): 0.72, D(G(z)): 0.19\n",
      "Epoch [80/300], Step [400/600], d_loss: 0.5872, g_loss: 2.1563, D(x): 0.80, D(G(z)): 0.18\n",
      "Epoch [80/300], Step [600/600], d_loss: 0.7071, g_loss: 1.9072, D(x): 0.75, D(G(z)): 0.21\n",
      "Saving fake_images-0081.png\n",
      "Epoch [81/300], Step [200/600], d_loss: 0.6031, g_loss: 2.4775, D(x): 0.76, D(G(z)): 0.16\n",
      "Epoch [81/300], Step [400/600], d_loss: 0.6994, g_loss: 2.1628, D(x): 0.79, D(G(z)): 0.25\n",
      "Epoch [81/300], Step [600/600], d_loss: 0.5826, g_loss: 1.7165, D(x): 0.84, D(G(z)): 0.25\n",
      "Saving fake_images-0082.png\n",
      "Epoch [82/300], Step [200/600], d_loss: 0.7691, g_loss: 2.0898, D(x): 0.77, D(G(z)): 0.28\n",
      "Epoch [82/300], Step [400/600], d_loss: 0.7939, g_loss: 1.6565, D(x): 0.76, D(G(z)): 0.27\n",
      "Epoch [82/300], Step [600/600], d_loss: 0.7873, g_loss: 2.0211, D(x): 0.70, D(G(z)): 0.20\n",
      "Saving fake_images-0083.png\n",
      "Epoch [83/300], Step [200/600], d_loss: 0.6251, g_loss: 2.2086, D(x): 0.77, D(G(z)): 0.19\n",
      "Epoch [83/300], Step [400/600], d_loss: 0.5815, g_loss: 2.2673, D(x): 0.82, D(G(z)): 0.22\n",
      "Epoch [83/300], Step [600/600], d_loss: 0.7085, g_loss: 2.2322, D(x): 0.75, D(G(z)): 0.15\n",
      "Saving fake_images-0084.png\n",
      "Epoch [84/300], Step [200/600], d_loss: 0.8064, g_loss: 2.2878, D(x): 0.72, D(G(z)): 0.20\n",
      "Epoch [84/300], Step [400/600], d_loss: 0.7457, g_loss: 2.2352, D(x): 0.72, D(G(z)): 0.15\n",
      "Epoch [84/300], Step [600/600], d_loss: 0.6665, g_loss: 1.6462, D(x): 0.84, D(G(z)): 0.29\n",
      "Saving fake_images-0085.png\n",
      "Epoch [85/300], Step [200/600], d_loss: 0.8554, g_loss: 1.7793, D(x): 0.75, D(G(z)): 0.31\n",
      "Epoch [85/300], Step [400/600], d_loss: 0.7050, g_loss: 1.6860, D(x): 0.76, D(G(z)): 0.18\n",
      "Epoch [85/300], Step [600/600], d_loss: 0.6639, g_loss: 1.6688, D(x): 0.78, D(G(z)): 0.22\n",
      "Saving fake_images-0086.png\n",
      "Epoch [86/300], Step [200/600], d_loss: 0.7539, g_loss: 2.0330, D(x): 0.72, D(G(z)): 0.18\n",
      "Epoch [86/300], Step [400/600], d_loss: 0.6932, g_loss: 2.0904, D(x): 0.75, D(G(z)): 0.18\n",
      "Epoch [86/300], Step [600/600], d_loss: 0.8914, g_loss: 1.8335, D(x): 0.77, D(G(z)): 0.35\n",
      "Saving fake_images-0087.png\n",
      "Epoch [87/300], Step [200/600], d_loss: 0.8126, g_loss: 1.7789, D(x): 0.72, D(G(z)): 0.24\n",
      "Epoch [87/300], Step [400/600], d_loss: 0.6964, g_loss: 2.0354, D(x): 0.78, D(G(z)): 0.21\n",
      "Epoch [87/300], Step [600/600], d_loss: 0.5771, g_loss: 2.1387, D(x): 0.81, D(G(z)): 0.23\n",
      "Saving fake_images-0088.png\n",
      "Epoch [88/300], Step [200/600], d_loss: 0.7739, g_loss: 2.3111, D(x): 0.72, D(G(z)): 0.19\n",
      "Epoch [88/300], Step [400/600], d_loss: 0.8037, g_loss: 1.9919, D(x): 0.84, D(G(z)): 0.31\n",
      "Epoch [88/300], Step [600/600], d_loss: 0.6105, g_loss: 2.1259, D(x): 0.79, D(G(z)): 0.21\n",
      "Saving fake_images-0089.png\n",
      "Epoch [89/300], Step [200/600], d_loss: 0.6456, g_loss: 1.6556, D(x): 0.79, D(G(z)): 0.21\n",
      "Epoch [89/300], Step [400/600], d_loss: 0.7890, g_loss: 1.6827, D(x): 0.78, D(G(z)): 0.30\n",
      "Epoch [89/300], Step [600/600], d_loss: 0.6999, g_loss: 1.8492, D(x): 0.78, D(G(z)): 0.23\n",
      "Saving fake_images-0090.png\n",
      "Epoch [90/300], Step [200/600], d_loss: 0.6388, g_loss: 1.4907, D(x): 0.87, D(G(z)): 0.29\n",
      "Epoch [90/300], Step [400/600], d_loss: 0.8408, g_loss: 1.9390, D(x): 0.79, D(G(z)): 0.33\n",
      "Epoch [90/300], Step [600/600], d_loss: 0.8233, g_loss: 2.3637, D(x): 0.74, D(G(z)): 0.21\n",
      "Saving fake_images-0091.png\n",
      "Epoch [91/300], Step [200/600], d_loss: 0.7456, g_loss: 2.3018, D(x): 0.78, D(G(z)): 0.26\n",
      "Epoch [91/300], Step [400/600], d_loss: 0.6049, g_loss: 1.8172, D(x): 0.83, D(G(z)): 0.25\n",
      "Epoch [91/300], Step [600/600], d_loss: 0.7240, g_loss: 2.1811, D(x): 0.73, D(G(z)): 0.20\n",
      "Saving fake_images-0092.png\n",
      "Epoch [92/300], Step [200/600], d_loss: 0.6292, g_loss: 1.9364, D(x): 0.80, D(G(z)): 0.21\n",
      "Epoch [92/300], Step [400/600], d_loss: 0.6913, g_loss: 2.2849, D(x): 0.77, D(G(z)): 0.21\n",
      "Epoch [92/300], Step [600/600], d_loss: 0.8686, g_loss: 2.1246, D(x): 0.65, D(G(z)): 0.21\n",
      "Saving fake_images-0093.png\n",
      "Epoch [93/300], Step [200/600], d_loss: 0.7618, g_loss: 2.2320, D(x): 0.75, D(G(z)): 0.20\n",
      "Epoch [93/300], Step [400/600], d_loss: 0.6609, g_loss: 2.0040, D(x): 0.73, D(G(z)): 0.17\n",
      "Epoch [93/300], Step [600/600], d_loss: 0.7496, g_loss: 1.9228, D(x): 0.75, D(G(z)): 0.21\n",
      "Saving fake_images-0094.png\n",
      "Epoch [94/300], Step [200/600], d_loss: 0.8932, g_loss: 1.5717, D(x): 0.73, D(G(z)): 0.27\n",
      "Epoch [94/300], Step [400/600], d_loss: 0.6782, g_loss: 2.1287, D(x): 0.81, D(G(z)): 0.25\n",
      "Epoch [94/300], Step [600/600], d_loss: 0.6856, g_loss: 2.2789, D(x): 0.68, D(G(z)): 0.13\n",
      "Saving fake_images-0095.png\n",
      "Epoch [95/300], Step [200/600], d_loss: 0.9773, g_loss: 1.4049, D(x): 0.69, D(G(z)): 0.28\n",
      "Epoch [95/300], Step [400/600], d_loss: 0.7493, g_loss: 1.8941, D(x): 0.78, D(G(z)): 0.27\n",
      "Epoch [95/300], Step [600/600], d_loss: 0.8613, g_loss: 1.7056, D(x): 0.69, D(G(z)): 0.24\n",
      "Saving fake_images-0096.png\n",
      "Epoch [96/300], Step [200/600], d_loss: 0.5816, g_loss: 2.0318, D(x): 0.82, D(G(z)): 0.22\n",
      "Epoch [96/300], Step [400/600], d_loss: 0.6750, g_loss: 1.8824, D(x): 0.77, D(G(z)): 0.24\n",
      "Epoch [96/300], Step [600/600], d_loss: 0.7210, g_loss: 2.1016, D(x): 0.77, D(G(z)): 0.23\n",
      "Saving fake_images-0097.png\n",
      "Epoch [97/300], Step [200/600], d_loss: 0.7768, g_loss: 1.9493, D(x): 0.75, D(G(z)): 0.26\n",
      "Epoch [97/300], Step [400/600], d_loss: 0.6553, g_loss: 1.8067, D(x): 0.81, D(G(z)): 0.25\n",
      "Epoch [97/300], Step [600/600], d_loss: 0.5505, g_loss: 2.0898, D(x): 0.78, D(G(z)): 0.16\n",
      "Saving fake_images-0098.png\n",
      "Epoch [98/300], Step [200/600], d_loss: 0.7385, g_loss: 1.1871, D(x): 0.83, D(G(z)): 0.34\n",
      "Epoch [98/300], Step [400/600], d_loss: 0.6705, g_loss: 1.9610, D(x): 0.77, D(G(z)): 0.21\n",
      "Epoch [98/300], Step [600/600], d_loss: 0.8103, g_loss: 1.7150, D(x): 0.74, D(G(z)): 0.25\n",
      "Saving fake_images-0099.png\n",
      "Epoch [99/300], Step [200/600], d_loss: 0.7415, g_loss: 1.8356, D(x): 0.70, D(G(z)): 0.19\n",
      "Epoch [99/300], Step [400/600], d_loss: 0.8405, g_loss: 1.9360, D(x): 0.73, D(G(z)): 0.26\n",
      "Epoch [99/300], Step [600/600], d_loss: 0.7848, g_loss: 2.0950, D(x): 0.69, D(G(z)): 0.16\n",
      "Saving fake_images-0100.png\n",
      "Epoch [100/300], Step [200/600], d_loss: 0.8888, g_loss: 1.7892, D(x): 0.69, D(G(z)): 0.24\n",
      "Epoch [100/300], Step [400/600], d_loss: 0.8988, g_loss: 1.5868, D(x): 0.80, D(G(z)): 0.38\n",
      "Epoch [100/300], Step [600/600], d_loss: 0.7767, g_loss: 1.8019, D(x): 0.78, D(G(z)): 0.27\n",
      "Saving fake_images-0101.png\n",
      "Epoch [101/300], Step [200/600], d_loss: 0.7256, g_loss: 2.0357, D(x): 0.72, D(G(z)): 0.20\n",
      "Epoch [101/300], Step [400/600], d_loss: 0.8776, g_loss: 2.2110, D(x): 0.70, D(G(z)): 0.21\n",
      "Epoch [101/300], Step [600/600], d_loss: 0.7181, g_loss: 1.5035, D(x): 0.77, D(G(z)): 0.26\n",
      "Saving fake_images-0102.png\n",
      "Epoch [102/300], Step [200/600], d_loss: 0.6828, g_loss: 2.1136, D(x): 0.78, D(G(z)): 0.24\n",
      "Epoch [102/300], Step [400/600], d_loss: 0.8411, g_loss: 1.8922, D(x): 0.70, D(G(z)): 0.25\n",
      "Epoch [102/300], Step [600/600], d_loss: 0.8299, g_loss: 2.0516, D(x): 0.77, D(G(z)): 0.26\n",
      "Saving fake_images-0103.png\n",
      "Epoch [103/300], Step [200/600], d_loss: 0.7064, g_loss: 1.3407, D(x): 0.77, D(G(z)): 0.24\n",
      "Epoch [103/300], Step [400/600], d_loss: 0.8707, g_loss: 1.6239, D(x): 0.73, D(G(z)): 0.29\n",
      "Epoch [103/300], Step [600/600], d_loss: 0.7817, g_loss: 1.8705, D(x): 0.72, D(G(z)): 0.25\n",
      "Saving fake_images-0104.png\n",
      "Epoch [104/300], Step [200/600], d_loss: 0.8758, g_loss: 1.6900, D(x): 0.71, D(G(z)): 0.24\n",
      "Epoch [104/300], Step [400/600], d_loss: 0.8667, g_loss: 1.6088, D(x): 0.76, D(G(z)): 0.29\n",
      "Epoch [104/300], Step [600/600], d_loss: 0.7829, g_loss: 2.1371, D(x): 0.79, D(G(z)): 0.24\n",
      "Saving fake_images-0105.png\n",
      "Epoch [105/300], Step [200/600], d_loss: 0.7224, g_loss: 1.9715, D(x): 0.75, D(G(z)): 0.23\n",
      "Epoch [105/300], Step [400/600], d_loss: 0.6780, g_loss: 2.0582, D(x): 0.79, D(G(z)): 0.25\n",
      "Epoch [105/300], Step [600/600], d_loss: 0.9364, g_loss: 1.7903, D(x): 0.74, D(G(z)): 0.28\n",
      "Saving fake_images-0106.png\n",
      "Epoch [106/300], Step [200/600], d_loss: 0.7638, g_loss: 1.7908, D(x): 0.77, D(G(z)): 0.25\n",
      "Epoch [106/300], Step [400/600], d_loss: 0.8089, g_loss: 1.7347, D(x): 0.75, D(G(z)): 0.25\n",
      "Epoch [106/300], Step [600/600], d_loss: 0.8544, g_loss: 1.6672, D(x): 0.73, D(G(z)): 0.29\n",
      "Saving fake_images-0107.png\n",
      "Epoch [107/300], Step [200/600], d_loss: 0.9363, g_loss: 1.3617, D(x): 0.77, D(G(z)): 0.34\n",
      "Epoch [107/300], Step [400/600], d_loss: 0.8220, g_loss: 1.7391, D(x): 0.80, D(G(z)): 0.32\n",
      "Epoch [107/300], Step [600/600], d_loss: 0.8501, g_loss: 1.4907, D(x): 0.77, D(G(z)): 0.31\n",
      "Saving fake_images-0108.png\n",
      "Epoch [108/300], Step [200/600], d_loss: 0.7423, g_loss: 1.6871, D(x): 0.76, D(G(z)): 0.26\n",
      "Epoch [108/300], Step [400/600], d_loss: 0.8139, g_loss: 1.9345, D(x): 0.72, D(G(z)): 0.24\n",
      "Epoch [108/300], Step [600/600], d_loss: 0.8338, g_loss: 1.7091, D(x): 0.71, D(G(z)): 0.22\n",
      "Saving fake_images-0109.png\n",
      "Epoch [109/300], Step [200/600], d_loss: 0.8829, g_loss: 2.0967, D(x): 0.70, D(G(z)): 0.23\n",
      "Epoch [109/300], Step [400/600], d_loss: 0.8722, g_loss: 1.8021, D(x): 0.74, D(G(z)): 0.29\n",
      "Epoch [109/300], Step [600/600], d_loss: 0.8912, g_loss: 1.9703, D(x): 0.74, D(G(z)): 0.30\n",
      "Saving fake_images-0110.png\n",
      "Epoch [110/300], Step [200/600], d_loss: 0.8552, g_loss: 1.7631, D(x): 0.73, D(G(z)): 0.26\n",
      "Epoch [110/300], Step [400/600], d_loss: 0.7786, g_loss: 1.8718, D(x): 0.72, D(G(z)): 0.22\n",
      "Epoch [110/300], Step [600/600], d_loss: 0.7998, g_loss: 1.5975, D(x): 0.75, D(G(z)): 0.24\n",
      "Saving fake_images-0111.png\n",
      "Epoch [111/300], Step [200/600], d_loss: 0.7617, g_loss: 1.9319, D(x): 0.74, D(G(z)): 0.24\n",
      "Epoch [111/300], Step [400/600], d_loss: 0.7087, g_loss: 1.6083, D(x): 0.80, D(G(z)): 0.28\n",
      "Epoch [111/300], Step [600/600], d_loss: 0.6082, g_loss: 1.7596, D(x): 0.79, D(G(z)): 0.22\n",
      "Saving fake_images-0112.png\n",
      "Epoch [112/300], Step [200/600], d_loss: 0.6974, g_loss: 1.4170, D(x): 0.81, D(G(z)): 0.29\n",
      "Epoch [112/300], Step [400/600], d_loss: 0.7834, g_loss: 1.9178, D(x): 0.77, D(G(z)): 0.27\n",
      "Epoch [112/300], Step [600/600], d_loss: 0.8195, g_loss: 1.5677, D(x): 0.76, D(G(z)): 0.28\n",
      "Saving fake_images-0113.png\n",
      "Epoch [113/300], Step [200/600], d_loss: 0.6854, g_loss: 1.7769, D(x): 0.79, D(G(z)): 0.26\n",
      "Epoch [113/300], Step [400/600], d_loss: 0.7119, g_loss: 1.8709, D(x): 0.76, D(G(z)): 0.25\n",
      "Epoch [113/300], Step [600/600], d_loss: 0.7881, g_loss: 1.6505, D(x): 0.76, D(G(z)): 0.26\n",
      "Saving fake_images-0114.png\n",
      "Epoch [114/300], Step [200/600], d_loss: 0.7786, g_loss: 1.7059, D(x): 0.76, D(G(z)): 0.28\n",
      "Epoch [114/300], Step [400/600], d_loss: 0.7653, g_loss: 1.6638, D(x): 0.68, D(G(z)): 0.18\n",
      "Epoch [114/300], Step [600/600], d_loss: 0.8020, g_loss: 1.4359, D(x): 0.78, D(G(z)): 0.32\n",
      "Saving fake_images-0115.png\n",
      "Epoch [115/300], Step [200/600], d_loss: 0.7499, g_loss: 1.9771, D(x): 0.73, D(G(z)): 0.21\n",
      "Epoch [115/300], Step [400/600], d_loss: 0.9058, g_loss: 1.8919, D(x): 0.70, D(G(z)): 0.25\n",
      "Epoch [115/300], Step [600/600], d_loss: 0.8190, g_loss: 1.4655, D(x): 0.78, D(G(z)): 0.34\n",
      "Saving fake_images-0116.png\n",
      "Epoch [116/300], Step [200/600], d_loss: 0.7857, g_loss: 1.6915, D(x): 0.73, D(G(z)): 0.25\n",
      "Epoch [116/300], Step [400/600], d_loss: 0.8944, g_loss: 1.4440, D(x): 0.71, D(G(z)): 0.30\n",
      "Epoch [116/300], Step [600/600], d_loss: 0.8943, g_loss: 1.9306, D(x): 0.68, D(G(z)): 0.25\n",
      "Saving fake_images-0117.png\n",
      "Epoch [117/300], Step [200/600], d_loss: 0.8536, g_loss: 1.7126, D(x): 0.68, D(G(z)): 0.23\n",
      "Epoch [117/300], Step [400/600], d_loss: 0.7086, g_loss: 1.9378, D(x): 0.72, D(G(z)): 0.21\n",
      "Epoch [117/300], Step [600/600], d_loss: 0.8187, g_loss: 1.6918, D(x): 0.81, D(G(z)): 0.33\n",
      "Saving fake_images-0118.png\n",
      "Epoch [118/300], Step [200/600], d_loss: 0.8313, g_loss: 2.0517, D(x): 0.75, D(G(z)): 0.26\n",
      "Epoch [118/300], Step [400/600], d_loss: 0.8607, g_loss: 1.4908, D(x): 0.79, D(G(z)): 0.32\n",
      "Epoch [118/300], Step [600/600], d_loss: 0.7954, g_loss: 1.4074, D(x): 0.77, D(G(z)): 0.29\n",
      "Saving fake_images-0119.png\n",
      "Epoch [119/300], Step [200/600], d_loss: 0.7427, g_loss: 1.9484, D(x): 0.72, D(G(z)): 0.22\n",
      "Epoch [119/300], Step [400/600], d_loss: 0.9467, g_loss: 1.8028, D(x): 0.67, D(G(z)): 0.26\n",
      "Epoch [119/300], Step [600/600], d_loss: 0.8995, g_loss: 1.5922, D(x): 0.75, D(G(z)): 0.33\n",
      "Saving fake_images-0120.png\n",
      "Epoch [120/300], Step [200/600], d_loss: 0.7534, g_loss: 1.7651, D(x): 0.72, D(G(z)): 0.21\n",
      "Epoch [120/300], Step [400/600], d_loss: 0.7936, g_loss: 1.4548, D(x): 0.76, D(G(z)): 0.30\n",
      "Epoch [120/300], Step [600/600], d_loss: 1.0874, g_loss: 1.8247, D(x): 0.72, D(G(z)): 0.36\n",
      "Saving fake_images-0121.png\n",
      "Epoch [121/300], Step [200/600], d_loss: 0.7791, g_loss: 1.7979, D(x): 0.73, D(G(z)): 0.22\n",
      "Epoch [121/300], Step [400/600], d_loss: 0.7766, g_loss: 1.5839, D(x): 0.75, D(G(z)): 0.28\n",
      "Epoch [121/300], Step [600/600], d_loss: 0.8766, g_loss: 1.8669, D(x): 0.76, D(G(z)): 0.29\n",
      "Saving fake_images-0122.png\n",
      "Epoch [122/300], Step [200/600], d_loss: 0.6988, g_loss: 1.4881, D(x): 0.83, D(G(z)): 0.32\n",
      "Epoch [122/300], Step [400/600], d_loss: 0.9557, g_loss: 1.8569, D(x): 0.74, D(G(z)): 0.30\n",
      "Epoch [122/300], Step [600/600], d_loss: 0.8940, g_loss: 2.2118, D(x): 0.66, D(G(z)): 0.20\n",
      "Saving fake_images-0123.png\n",
      "Epoch [123/300], Step [200/600], d_loss: 0.6969, g_loss: 1.4948, D(x): 0.77, D(G(z)): 0.21\n",
      "Epoch [123/300], Step [400/600], d_loss: 0.7634, g_loss: 1.8413, D(x): 0.74, D(G(z)): 0.23\n",
      "Epoch [123/300], Step [600/600], d_loss: 0.7654, g_loss: 1.9344, D(x): 0.74, D(G(z)): 0.26\n",
      "Saving fake_images-0124.png\n",
      "Epoch [124/300], Step [200/600], d_loss: 0.7854, g_loss: 1.7959, D(x): 0.70, D(G(z)): 0.21\n",
      "Epoch [124/300], Step [400/600], d_loss: 0.8181, g_loss: 2.0242, D(x): 0.69, D(G(z)): 0.21\n",
      "Epoch [124/300], Step [600/600], d_loss: 0.9307, g_loss: 2.1006, D(x): 0.65, D(G(z)): 0.20\n",
      "Saving fake_images-0125.png\n",
      "Epoch [125/300], Step [200/600], d_loss: 0.6558, g_loss: 1.8629, D(x): 0.78, D(G(z)): 0.24\n",
      "Epoch [125/300], Step [400/600], d_loss: 0.6572, g_loss: 1.4111, D(x): 0.80, D(G(z)): 0.26\n",
      "Epoch [125/300], Step [600/600], d_loss: 0.8703, g_loss: 1.3392, D(x): 0.74, D(G(z)): 0.30\n",
      "Saving fake_images-0126.png\n",
      "Epoch [126/300], Step [200/600], d_loss: 0.6912, g_loss: 1.8441, D(x): 0.78, D(G(z)): 0.26\n",
      "Epoch [126/300], Step [400/600], d_loss: 0.7450, g_loss: 1.7246, D(x): 0.79, D(G(z)): 0.29\n",
      "Epoch [126/300], Step [600/600], d_loss: 0.7422, g_loss: 1.6457, D(x): 0.80, D(G(z)): 0.28\n",
      "Saving fake_images-0127.png\n",
      "Epoch [127/300], Step [200/600], d_loss: 0.7973, g_loss: 1.5005, D(x): 0.78, D(G(z)): 0.30\n",
      "Epoch [127/300], Step [400/600], d_loss: 1.0105, g_loss: 1.8075, D(x): 0.70, D(G(z)): 0.31\n",
      "Epoch [127/300], Step [600/600], d_loss: 0.8508, g_loss: 1.7702, D(x): 0.75, D(G(z)): 0.24\n",
      "Saving fake_images-0128.png\n",
      "Epoch [128/300], Step [200/600], d_loss: 0.6898, g_loss: 1.8130, D(x): 0.74, D(G(z)): 0.21\n",
      "Epoch [128/300], Step [400/600], d_loss: 0.7873, g_loss: 1.7225, D(x): 0.72, D(G(z)): 0.22\n",
      "Epoch [128/300], Step [600/600], d_loss: 0.7577, g_loss: 1.6786, D(x): 0.80, D(G(z)): 0.31\n",
      "Saving fake_images-0129.png\n",
      "Epoch [129/300], Step [200/600], d_loss: 0.7236, g_loss: 2.0056, D(x): 0.72, D(G(z)): 0.20\n",
      "Epoch [129/300], Step [400/600], d_loss: 0.7571, g_loss: 1.9945, D(x): 0.74, D(G(z)): 0.25\n",
      "Epoch [129/300], Step [600/600], d_loss: 0.9942, g_loss: 1.8384, D(x): 0.68, D(G(z)): 0.28\n",
      "Saving fake_images-0130.png\n",
      "Epoch [130/300], Step [200/600], d_loss: 0.8574, g_loss: 1.5991, D(x): 0.77, D(G(z)): 0.31\n",
      "Epoch [130/300], Step [400/600], d_loss: 0.6939, g_loss: 1.9501, D(x): 0.74, D(G(z)): 0.22\n",
      "Epoch [130/300], Step [600/600], d_loss: 0.6645, g_loss: 1.7209, D(x): 0.79, D(G(z)): 0.25\n",
      "Saving fake_images-0131.png\n",
      "Epoch [131/300], Step [200/600], d_loss: 0.6384, g_loss: 1.6951, D(x): 0.82, D(G(z)): 0.24\n",
      "Epoch [131/300], Step [400/600], d_loss: 0.8212, g_loss: 1.5000, D(x): 0.72, D(G(z)): 0.25\n",
      "Epoch [131/300], Step [600/600], d_loss: 0.8685, g_loss: 1.2969, D(x): 0.74, D(G(z)): 0.32\n",
      "Saving fake_images-0132.png\n",
      "Epoch [132/300], Step [200/600], d_loss: 0.8018, g_loss: 1.6881, D(x): 0.77, D(G(z)): 0.31\n",
      "Epoch [132/300], Step [400/600], d_loss: 0.8736, g_loss: 1.7407, D(x): 0.78, D(G(z)): 0.31\n",
      "Epoch [132/300], Step [600/600], d_loss: 0.7805, g_loss: 1.6829, D(x): 0.78, D(G(z)): 0.30\n",
      "Saving fake_images-0133.png\n",
      "Epoch [133/300], Step [200/600], d_loss: 0.7311, g_loss: 1.7795, D(x): 0.73, D(G(z)): 0.23\n",
      "Epoch [133/300], Step [400/600], d_loss: 0.7941, g_loss: 1.7451, D(x): 0.73, D(G(z)): 0.25\n",
      "Epoch [133/300], Step [600/600], d_loss: 0.7602, g_loss: 1.4553, D(x): 0.84, D(G(z)): 0.34\n",
      "Saving fake_images-0134.png\n",
      "Epoch [134/300], Step [200/600], d_loss: 0.7553, g_loss: 1.6555, D(x): 0.77, D(G(z)): 0.28\n",
      "Epoch [134/300], Step [400/600], d_loss: 0.7632, g_loss: 1.9117, D(x): 0.75, D(G(z)): 0.25\n",
      "Epoch [134/300], Step [600/600], d_loss: 1.0803, g_loss: 1.1284, D(x): 0.74, D(G(z)): 0.40\n",
      "Saving fake_images-0135.png\n",
      "Epoch [135/300], Step [200/600], d_loss: 0.8617, g_loss: 1.6892, D(x): 0.70, D(G(z)): 0.26\n",
      "Epoch [135/300], Step [400/600], d_loss: 0.7556, g_loss: 1.8862, D(x): 0.77, D(G(z)): 0.24\n",
      "Epoch [135/300], Step [600/600], d_loss: 0.7617, g_loss: 1.5158, D(x): 0.72, D(G(z)): 0.23\n",
      "Saving fake_images-0136.png\n",
      "Epoch [136/300], Step [200/600], d_loss: 0.7979, g_loss: 1.4245, D(x): 0.76, D(G(z)): 0.30\n",
      "Epoch [136/300], Step [400/600], d_loss: 0.8567, g_loss: 1.7833, D(x): 0.67, D(G(z)): 0.21\n",
      "Epoch [136/300], Step [600/600], d_loss: 0.7536, g_loss: 1.5451, D(x): 0.76, D(G(z)): 0.27\n",
      "Saving fake_images-0137.png\n",
      "Epoch [137/300], Step [200/600], d_loss: 0.6080, g_loss: 2.1038, D(x): 0.81, D(G(z)): 0.23\n",
      "Epoch [137/300], Step [400/600], d_loss: 0.7172, g_loss: 1.7213, D(x): 0.78, D(G(z)): 0.27\n",
      "Epoch [137/300], Step [600/600], d_loss: 0.7829, g_loss: 1.6866, D(x): 0.76, D(G(z)): 0.29\n",
      "Saving fake_images-0138.png\n",
      "Epoch [138/300], Step [200/600], d_loss: 0.9134, g_loss: 1.3620, D(x): 0.75, D(G(z)): 0.35\n",
      "Epoch [138/300], Step [400/600], d_loss: 0.6702, g_loss: 1.6666, D(x): 0.83, D(G(z)): 0.29\n",
      "Epoch [138/300], Step [600/600], d_loss: 0.9501, g_loss: 1.7339, D(x): 0.70, D(G(z)): 0.27\n",
      "Saving fake_images-0139.png\n",
      "Epoch [139/300], Step [200/600], d_loss: 0.7817, g_loss: 1.2505, D(x): 0.76, D(G(z)): 0.31\n",
      "Epoch [139/300], Step [400/600], d_loss: 0.7643, g_loss: 1.7010, D(x): 0.75, D(G(z)): 0.23\n",
      "Epoch [139/300], Step [600/600], d_loss: 0.7536, g_loss: 1.5436, D(x): 0.75, D(G(z)): 0.24\n",
      "Saving fake_images-0140.png\n",
      "Epoch [140/300], Step [200/600], d_loss: 0.8176, g_loss: 1.8252, D(x): 0.77, D(G(z)): 0.27\n",
      "Epoch [140/300], Step [400/600], d_loss: 0.9248, g_loss: 1.5887, D(x): 0.74, D(G(z)): 0.33\n",
      "Epoch [140/300], Step [600/600], d_loss: 0.8469, g_loss: 1.8767, D(x): 0.74, D(G(z)): 0.29\n",
      "Saving fake_images-0141.png\n",
      "Epoch [141/300], Step [200/600], d_loss: 0.8684, g_loss: 1.4755, D(x): 0.82, D(G(z)): 0.34\n",
      "Epoch [141/300], Step [400/600], d_loss: 0.8084, g_loss: 1.6589, D(x): 0.74, D(G(z)): 0.30\n",
      "Epoch [141/300], Step [600/600], d_loss: 0.8652, g_loss: 1.5466, D(x): 0.73, D(G(z)): 0.27\n",
      "Saving fake_images-0142.png\n",
      "Epoch [142/300], Step [200/600], d_loss: 0.8894, g_loss: 1.9567, D(x): 0.69, D(G(z)): 0.22\n",
      "Epoch [142/300], Step [400/600], d_loss: 0.8620, g_loss: 1.3317, D(x): 0.77, D(G(z)): 0.33\n",
      "Epoch [142/300], Step [600/600], d_loss: 0.9284, g_loss: 1.6002, D(x): 0.66, D(G(z)): 0.25\n",
      "Saving fake_images-0143.png\n",
      "Epoch [143/300], Step [200/600], d_loss: 0.8094, g_loss: 1.6624, D(x): 0.75, D(G(z)): 0.26\n",
      "Epoch [143/300], Step [400/600], d_loss: 0.7839, g_loss: 1.8613, D(x): 0.81, D(G(z)): 0.31\n",
      "Epoch [143/300], Step [600/600], d_loss: 0.8362, g_loss: 1.7774, D(x): 0.73, D(G(z)): 0.26\n",
      "Saving fake_images-0144.png\n",
      "Epoch [144/300], Step [200/600], d_loss: 0.8923, g_loss: 1.8585, D(x): 0.76, D(G(z)): 0.29\n",
      "Epoch [144/300], Step [400/600], d_loss: 0.8192, g_loss: 1.5832, D(x): 0.74, D(G(z)): 0.27\n",
      "Epoch [144/300], Step [600/600], d_loss: 0.6801, g_loss: 1.5583, D(x): 0.81, D(G(z)): 0.28\n",
      "Saving fake_images-0145.png\n",
      "Epoch [145/300], Step [200/600], d_loss: 0.7516, g_loss: 1.7682, D(x): 0.73, D(G(z)): 0.24\n",
      "Epoch [145/300], Step [400/600], d_loss: 0.8017, g_loss: 1.3775, D(x): 0.77, D(G(z)): 0.29\n",
      "Epoch [145/300], Step [600/600], d_loss: 0.8399, g_loss: 2.0107, D(x): 0.73, D(G(z)): 0.28\n",
      "Saving fake_images-0146.png\n",
      "Epoch [146/300], Step [200/600], d_loss: 0.7688, g_loss: 1.9261, D(x): 0.74, D(G(z)): 0.25\n",
      "Epoch [146/300], Step [400/600], d_loss: 0.7718, g_loss: 1.7675, D(x): 0.76, D(G(z)): 0.22\n",
      "Epoch [146/300], Step [600/600], d_loss: 0.8090, g_loss: 1.8980, D(x): 0.71, D(G(z)): 0.23\n",
      "Saving fake_images-0147.png\n",
      "Epoch [147/300], Step [200/600], d_loss: 0.7670, g_loss: 1.9306, D(x): 0.71, D(G(z)): 0.19\n",
      "Epoch [147/300], Step [400/600], d_loss: 0.8817, g_loss: 1.6473, D(x): 0.75, D(G(z)): 0.30\n",
      "Epoch [147/300], Step [600/600], d_loss: 0.8319, g_loss: 1.4807, D(x): 0.75, D(G(z)): 0.30\n",
      "Saving fake_images-0148.png\n",
      "Epoch [148/300], Step [200/600], d_loss: 0.7519, g_loss: 1.7133, D(x): 0.76, D(G(z)): 0.26\n",
      "Epoch [148/300], Step [400/600], d_loss: 0.7469, g_loss: 1.9654, D(x): 0.78, D(G(z)): 0.22\n",
      "Epoch [148/300], Step [600/600], d_loss: 0.7558, g_loss: 1.8134, D(x): 0.72, D(G(z)): 0.22\n",
      "Saving fake_images-0149.png\n",
      "Epoch [149/300], Step [200/600], d_loss: 0.8097, g_loss: 1.6983, D(x): 0.68, D(G(z)): 0.22\n",
      "Epoch [149/300], Step [400/600], d_loss: 0.7978, g_loss: 1.4754, D(x): 0.73, D(G(z)): 0.26\n",
      "Epoch [149/300], Step [600/600], d_loss: 0.9194, g_loss: 1.4841, D(x): 0.68, D(G(z)): 0.23\n",
      "Saving fake_images-0150.png\n",
      "Epoch [150/300], Step [200/600], d_loss: 0.6857, g_loss: 1.5370, D(x): 0.76, D(G(z)): 0.25\n",
      "Epoch [150/300], Step [400/600], d_loss: 0.7764, g_loss: 1.5529, D(x): 0.73, D(G(z)): 0.24\n",
      "Epoch [150/300], Step [600/600], d_loss: 0.7166, g_loss: 1.3595, D(x): 0.79, D(G(z)): 0.29\n",
      "Saving fake_images-0151.png\n",
      "Epoch [151/300], Step [200/600], d_loss: 0.6560, g_loss: 1.6808, D(x): 0.78, D(G(z)): 0.23\n",
      "Epoch [151/300], Step [400/600], d_loss: 0.7149, g_loss: 2.0032, D(x): 0.73, D(G(z)): 0.20\n",
      "Epoch [151/300], Step [600/600], d_loss: 0.8406, g_loss: 1.3969, D(x): 0.69, D(G(z)): 0.25\n",
      "Saving fake_images-0152.png\n",
      "Epoch [152/300], Step [200/600], d_loss: 0.9890, g_loss: 1.5734, D(x): 0.69, D(G(z)): 0.28\n",
      "Epoch [152/300], Step [400/600], d_loss: 0.8233, g_loss: 1.6396, D(x): 0.76, D(G(z)): 0.28\n",
      "Epoch [152/300], Step [600/600], d_loss: 1.0011, g_loss: 1.6335, D(x): 0.68, D(G(z)): 0.28\n",
      "Saving fake_images-0153.png\n",
      "Epoch [153/300], Step [200/600], d_loss: 0.9501, g_loss: 1.4324, D(x): 0.71, D(G(z)): 0.28\n",
      "Epoch [153/300], Step [400/600], d_loss: 0.7819, g_loss: 1.3424, D(x): 0.73, D(G(z)): 0.25\n",
      "Epoch [153/300], Step [600/600], d_loss: 0.7544, g_loss: 1.3837, D(x): 0.75, D(G(z)): 0.27\n",
      "Saving fake_images-0154.png\n",
      "Epoch [154/300], Step [200/600], d_loss: 0.8389, g_loss: 1.7235, D(x): 0.73, D(G(z)): 0.29\n",
      "Epoch [154/300], Step [400/600], d_loss: 0.8923, g_loss: 1.5765, D(x): 0.73, D(G(z)): 0.29\n",
      "Epoch [154/300], Step [600/600], d_loss: 0.6839, g_loss: 1.8982, D(x): 0.75, D(G(z)): 0.22\n",
      "Saving fake_images-0155.png\n",
      "Epoch [155/300], Step [200/600], d_loss: 0.8020, g_loss: 1.6112, D(x): 0.78, D(G(z)): 0.30\n",
      "Epoch [155/300], Step [400/600], d_loss: 0.8081, g_loss: 1.5637, D(x): 0.82, D(G(z)): 0.35\n",
      "Epoch [155/300], Step [600/600], d_loss: 0.7347, g_loss: 1.9890, D(x): 0.73, D(G(z)): 0.19\n",
      "Saving fake_images-0156.png\n",
      "Epoch [156/300], Step [200/600], d_loss: 0.7757, g_loss: 1.6664, D(x): 0.78, D(G(z)): 0.29\n",
      "Epoch [156/300], Step [400/600], d_loss: 0.6645, g_loss: 1.7840, D(x): 0.76, D(G(z)): 0.23\n",
      "Epoch [156/300], Step [600/600], d_loss: 0.7401, g_loss: 1.7094, D(x): 0.77, D(G(z)): 0.26\n",
      "Saving fake_images-0157.png\n",
      "Epoch [157/300], Step [200/600], d_loss: 0.8485, g_loss: 1.4874, D(x): 0.72, D(G(z)): 0.28\n",
      "Epoch [157/300], Step [400/600], d_loss: 0.7556, g_loss: 1.8760, D(x): 0.72, D(G(z)): 0.19\n",
      "Epoch [157/300], Step [600/600], d_loss: 0.8039, g_loss: 1.7304, D(x): 0.73, D(G(z)): 0.24\n",
      "Saving fake_images-0158.png\n",
      "Epoch [158/300], Step [200/600], d_loss: 0.8257, g_loss: 1.7713, D(x): 0.70, D(G(z)): 0.24\n",
      "Epoch [158/300], Step [400/600], d_loss: 0.8500, g_loss: 1.8373, D(x): 0.73, D(G(z)): 0.26\n",
      "Epoch [158/300], Step [600/600], d_loss: 0.8409, g_loss: 1.6210, D(x): 0.75, D(G(z)): 0.27\n",
      "Saving fake_images-0159.png\n",
      "Epoch [159/300], Step [200/600], d_loss: 0.8023, g_loss: 1.9134, D(x): 0.72, D(G(z)): 0.22\n",
      "Epoch [159/300], Step [400/600], d_loss: 0.9740, g_loss: 1.5625, D(x): 0.77, D(G(z)): 0.34\n",
      "Epoch [159/300], Step [600/600], d_loss: 0.7387, g_loss: 1.7098, D(x): 0.76, D(G(z)): 0.27\n",
      "Saving fake_images-0160.png\n",
      "Epoch [160/300], Step [200/600], d_loss: 0.9027, g_loss: 1.4998, D(x): 0.76, D(G(z)): 0.28\n",
      "Epoch [160/300], Step [400/600], d_loss: 0.7026, g_loss: 1.4708, D(x): 0.77, D(G(z)): 0.24\n",
      "Epoch [160/300], Step [600/600], d_loss: 0.8856, g_loss: 1.9031, D(x): 0.74, D(G(z)): 0.28\n",
      "Saving fake_images-0161.png\n",
      "Epoch [161/300], Step [200/600], d_loss: 0.6836, g_loss: 1.9543, D(x): 0.75, D(G(z)): 0.22\n",
      "Epoch [161/300], Step [400/600], d_loss: 0.8627, g_loss: 1.4354, D(x): 0.73, D(G(z)): 0.30\n",
      "Epoch [161/300], Step [600/600], d_loss: 0.7542, g_loss: 1.8605, D(x): 0.76, D(G(z)): 0.27\n",
      "Saving fake_images-0162.png\n",
      "Epoch [162/300], Step [200/600], d_loss: 0.7912, g_loss: 1.6917, D(x): 0.77, D(G(z)): 0.26\n",
      "Epoch [162/300], Step [400/600], d_loss: 0.8898, g_loss: 1.9033, D(x): 0.71, D(G(z)): 0.27\n",
      "Epoch [162/300], Step [600/600], d_loss: 0.9347, g_loss: 1.5562, D(x): 0.73, D(G(z)): 0.33\n",
      "Saving fake_images-0163.png\n",
      "Epoch [163/300], Step [200/600], d_loss: 0.8386, g_loss: 1.7268, D(x): 0.75, D(G(z)): 0.30\n",
      "Epoch [163/300], Step [400/600], d_loss: 0.7001, g_loss: 1.8380, D(x): 0.80, D(G(z)): 0.27\n",
      "Epoch [163/300], Step [600/600], d_loss: 0.8725, g_loss: 1.5547, D(x): 0.72, D(G(z)): 0.27\n",
      "Saving fake_images-0164.png\n",
      "Epoch [164/300], Step [200/600], d_loss: 1.0303, g_loss: 1.7751, D(x): 0.64, D(G(z)): 0.26\n",
      "Epoch [164/300], Step [400/600], d_loss: 0.9533, g_loss: 1.3100, D(x): 0.74, D(G(z)): 0.33\n",
      "Epoch [164/300], Step [600/600], d_loss: 0.7544, g_loss: 1.9680, D(x): 0.69, D(G(z)): 0.19\n",
      "Saving fake_images-0165.png\n",
      "Epoch [165/300], Step [200/600], d_loss: 0.9303, g_loss: 1.5361, D(x): 0.70, D(G(z)): 0.27\n",
      "Epoch [165/300], Step [400/600], d_loss: 0.9037, g_loss: 1.7658, D(x): 0.77, D(G(z)): 0.33\n",
      "Epoch [165/300], Step [600/600], d_loss: 0.7556, g_loss: 1.5890, D(x): 0.74, D(G(z)): 0.26\n",
      "Saving fake_images-0166.png\n",
      "Epoch [166/300], Step [200/600], d_loss: 0.8024, g_loss: 1.5122, D(x): 0.75, D(G(z)): 0.26\n",
      "Epoch [166/300], Step [400/600], d_loss: 0.9345, g_loss: 1.6853, D(x): 0.69, D(G(z)): 0.25\n",
      "Epoch [166/300], Step [600/600], d_loss: 0.8160, g_loss: 1.3352, D(x): 0.74, D(G(z)): 0.30\n",
      "Saving fake_images-0167.png\n",
      "Epoch [167/300], Step [200/600], d_loss: 0.7807, g_loss: 1.6134, D(x): 0.76, D(G(z)): 0.28\n",
      "Epoch [167/300], Step [400/600], d_loss: 0.8054, g_loss: 1.5625, D(x): 0.74, D(G(z)): 0.28\n",
      "Epoch [167/300], Step [600/600], d_loss: 0.8506, g_loss: 1.4256, D(x): 0.74, D(G(z)): 0.31\n",
      "Saving fake_images-0168.png\n",
      "Epoch [168/300], Step [200/600], d_loss: 0.8755, g_loss: 1.7997, D(x): 0.72, D(G(z)): 0.30\n",
      "Epoch [168/300], Step [400/600], d_loss: 0.8116, g_loss: 1.8811, D(x): 0.81, D(G(z)): 0.31\n",
      "Epoch [168/300], Step [600/600], d_loss: 0.8577, g_loss: 1.5578, D(x): 0.71, D(G(z)): 0.29\n",
      "Saving fake_images-0169.png\n",
      "Epoch [169/300], Step [200/600], d_loss: 0.7535, g_loss: 1.8532, D(x): 0.74, D(G(z)): 0.23\n",
      "Epoch [169/300], Step [400/600], d_loss: 0.7611, g_loss: 1.3064, D(x): 0.79, D(G(z)): 0.30\n",
      "Epoch [169/300], Step [600/600], d_loss: 0.6474, g_loss: 1.9690, D(x): 0.76, D(G(z)): 0.20\n",
      "Saving fake_images-0170.png\n",
      "Epoch [170/300], Step [200/600], d_loss: 0.6365, g_loss: 1.7486, D(x): 0.81, D(G(z)): 0.26\n",
      "Epoch [170/300], Step [400/600], d_loss: 0.8777, g_loss: 1.6898, D(x): 0.72, D(G(z)): 0.30\n",
      "Epoch [170/300], Step [600/600], d_loss: 0.7999, g_loss: 2.1351, D(x): 0.74, D(G(z)): 0.25\n",
      "Saving fake_images-0171.png\n",
      "Epoch [171/300], Step [200/600], d_loss: 0.9043, g_loss: 1.6077, D(x): 0.70, D(G(z)): 0.26\n",
      "Epoch [171/300], Step [400/600], d_loss: 0.8121, g_loss: 1.5485, D(x): 0.75, D(G(z)): 0.28\n",
      "Epoch [171/300], Step [600/600], d_loss: 0.8564, g_loss: 1.6236, D(x): 0.69, D(G(z)): 0.24\n",
      "Saving fake_images-0172.png\n",
      "Epoch [172/300], Step [200/600], d_loss: 0.8519, g_loss: 1.5976, D(x): 0.70, D(G(z)): 0.26\n",
      "Epoch [172/300], Step [400/600], d_loss: 0.9483, g_loss: 1.5944, D(x): 0.70, D(G(z)): 0.28\n",
      "Epoch [172/300], Step [600/600], d_loss: 0.7198, g_loss: 1.5027, D(x): 0.78, D(G(z)): 0.26\n",
      "Saving fake_images-0173.png\n",
      "Epoch [173/300], Step [200/600], d_loss: 0.7125, g_loss: 1.7203, D(x): 0.78, D(G(z)): 0.28\n",
      "Epoch [173/300], Step [400/600], d_loss: 0.9099, g_loss: 1.8085, D(x): 0.72, D(G(z)): 0.27\n",
      "Epoch [173/300], Step [600/600], d_loss: 0.7805, g_loss: 1.6247, D(x): 0.80, D(G(z)): 0.30\n",
      "Saving fake_images-0174.png\n",
      "Epoch [174/300], Step [200/600], d_loss: 0.7281, g_loss: 1.7695, D(x): 0.77, D(G(z)): 0.26\n",
      "Epoch [174/300], Step [400/600], d_loss: 0.9283, g_loss: 1.8957, D(x): 0.66, D(G(z)): 0.21\n",
      "Epoch [174/300], Step [600/600], d_loss: 0.7943, g_loss: 1.6491, D(x): 0.73, D(G(z)): 0.27\n",
      "Saving fake_images-0175.png\n",
      "Epoch [175/300], Step [200/600], d_loss: 0.8280, g_loss: 1.4907, D(x): 0.75, D(G(z)): 0.28\n",
      "Epoch [175/300], Step [400/600], d_loss: 0.8728, g_loss: 1.5243, D(x): 0.72, D(G(z)): 0.24\n",
      "Epoch [175/300], Step [600/600], d_loss: 0.8369, g_loss: 1.6234, D(x): 0.80, D(G(z)): 0.34\n",
      "Saving fake_images-0176.png\n",
      "Epoch [176/300], Step [200/600], d_loss: 0.9744, g_loss: 1.7070, D(x): 0.67, D(G(z)): 0.26\n",
      "Epoch [176/300], Step [400/600], d_loss: 1.0850, g_loss: 1.3090, D(x): 0.67, D(G(z)): 0.31\n",
      "Epoch [176/300], Step [600/600], d_loss: 0.7525, g_loss: 1.6174, D(x): 0.78, D(G(z)): 0.28\n",
      "Saving fake_images-0177.png\n",
      "Epoch [177/300], Step [200/600], d_loss: 0.8155, g_loss: 2.0826, D(x): 0.70, D(G(z)): 0.23\n",
      "Epoch [177/300], Step [400/600], d_loss: 0.9526, g_loss: 1.6113, D(x): 0.68, D(G(z)): 0.27\n",
      "Epoch [177/300], Step [600/600], d_loss: 0.8866, g_loss: 2.1090, D(x): 0.75, D(G(z)): 0.31\n",
      "Saving fake_images-0178.png\n",
      "Epoch [178/300], Step [200/600], d_loss: 0.6662, g_loss: 1.7866, D(x): 0.77, D(G(z)): 0.22\n",
      "Epoch [178/300], Step [400/600], d_loss: 0.8258, g_loss: 1.5217, D(x): 0.72, D(G(z)): 0.27\n",
      "Epoch [178/300], Step [600/600], d_loss: 0.9779, g_loss: 1.4148, D(x): 0.74, D(G(z)): 0.36\n",
      "Saving fake_images-0179.png\n",
      "Epoch [179/300], Step [200/600], d_loss: 0.9054, g_loss: 1.7748, D(x): 0.70, D(G(z)): 0.28\n",
      "Epoch [179/300], Step [400/600], d_loss: 0.8246, g_loss: 1.6707, D(x): 0.71, D(G(z)): 0.26\n",
      "Epoch [179/300], Step [600/600], d_loss: 0.8603, g_loss: 1.3783, D(x): 0.77, D(G(z)): 0.33\n",
      "Saving fake_images-0180.png\n",
      "Epoch [180/300], Step [200/600], d_loss: 0.6493, g_loss: 2.1111, D(x): 0.77, D(G(z)): 0.23\n",
      "Epoch [180/300], Step [400/600], d_loss: 0.8247, g_loss: 2.0154, D(x): 0.69, D(G(z)): 0.22\n",
      "Epoch [180/300], Step [600/600], d_loss: 0.7559, g_loss: 1.7025, D(x): 0.79, D(G(z)): 0.27\n",
      "Saving fake_images-0181.png\n",
      "Epoch [181/300], Step [200/600], d_loss: 0.7271, g_loss: 2.1411, D(x): 0.70, D(G(z)): 0.20\n",
      "Epoch [181/300], Step [400/600], d_loss: 0.7348, g_loss: 1.6219, D(x): 0.78, D(G(z)): 0.27\n",
      "Epoch [181/300], Step [600/600], d_loss: 0.8489, g_loss: 1.7102, D(x): 0.71, D(G(z)): 0.27\n",
      "Saving fake_images-0182.png\n",
      "Epoch [182/300], Step [200/600], d_loss: 0.7575, g_loss: 1.5347, D(x): 0.74, D(G(z)): 0.25\n",
      "Epoch [182/300], Step [400/600], d_loss: 0.8210, g_loss: 1.4978, D(x): 0.76, D(G(z)): 0.30\n",
      "Epoch [182/300], Step [600/600], d_loss: 0.7623, g_loss: 1.6808, D(x): 0.76, D(G(z)): 0.25\n",
      "Saving fake_images-0183.png\n",
      "Epoch [183/300], Step [200/600], d_loss: 0.8437, g_loss: 1.5061, D(x): 0.79, D(G(z)): 0.33\n",
      "Epoch [183/300], Step [400/600], d_loss: 0.8457, g_loss: 1.6745, D(x): 0.70, D(G(z)): 0.27\n",
      "Epoch [183/300], Step [600/600], d_loss: 0.7383, g_loss: 1.7164, D(x): 0.79, D(G(z)): 0.28\n",
      "Saving fake_images-0184.png\n",
      "Epoch [184/300], Step [200/600], d_loss: 1.0336, g_loss: 1.4537, D(x): 0.69, D(G(z)): 0.33\n",
      "Epoch [184/300], Step [400/600], d_loss: 0.8144, g_loss: 1.6478, D(x): 0.73, D(G(z)): 0.26\n",
      "Epoch [184/300], Step [600/600], d_loss: 0.8346, g_loss: 1.8158, D(x): 0.70, D(G(z)): 0.24\n",
      "Saving fake_images-0185.png\n",
      "Epoch [185/300], Step [200/600], d_loss: 0.8568, g_loss: 1.9152, D(x): 0.72, D(G(z)): 0.26\n",
      "Epoch [185/300], Step [400/600], d_loss: 0.8075, g_loss: 1.8427, D(x): 0.71, D(G(z)): 0.24\n",
      "Epoch [185/300], Step [600/600], d_loss: 0.7072, g_loss: 1.6244, D(x): 0.76, D(G(z)): 0.25\n",
      "Saving fake_images-0186.png\n",
      "Epoch [186/300], Step [200/600], d_loss: 0.7896, g_loss: 1.6034, D(x): 0.70, D(G(z)): 0.21\n",
      "Epoch [186/300], Step [400/600], d_loss: 0.7021, g_loss: 1.8749, D(x): 0.77, D(G(z)): 0.24\n",
      "Epoch [186/300], Step [600/600], d_loss: 0.6879, g_loss: 1.7483, D(x): 0.76, D(G(z)): 0.24\n",
      "Saving fake_images-0187.png\n",
      "Epoch [187/300], Step [200/600], d_loss: 0.7024, g_loss: 1.9796, D(x): 0.74, D(G(z)): 0.22\n",
      "Epoch [187/300], Step [400/600], d_loss: 0.8022, g_loss: 1.8542, D(x): 0.68, D(G(z)): 0.20\n",
      "Epoch [187/300], Step [600/600], d_loss: 0.8494, g_loss: 1.8179, D(x): 0.69, D(G(z)): 0.22\n",
      "Saving fake_images-0188.png\n",
      "Epoch [188/300], Step [200/600], d_loss: 0.8090, g_loss: 1.9248, D(x): 0.76, D(G(z)): 0.28\n",
      "Epoch [188/300], Step [400/600], d_loss: 0.8546, g_loss: 1.5131, D(x): 0.73, D(G(z)): 0.28\n",
      "Epoch [188/300], Step [600/600], d_loss: 0.6970, g_loss: 1.7627, D(x): 0.79, D(G(z)): 0.24\n",
      "Saving fake_images-0189.png\n",
      "Epoch [189/300], Step [200/600], d_loss: 0.7074, g_loss: 1.7147, D(x): 0.72, D(G(z)): 0.19\n",
      "Epoch [189/300], Step [400/600], d_loss: 0.9522, g_loss: 1.6928, D(x): 0.67, D(G(z)): 0.25\n",
      "Epoch [189/300], Step [600/600], d_loss: 0.6169, g_loss: 1.8042, D(x): 0.79, D(G(z)): 0.23\n",
      "Saving fake_images-0190.png\n",
      "Epoch [190/300], Step [200/600], d_loss: 0.7484, g_loss: 1.4508, D(x): 0.78, D(G(z)): 0.27\n",
      "Epoch [190/300], Step [400/600], d_loss: 0.9495, g_loss: 1.7759, D(x): 0.75, D(G(z)): 0.31\n",
      "Epoch [190/300], Step [600/600], d_loss: 0.7763, g_loss: 1.3838, D(x): 0.79, D(G(z)): 0.31\n",
      "Saving fake_images-0191.png\n",
      "Epoch [191/300], Step [200/600], d_loss: 0.7541, g_loss: 1.6367, D(x): 0.76, D(G(z)): 0.24\n",
      "Epoch [191/300], Step [400/600], d_loss: 0.7240, g_loss: 1.9978, D(x): 0.77, D(G(z)): 0.23\n",
      "Epoch [191/300], Step [600/600], d_loss: 0.8098, g_loss: 1.7022, D(x): 0.74, D(G(z)): 0.29\n",
      "Saving fake_images-0192.png\n",
      "Epoch [192/300], Step [200/600], d_loss: 0.7410, g_loss: 1.9053, D(x): 0.74, D(G(z)): 0.21\n",
      "Epoch [192/300], Step [400/600], d_loss: 0.7764, g_loss: 1.6846, D(x): 0.74, D(G(z)): 0.26\n",
      "Epoch [192/300], Step [600/600], d_loss: 0.8690, g_loss: 1.6179, D(x): 0.76, D(G(z)): 0.31\n",
      "Saving fake_images-0193.png\n",
      "Epoch [193/300], Step [200/600], d_loss: 0.7697, g_loss: 1.5431, D(x): 0.76, D(G(z)): 0.28\n",
      "Epoch [193/300], Step [400/600], d_loss: 0.8851, g_loss: 1.7803, D(x): 0.74, D(G(z)): 0.31\n",
      "Epoch [193/300], Step [600/600], d_loss: 0.8814, g_loss: 1.4650, D(x): 0.78, D(G(z)): 0.35\n",
      "Saving fake_images-0194.png\n",
      "Epoch [194/300], Step [200/600], d_loss: 0.9305, g_loss: 1.8640, D(x): 0.71, D(G(z)): 0.29\n",
      "Epoch [194/300], Step [400/600], d_loss: 0.8563, g_loss: 1.8501, D(x): 0.71, D(G(z)): 0.24\n",
      "Epoch [194/300], Step [600/600], d_loss: 0.7718, g_loss: 1.7849, D(x): 0.71, D(G(z)): 0.22\n",
      "Saving fake_images-0195.png\n",
      "Epoch [195/300], Step [200/600], d_loss: 0.7534, g_loss: 2.0582, D(x): 0.68, D(G(z)): 0.18\n",
      "Epoch [195/300], Step [400/600], d_loss: 0.7099, g_loss: 2.1198, D(x): 0.73, D(G(z)): 0.20\n",
      "Epoch [195/300], Step [600/600], d_loss: 0.7383, g_loss: 1.7414, D(x): 0.76, D(G(z)): 0.25\n",
      "Saving fake_images-0196.png\n",
      "Epoch [196/300], Step [200/600], d_loss: 0.8379, g_loss: 1.7000, D(x): 0.73, D(G(z)): 0.25\n",
      "Epoch [196/300], Step [400/600], d_loss: 0.8930, g_loss: 1.7474, D(x): 0.71, D(G(z)): 0.28\n",
      "Epoch [196/300], Step [600/600], d_loss: 0.8682, g_loss: 1.9308, D(x): 0.71, D(G(z)): 0.26\n",
      "Saving fake_images-0197.png\n",
      "Epoch [197/300], Step [200/600], d_loss: 0.8918, g_loss: 1.7340, D(x): 0.67, D(G(z)): 0.22\n",
      "Epoch [197/300], Step [400/600], d_loss: 0.8962, g_loss: 1.6199, D(x): 0.84, D(G(z)): 0.36\n",
      "Epoch [197/300], Step [600/600], d_loss: 0.8904, g_loss: 1.5917, D(x): 0.69, D(G(z)): 0.25\n",
      "Saving fake_images-0198.png\n",
      "Epoch [198/300], Step [200/600], d_loss: 0.7273, g_loss: 1.5536, D(x): 0.77, D(G(z)): 0.25\n",
      "Epoch [198/300], Step [400/600], d_loss: 0.5956, g_loss: 1.6930, D(x): 0.82, D(G(z)): 0.25\n",
      "Epoch [198/300], Step [600/600], d_loss: 0.7839, g_loss: 1.9911, D(x): 0.75, D(G(z)): 0.24\n",
      "Saving fake_images-0199.png\n",
      "Epoch [199/300], Step [200/600], d_loss: 0.8314, g_loss: 1.5301, D(x): 0.83, D(G(z)): 0.34\n",
      "Epoch [199/300], Step [400/600], d_loss: 0.6327, g_loss: 1.7673, D(x): 0.81, D(G(z)): 0.26\n",
      "Epoch [199/300], Step [600/600], d_loss: 0.7988, g_loss: 1.8440, D(x): 0.77, D(G(z)): 0.27\n",
      "Saving fake_images-0200.png\n",
      "Epoch [200/300], Step [200/600], d_loss: 0.8174, g_loss: 1.9736, D(x): 0.72, D(G(z)): 0.23\n",
      "Epoch [200/300], Step [400/600], d_loss: 0.8033, g_loss: 1.6813, D(x): 0.75, D(G(z)): 0.27\n",
      "Epoch [200/300], Step [600/600], d_loss: 0.9587, g_loss: 1.5589, D(x): 0.74, D(G(z)): 0.35\n",
      "Saving fake_images-0201.png\n",
      "Epoch [201/300], Step [200/600], d_loss: 0.8187, g_loss: 1.7053, D(x): 0.75, D(G(z)): 0.30\n",
      "Epoch [201/300], Step [400/600], d_loss: 0.7361, g_loss: 2.1148, D(x): 0.79, D(G(z)): 0.27\n",
      "Epoch [201/300], Step [600/600], d_loss: 0.6594, g_loss: 1.7638, D(x): 0.82, D(G(z)): 0.27\n",
      "Saving fake_images-0202.png\n",
      "Epoch [202/300], Step [200/600], d_loss: 0.9790, g_loss: 1.5301, D(x): 0.73, D(G(z)): 0.34\n",
      "Epoch [202/300], Step [400/600], d_loss: 0.7331, g_loss: 1.8817, D(x): 0.75, D(G(z)): 0.24\n",
      "Epoch [202/300], Step [600/600], d_loss: 0.8467, g_loss: 2.0288, D(x): 0.71, D(G(z)): 0.25\n",
      "Saving fake_images-0203.png\n",
      "Epoch [203/300], Step [200/600], d_loss: 0.8166, g_loss: 1.6803, D(x): 0.76, D(G(z)): 0.29\n",
      "Epoch [203/300], Step [400/600], d_loss: 0.7329, g_loss: 1.5345, D(x): 0.79, D(G(z)): 0.26\n",
      "Epoch [203/300], Step [600/600], d_loss: 0.7614, g_loss: 1.6607, D(x): 0.76, D(G(z)): 0.26\n",
      "Saving fake_images-0204.png\n",
      "Epoch [204/300], Step [200/600], d_loss: 0.8037, g_loss: 1.8966, D(x): 0.71, D(G(z)): 0.22\n",
      "Epoch [204/300], Step [400/600], d_loss: 0.6768, g_loss: 1.5550, D(x): 0.78, D(G(z)): 0.23\n",
      "Epoch [204/300], Step [600/600], d_loss: 0.8125, g_loss: 1.8172, D(x): 0.76, D(G(z)): 0.27\n",
      "Saving fake_images-0205.png\n",
      "Epoch [205/300], Step [200/600], d_loss: 0.7233, g_loss: 1.9768, D(x): 0.75, D(G(z)): 0.24\n",
      "Epoch [205/300], Step [400/600], d_loss: 0.8138, g_loss: 1.8905, D(x): 0.75, D(G(z)): 0.26\n",
      "Epoch [205/300], Step [600/600], d_loss: 0.8525, g_loss: 1.5879, D(x): 0.72, D(G(z)): 0.26\n",
      "Saving fake_images-0206.png\n",
      "Epoch [206/300], Step [200/600], d_loss: 0.8053, g_loss: 1.8580, D(x): 0.69, D(G(z)): 0.21\n",
      "Epoch [206/300], Step [400/600], d_loss: 0.8323, g_loss: 1.8921, D(x): 0.72, D(G(z)): 0.25\n",
      "Epoch [206/300], Step [600/600], d_loss: 0.7485, g_loss: 1.8891, D(x): 0.74, D(G(z)): 0.24\n",
      "Saving fake_images-0207.png\n",
      "Epoch [207/300], Step [200/600], d_loss: 0.9080, g_loss: 1.7210, D(x): 0.75, D(G(z)): 0.29\n",
      "Epoch [207/300], Step [400/600], d_loss: 0.6880, g_loss: 1.8841, D(x): 0.80, D(G(z)): 0.27\n",
      "Epoch [207/300], Step [600/600], d_loss: 1.0774, g_loss: 1.8607, D(x): 0.63, D(G(z)): 0.23\n",
      "Saving fake_images-0208.png\n",
      "Epoch [208/300], Step [200/600], d_loss: 0.8466, g_loss: 1.8124, D(x): 0.73, D(G(z)): 0.25\n",
      "Epoch [208/300], Step [400/600], d_loss: 0.7567, g_loss: 1.5057, D(x): 0.76, D(G(z)): 0.27\n",
      "Epoch [208/300], Step [600/600], d_loss: 0.8890, g_loss: 2.0791, D(x): 0.73, D(G(z)): 0.23\n",
      "Saving fake_images-0209.png\n",
      "Epoch [209/300], Step [200/600], d_loss: 0.7714, g_loss: 1.7496, D(x): 0.73, D(G(z)): 0.24\n",
      "Epoch [209/300], Step [400/600], d_loss: 0.7623, g_loss: 1.8101, D(x): 0.68, D(G(z)): 0.20\n",
      "Epoch [209/300], Step [600/600], d_loss: 0.7517, g_loss: 1.8892, D(x): 0.73, D(G(z)): 0.20\n",
      "Saving fake_images-0210.png\n",
      "Epoch [210/300], Step [200/600], d_loss: 0.8717, g_loss: 1.8274, D(x): 0.73, D(G(z)): 0.28\n",
      "Epoch [210/300], Step [400/600], d_loss: 0.7469, g_loss: 1.3597, D(x): 0.75, D(G(z)): 0.25\n",
      "Epoch [210/300], Step [600/600], d_loss: 0.9321, g_loss: 1.4913, D(x): 0.69, D(G(z)): 0.26\n",
      "Saving fake_images-0211.png\n",
      "Epoch [211/300], Step [200/600], d_loss: 0.7647, g_loss: 1.9260, D(x): 0.71, D(G(z)): 0.23\n",
      "Epoch [211/300], Step [400/600], d_loss: 0.8540, g_loss: 1.8216, D(x): 0.76, D(G(z)): 0.28\n",
      "Epoch [211/300], Step [600/600], d_loss: 0.7602, g_loss: 2.2720, D(x): 0.72, D(G(z)): 0.22\n",
      "Saving fake_images-0212.png\n",
      "Epoch [212/300], Step [200/600], d_loss: 0.9676, g_loss: 1.6751, D(x): 0.70, D(G(z)): 0.28\n",
      "Epoch [212/300], Step [400/600], d_loss: 0.6912, g_loss: 1.6163, D(x): 0.77, D(G(z)): 0.22\n",
      "Epoch [212/300], Step [600/600], d_loss: 0.7474, g_loss: 1.7041, D(x): 0.78, D(G(z)): 0.25\n",
      "Saving fake_images-0213.png\n",
      "Epoch [213/300], Step [200/600], d_loss: 0.8070, g_loss: 1.6833, D(x): 0.76, D(G(z)): 0.28\n",
      "Epoch [213/300], Step [400/600], d_loss: 0.6177, g_loss: 1.9753, D(x): 0.81, D(G(z)): 0.22\n",
      "Epoch [213/300], Step [600/600], d_loss: 0.7589, g_loss: 1.7226, D(x): 0.74, D(G(z)): 0.25\n",
      "Saving fake_images-0214.png\n",
      "Epoch [214/300], Step [200/600], d_loss: 0.8177, g_loss: 1.7434, D(x): 0.72, D(G(z)): 0.22\n",
      "Epoch [214/300], Step [400/600], d_loss: 0.7941, g_loss: 1.6349, D(x): 0.74, D(G(z)): 0.26\n",
      "Epoch [214/300], Step [600/600], d_loss: 0.8033, g_loss: 1.7404, D(x): 0.72, D(G(z)): 0.24\n",
      "Saving fake_images-0215.png\n",
      "Epoch [215/300], Step [200/600], d_loss: 0.6683, g_loss: 1.6802, D(x): 0.77, D(G(z)): 0.23\n",
      "Epoch [215/300], Step [400/600], d_loss: 0.7415, g_loss: 2.1537, D(x): 0.74, D(G(z)): 0.22\n",
      "Epoch [215/300], Step [600/600], d_loss: 0.8945, g_loss: 1.5621, D(x): 0.72, D(G(z)): 0.29\n",
      "Saving fake_images-0216.png\n",
      "Epoch [216/300], Step [200/600], d_loss: 0.6982, g_loss: 1.7583, D(x): 0.82, D(G(z)): 0.30\n",
      "Epoch [216/300], Step [400/600], d_loss: 0.7665, g_loss: 1.8845, D(x): 0.72, D(G(z)): 0.23\n",
      "Epoch [216/300], Step [600/600], d_loss: 0.7826, g_loss: 1.9690, D(x): 0.75, D(G(z)): 0.27\n",
      "Saving fake_images-0217.png\n",
      "Epoch [217/300], Step [200/600], d_loss: 0.7104, g_loss: 1.7521, D(x): 0.78, D(G(z)): 0.26\n",
      "Epoch [217/300], Step [400/600], d_loss: 0.7024, g_loss: 2.1199, D(x): 0.72, D(G(z)): 0.20\n",
      "Epoch [217/300], Step [600/600], d_loss: 0.8082, g_loss: 1.9973, D(x): 0.70, D(G(z)): 0.21\n",
      "Saving fake_images-0218.png\n",
      "Epoch [218/300], Step [200/600], d_loss: 0.8249, g_loss: 1.8225, D(x): 0.73, D(G(z)): 0.25\n",
      "Epoch [218/300], Step [400/600], d_loss: 0.8538, g_loss: 1.7246, D(x): 0.73, D(G(z)): 0.29\n",
      "Epoch [218/300], Step [600/600], d_loss: 0.7092, g_loss: 1.6597, D(x): 0.77, D(G(z)): 0.25\n",
      "Saving fake_images-0219.png\n",
      "Epoch [219/300], Step [200/600], d_loss: 0.7579, g_loss: 1.7924, D(x): 0.73, D(G(z)): 0.23\n",
      "Epoch [219/300], Step [400/600], d_loss: 0.7666, g_loss: 1.8592, D(x): 0.77, D(G(z)): 0.28\n",
      "Epoch [219/300], Step [600/600], d_loss: 0.6978, g_loss: 1.8798, D(x): 0.76, D(G(z)): 0.25\n",
      "Saving fake_images-0220.png\n",
      "Epoch [220/300], Step [200/600], d_loss: 0.8596, g_loss: 1.7479, D(x): 0.72, D(G(z)): 0.27\n",
      "Epoch [220/300], Step [400/600], d_loss: 0.7746, g_loss: 1.9329, D(x): 0.81, D(G(z)): 0.33\n",
      "Epoch [220/300], Step [600/600], d_loss: 0.9102, g_loss: 1.8622, D(x): 0.69, D(G(z)): 0.25\n",
      "Saving fake_images-0221.png\n",
      "Epoch [221/300], Step [200/600], d_loss: 0.7257, g_loss: 1.5449, D(x): 0.77, D(G(z)): 0.26\n",
      "Epoch [221/300], Step [400/600], d_loss: 0.9065, g_loss: 1.6867, D(x): 0.73, D(G(z)): 0.28\n",
      "Epoch [221/300], Step [600/600], d_loss: 0.8385, g_loss: 1.5973, D(x): 0.71, D(G(z)): 0.25\n",
      "Saving fake_images-0222.png\n",
      "Epoch [222/300], Step [200/600], d_loss: 0.7974, g_loss: 1.9095, D(x): 0.72, D(G(z)): 0.23\n",
      "Epoch [222/300], Step [400/600], d_loss: 0.7536, g_loss: 2.2424, D(x): 0.80, D(G(z)): 0.28\n",
      "Epoch [222/300], Step [600/600], d_loss: 0.7903, g_loss: 1.8469, D(x): 0.72, D(G(z)): 0.23\n",
      "Saving fake_images-0223.png\n",
      "Epoch [223/300], Step [200/600], d_loss: 0.8590, g_loss: 1.8979, D(x): 0.68, D(G(z)): 0.20\n",
      "Epoch [223/300], Step [400/600], d_loss: 0.8555, g_loss: 2.0141, D(x): 0.70, D(G(z)): 0.26\n",
      "Epoch [223/300], Step [600/600], d_loss: 0.8452, g_loss: 1.9597, D(x): 0.74, D(G(z)): 0.24\n",
      "Saving fake_images-0224.png\n",
      "Epoch [224/300], Step [200/600], d_loss: 0.8915, g_loss: 2.1039, D(x): 0.64, D(G(z)): 0.16\n",
      "Epoch [224/300], Step [400/600], d_loss: 0.8481, g_loss: 1.5623, D(x): 0.70, D(G(z)): 0.25\n",
      "Epoch [224/300], Step [600/600], d_loss: 0.6927, g_loss: 1.7462, D(x): 0.78, D(G(z)): 0.25\n",
      "Saving fake_images-0225.png\n",
      "Epoch [225/300], Step [200/600], d_loss: 0.8306, g_loss: 1.8288, D(x): 0.79, D(G(z)): 0.28\n",
      "Epoch [225/300], Step [400/600], d_loss: 0.6780, g_loss: 1.7147, D(x): 0.76, D(G(z)): 0.23\n",
      "Epoch [225/300], Step [600/600], d_loss: 0.7572, g_loss: 1.7745, D(x): 0.72, D(G(z)): 0.20\n",
      "Saving fake_images-0226.png\n",
      "Epoch [226/300], Step [200/600], d_loss: 0.6521, g_loss: 1.9984, D(x): 0.81, D(G(z)): 0.24\n",
      "Epoch [226/300], Step [400/600], d_loss: 0.7813, g_loss: 1.8604, D(x): 0.75, D(G(z)): 0.24\n",
      "Epoch [226/300], Step [600/600], d_loss: 0.8357, g_loss: 1.8942, D(x): 0.71, D(G(z)): 0.25\n",
      "Saving fake_images-0227.png\n",
      "Epoch [227/300], Step [200/600], d_loss: 0.7380, g_loss: 1.6327, D(x): 0.81, D(G(z)): 0.30\n",
      "Epoch [227/300], Step [400/600], d_loss: 0.8083, g_loss: 1.6528, D(x): 0.72, D(G(z)): 0.22\n",
      "Epoch [227/300], Step [600/600], d_loss: 0.6140, g_loss: 1.7243, D(x): 0.78, D(G(z)): 0.20\n",
      "Saving fake_images-0228.png\n",
      "Epoch [228/300], Step [200/600], d_loss: 0.7202, g_loss: 2.1656, D(x): 0.73, D(G(z)): 0.20\n",
      "Epoch [228/300], Step [400/600], d_loss: 0.6758, g_loss: 1.6710, D(x): 0.82, D(G(z)): 0.29\n",
      "Epoch [228/300], Step [600/600], d_loss: 0.7278, g_loss: 1.6391, D(x): 0.75, D(G(z)): 0.21\n",
      "Saving fake_images-0229.png\n",
      "Epoch [229/300], Step [200/600], d_loss: 1.0530, g_loss: 1.7592, D(x): 0.72, D(G(z)): 0.32\n",
      "Epoch [229/300], Step [400/600], d_loss: 0.7329, g_loss: 2.0593, D(x): 0.72, D(G(z)): 0.22\n",
      "Epoch [229/300], Step [600/600], d_loss: 0.6794, g_loss: 1.5280, D(x): 0.84, D(G(z)): 0.30\n",
      "Saving fake_images-0230.png\n",
      "Epoch [230/300], Step [200/600], d_loss: 0.7875, g_loss: 1.8374, D(x): 0.72, D(G(z)): 0.23\n",
      "Epoch [230/300], Step [400/600], d_loss: 0.7058, g_loss: 1.8096, D(x): 0.80, D(G(z)): 0.29\n",
      "Epoch [230/300], Step [600/600], d_loss: 0.7712, g_loss: 2.0360, D(x): 0.74, D(G(z)): 0.22\n",
      "Saving fake_images-0231.png\n",
      "Epoch [231/300], Step [200/600], d_loss: 0.8233, g_loss: 1.5482, D(x): 0.78, D(G(z)): 0.30\n",
      "Epoch [231/300], Step [400/600], d_loss: 0.8625, g_loss: 1.6667, D(x): 0.74, D(G(z)): 0.28\n",
      "Epoch [231/300], Step [600/600], d_loss: 0.6732, g_loss: 1.9420, D(x): 0.74, D(G(z)): 0.18\n",
      "Saving fake_images-0232.png\n",
      "Epoch [232/300], Step [200/600], d_loss: 0.7493, g_loss: 2.1042, D(x): 0.77, D(G(z)): 0.24\n",
      "Epoch [232/300], Step [400/600], d_loss: 0.8335, g_loss: 1.6392, D(x): 0.80, D(G(z)): 0.32\n",
      "Epoch [232/300], Step [600/600], d_loss: 0.6205, g_loss: 1.5875, D(x): 0.83, D(G(z)): 0.26\n",
      "Saving fake_images-0233.png\n",
      "Epoch [233/300], Step [200/600], d_loss: 0.7956, g_loss: 1.9069, D(x): 0.78, D(G(z)): 0.30\n",
      "Epoch [233/300], Step [400/600], d_loss: 0.7386, g_loss: 1.6626, D(x): 0.80, D(G(z)): 0.26\n",
      "Epoch [233/300], Step [600/600], d_loss: 0.6227, g_loss: 2.0298, D(x): 0.79, D(G(z)): 0.21\n",
      "Saving fake_images-0234.png\n",
      "Epoch [234/300], Step [200/600], d_loss: 0.7687, g_loss: 2.0596, D(x): 0.76, D(G(z)): 0.23\n",
      "Epoch [234/300], Step [400/600], d_loss: 0.7035, g_loss: 2.1626, D(x): 0.73, D(G(z)): 0.18\n",
      "Epoch [234/300], Step [600/600], d_loss: 0.6714, g_loss: 1.5872, D(x): 0.84, D(G(z)): 0.29\n",
      "Saving fake_images-0235.png\n",
      "Epoch [235/300], Step [200/600], d_loss: 0.7074, g_loss: 1.7631, D(x): 0.80, D(G(z)): 0.28\n",
      "Epoch [235/300], Step [400/600], d_loss: 0.6472, g_loss: 1.7064, D(x): 0.79, D(G(z)): 0.24\n",
      "Epoch [235/300], Step [600/600], d_loss: 0.7343, g_loss: 2.1926, D(x): 0.71, D(G(z)): 0.20\n",
      "Saving fake_images-0236.png\n",
      "Epoch [236/300], Step [200/600], d_loss: 0.6555, g_loss: 1.7824, D(x): 0.81, D(G(z)): 0.24\n",
      "Epoch [236/300], Step [400/600], d_loss: 0.6333, g_loss: 1.6849, D(x): 0.80, D(G(z)): 0.26\n",
      "Epoch [236/300], Step [600/600], d_loss: 0.7016, g_loss: 1.6420, D(x): 0.81, D(G(z)): 0.28\n",
      "Saving fake_images-0237.png\n",
      "Epoch [237/300], Step [200/600], d_loss: 0.7717, g_loss: 1.7380, D(x): 0.75, D(G(z)): 0.25\n",
      "Epoch [237/300], Step [400/600], d_loss: 0.8347, g_loss: 1.5992, D(x): 0.77, D(G(z)): 0.30\n",
      "Epoch [237/300], Step [600/600], d_loss: 0.6578, g_loss: 2.1414, D(x): 0.75, D(G(z)): 0.19\n",
      "Saving fake_images-0238.png\n",
      "Epoch [238/300], Step [200/600], d_loss: 0.8487, g_loss: 2.1505, D(x): 0.76, D(G(z)): 0.30\n",
      "Epoch [238/300], Step [400/600], d_loss: 0.7790, g_loss: 1.9816, D(x): 0.71, D(G(z)): 0.19\n",
      "Epoch [238/300], Step [600/600], d_loss: 0.6375, g_loss: 1.9437, D(x): 0.80, D(G(z)): 0.23\n",
      "Saving fake_images-0239.png\n",
      "Epoch [239/300], Step [200/600], d_loss: 0.6172, g_loss: 1.5754, D(x): 0.80, D(G(z)): 0.24\n",
      "Epoch [239/300], Step [400/600], d_loss: 0.6600, g_loss: 1.7671, D(x): 0.84, D(G(z)): 0.28\n",
      "Epoch [239/300], Step [600/600], d_loss: 0.7120, g_loss: 1.6387, D(x): 0.84, D(G(z)): 0.29\n",
      "Saving fake_images-0240.png\n",
      "Epoch [240/300], Step [200/600], d_loss: 0.7829, g_loss: 1.5951, D(x): 0.78, D(G(z)): 0.28\n",
      "Epoch [240/300], Step [400/600], d_loss: 0.9281, g_loss: 1.9773, D(x): 0.73, D(G(z)): 0.25\n",
      "Epoch [240/300], Step [600/600], d_loss: 0.6284, g_loss: 1.7594, D(x): 0.83, D(G(z)): 0.25\n",
      "Saving fake_images-0241.png\n",
      "Epoch [241/300], Step [200/600], d_loss: 0.8542, g_loss: 1.7376, D(x): 0.78, D(G(z)): 0.28\n",
      "Epoch [241/300], Step [400/600], d_loss: 0.7664, g_loss: 1.6671, D(x): 0.70, D(G(z)): 0.21\n",
      "Epoch [241/300], Step [600/600], d_loss: 0.7731, g_loss: 1.9926, D(x): 0.75, D(G(z)): 0.25\n",
      "Saving fake_images-0242.png\n",
      "Epoch [242/300], Step [200/600], d_loss: 0.6400, g_loss: 2.0438, D(x): 0.74, D(G(z)): 0.18\n",
      "Epoch [242/300], Step [400/600], d_loss: 0.9360, g_loss: 2.0587, D(x): 0.69, D(G(z)): 0.24\n",
      "Epoch [242/300], Step [600/600], d_loss: 0.7545, g_loss: 1.8063, D(x): 0.76, D(G(z)): 0.25\n",
      "Saving fake_images-0243.png\n",
      "Epoch [243/300], Step [200/600], d_loss: 0.7550, g_loss: 1.8018, D(x): 0.78, D(G(z)): 0.29\n",
      "Epoch [243/300], Step [400/600], d_loss: 0.6912, g_loss: 1.9661, D(x): 0.77, D(G(z)): 0.21\n",
      "Epoch [243/300], Step [600/600], d_loss: 0.7282, g_loss: 1.5699, D(x): 0.76, D(G(z)): 0.25\n",
      "Saving fake_images-0244.png\n",
      "Epoch [244/300], Step [200/600], d_loss: 0.7126, g_loss: 2.0753, D(x): 0.76, D(G(z)): 0.22\n",
      "Epoch [244/300], Step [400/600], d_loss: 0.8197, g_loss: 1.6347, D(x): 0.72, D(G(z)): 0.24\n",
      "Epoch [244/300], Step [600/600], d_loss: 0.7201, g_loss: 1.6280, D(x): 0.77, D(G(z)): 0.23\n",
      "Saving fake_images-0245.png\n",
      "Epoch [245/300], Step [200/600], d_loss: 0.9234, g_loss: 1.3991, D(x): 0.77, D(G(z)): 0.37\n",
      "Epoch [245/300], Step [400/600], d_loss: 0.8336, g_loss: 1.6703, D(x): 0.81, D(G(z)): 0.32\n",
      "Epoch [245/300], Step [600/600], d_loss: 0.6984, g_loss: 1.7113, D(x): 0.75, D(G(z)): 0.22\n",
      "Saving fake_images-0246.png\n",
      "Epoch [246/300], Step [200/600], d_loss: 0.7355, g_loss: 1.6985, D(x): 0.78, D(G(z)): 0.24\n",
      "Epoch [246/300], Step [400/600], d_loss: 0.6869, g_loss: 1.9742, D(x): 0.77, D(G(z)): 0.23\n",
      "Epoch [246/300], Step [600/600], d_loss: 0.6766, g_loss: 2.1733, D(x): 0.80, D(G(z)): 0.25\n",
      "Saving fake_images-0247.png\n",
      "Epoch [247/300], Step [200/600], d_loss: 0.9619, g_loss: 1.9361, D(x): 0.67, D(G(z)): 0.28\n",
      "Epoch [247/300], Step [400/600], d_loss: 0.6485, g_loss: 2.4224, D(x): 0.78, D(G(z)): 0.22\n",
      "Epoch [247/300], Step [600/600], d_loss: 0.7608, g_loss: 1.7887, D(x): 0.73, D(G(z)): 0.24\n",
      "Saving fake_images-0248.png\n",
      "Epoch [248/300], Step [200/600], d_loss: 0.8698, g_loss: 1.9381, D(x): 0.75, D(G(z)): 0.29\n",
      "Epoch [248/300], Step [400/600], d_loss: 0.7372, g_loss: 1.9755, D(x): 0.76, D(G(z)): 0.25\n",
      "Epoch [248/300], Step [600/600], d_loss: 0.7085, g_loss: 1.7881, D(x): 0.78, D(G(z)): 0.24\n",
      "Saving fake_images-0249.png\n",
      "Epoch [249/300], Step [200/600], d_loss: 0.6696, g_loss: 2.0567, D(x): 0.75, D(G(z)): 0.18\n",
      "Epoch [249/300], Step [400/600], d_loss: 0.9207, g_loss: 2.0731, D(x): 0.72, D(G(z)): 0.29\n",
      "Epoch [249/300], Step [600/600], d_loss: 0.6721, g_loss: 1.6175, D(x): 0.78, D(G(z)): 0.25\n",
      "Saving fake_images-0250.png\n",
      "Epoch [250/300], Step [200/600], d_loss: 0.6188, g_loss: 1.6507, D(x): 0.80, D(G(z)): 0.23\n",
      "Epoch [250/300], Step [400/600], d_loss: 0.8143, g_loss: 1.9748, D(x): 0.72, D(G(z)): 0.22\n",
      "Epoch [250/300], Step [600/600], d_loss: 0.8036, g_loss: 1.8521, D(x): 0.74, D(G(z)): 0.25\n",
      "Saving fake_images-0251.png\n",
      "Epoch [251/300], Step [200/600], d_loss: 0.8724, g_loss: 1.8103, D(x): 0.76, D(G(z)): 0.29\n",
      "Epoch [251/300], Step [400/600], d_loss: 0.7711, g_loss: 1.7963, D(x): 0.75, D(G(z)): 0.26\n",
      "Epoch [251/300], Step [600/600], d_loss: 0.6927, g_loss: 1.9436, D(x): 0.76, D(G(z)): 0.22\n",
      "Saving fake_images-0252.png\n",
      "Epoch [252/300], Step [200/600], d_loss: 0.7746, g_loss: 1.8408, D(x): 0.76, D(G(z)): 0.27\n",
      "Epoch [252/300], Step [400/600], d_loss: 0.8118, g_loss: 1.7009, D(x): 0.76, D(G(z)): 0.27\n",
      "Epoch [252/300], Step [600/600], d_loss: 0.7313, g_loss: 1.8064, D(x): 0.75, D(G(z)): 0.19\n",
      "Saving fake_images-0253.png\n",
      "Epoch [253/300], Step [200/600], d_loss: 0.8451, g_loss: 2.0036, D(x): 0.80, D(G(z)): 0.29\n",
      "Epoch [253/300], Step [400/600], d_loss: 0.6429, g_loss: 1.7583, D(x): 0.83, D(G(z)): 0.28\n",
      "Epoch [253/300], Step [600/600], d_loss: 0.7263, g_loss: 1.9013, D(x): 0.80, D(G(z)): 0.26\n",
      "Saving fake_images-0254.png\n",
      "Epoch [254/300], Step [200/600], d_loss: 0.6554, g_loss: 1.7804, D(x): 0.84, D(G(z)): 0.29\n",
      "Epoch [254/300], Step [400/600], d_loss: 0.8495, g_loss: 1.7135, D(x): 0.73, D(G(z)): 0.26\n",
      "Epoch [254/300], Step [600/600], d_loss: 0.8661, g_loss: 2.0531, D(x): 0.72, D(G(z)): 0.22\n",
      "Saving fake_images-0255.png\n",
      "Epoch [255/300], Step [200/600], d_loss: 0.8251, g_loss: 1.7338, D(x): 0.80, D(G(z)): 0.26\n",
      "Epoch [255/300], Step [400/600], d_loss: 0.7975, g_loss: 2.0620, D(x): 0.74, D(G(z)): 0.20\n",
      "Epoch [255/300], Step [600/600], d_loss: 0.7159, g_loss: 2.1483, D(x): 0.72, D(G(z)): 0.19\n",
      "Saving fake_images-0256.png\n",
      "Epoch [256/300], Step [200/600], d_loss: 0.8857, g_loss: 1.5762, D(x): 0.76, D(G(z)): 0.30\n",
      "Epoch [256/300], Step [400/600], d_loss: 0.6712, g_loss: 1.8198, D(x): 0.75, D(G(z)): 0.22\n",
      "Epoch [256/300], Step [600/600], d_loss: 0.7619, g_loss: 1.9895, D(x): 0.71, D(G(z)): 0.20\n",
      "Saving fake_images-0257.png\n",
      "Epoch [257/300], Step [200/600], d_loss: 0.6743, g_loss: 2.0071, D(x): 0.74, D(G(z)): 0.19\n",
      "Epoch [257/300], Step [400/600], d_loss: 0.9391, g_loss: 1.7606, D(x): 0.66, D(G(z)): 0.24\n",
      "Epoch [257/300], Step [600/600], d_loss: 0.6067, g_loss: 1.9086, D(x): 0.76, D(G(z)): 0.17\n",
      "Saving fake_images-0258.png\n",
      "Epoch [258/300], Step [200/600], d_loss: 0.8485, g_loss: 1.7584, D(x): 0.83, D(G(z)): 0.32\n",
      "Epoch [258/300], Step [400/600], d_loss: 0.7190, g_loss: 2.0930, D(x): 0.74, D(G(z)): 0.20\n",
      "Epoch [258/300], Step [600/600], d_loss: 0.6911, g_loss: 2.1050, D(x): 0.74, D(G(z)): 0.18\n",
      "Saving fake_images-0259.png\n",
      "Epoch [259/300], Step [200/600], d_loss: 0.9687, g_loss: 1.6599, D(x): 0.76, D(G(z)): 0.33\n",
      "Epoch [259/300], Step [400/600], d_loss: 0.6131, g_loss: 1.7062, D(x): 0.85, D(G(z)): 0.27\n",
      "Epoch [259/300], Step [600/600], d_loss: 0.7132, g_loss: 1.8556, D(x): 0.76, D(G(z)): 0.22\n",
      "Saving fake_images-0260.png\n",
      "Epoch [260/300], Step [200/600], d_loss: 0.9148, g_loss: 1.6146, D(x): 0.65, D(G(z)): 0.22\n",
      "Epoch [260/300], Step [400/600], d_loss: 0.7027, g_loss: 2.3665, D(x): 0.77, D(G(z)): 0.24\n",
      "Epoch [260/300], Step [600/600], d_loss: 0.7860, g_loss: 1.8671, D(x): 0.75, D(G(z)): 0.26\n",
      "Saving fake_images-0261.png\n",
      "Epoch [261/300], Step [200/600], d_loss: 0.8796, g_loss: 1.9186, D(x): 0.67, D(G(z)): 0.21\n",
      "Epoch [261/300], Step [400/600], d_loss: 0.6954, g_loss: 2.0596, D(x): 0.75, D(G(z)): 0.22\n",
      "Epoch [261/300], Step [600/600], d_loss: 0.7240, g_loss: 1.6276, D(x): 0.75, D(G(z)): 0.26\n",
      "Saving fake_images-0262.png\n",
      "Epoch [262/300], Step [200/600], d_loss: 0.7546, g_loss: 2.0655, D(x): 0.76, D(G(z)): 0.23\n",
      "Epoch [262/300], Step [400/600], d_loss: 0.7618, g_loss: 1.9582, D(x): 0.69, D(G(z)): 0.20\n",
      "Epoch [262/300], Step [600/600], d_loss: 0.7438, g_loss: 1.6583, D(x): 0.71, D(G(z)): 0.23\n",
      "Saving fake_images-0263.png\n",
      "Epoch [263/300], Step [200/600], d_loss: 0.7087, g_loss: 1.7803, D(x): 0.75, D(G(z)): 0.21\n",
      "Epoch [263/300], Step [400/600], d_loss: 0.7406, g_loss: 1.8667, D(x): 0.72, D(G(z)): 0.20\n",
      "Epoch [263/300], Step [600/600], d_loss: 0.6694, g_loss: 1.8369, D(x): 0.80, D(G(z)): 0.22\n",
      "Saving fake_images-0264.png\n",
      "Epoch [264/300], Step [200/600], d_loss: 0.6918, g_loss: 2.0741, D(x): 0.74, D(G(z)): 0.18\n",
      "Epoch [264/300], Step [400/600], d_loss: 0.7164, g_loss: 1.8830, D(x): 0.75, D(G(z)): 0.22\n",
      "Epoch [264/300], Step [600/600], d_loss: 0.7129, g_loss: 1.6206, D(x): 0.78, D(G(z)): 0.24\n",
      "Saving fake_images-0265.png\n",
      "Epoch [265/300], Step [200/600], d_loss: 0.6660, g_loss: 1.9345, D(x): 0.76, D(G(z)): 0.23\n",
      "Epoch [265/300], Step [400/600], d_loss: 0.6782, g_loss: 1.7488, D(x): 0.82, D(G(z)): 0.29\n",
      "Epoch [265/300], Step [600/600], d_loss: 0.7839, g_loss: 1.6460, D(x): 0.75, D(G(z)): 0.23\n",
      "Saving fake_images-0266.png\n",
      "Epoch [266/300], Step [200/600], d_loss: 0.7157, g_loss: 2.1186, D(x): 0.78, D(G(z)): 0.22\n",
      "Epoch [266/300], Step [400/600], d_loss: 0.7254, g_loss: 1.7519, D(x): 0.73, D(G(z)): 0.21\n",
      "Epoch [266/300], Step [600/600], d_loss: 0.7658, g_loss: 1.8239, D(x): 0.76, D(G(z)): 0.25\n",
      "Saving fake_images-0267.png\n",
      "Epoch [267/300], Step [200/600], d_loss: 0.6239, g_loss: 1.8627, D(x): 0.80, D(G(z)): 0.22\n",
      "Epoch [267/300], Step [400/600], d_loss: 0.5983, g_loss: 2.0087, D(x): 0.80, D(G(z)): 0.22\n",
      "Epoch [267/300], Step [600/600], d_loss: 0.8510, g_loss: 1.6674, D(x): 0.78, D(G(z)): 0.30\n",
      "Saving fake_images-0268.png\n",
      "Epoch [268/300], Step [200/600], d_loss: 0.7082, g_loss: 1.9006, D(x): 0.77, D(G(z)): 0.24\n",
      "Epoch [268/300], Step [400/600], d_loss: 0.7830, g_loss: 1.8889, D(x): 0.73, D(G(z)): 0.22\n",
      "Epoch [268/300], Step [600/600], d_loss: 0.6083, g_loss: 1.8296, D(x): 0.81, D(G(z)): 0.22\n",
      "Saving fake_images-0269.png\n",
      "Epoch [269/300], Step [200/600], d_loss: 0.6638, g_loss: 1.8744, D(x): 0.82, D(G(z)): 0.28\n",
      "Epoch [269/300], Step [400/600], d_loss: 0.6871, g_loss: 2.0717, D(x): 0.76, D(G(z)): 0.21\n",
      "Epoch [269/300], Step [600/600], d_loss: 0.7743, g_loss: 1.6946, D(x): 0.73, D(G(z)): 0.21\n",
      "Saving fake_images-0270.png\n",
      "Epoch [270/300], Step [200/600], d_loss: 0.6263, g_loss: 2.3866, D(x): 0.77, D(G(z)): 0.16\n",
      "Epoch [270/300], Step [400/600], d_loss: 0.7727, g_loss: 1.8654, D(x): 0.79, D(G(z)): 0.28\n",
      "Epoch [270/300], Step [600/600], d_loss: 0.7252, g_loss: 1.7696, D(x): 0.81, D(G(z)): 0.27\n",
      "Saving fake_images-0271.png\n",
      "Epoch [271/300], Step [200/600], d_loss: 0.7422, g_loss: 1.7963, D(x): 0.80, D(G(z)): 0.26\n",
      "Epoch [271/300], Step [400/600], d_loss: 0.6538, g_loss: 1.9838, D(x): 0.77, D(G(z)): 0.23\n",
      "Epoch [271/300], Step [600/600], d_loss: 0.6925, g_loss: 2.0497, D(x): 0.77, D(G(z)): 0.24\n",
      "Saving fake_images-0272.png\n",
      "Epoch [272/300], Step [200/600], d_loss: 0.7796, g_loss: 1.9476, D(x): 0.74, D(G(z)): 0.23\n",
      "Epoch [272/300], Step [400/600], d_loss: 0.8700, g_loss: 1.8134, D(x): 0.74, D(G(z)): 0.25\n",
      "Epoch [272/300], Step [600/600], d_loss: 0.7241, g_loss: 1.7479, D(x): 0.76, D(G(z)): 0.21\n",
      "Saving fake_images-0273.png\n",
      "Epoch [273/300], Step [200/600], d_loss: 0.7246, g_loss: 1.8685, D(x): 0.76, D(G(z)): 0.25\n",
      "Epoch [273/300], Step [400/600], d_loss: 0.6677, g_loss: 1.7866, D(x): 0.78, D(G(z)): 0.23\n",
      "Epoch [273/300], Step [600/600], d_loss: 0.8101, g_loss: 1.8658, D(x): 0.77, D(G(z)): 0.27\n",
      "Saving fake_images-0274.png\n",
      "Epoch [274/300], Step [200/600], d_loss: 0.6174, g_loss: 1.8177, D(x): 0.82, D(G(z)): 0.22\n",
      "Epoch [274/300], Step [400/600], d_loss: 0.6885, g_loss: 1.9017, D(x): 0.82, D(G(z)): 0.25\n",
      "Epoch [274/300], Step [600/600], d_loss: 0.8270, g_loss: 1.7782, D(x): 0.70, D(G(z)): 0.24\n",
      "Saving fake_images-0275.png\n",
      "Epoch [275/300], Step [200/600], d_loss: 0.6979, g_loss: 2.3956, D(x): 0.71, D(G(z)): 0.16\n",
      "Epoch [275/300], Step [400/600], d_loss: 0.6638, g_loss: 2.0557, D(x): 0.77, D(G(z)): 0.18\n",
      "Epoch [275/300], Step [600/600], d_loss: 0.6292, g_loss: 2.0050, D(x): 0.78, D(G(z)): 0.20\n",
      "Saving fake_images-0276.png\n",
      "Epoch [276/300], Step [200/600], d_loss: 0.7176, g_loss: 1.9753, D(x): 0.80, D(G(z)): 0.25\n",
      "Epoch [276/300], Step [400/600], d_loss: 0.7489, g_loss: 1.7445, D(x): 0.77, D(G(z)): 0.27\n",
      "Epoch [276/300], Step [600/600], d_loss: 0.7378, g_loss: 2.4839, D(x): 0.73, D(G(z)): 0.17\n",
      "Saving fake_images-0277.png\n",
      "Epoch [277/300], Step [200/600], d_loss: 0.5044, g_loss: 2.0385, D(x): 0.84, D(G(z)): 0.21\n",
      "Epoch [277/300], Step [400/600], d_loss: 0.5889, g_loss: 1.7631, D(x): 0.81, D(G(z)): 0.21\n",
      "Epoch [277/300], Step [600/600], d_loss: 0.6458, g_loss: 1.8041, D(x): 0.79, D(G(z)): 0.21\n",
      "Saving fake_images-0278.png\n",
      "Epoch [278/300], Step [200/600], d_loss: 0.7738, g_loss: 2.2261, D(x): 0.76, D(G(z)): 0.24\n",
      "Epoch [278/300], Step [400/600], d_loss: 0.8195, g_loss: 1.7776, D(x): 0.76, D(G(z)): 0.22\n",
      "Epoch [278/300], Step [600/600], d_loss: 0.6286, g_loss: 1.8811, D(x): 0.78, D(G(z)): 0.20\n",
      "Saving fake_images-0279.png\n",
      "Epoch [279/300], Step [200/600], d_loss: 0.7413, g_loss: 1.9751, D(x): 0.73, D(G(z)): 0.20\n",
      "Epoch [279/300], Step [400/600], d_loss: 0.7459, g_loss: 2.0065, D(x): 0.80, D(G(z)): 0.26\n",
      "Epoch [279/300], Step [600/600], d_loss: 0.6651, g_loss: 1.7311, D(x): 0.79, D(G(z)): 0.23\n",
      "Saving fake_images-0280.png\n",
      "Epoch [280/300], Step [200/600], d_loss: 0.7373, g_loss: 2.2011, D(x): 0.74, D(G(z)): 0.21\n",
      "Epoch [280/300], Step [400/600], d_loss: 0.6202, g_loss: 1.7578, D(x): 0.79, D(G(z)): 0.21\n",
      "Epoch [280/300], Step [600/600], d_loss: 0.8168, g_loss: 1.6613, D(x): 0.81, D(G(z)): 0.30\n",
      "Saving fake_images-0281.png\n",
      "Epoch [281/300], Step [200/600], d_loss: 0.8657, g_loss: 1.7621, D(x): 0.72, D(G(z)): 0.24\n",
      "Epoch [281/300], Step [400/600], d_loss: 0.6171, g_loss: 1.7442, D(x): 0.77, D(G(z)): 0.20\n",
      "Epoch [281/300], Step [600/600], d_loss: 0.7153, g_loss: 1.9833, D(x): 0.74, D(G(z)): 0.21\n",
      "Saving fake_images-0282.png\n",
      "Epoch [282/300], Step [200/600], d_loss: 0.7384, g_loss: 2.0474, D(x): 0.80, D(G(z)): 0.23\n",
      "Epoch [282/300], Step [400/600], d_loss: 0.6435, g_loss: 1.9235, D(x): 0.81, D(G(z)): 0.24\n",
      "Epoch [282/300], Step [600/600], d_loss: 0.7679, g_loss: 1.9008, D(x): 0.76, D(G(z)): 0.24\n",
      "Saving fake_images-0283.png\n",
      "Epoch [283/300], Step [200/600], d_loss: 0.8229, g_loss: 1.8641, D(x): 0.69, D(G(z)): 0.21\n",
      "Epoch [283/300], Step [400/600], d_loss: 0.7460, g_loss: 1.8462, D(x): 0.76, D(G(z)): 0.24\n",
      "Epoch [283/300], Step [600/600], d_loss: 0.7915, g_loss: 1.6720, D(x): 0.70, D(G(z)): 0.20\n",
      "Saving fake_images-0284.png\n",
      "Epoch [284/300], Step [200/600], d_loss: 0.7597, g_loss: 1.5403, D(x): 0.80, D(G(z)): 0.26\n",
      "Epoch [284/300], Step [400/600], d_loss: 0.7326, g_loss: 2.0323, D(x): 0.73, D(G(z)): 0.19\n",
      "Epoch [284/300], Step [600/600], d_loss: 0.8034, g_loss: 2.0353, D(x): 0.66, D(G(z)): 0.18\n",
      "Saving fake_images-0285.png\n",
      "Epoch [285/300], Step [200/600], d_loss: 0.6124, g_loss: 1.9152, D(x): 0.80, D(G(z)): 0.21\n",
      "Epoch [285/300], Step [400/600], d_loss: 0.7657, g_loss: 2.4497, D(x): 0.69, D(G(z)): 0.14\n",
      "Epoch [285/300], Step [600/600], d_loss: 0.7061, g_loss: 1.9127, D(x): 0.78, D(G(z)): 0.25\n",
      "Saving fake_images-0286.png\n",
      "Epoch [286/300], Step [200/600], d_loss: 0.8534, g_loss: 1.8493, D(x): 0.69, D(G(z)): 0.25\n",
      "Epoch [286/300], Step [400/600], d_loss: 0.5940, g_loss: 2.2847, D(x): 0.82, D(G(z)): 0.21\n",
      "Epoch [286/300], Step [600/600], d_loss: 0.6699, g_loss: 1.6321, D(x): 0.77, D(G(z)): 0.24\n",
      "Saving fake_images-0287.png\n",
      "Epoch [287/300], Step [200/600], d_loss: 0.8060, g_loss: 1.9146, D(x): 0.75, D(G(z)): 0.21\n",
      "Epoch [287/300], Step [400/600], d_loss: 0.5891, g_loss: 2.1782, D(x): 0.77, D(G(z)): 0.18\n",
      "Epoch [287/300], Step [600/600], d_loss: 0.6908, g_loss: 2.1484, D(x): 0.81, D(G(z)): 0.26\n",
      "Saving fake_images-0288.png\n",
      "Epoch [288/300], Step [200/600], d_loss: 0.6674, g_loss: 2.0019, D(x): 0.76, D(G(z)): 0.19\n",
      "Epoch [288/300], Step [400/600], d_loss: 0.7160, g_loss: 1.9873, D(x): 0.78, D(G(z)): 0.25\n",
      "Epoch [288/300], Step [600/600], d_loss: 0.8145, g_loss: 1.9573, D(x): 0.69, D(G(z)): 0.21\n",
      "Saving fake_images-0289.png\n",
      "Epoch [289/300], Step [200/600], d_loss: 0.7352, g_loss: 2.2190, D(x): 0.75, D(G(z)): 0.20\n",
      "Epoch [289/300], Step [400/600], d_loss: 0.7326, g_loss: 1.9614, D(x): 0.78, D(G(z)): 0.24\n",
      "Epoch [289/300], Step [600/600], d_loss: 0.6606, g_loss: 1.9729, D(x): 0.78, D(G(z)): 0.23\n",
      "Saving fake_images-0290.png\n",
      "Epoch [290/300], Step [200/600], d_loss: 0.6986, g_loss: 1.9078, D(x): 0.80, D(G(z)): 0.25\n",
      "Epoch [290/300], Step [400/600], d_loss: 0.7293, g_loss: 1.9084, D(x): 0.76, D(G(z)): 0.20\n",
      "Epoch [290/300], Step [600/600], d_loss: 0.7860, g_loss: 1.9831, D(x): 0.77, D(G(z)): 0.27\n",
      "Saving fake_images-0291.png\n",
      "Epoch [291/300], Step [200/600], d_loss: 0.7659, g_loss: 2.0022, D(x): 0.77, D(G(z)): 0.26\n",
      "Epoch [291/300], Step [400/600], d_loss: 0.5688, g_loss: 2.0754, D(x): 0.82, D(G(z)): 0.20\n",
      "Epoch [291/300], Step [600/600], d_loss: 0.5370, g_loss: 1.8967, D(x): 0.81, D(G(z)): 0.19\n",
      "Saving fake_images-0292.png\n",
      "Epoch [292/300], Step [200/600], d_loss: 0.7168, g_loss: 1.7637, D(x): 0.75, D(G(z)): 0.23\n",
      "Epoch [292/300], Step [400/600], d_loss: 0.7240, g_loss: 2.0463, D(x): 0.79, D(G(z)): 0.25\n",
      "Epoch [292/300], Step [600/600], d_loss: 0.8262, g_loss: 2.4394, D(x): 0.73, D(G(z)): 0.24\n",
      "Saving fake_images-0293.png\n",
      "Epoch [293/300], Step [200/600], d_loss: 0.6733, g_loss: 2.0256, D(x): 0.78, D(G(z)): 0.22\n",
      "Epoch [293/300], Step [400/600], d_loss: 0.7847, g_loss: 1.5774, D(x): 0.73, D(G(z)): 0.20\n",
      "Epoch [293/300], Step [600/600], d_loss: 0.6484, g_loss: 1.6295, D(x): 0.81, D(G(z)): 0.24\n",
      "Saving fake_images-0294.png\n",
      "Epoch [294/300], Step [200/600], d_loss: 0.5608, g_loss: 1.7058, D(x): 0.82, D(G(z)): 0.21\n",
      "Epoch [294/300], Step [400/600], d_loss: 0.6748, g_loss: 2.0946, D(x): 0.80, D(G(z)): 0.23\n",
      "Epoch [294/300], Step [600/600], d_loss: 0.7065, g_loss: 1.9410, D(x): 0.78, D(G(z)): 0.25\n",
      "Saving fake_images-0295.png\n",
      "Epoch [295/300], Step [200/600], d_loss: 0.7958, g_loss: 2.0405, D(x): 0.78, D(G(z)): 0.25\n",
      "Epoch [295/300], Step [400/600], d_loss: 0.7951, g_loss: 1.7070, D(x): 0.79, D(G(z)): 0.26\n",
      "Epoch [295/300], Step [600/600], d_loss: 0.7781, g_loss: 1.9682, D(x): 0.78, D(G(z)): 0.25\n",
      "Saving fake_images-0296.png\n",
      "Epoch [296/300], Step [200/600], d_loss: 0.7038, g_loss: 2.1643, D(x): 0.73, D(G(z)): 0.16\n",
      "Epoch [296/300], Step [400/600], d_loss: 0.7871, g_loss: 1.9075, D(x): 0.74, D(G(z)): 0.22\n",
      "Epoch [296/300], Step [600/600], d_loss: 0.5346, g_loss: 1.8958, D(x): 0.85, D(G(z)): 0.22\n",
      "Saving fake_images-0297.png\n",
      "Epoch [297/300], Step [200/600], d_loss: 0.6249, g_loss: 1.9069, D(x): 0.83, D(G(z)): 0.24\n",
      "Epoch [297/300], Step [400/600], d_loss: 0.6891, g_loss: 2.1587, D(x): 0.74, D(G(z)): 0.18\n",
      "Epoch [297/300], Step [600/600], d_loss: 0.7672, g_loss: 2.0375, D(x): 0.78, D(G(z)): 0.24\n",
      "Saving fake_images-0298.png\n",
      "Epoch [298/300], Step [200/600], d_loss: 0.5775, g_loss: 1.9499, D(x): 0.79, D(G(z)): 0.19\n",
      "Epoch [298/300], Step [400/600], d_loss: 0.8109, g_loss: 1.9107, D(x): 0.76, D(G(z)): 0.25\n",
      "Epoch [298/300], Step [600/600], d_loss: 0.7256, g_loss: 2.3210, D(x): 0.78, D(G(z)): 0.22\n",
      "Saving fake_images-0299.png\n",
      "Epoch [299/300], Step [200/600], d_loss: 0.7407, g_loss: 2.0766, D(x): 0.78, D(G(z)): 0.23\n",
      "Epoch [299/300], Step [400/600], d_loss: 0.7200, g_loss: 1.6910, D(x): 0.74, D(G(z)): 0.21\n",
      "Epoch [299/300], Step [600/600], d_loss: 0.6953, g_loss: 1.5177, D(x): 0.86, D(G(z)): 0.28\n",
      "Saving fake_images-0300.png\n",
      "CPU times: user 1h 56min 8s, sys: 16.9 s, total: 1h 56min 24s\n",
      "Wall time: 1h 11min 40s\n"
     ]
    }
   ],
   "source": [
    "%%time\n",
    "total_step = len(data_loader)\n",
    "d_losses, g_losses, real_scores, fake_scores = [], [], [], []\n",
    "G.to(device)\n",
    "D.to(device)\n",
    "for epoch in range(num_epochs):\n",
    "    for i, (images, _) in enumerate(data_loader):\n",
    "        # Load a batch & transform to vectors\n",
    "        images = images.reshape(batch_size, -1).to(device)\n",
    "\n",
    "        # Train the discriminator\n",
    "        d_loss, real_score, fake_score = train_discriminator(D, G, images)\n",
    "        # Train the generator\n",
    "        g_loss, fake_images = train_generator(G)\n",
    "        # Inspect the losses\n",
    "        if (i + 1) % 200 == 0:\n",
    "            d_losses.append(d_loss.item())\n",
    "            g_losses.append(g_loss.item())\n",
    "            real_scores.append(real_score.mean().item())\n",
    "            fake_scores.append(fake_score.mean().item())\n",
    "            print(\n",
    "                \"Epoch [{}/{}], Step [{}/{}], d_loss: {:.4f}, g_loss: {:.4f}, D(x): {:.2f}, D(G(z)): {:.2f}\".format(\n",
    "                    epoch,\n",
    "                    num_epochs,\n",
    "                    i + 1,\n",
    "                    total_step,\n",
    "                    d_loss.item(),\n",
    "                    g_loss.item(),\n",
    "                    real_score.mean().item(),\n",
    "                    fake_score.mean().item(),\n",
    "                )\n",
    "            )\n",
    "    # Sample and save images\n",
    "    save_fake_images_mnist(G, epoch + 1)"
   ]
  },
  {
   "cell_type": "code",
   "execution_count": 19,
   "metadata": {
    "execution": {
     "iopub.execute_input": "2024-10-10T15:37:25.108051Z",
     "iopub.status.busy": "2024-10-10T15:37:25.107067Z",
     "iopub.status.idle": "2024-10-10T15:37:25.134995Z",
     "shell.execute_reply": "2024-10-10T15:37:25.134084Z",
     "shell.execute_reply.started": "2024-10-10T15:37:25.108005Z"
    },
    "id": "Dlm4M7ja___j",
    "pycharm": {
     "name": "#%%\n"
    },
    "tags": []
   },
   "outputs": [
    {
     "data": {
      "image/png": "[encoded data removed]",
      "text/plain": [
       "<PIL.PngImagePlugin.PngImageFile image mode=RGB size=302x302>"
      ]
     },
     "execution_count": 19,
     "metadata": {},
     "output_type": "execute_result"
    }
   ],
   "source": [
    "# show output after epochs training\n",
    "Image.open(os.path.join(sample_dir, \"fake_images-0225.png\"))"
   ]
  },
  {
   "cell_type": "code",
   "execution_count": 20,
   "metadata": {
    "execution": {
     "iopub.execute_input": "2024-10-10T15:37:35.256863Z",
     "iopub.status.busy": "2024-10-10T15:37:35.255705Z",
     "iopub.status.idle": "2024-10-10T15:37:35.505641Z",
     "shell.execute_reply": "2024-10-10T15:37:35.504504Z",
     "shell.execute_reply.started": "2024-10-10T15:37:35.256815Z"
    },
    "id": "LuLUwaaY___k",
    "pycharm": {
     "name": "#%%\n"
    },
    "tags": []
   },
   "outputs": [
    {
     "data": {
      "image/png": "[encoded data removed]",
      "text/plain": [
       "<Figure size 640x480 with 1 Axes>"
      ]
     },
     "metadata": {},
     "output_type": "display_data"
    }
   ],
   "source": [
    "# show the discrimator loss and generator loss\n",
    "plt.plot(d_losses, \"-\")\n",
    "plt.plot(g_losses, \"-\")\n",
    "plt.xlabel(\"epoch\")\n",
    "plt.ylabel(\"loss\")\n",
    "plt.legend([\"Discriminator\", \"Generator\"])\n",
    "plt.title(\"Losses\");"
   ]
  },
  {
   "cell_type": "code",
   "execution_count": 21,
   "metadata": {
    "execution": {
     "iopub.execute_input": "2024-10-10T15:37:47.364714Z",
     "iopub.status.busy": "2024-10-10T15:37:47.363403Z",
     "iopub.status.idle": "2024-10-10T15:37:47.606757Z",
     "shell.execute_reply": "2024-10-10T15:37:47.605906Z",
     "shell.execute_reply.started": "2024-10-10T15:37:47.364668Z"
    },
    "id": "KXe1OMMA___l",
    "pycharm": {
     "name": "#%%\n"
    },
    "tags": []
   },
   "outputs": [
    {
     "data": {
      "image/png": "[encoded data removed]",
      "text/plain": [
       "<Figure size 640x480 with 1 Axes>"
      ]
     },
     "metadata": {},
     "output_type": "display_data"
    }
   ],
   "source": [
    "# plot the accuracy of discrimator\n",
    "plt.plot(real_scores, \"-\")\n",
    "plt.plot(fake_scores, \"-\")\n",
    "plt.xlabel(\"epoch\")\n",
    "plt.ylabel(\"score\")\n",
    "plt.legend([\"Real Score\", \"Fake score\"])\n",
    "plt.title(\"Scores\");"
   ]
  },
  {
   "cell_type": "markdown",
   "metadata": {
    "id": "VxjGRy71___l",
    "pycharm": {
     "name": "#%% md\n"
    }
   },
   "source": [
    "## 2. DCGAN"
   ]
  },
  {
   "cell_type": "markdown",
   "metadata": {
    "id": "R2SBUbSM___m",
    "pycharm": {
     "name": "#%% md\n"
    }
   },
   "source": [
    "*Source: <a href=\"https://arxiv.org/pdf/1511.06434v2.pdf\" target=\"_blank\">Radford, Alec, Luke Metz, and Soumith Chintala. \"Unsupervised representation learning with deep convolutional generative adversarial networks.\" arXiv preprint arXiv:1511.06434 (2015)</a>.*"
   ]
  },
  {
   "cell_type": "markdown",
   "metadata": {
    "id": "AOaZuDsv___m",
    "pycharm": {
     "name": "#%% md\n"
    }
   },
   "source": [
    "The goal of this part is to enhance your results achieved in the part one with DCGAN. Feel free to reuse your code, improve architecture or training scheme, etc."
   ]
  },
  {
   "cell_type": "code",
   "execution_count": null,
   "metadata": {
    "execution": {
     "iopub.status.busy": "2024-10-10T14:20:03.655770Z",
     "iopub.status.idle": "2024-10-10T14:20:03.656128Z",
     "shell.execute_reply": "2024-10-10T14:20:03.655979Z",
     "shell.execute_reply.started": "2024-10-10T14:20:03.655963Z"
    },
    "id": "jJWbnASW___m",
    "pycharm": {
     "name": "#%%\n"
    }
   },
   "outputs": [],
   "source": [
    "class CFG:\n",
    "    batch_size = 128\n",
    "    num_epochs = 300\n",
    "    workers = 4\n",
    "    seed = 2021\n",
    "    image_size = 64\n",
    "    download = True\n",
    "    dataroot = \"data\"\n",
    "    nc = 3  ## number of chanels\n",
    "    ngf = 64  # Size of feature maps in generator\n",
    "    nz = 100  # latent random input vector\n",
    "    ndf = 64  # Size of feature maps in discriminator\n",
    "    lr = 0.0002\n",
    "    device = \"cuda\" if torch.cuda.is_available() else \"cpu\"\n",
    "    sample_dir = \"./images/\"\n",
    "\n",
    "\n",
    "if not os.path.exists(CFG.sample_dir):\n",
    "    os.makedirs(CFG.sample_dir)\n",
    "\n",
    "cifar_dataset = CIFAR10(\n",
    "    root=CFG.dataroot,\n",
    "    download=CFG.download,\n",
    "    transform=transforms.Compose(\n",
    "        [\n",
    "            transforms.Resize([CFG.image_size, CFG.image_size]),\n",
    "            transforms.ToTensor(),\n",
    "            transforms.Normalize((0.5, 0.5, 0.5), (0.5, 0.5, 0.5)),\n",
    "        ]\n",
    "    ),\n",
    ")"
   ]
  },
  {
   "cell_type": "code",
   "execution_count": null,
   "metadata": {
    "execution": {
     "iopub.status.busy": "2024-10-10T14:20:03.658002Z",
     "iopub.status.idle": "2024-10-10T14:20:03.658760Z",
     "shell.execute_reply": "2024-10-10T14:20:03.658556Z",
     "shell.execute_reply.started": "2024-10-10T14:20:03.658530Z"
    },
    "id": "1zQ13kF6___n",
    "pycharm": {
     "name": "#%%\n"
    }
   },
   "outputs": [],
   "source": [
    "img, label = cifar_dataset[0]\n",
    "print(\"Label: \", label)\n",
    "plt.hist(img[:, 5:15, 5:15].flatten(), bins=15)"
   ]
  },
  {
   "cell_type": "code",
   "execution_count": null,
   "metadata": {
    "execution": {
     "iopub.status.busy": "2024-10-10T14:20:03.659925Z",
     "iopub.status.idle": "2024-10-10T14:20:03.660642Z",
     "shell.execute_reply": "2024-10-10T14:20:03.660439Z",
     "shell.execute_reply.started": "2024-10-10T14:20:03.660416Z"
    },
    "id": "bQek-_xx___o",
    "pycharm": {
     "name": "#%%\n"
    }
   },
   "outputs": [],
   "source": [
    "# unnormalization image from range (-1)-1 to range 0-1 to display it\n",
    "def denorm(img):\n",
    "    # write your code\n",
    "\n",
    "# show  image sample with matplotlib\n"
   ]
  },
  {
   "cell_type": "code",
   "execution_count": null,
   "metadata": {
    "execution": {
     "iopub.status.busy": "2024-10-10T14:20:03.661483Z",
     "iopub.status.idle": "2024-10-10T14:20:03.662563Z",
     "shell.execute_reply": "2024-10-10T14:20:03.662346Z",
     "shell.execute_reply.started": "2024-10-10T14:20:03.662323Z"
    },
    "id": "QCgngJq5___o",
    "pycharm": {
     "name": "#%%\n"
    }
   },
   "outputs": [],
   "source": [
    "# create the data_loader"
   ]
  },
  {
   "cell_type": "markdown",
   "metadata": {
    "id": "8Eeg3xE8___o",
    "pycharm": {
     "name": "#%% md\n"
    }
   },
   "source": [
    "### DCGAN implementation"
   ]
  },
  {
   "cell_type": "code",
   "execution_count": null,
   "metadata": {
    "execution": {
     "iopub.status.busy": "2024-10-10T14:20:03.663471Z",
     "iopub.status.idle": "2024-10-10T14:20:03.664321Z",
     "shell.execute_reply": "2024-10-10T14:20:03.664121Z",
     "shell.execute_reply.started": "2024-10-10T14:20:03.664093Z"
    },
    "id": "tlvyHI7Q___p",
    "pycharm": {
     "name": "#%%\n"
    }
   },
   "outputs": [],
   "source": [
    "class DCGenerator(nn.Module):\n",
    "    def __init__(self, nc, nz, ngf):\n",
    "        # ConvTranspose2d - BatchNorm - Relu -ConvTranspose2d - BatchNorm - Relu -ConvTranspose2d - BatchNorm - Relu\n",
    "        # ConvTranspose2d - BatchNorm - Relu - ConvTranspose2d - Tanh\n",
    "        super(Generator, self).__init__()\n",
    "        ##\n",
    "\n",
    "    def forward(self, x):\n",
    "        ##\n",
    "        return F.tanh(x)\n",
    "\n",
    "\n",
    "class DCDiscriminator(nn.Module):\n",
    "    def __init__(self, nc, ndf):\n",
    "        # conv2d - leaky - conv2d - batchnorm - leaky - conv2d - batchnorm - leaky - conv - batchnorm - leaky - conv2d\n",
    "        super(Discriminator, self).__init__()\n",
    "        ##\n",
    "\n",
    "    def forward(self, x):\n",
    "        ##\n",
    "        return F.sigmoid(x)"
   ]
  },
  {
   "cell_type": "code",
   "execution_count": null,
   "metadata": {
    "execution": {
     "iopub.status.busy": "2024-10-10T14:20:03.665500Z",
     "iopub.status.idle": "2024-10-10T14:20:03.665971Z",
     "shell.execute_reply": "2024-10-10T14:20:03.665775Z",
     "shell.execute_reply.started": "2024-10-10T14:20:03.665754Z"
    },
    "id": "sPVR9Rh1___p",
    "pycharm": {
     "name": "#%%\n"
    }
   },
   "outputs": [],
   "source": [
    "# create new Generator model\n",
    "\n",
    "# DCG = DCGenerator...\n",
    "\n",
    "# create new Discriminator model\n",
    "\n",
    "# DCD = DCDiscriminator..."
   ]
  },
  {
   "cell_type": "code",
   "execution_count": null,
   "metadata": {
    "execution": {
     "iopub.status.busy": "2024-10-10T14:20:03.666711Z",
     "iopub.status.idle": "2024-10-10T14:20:03.667164Z",
     "shell.execute_reply": "2024-10-10T14:20:03.666972Z",
     "shell.execute_reply.started": "2024-10-10T14:20:03.666950Z"
    },
    "id": "Gq2e2ccb___p",
    "pycharm": {
     "name": "#%%\n"
    }
   },
   "outputs": [],
   "source": [
    "# show the output of model\n",
    "y = DCG(torch.randn(2, CFG.nz))"
   ]
  },
  {
   "cell_type": "code",
   "execution_count": null,
   "metadata": {
    "execution": {
     "iopub.status.busy": "2024-10-10T14:20:03.667884Z",
     "iopub.status.idle": "2024-10-10T14:20:03.668354Z",
     "shell.execute_reply": "2024-10-10T14:20:03.668164Z",
     "shell.execute_reply.started": "2024-10-10T14:20:03.668144Z"
    },
    "id": "13uPUnSB___q",
    "pycharm": {
     "name": "#%%\n"
    }
   },
   "outputs": [],
   "source": [
    "# define the criterion is nn.BCELoss()\n",
    "criterion = nn.BCELoss()\n",
    "## Define the optimizer for generator and discrimator"
   ]
  },
  {
   "cell_type": "code",
   "execution_count": null,
   "metadata": {
    "execution": {
     "iopub.status.busy": "2024-10-10T14:20:03.669664Z",
     "iopub.status.idle": "2024-10-10T14:20:03.670113Z",
     "shell.execute_reply": "2024-10-10T14:20:03.669930Z",
     "shell.execute_reply.started": "2024-10-10T14:20:03.669911Z"
    },
    "id": "IkrRHEa3___q",
    "pycharm": {
     "name": "#%%\n"
    }
   },
   "outputs": [],
   "source": [
    "# feel free to reuse your training functions"
   ]
  },
  {
   "cell_type": "markdown",
   "metadata": {
    "id": "j7ONDPUq___r",
    "pycharm": {
     "name": "#%% md\n"
    }
   },
   "source": [
    "### Start the training proccess"
   ]
  },
  {
   "cell_type": "code",
   "execution_count": null,
   "metadata": {
    "execution": {
     "iopub.status.busy": "2024-10-10T14:20:03.672267Z",
     "iopub.status.idle": "2024-10-10T14:20:03.673140Z",
     "shell.execute_reply": "2024-10-10T14:20:03.672932Z",
     "shell.execute_reply.started": "2024-10-10T14:20:03.672903Z"
    },
    "id": "ByYpMvdf___r",
    "pycharm": {
     "name": "#%%\n"
    }
   },
   "outputs": [],
   "source": [
    "def save_fake_images_cifar(DCG_model, index):\n",
    "    sample_vectors = torch.randn(CFG.batch_size, CFG.nz, 1, 1).to(CFG.device)\n",
    "    fake_images = DCG_model(sample_vectors)\n",
    "    fake_images = fake_images.reshape(fake_images.size(0), 3, 64, 64)\n",
    "    fake_fname = \"fake_images-{0:0=4d}.png\".format(index)\n",
    "    print(\"Saving\", fake_fname)\n",
    "    save_image(\n",
    "        denorm(fake_images), os.path.join(CFG.sample_dir, fake_fname), nrow=10\n",
    "    )"
   ]
  },
  {
   "cell_type": "code",
   "execution_count": null,
   "metadata": {
    "execution": {
     "iopub.status.busy": "2024-10-10T14:20:03.674136Z",
     "iopub.status.idle": "2024-10-10T14:20:03.674847Z",
     "shell.execute_reply": "2024-10-10T14:20:03.674642Z",
     "shell.execute_reply.started": "2024-10-10T14:20:03.674618Z"
    },
    "id": "jVBi-pBJ___r",
    "pycharm": {
     "name": "#%%\n"
    }
   },
   "outputs": [],
   "source": [
    "%%time\n",
    "device = CFG.device\n",
    "num_epochs = CFG.num_epochs\n",
    "batch_size = CFG.batch_size\n",
    "\n",
    "total_step = len(data_loader)\n",
    "d_losses, g_losses, real_scores, fake_scores = [], [], [], []\n",
    "DCG.to(device)\n",
    "DCD.to(device)\n",
    "\n",
    "for epoch in range(num_epochs):\n",
    "    for i, (images, _) in enumerate(data_loader):\n",
    "        # Load a batch & transform to vectors\n",
    "        images = images.reshape(batch_size, -1).to(device)\n",
    "\n",
    "        # Train the discriminator\n",
    "\n",
    "        # Train the generator\n",
    "\n",
    "        # Inspect the losses\n",
    "        if (i + 1) % 200 == 0:\n",
    "            d_losses.append(d_loss.item())\n",
    "            g_losses.append(g_loss.item())\n",
    "            real_scores.append(real_score.mean().item())\n",
    "            fake_scores.append(fake_score.mean().item())\n",
    "            print(\n",
    "                \"Epoch [{}/{}], Step [{}/{}], d_loss: {:.4f}, g_loss: {:.4f}, D(x): {:.2f}, D(G(z)): {:.2f}\".format(\n",
    "                    epoch,\n",
    "                    num_epochs,\n",
    "                    i + 1,\n",
    "                    total_step,\n",
    "                    d_loss.item(),\n",
    "                    g_loss.item(),\n",
    "                    real_score.mean().item(),\n",
    "                    fake_score.mean().item(),\n",
    "                )\n",
    "            )\n",
    "    # Sample and save images\n",
    "    save_fake_images_cifar(epoch + 1)"
   ]
  },
  {
   "cell_type": "code",
   "execution_count": null,
   "metadata": {
    "execution": {
     "iopub.status.busy": "2024-10-10T14:20:03.676350Z",
     "iopub.status.idle": "2024-10-10T14:20:03.677171Z",
     "shell.execute_reply": "2024-10-10T14:20:03.676957Z",
     "shell.execute_reply.started": "2024-10-10T14:20:03.676930Z"
    },
    "id": "V-23l5zp___s",
    "pycharm": {
     "name": "#%%\n"
    },
    "tags": []
   },
   "outputs": [],
   "source": [
    "# show your results!"
   ]
  }
 ],
 "metadata": {
  "colab": {
   "include_colab_link": true,
   "provenance": []
  },
  "kernelspec": {
   "display_name": "DataSphere Kernel",
   "language": "python",
   "name": "python3"
  },
  "language_info": {
   "codemirror_mode": {
    "name": "ipython",
    "version": 3
   },
   "file_extension": ".py",
   "mimetype": "text/x-python",
   "name": "python",
   "nbconvert_exporter": "python",
   "pygments_lexer": "ipython3",
   "version": "3.10.12"
  }
 },
 "nbformat": 4,
 "nbformat_minor": 4
}
