{
  "cells": [
    {
      "cell_type": "markdown",
      "metadata": {
        "id": "view-in-github",
        "colab_type": "text"
      },
      "source": [
        "<a href=\"https://colab.research.google.com/github/parseny/Generative-Models-2024/blob/assignment-1/Assignment%201/1_gan_dcgan.ipynb\" target=\"_parent\"><img src=\"https://colab.research.google.com/assets/colab-badge.svg\" alt=\"Open In Colab\"/></a>"
      ]
    },
    {
      "cell_type": "markdown",
      "metadata": {
        "id": "OUCkVdFc___N",
        "pycharm": {
          "name": "#%% md\n"
        }
      },
      "source": [
        "# Generative Models\n",
        "***\n",
        "\n",
        "**Autumn 2024**\n"
      ]
    },
    {
      "cell_type": "markdown",
      "metadata": {
        "id": "ML_snL71___T",
        "pycharm": {
          "name": "#%% md\n"
        }
      },
      "source": [
        "## Assignment 1\n",
        "\n",
        "***\n",
        "\n",
        "\n",
        "*Authored by Arip Asadulaev & Manh Lab*\n",
        "\n",
        "*Adapted by Alexander Panfilov*\n",
        "\n",
        "***\n"
      ]
    },
    {
      "cell_type": "markdown",
      "metadata": {
        "id": "JXCL_bw8___U",
        "pycharm": {
          "name": "#%% md\n"
        }
      },
      "source": [
        "The assignment is split into two parts: at first, you will implement classical GAN for the MNIST dataset, and after, you will enhance your results with DCGAN and the CIFAR dataset.\n",
        "\n",
        "Good luck!"
      ]
    },
    {
      "cell_type": "markdown",
      "metadata": {
        "id": "EUILjtbd___V",
        "pycharm": {
          "name": "#%% md\n"
        }
      },
      "source": [
        "## 1. GAN\n",
        "*Source: <a href=\"https://arxiv.org/pdf/1406.2661.pdf\" target=\"_blank\">Goodfellow, Ian J., et al. \"Generative Adversarial Networks.\" arXiv preprint arXiv:1406.2661 (2014)</a>.*"
      ]
    },
    {
      "cell_type": "markdown",
      "metadata": {
        "id": "Glhi9UoTJR0T",
        "pycharm": {
          "name": "#%% md\n"
        }
      },
      "source": [
        "In 2014, Ian Goodfellow and his colleagues at the University of Montreal published a stunning paper introducing the world to GANs, or generative adversarial networks. The models play two distinct (literally, adversarial) roles. Given some real data set $\\mathcal{X}$, $G$ is the generator, trying to create fake data that looks just like the genuine data, while $D$ is the discriminator, getting data from either the real set or $G$ and labeling the difference.\n",
        "\n",
        "Goodfellow’s metaphor (and a fine one it is) was that $G$ was like a team of forgers trying to match real paintings with their output, while $D$ was the team of detectives trying to tell the difference. (Except in this case, the forgers $G$ never get to see the original data — only the judgments of $D$. They’re like blind forgers.)\n",
        "\n",
        "<img src=\"https://production-media.paperswithcode.com/methods/gan.jpeg\" style=\"display=block; margin:auto\"/>\n",
        "<p style=\"text-align: center\">\n",
        "    <b>Picture taken from the <a href=\"https://paperswithcode.com/method/gan\" target=\"_blank\">paperswithcode</a> website. There you can find a whole bunch of papers on GANs with implementation.</b>\n",
        "</p>"
      ]
    },
    {
      "cell_type": "markdown",
      "metadata": {
        "id": "v2s_R0-J___W",
        "pycharm": {
          "name": "#%% md\n"
        }
      },
      "source": [
        "In this part, we are going to implement classical GAN. You can find a rough plan on how to do it below; however, it is not mandatory to stick with it precisely but one might expect some questions related to the listed steps. Feel free to adapt provided code!\n",
        "\n",
        "- Define the parameters\n",
        "- Load the data (with transforms and normalization)\n",
        "- Denormalize for visual inspection of samples\n",
        "- Define the Discriminator network, the Generator network\n",
        "- Study the activation function: Leaky ReLU\n",
        "- Explain the output activation function: Tanh, Sigmoid\n",
        "- Look at some sample outputs\n",
        "- Define losses, optimizers and helper functions for training\n",
        "     - For Discriminator\n",
        "     - For Generator\n",
        "- Train the model\n",
        "- Save intermediate generated images to file\n",
        "- Look at some outputs\n",
        "- Save the models"
      ]
    },
    {
      "cell_type": "markdown",
      "metadata": {
        "id": "t5m0Z5Sn___X",
        "pycharm": {
          "name": "#%% md\n"
        }
      },
      "source": [
        "### Imports"
      ]
    },
    {
      "cell_type": "code",
      "execution_count": 1,
      "metadata": {
        "execution": {
          "iopub.execute_input": "2024-10-10T14:19:00.662372Z",
          "iopub.status.busy": "2024-10-10T14:19:00.661190Z",
          "iopub.status.idle": "2024-10-10T14:19:09.156631Z",
          "shell.execute_reply": "2024-10-10T14:19:09.155827Z",
          "shell.execute_reply.started": "2024-10-10T14:19:00.662314Z"
        },
        "id": "bLWJJFYI___Y",
        "pycharm": {
          "name": "#%%\n"
        }
      },
      "outputs": [],
      "source": [
        "import os\n",
        "\n",
        "import matplotlib.pyplot as plt\n",
        "import numpy as np\n",
        "import torch\n",
        "import torch.nn as nn\n",
        "import torch.nn.functional as F\n",
        "from PIL import Image\n",
        "from torchvision import transforms\n",
        "from torchvision.datasets import CIFAR10, MNIST\n",
        "from torchvision.transforms import Compose, Normalize, ToTensor\n",
        "from torchvision.utils import save_image\n",
        "\n",
        "%matplotlib inline\n",
        "plt.style.use(\"ggplot\")"
      ]
    },
    {
      "cell_type": "markdown",
      "metadata": {
        "id": "eLj6X3bVn3eT",
        "pycharm": {
          "name": "#%% md\n"
        }
      },
      "source": [
        "### Define parameters & data loading"
      ]
    },
    {
      "cell_type": "code",
      "execution_count": 3,
      "metadata": {
        "execution": {
          "iopub.execute_input": "2024-10-10T14:19:09.159182Z",
          "iopub.status.busy": "2024-10-10T14:19:09.158061Z",
          "iopub.status.idle": "2024-10-10T14:19:48.120611Z",
          "shell.execute_reply": "2024-10-10T14:19:48.119818Z",
          "shell.execute_reply.started": "2024-10-10T14:19:09.159141Z"
        },
        "id": "uI1speTm___a",
        "pycharm": {
          "name": "#%%\n"
        }
      },
      "outputs": [],
      "source": [
        "hidden_size = 256\n",
        "batch_size = 100\n",
        "LR = 0.0002\n",
        "num_epochs = 300\n",
        "sample_dir = \"./images\"\n",
        "latent_size = 64  # input random input vector latent\n",
        "image_size = 784  # 28*28 flatten\n",
        "device = \"cuda\" if torch.cuda.is_available() else \"cpu\"\n",
        "\n",
        "if not os.path.exists(sample_dir):\n",
        "    os.makedirs(sample_dir)\n",
        "## Define the dataset\n",
        "mnist_dataset = MNIST(\n",
        "    root=\"data\",\n",
        "    train=True,\n",
        "    download=True,\n",
        "    transform=Compose([ToTensor(), Normalize(mean=(0.5,), std=(0.5,))]),\n",
        ")"
      ]
    },
    {
      "cell_type": "code",
      "execution_count": 5,
      "metadata": {
        "colab": {
          "base_uri": "https://localhost:8080/",
          "height": 569
        },
        "execution": {
          "iopub.execute_input": "2024-10-10T14:19:48.122766Z",
          "iopub.status.busy": "2024-10-10T14:19:48.121838Z",
          "iopub.status.idle": "2024-10-10T14:19:48.439406Z",
          "shell.execute_reply": "2024-10-10T14:19:48.438372Z",
          "shell.execute_reply.started": "2024-10-10T14:19:48.122725Z"
        },
        "id": "tv3tRhsc___b",
        "outputId": "7d3e55a0-6bc5-4b3c-ba45-058427665431",
        "pycharm": {
          "name": "#%%\n"
        }
      },
      "outputs": [
        {
          "output_type": "stream",
          "name": "stdout",
          "text": [
            "Label:  5\n"
          ]
        },
        {
          "output_type": "execute_result",
          "data": {
            "text/plain": [
              "(array([55.,  4.,  3.,  0.,  3.,  2.,  1.,  0.,  1.,  3.,  1.,  3.,  2.,\n",
              "         1., 21.]),\n",
              " array([-1.        , -0.86771244, -0.73542482, -0.60313725, -0.47084966,\n",
              "        -0.3385621 , -0.20627451, -0.07398693,  0.05830066,  0.19058824,\n",
              "         0.32287583,  0.45516339,  0.58745098,  0.71973854,  0.85202616,\n",
              "         0.98431373]),\n",
              " <BarContainer object of 15 artists>)"
            ]
          },
          "metadata": {},
          "execution_count": 5
        },
        {
          "output_type": "display_data",
          "data": {
            "text/plain": [
              "<Figure size 640x480 with 1 Axes>"
            ],
            "image/png": "[encoded data removed]"
          },
          "metadata": {}
        }
      ],
      "source": [
        "img, label = mnist_dataset[0]\n",
        "print(\"Label: \", label)\n",
        "plt.hist(img[:, 5:15, 5:15].flatten(), bins=15)"
      ]
    },
    {
      "cell_type": "code",
      "execution_count": 14,
      "metadata": {
        "execution": {
          "iopub.execute_input": "2024-10-10T14:19:48.442865Z",
          "iopub.status.busy": "2024-10-10T14:19:48.441675Z",
          "iopub.status.idle": "2024-10-10T14:19:48.453086Z",
          "shell.execute_reply": "2024-10-10T14:19:48.452367Z",
          "shell.execute_reply.started": "2024-10-10T14:19:48.442823Z"
        },
        "id": "mDTAJ9hN___b",
        "pycharm": {
          "name": "#%%\n"
        }
      },
      "outputs": [],
      "source": [
        "# denormalization image from range (-1)-1 to range 0-1 to display it\n",
        "def denorm(x):\n",
        "  return (x + 1) / 2\n"
      ]
    },
    {
      "cell_type": "code",
      "execution_count": null,
      "metadata": {
        "colab": {
          "base_uri": "https://localhost:8080/",
          "height": 430
        },
        "execution": {
          "iopub.execute_input": "2024-10-10T14:19:48.454655Z",
          "iopub.status.busy": "2024-10-10T14:19:48.454090Z",
          "iopub.status.idle": "2024-10-10T14:19:48.668532Z",
          "shell.execute_reply": "2024-10-10T14:19:48.667748Z",
          "shell.execute_reply.started": "2024-10-10T14:19:48.454618Z"
        },
        "id": "FdQspwIB___c",
        "outputId": "4e5243fb-5b3a-4a0b-8512-e3d9a6d77d43",
        "pycharm": {
          "name": "#%%\n"
        }
      },
      "outputs": [
        {
          "data": {
            "image/png": "[encoded data removed]",
            "text/plain": [
              "<Figure size 640x480 with 1 Axes>"
            ]
          },
          "metadata": {},
          "output_type": "display_data"
        }
      ],
      "source": [
        "# show image sample with matplotlib\n",
        "imgplot = plt.imshow(denorm(img.squeeze(0)))"
      ]
    },
    {
      "cell_type": "code",
      "execution_count": 6,
      "metadata": {
        "execution": {
          "iopub.execute_input": "2024-10-10T14:19:48.670061Z",
          "iopub.status.busy": "2024-10-10T14:19:48.669562Z",
          "iopub.status.idle": "2024-10-10T14:19:48.681059Z",
          "shell.execute_reply": "2024-10-10T14:19:48.680266Z",
          "shell.execute_reply.started": "2024-10-10T14:19:48.670025Z"
        },
        "id": "NFmgyzny___c",
        "pycharm": {
          "name": "#%%\n"
        }
      },
      "outputs": [],
      "source": [
        "from torch.utils.data import DataLoader\n",
        "\n",
        "# define the data_loader\n",
        "data_loader = DataLoader(dataset=mnist_dataset, batch_size=batch_size, shuffle=True, drop_last=True)"
      ]
    },
    {
      "cell_type": "markdown",
      "metadata": {
        "id": "KPGRU37y___d",
        "pycharm": {
          "name": "#%% md\n"
        }
      },
      "source": [
        "### GAN implementation"
      ]
    },
    {
      "cell_type": "markdown",
      "metadata": {
        "id": "oCPhhAgp___d",
        "pycharm": {
          "name": "#%% md\n"
        }
      },
      "source": [
        "GAN consists of two deep networks, a generator ($G$) and a discriminator ($D$). The generator creates images before learning it. Since the discriminator is a binary classification model, we can use the binary cross-entropy loss function to quantify how well it can distinguish between real and generated images."
      ]
    },
    {
      "cell_type": "code",
      "execution_count": 7,
      "metadata": {
        "execution": {
          "iopub.execute_input": "2024-10-10T14:19:48.682561Z",
          "iopub.status.busy": "2024-10-10T14:19:48.682052Z",
          "iopub.status.idle": "2024-10-10T14:19:48.697126Z",
          "shell.execute_reply": "2024-10-10T14:19:48.696439Z",
          "shell.execute_reply.started": "2024-10-10T14:19:48.682527Z"
        },
        "id": "Eb6z7nry___d",
        "pycharm": {
          "name": "#%%\n"
        }
      },
      "outputs": [],
      "source": [
        "class Generator(nn.Module):\n",
        "    def __init__(self, latent_size, image_size, hidden_size):\n",
        "        super(Generator, self).__init__()\n",
        "        # set a linear layer with input size is latent_size and output size is hidden_size\n",
        "        self.linear1 = nn.Linear(latent_size, hidden_size)\n",
        "        # set a linear layer with input size is hidden_size and output size is hidden_size\n",
        "        self.linear2 = nn.Linear(hidden_size, hidden_size)\n",
        "        # set a linear layer with input size is hidden_size and output size is image_size\n",
        "        self.linear3 = nn.Linear(hidden_size, image_size)\n",
        "        # self.relu = nn.ReLU()\n",
        "        # self.tanh = nn.Tanh()\n",
        "\n",
        "    def forward(self, x):\n",
        "        # forward x -> linear1 -> relu -> linear2 -> relu -> linear3 -> tanh\n",
        "        x = nn.functional.relu(self.linear1(x))\n",
        "        x = nn.functional.relu(self.linear2(x))\n",
        "        x = nn.functional.tanh(self.linear3(x))\n",
        "        return x\n",
        "\n",
        "\n",
        "class Discriminator(nn.Module):\n",
        "    def __init__(self, image_size, hidden_size):\n",
        "        super(Discriminator, self).__init__()\n",
        "        ## set a linear layer with input size is image_size and output size is hidden_size\n",
        "        self.linear1 = nn.Linear(image_size, hidden_size)\n",
        "        # set a linear layer with input size is hidden_size and output size is hidden_size\n",
        "        self.linear2 = nn.Linear(hidden_size, hidden_size)\n",
        "        # set a linear layer with input size is hidden_size and output size is 1\n",
        "        self.linear3 = nn.Linear(hidden_size, 1)\n",
        "        self.dropout = nn.Dropout(0.5)\n",
        "\n",
        "    def forward(self, x):\n",
        "        # forward x -> linear1 -> relu -> linear2 -> relu -> linear3 -> sigmoid\n",
        "        x = nn.functional.leaky_relu(self.linear1(x))\n",
        "        x = self.dropout(x)\n",
        "        x = nn.functional.leaky_relu(self.linear2(x))\n",
        "        x = self.dropout(x)\n",
        "        x = nn.functional.sigmoid(self.linear3(x))\n",
        "        return x"
      ]
    },
    {
      "cell_type": "markdown",
      "metadata": {
        "id": "dhViiJdk___e",
        "pycharm": {
          "name": "#%% md\n"
        }
      },
      "source": [
        "### Create the Generator and Discriminator"
      ]
    },
    {
      "cell_type": "code",
      "execution_count": 8,
      "metadata": {
        "execution": {
          "iopub.execute_input": "2024-10-10T14:19:48.698572Z",
          "iopub.status.busy": "2024-10-10T14:19:48.698076Z",
          "iopub.status.idle": "2024-10-10T14:19:48.723352Z",
          "shell.execute_reply": "2024-10-10T14:19:48.722435Z",
          "shell.execute_reply.started": "2024-10-10T14:19:48.698535Z"
        },
        "id": "n102NpQJ___e",
        "pycharm": {
          "name": "#%%\n"
        }
      },
      "outputs": [],
      "source": [
        "# create new Generator model\n",
        "\n",
        "G = Generator(latent_size, image_size, hidden_size)\n",
        "\n",
        "# create new Discriminator model\n",
        "\n",
        "D = Discriminator(image_size, hidden_size)"
      ]
    },
    {
      "cell_type": "code",
      "execution_count": 24,
      "metadata": {
        "colab": {
          "base_uri": "https://localhost:8080/",
          "height": 447
        },
        "execution": {
          "iopub.execute_input": "2024-10-10T14:19:48.725371Z",
          "iopub.status.busy": "2024-10-10T14:19:48.724552Z",
          "iopub.status.idle": "2024-10-10T14:19:48.973436Z",
          "shell.execute_reply": "2024-10-10T14:19:48.972482Z",
          "shell.execute_reply.started": "2024-10-10T14:19:48.725334Z"
        },
        "id": "rESTDDE5___f",
        "outputId": "e53e07da-a951-4338-b30e-247ca786fe9b",
        "pycharm": {
          "name": "#%%\n"
        }
      },
      "outputs": [
        {
          "output_type": "execute_result",
          "data": {
            "text/plain": [
              "<matplotlib.image.AxesImage at 0x783aacaefaf0>"
            ]
          },
          "metadata": {},
          "execution_count": 24
        },
        {
          "output_type": "display_data",
          "data": {
            "text/plain": [
              "<Figure size 640x480 with 1 Axes>"
            ],
            "image/png": "[encoded data removed]"
          },
          "metadata": {}
        }
      ],
      "source": [
        "# show the output of model\n",
        "y = G(torch.randn(1, latent_size))\n",
        "plt.imshow(denorm(y).view(28, 28).detach().numpy())"
      ]
    },
    {
      "cell_type": "code",
      "execution_count": 9,
      "metadata": {
        "execution": {
          "iopub.execute_input": "2024-10-10T14:19:48.977447Z",
          "iopub.status.busy": "2024-10-10T14:19:48.976673Z",
          "iopub.status.idle": "2024-10-10T14:19:49.014225Z",
          "shell.execute_reply": "2024-10-10T14:19:49.013382Z",
          "shell.execute_reply.started": "2024-10-10T14:19:48.977407Z"
        },
        "id": "cDqDOGc-___f",
        "pycharm": {
          "name": "#%%\n"
        }
      },
      "outputs": [],
      "source": [
        "# define the criterion is nn.BCELoss()\n",
        "criterion = nn.BCELoss()\n",
        "\n",
        "## Define the optimizer for generator and discrimator\n",
        "\n",
        "optimizer_G = torch.optim.Adam(G.parameters(), lr=LR)\n",
        "\n",
        "# Определение оптимизатора для дискриминатора\n",
        "optimizer_D = torch.optim.Adam(D.parameters(), lr=LR)"
      ]
    },
    {
      "cell_type": "markdown",
      "metadata": {
        "id": "UreJsJKb___g",
        "pycharm": {
          "name": "#%% md\n"
        }
      },
      "source": [
        "Discriminator Training"
      ]
    },
    {
      "cell_type": "code",
      "execution_count": 10,
      "metadata": {
        "execution": {
          "iopub.execute_input": "2024-10-10T14:19:49.016410Z",
          "iopub.status.busy": "2024-10-10T14:19:49.015308Z",
          "iopub.status.idle": "2024-10-10T14:19:49.029559Z",
          "shell.execute_reply": "2024-10-10T14:19:49.028858Z",
          "shell.execute_reply.started": "2024-10-10T14:19:49.016369Z"
        },
        "id": "Rs4ZPjcP___g",
        "pycharm": {
          "name": "#%%\n"
        }
      },
      "outputs": [],
      "source": [
        "def reset_grad():\n",
        "    ## reset gradient for optimizer of generator and discrimator\n",
        "    optimizer_G.zero_grad()\n",
        "    optimizer_D.zero_grad()\n",
        "\n",
        "def train_discriminator(D_model, G_model, images):\n",
        "\n",
        "    # Create the labels which are later used as input for the BCE loss\n",
        "    real_labels = torch.ones(batch_size, 1).to(device)\n",
        "    fake_labels = torch.zeros(batch_size, 1).to(device)\n",
        "\n",
        "\n",
        "    outputs = D_model(images)\n",
        "    # Loss for real images\n",
        "    real_loss = criterion(outputs, real_labels)\n",
        "    real_score = outputs\n",
        "\n",
        "    # Loss for fake images\n",
        "    z = torch.randn(batch_size, latent_size).to(device)\n",
        "    fake_images = G_model(z)\n",
        "    outputs = D_model(fake_images)\n",
        "\n",
        "    fake_loss = criterion(outputs, fake_labels)\n",
        "    fake_score = outputs\n",
        "\n",
        "    # Sum losses\n",
        "    d_loss = real_loss + fake_loss\n",
        "    # Reset gradients\n",
        "    reset_grad()\n",
        "    # Compute gradients\n",
        "    d_loss.backward()\n",
        "    optimizer_D.step()\n",
        "    # Adjust the parameters using backprop\n",
        "\n",
        "    return d_loss, real_score, fake_score"
      ]
    },
    {
      "cell_type": "markdown",
      "metadata": {
        "id": "GPF-F7k2___h",
        "pycharm": {
          "name": "#%% md\n"
        }
      },
      "source": [
        "Generator Training"
      ]
    },
    {
      "cell_type": "code",
      "execution_count": 11,
      "metadata": {
        "execution": {
          "iopub.execute_input": "2024-10-10T14:19:49.031425Z",
          "iopub.status.busy": "2024-10-10T14:19:49.030690Z",
          "iopub.status.idle": "2024-10-10T14:19:49.045442Z",
          "shell.execute_reply": "2024-10-10T14:19:49.044736Z",
          "shell.execute_reply.started": "2024-10-10T14:19:49.031386Z"
        },
        "id": "Yx02VmkA___h",
        "pycharm": {
          "name": "#%%\n"
        }
      },
      "outputs": [],
      "source": [
        "def train_generator(G_model):\n",
        "    # Generate fake images and calculate loss\n",
        "    # z = torch.randn(batch_size, latent_size).to(device)\n",
        "    z = torch.Tensor(np.random.normal(0, 1, (batch_size, latent_size))).to(device)\n",
        "    fake_images = G_model(z)\n",
        "    labels = torch.ones(batch_size, 1).to(device)\n",
        "    # calculate the generator loss\n",
        "    outputs = D(fake_images)\n",
        "    g_loss = criterion(outputs, labels)\n",
        "    # Reset gradients\n",
        "    reset_grad()\n",
        "    # Backprop and optimize\n",
        "    g_loss.backward()\n",
        "    optimizer_G.step()\n",
        "    return g_loss, fake_images"
      ]
    },
    {
      "cell_type": "markdown",
      "metadata": {
        "id": "FJHs15NF___i",
        "pycharm": {
          "name": "#%% md\n"
        }
      },
      "source": [
        "### Start the training proccess"
      ]
    },
    {
      "cell_type": "code",
      "execution_count": 12,
      "metadata": {
        "execution": {
          "iopub.execute_input": "2024-10-10T14:19:49.047978Z",
          "iopub.status.busy": "2024-10-10T14:19:49.046367Z",
          "iopub.status.idle": "2024-10-10T14:19:49.067065Z",
          "shell.execute_reply": "2024-10-10T14:19:49.066239Z",
          "shell.execute_reply.started": "2024-10-10T14:19:49.047919Z"
        },
        "id": "dlUgHAi6___i",
        "pycharm": {
          "name": "#%%\n"
        }
      },
      "outputs": [],
      "source": [
        "# function to save the sample output of generator\n",
        "def save_fake_images_mnist(G_model, index):\n",
        "    # sample_vectors = torch.randn(batch_size, latent_size).to(device)\n",
        "    sample_vectors = torch.Tensor(np.random.normal(0, 1, (batch_size, latent_size))).to(\n",
        "        device\n",
        "    )\n",
        "    fake_images = G_model(sample_vectors)\n",
        "    fake_images = fake_images.reshape(fake_images.size(0), 1, 28, 28)\n",
        "    fake_fname = \"fake_images-{0:0=4d}.png\".format(index)\n",
        "    print(\"Saving\", fake_fname)\n",
        "    save_image(denorm(fake_images), os.path.join(sample_dir, fake_fname), nrow=10)"
      ]
    },
    {
      "cell_type": "code",
      "execution_count": 15,
      "metadata": {
        "execution": {
          "iopub.execute_input": "2024-10-10T14:21:15.935243Z",
          "iopub.status.busy": "2024-10-10T14:21:15.933979Z",
          "iopub.status.idle": "2024-10-10T15:32:56.933619Z",
          "shell.execute_reply": "2024-10-10T15:32:56.932698Z",
          "shell.execute_reply.started": "2024-10-10T14:21:15.935204Z"
        },
        "id": "aCsHM9uS___j",
        "pycharm": {
          "name": "#%%\n"
        },
        "tags": [],
        "colab": {
          "base_uri": "https://localhost:8080/"
        },
        "outputId": "b654b277-9223-49dd-8d40-48ac08fa5c40"
      },
      "outputs": [
        {
          "output_type": "stream",
          "name": "stdout",
          "text": [
            "Epoch [0/300], Step [200/600], d_loss: 0.9431, g_loss: 1.0124, D(x): 0.62, D(G(z)): 0.35\n",
            "Epoch [0/300], Step [400/600], d_loss: 0.6684, g_loss: 1.4068, D(x): 0.77, D(G(z)): 0.26\n",
            "Epoch [0/300], Step [600/600], d_loss: 0.5409, g_loss: 2.4498, D(x): 0.82, D(G(z)): 0.21\n",
            "Saving fake_images-0001.png\n",
            "Epoch [1/300], Step [200/600], d_loss: 0.5762, g_loss: 1.8528, D(x): 0.83, D(G(z)): 0.26\n",
            "Epoch [1/300], Step [400/600], d_loss: 0.7246, g_loss: 1.6188, D(x): 0.77, D(G(z)): 0.28\n",
            "Epoch [1/300], Step [600/600], d_loss: 0.8218, g_loss: 1.3768, D(x): 0.72, D(G(z)): 0.28\n",
            "Saving fake_images-0002.png\n",
            "Epoch [2/300], Step [200/600], d_loss: 0.6251, g_loss: 1.8247, D(x): 0.75, D(G(z)): 0.19\n",
            "Epoch [2/300], Step [400/600], d_loss: 1.3687, g_loss: 0.8095, D(x): 0.55, D(G(z)): 0.48\n",
            "Epoch [2/300], Step [600/600], d_loss: 0.5798, g_loss: 2.0998, D(x): 0.81, D(G(z)): 0.15\n",
            "Saving fake_images-0003.png\n",
            "Epoch [3/300], Step [200/600], d_loss: 0.4049, g_loss: 2.6711, D(x): 0.86, D(G(z)): 0.15\n",
            "Epoch [3/300], Step [400/600], d_loss: 0.6044, g_loss: 1.8069, D(x): 0.78, D(G(z)): 0.19\n",
            "Epoch [3/300], Step [600/600], d_loss: 0.6791, g_loss: 2.1377, D(x): 0.76, D(G(z)): 0.13\n",
            "Saving fake_images-0004.png\n",
            "Epoch [4/300], Step [200/600], d_loss: 0.2120, g_loss: 2.9022, D(x): 0.93, D(G(z)): 0.09\n",
            "Epoch [4/300], Step [400/600], d_loss: 0.4686, g_loss: 2.1134, D(x): 0.87, D(G(z)): 0.17\n",
            "Epoch [4/300], Step [600/600], d_loss: 0.5419, g_loss: 2.3694, D(x): 0.82, D(G(z)): 0.18\n",
            "Saving fake_images-0005.png\n",
            "Epoch [5/300], Step [200/600], d_loss: 0.3466, g_loss: 4.7189, D(x): 0.89, D(G(z)): 0.09\n",
            "Epoch [5/300], Step [400/600], d_loss: 0.3753, g_loss: 2.8970, D(x): 0.88, D(G(z)): 0.13\n",
            "Epoch [5/300], Step [600/600], d_loss: 0.4552, g_loss: 2.5961, D(x): 0.85, D(G(z)): 0.15\n",
            "Saving fake_images-0006.png\n",
            "Epoch [6/300], Step [200/600], d_loss: 0.5600, g_loss: 3.1940, D(x): 0.81, D(G(z)): 0.14\n",
            "Epoch [6/300], Step [400/600], d_loss: 0.4647, g_loss: 2.6078, D(x): 0.88, D(G(z)): 0.13\n",
            "Epoch [6/300], Step [600/600], d_loss: 0.3985, g_loss: 2.3816, D(x): 0.88, D(G(z)): 0.11\n",
            "Saving fake_images-0007.png\n",
            "Epoch [7/300], Step [200/600], d_loss: 0.3023, g_loss: 2.9758, D(x): 0.94, D(G(z)): 0.13\n",
            "Epoch [7/300], Step [400/600], d_loss: 0.5953, g_loss: 2.1043, D(x): 0.82, D(G(z)): 0.17\n",
            "Epoch [7/300], Step [600/600], d_loss: 0.5217, g_loss: 2.1060, D(x): 0.82, D(G(z)): 0.16\n",
            "Saving fake_images-0008.png\n",
            "Epoch [8/300], Step [200/600], d_loss: 0.6006, g_loss: 1.9289, D(x): 0.82, D(G(z)): 0.23\n",
            "Epoch [8/300], Step [400/600], d_loss: 0.4527, g_loss: 2.3908, D(x): 0.85, D(G(z)): 0.11\n",
            "Epoch [8/300], Step [600/600], d_loss: 0.4275, g_loss: 2.1527, D(x): 0.87, D(G(z)): 0.16\n",
            "Saving fake_images-0009.png\n",
            "Epoch [9/300], Step [200/600], d_loss: 0.5917, g_loss: 2.3594, D(x): 0.80, D(G(z)): 0.12\n",
            "Epoch [9/300], Step [400/600], d_loss: 0.5735, g_loss: 2.5953, D(x): 0.81, D(G(z)): 0.12\n",
            "Epoch [9/300], Step [600/600], d_loss: 0.5942, g_loss: 2.4498, D(x): 0.83, D(G(z)): 0.16\n",
            "Saving fake_images-0010.png\n",
            "Epoch [10/300], Step [200/600], d_loss: 0.4779, g_loss: 2.0697, D(x): 0.86, D(G(z)): 0.18\n",
            "Epoch [10/300], Step [400/600], d_loss: 0.6851, g_loss: 2.4398, D(x): 0.80, D(G(z)): 0.18\n",
            "Epoch [10/300], Step [600/600], d_loss: 0.6267, g_loss: 1.7514, D(x): 0.85, D(G(z)): 0.24\n",
            "Saving fake_images-0011.png\n",
            "Epoch [11/300], Step [200/600], d_loss: 0.7683, g_loss: 2.0692, D(x): 0.78, D(G(z)): 0.22\n",
            "Epoch [11/300], Step [400/600], d_loss: 0.7022, g_loss: 2.2287, D(x): 0.77, D(G(z)): 0.21\n",
            "Epoch [11/300], Step [600/600], d_loss: 0.5511, g_loss: 2.3126, D(x): 0.85, D(G(z)): 0.18\n",
            "Saving fake_images-0012.png\n",
            "Epoch [12/300], Step [200/600], d_loss: 0.7301, g_loss: 1.6748, D(x): 0.79, D(G(z)): 0.26\n",
            "Epoch [12/300], Step [400/600], d_loss: 0.7884, g_loss: 1.8369, D(x): 0.76, D(G(z)): 0.26\n",
            "Epoch [12/300], Step [600/600], d_loss: 0.7451, g_loss: 1.7156, D(x): 0.75, D(G(z)): 0.21\n",
            "Saving fake_images-0013.png\n",
            "Epoch [13/300], Step [200/600], d_loss: 0.6541, g_loss: 1.6845, D(x): 0.81, D(G(z)): 0.23\n",
            "Epoch [13/300], Step [400/600], d_loss: 0.5744, g_loss: 2.1110, D(x): 0.84, D(G(z)): 0.20\n",
            "Epoch [13/300], Step [600/600], d_loss: 0.6222, g_loss: 2.0689, D(x): 0.79, D(G(z)): 0.19\n",
            "Saving fake_images-0014.png\n",
            "Epoch [14/300], Step [200/600], d_loss: 0.8213, g_loss: 1.6296, D(x): 0.73, D(G(z)): 0.25\n",
            "Epoch [14/300], Step [400/600], d_loss: 0.6438, g_loss: 1.8476, D(x): 0.79, D(G(z)): 0.21\n",
            "Epoch [14/300], Step [600/600], d_loss: 0.7221, g_loss: 1.5089, D(x): 0.82, D(G(z)): 0.28\n",
            "Saving fake_images-0015.png\n",
            "Epoch [15/300], Step [200/600], d_loss: 0.6892, g_loss: 1.7976, D(x): 0.75, D(G(z)): 0.20\n",
            "Epoch [15/300], Step [400/600], d_loss: 0.7119, g_loss: 1.6739, D(x): 0.75, D(G(z)): 0.23\n",
            "Epoch [15/300], Step [600/600], d_loss: 0.8255, g_loss: 1.7567, D(x): 0.72, D(G(z)): 0.20\n",
            "Saving fake_images-0016.png\n",
            "Epoch [16/300], Step [200/600], d_loss: 0.8398, g_loss: 1.5414, D(x): 0.75, D(G(z)): 0.28\n",
            "Epoch [16/300], Step [400/600], d_loss: 0.7775, g_loss: 1.5384, D(x): 0.73, D(G(z)): 0.24\n",
            "Epoch [16/300], Step [600/600], d_loss: 0.7184, g_loss: 1.5797, D(x): 0.75, D(G(z)): 0.22\n",
            "Saving fake_images-0017.png\n",
            "Epoch [17/300], Step [200/600], d_loss: 0.7423, g_loss: 1.7602, D(x): 0.76, D(G(z)): 0.23\n",
            "Epoch [17/300], Step [400/600], d_loss: 0.6909, g_loss: 1.5406, D(x): 0.80, D(G(z)): 0.25\n",
            "Epoch [17/300], Step [600/600], d_loss: 0.7745, g_loss: 1.8951, D(x): 0.74, D(G(z)): 0.22\n",
            "Saving fake_images-0018.png\n",
            "Epoch [18/300], Step [200/600], d_loss: 0.8716, g_loss: 1.6634, D(x): 0.71, D(G(z)): 0.24\n",
            "Epoch [18/300], Step [400/600], d_loss: 0.7869, g_loss: 1.7040, D(x): 0.78, D(G(z)): 0.31\n",
            "Epoch [18/300], Step [600/600], d_loss: 0.7870, g_loss: 1.8479, D(x): 0.73, D(G(z)): 0.24\n",
            "Saving fake_images-0019.png\n",
            "Epoch [19/300], Step [200/600], d_loss: 0.9794, g_loss: 1.3924, D(x): 0.73, D(G(z)): 0.35\n",
            "Epoch [19/300], Step [400/600], d_loss: 0.8884, g_loss: 1.7945, D(x): 0.70, D(G(z)): 0.25\n",
            "Epoch [19/300], Step [600/600], d_loss: 0.7107, g_loss: 1.5987, D(x): 0.75, D(G(z)): 0.24\n",
            "Saving fake_images-0020.png\n",
            "Epoch [20/300], Step [200/600], d_loss: 0.7526, g_loss: 1.8299, D(x): 0.73, D(G(z)): 0.24\n",
            "Epoch [20/300], Step [400/600], d_loss: 0.8462, g_loss: 1.6388, D(x): 0.73, D(G(z)): 0.27\n",
            "Epoch [20/300], Step [600/600], d_loss: 0.7882, g_loss: 1.6126, D(x): 0.74, D(G(z)): 0.27\n",
            "Saving fake_images-0021.png\n",
            "Epoch [21/300], Step [200/600], d_loss: 0.7976, g_loss: 1.8268, D(x): 0.72, D(G(z)): 0.24\n",
            "Epoch [21/300], Step [400/600], d_loss: 0.7668, g_loss: 1.4672, D(x): 0.75, D(G(z)): 0.28\n",
            "Epoch [21/300], Step [600/600], d_loss: 0.7666, g_loss: 1.3385, D(x): 0.76, D(G(z)): 0.30\n",
            "Saving fake_images-0022.png\n",
            "Epoch [22/300], Step [200/600], d_loss: 1.0202, g_loss: 1.3130, D(x): 0.68, D(G(z)): 0.34\n",
            "Epoch [22/300], Step [400/600], d_loss: 0.9619, g_loss: 1.8244, D(x): 0.68, D(G(z)): 0.27\n",
            "Epoch [22/300], Step [600/600], d_loss: 0.9673, g_loss: 1.2548, D(x): 0.71, D(G(z)): 0.35\n",
            "Saving fake_images-0023.png\n",
            "Epoch [23/300], Step [200/600], d_loss: 0.9108, g_loss: 1.6924, D(x): 0.70, D(G(z)): 0.28\n",
            "Epoch [23/300], Step [400/600], d_loss: 0.9442, g_loss: 1.4280, D(x): 0.71, D(G(z)): 0.32\n",
            "Epoch [23/300], Step [600/600], d_loss: 0.9803, g_loss: 1.6528, D(x): 0.68, D(G(z)): 0.32\n",
            "Saving fake_images-0024.png\n",
            "Epoch [24/300], Step [200/600], d_loss: 0.9395, g_loss: 1.8683, D(x): 0.68, D(G(z)): 0.24\n",
            "Epoch [24/300], Step [400/600], d_loss: 0.7576, g_loss: 1.5712, D(x): 0.73, D(G(z)): 0.24\n",
            "Epoch [24/300], Step [600/600], d_loss: 0.7805, g_loss: 1.5602, D(x): 0.74, D(G(z)): 0.28\n",
            "Saving fake_images-0025.png\n",
            "Epoch [25/300], Step [200/600], d_loss: 0.9640, g_loss: 1.3297, D(x): 0.69, D(G(z)): 0.31\n",
            "Epoch [25/300], Step [400/600], d_loss: 0.8231, g_loss: 1.5301, D(x): 0.72, D(G(z)): 0.29\n",
            "Epoch [25/300], Step [600/600], d_loss: 0.8628, g_loss: 1.9541, D(x): 0.73, D(G(z)): 0.26\n",
            "Saving fake_images-0026.png\n",
            "Epoch [26/300], Step [200/600], d_loss: 0.7750, g_loss: 1.7352, D(x): 0.77, D(G(z)): 0.29\n",
            "Epoch [26/300], Step [400/600], d_loss: 0.9756, g_loss: 1.5820, D(x): 0.70, D(G(z)): 0.29\n",
            "Epoch [26/300], Step [600/600], d_loss: 0.8065, g_loss: 1.6332, D(x): 0.72, D(G(z)): 0.25\n",
            "Saving fake_images-0027.png\n",
            "Epoch [27/300], Step [200/600], d_loss: 0.8592, g_loss: 1.2426, D(x): 0.77, D(G(z)): 0.35\n",
            "Epoch [27/300], Step [400/600], d_loss: 1.0398, g_loss: 1.4106, D(x): 0.68, D(G(z)): 0.34\n",
            "Epoch [27/300], Step [600/600], d_loss: 1.0042, g_loss: 1.4541, D(x): 0.67, D(G(z)): 0.31\n",
            "Saving fake_images-0028.png\n",
            "Epoch [28/300], Step [200/600], d_loss: 0.8505, g_loss: 1.6352, D(x): 0.74, D(G(z)): 0.29\n",
            "Epoch [28/300], Step [400/600], d_loss: 0.9414, g_loss: 1.6334, D(x): 0.71, D(G(z)): 0.30\n",
            "Epoch [28/300], Step [600/600], d_loss: 1.1345, g_loss: 1.4128, D(x): 0.64, D(G(z)): 0.36\n",
            "Saving fake_images-0029.png\n",
            "Epoch [29/300], Step [200/600], d_loss: 0.9456, g_loss: 1.2757, D(x): 0.68, D(G(z)): 0.31\n",
            "Epoch [29/300], Step [400/600], d_loss: 0.9627, g_loss: 1.2636, D(x): 0.67, D(G(z)): 0.32\n",
            "Epoch [29/300], Step [600/600], d_loss: 0.8994, g_loss: 1.1580, D(x): 0.72, D(G(z)): 0.34\n",
            "Saving fake_images-0030.png\n",
            "Epoch [30/300], Step [200/600], d_loss: 0.9804, g_loss: 1.4051, D(x): 0.66, D(G(z)): 0.31\n",
            "Epoch [30/300], Step [400/600], d_loss: 0.9738, g_loss: 1.3893, D(x): 0.71, D(G(z)): 0.35\n",
            "Epoch [30/300], Step [600/600], d_loss: 1.0123, g_loss: 1.2705, D(x): 0.70, D(G(z)): 0.36\n",
            "Saving fake_images-0031.png\n",
            "Epoch [31/300], Step [200/600], d_loss: 0.8850, g_loss: 1.2615, D(x): 0.68, D(G(z)): 0.31\n",
            "Epoch [31/300], Step [400/600], d_loss: 0.9166, g_loss: 1.5854, D(x): 0.71, D(G(z)): 0.32\n",
            "Epoch [31/300], Step [600/600], d_loss: 0.9660, g_loss: 1.4836, D(x): 0.68, D(G(z)): 0.30\n",
            "Saving fake_images-0032.png\n",
            "Epoch [32/300], Step [200/600], d_loss: 0.8565, g_loss: 1.2191, D(x): 0.72, D(G(z)): 0.32\n",
            "Epoch [32/300], Step [400/600], d_loss: 1.0321, g_loss: 1.2385, D(x): 0.72, D(G(z)): 0.38\n",
            "Epoch [32/300], Step [600/600], d_loss: 0.9935, g_loss: 1.3333, D(x): 0.69, D(G(z)): 0.34\n",
            "Saving fake_images-0033.png\n",
            "Epoch [33/300], Step [200/600], d_loss: 0.9532, g_loss: 1.3098, D(x): 0.69, D(G(z)): 0.33\n",
            "Epoch [33/300], Step [400/600], d_loss: 1.2506, g_loss: 1.3592, D(x): 0.61, D(G(z)): 0.32\n",
            "Epoch [33/300], Step [600/600], d_loss: 0.9997, g_loss: 1.4896, D(x): 0.65, D(G(z)): 0.29\n",
            "Saving fake_images-0034.png\n",
            "Epoch [34/300], Step [200/600], d_loss: 1.0365, g_loss: 1.2799, D(x): 0.67, D(G(z)): 0.34\n",
            "Epoch [34/300], Step [400/600], d_loss: 1.0299, g_loss: 1.2188, D(x): 0.66, D(G(z)): 0.36\n",
            "Epoch [34/300], Step [600/600], d_loss: 0.9738, g_loss: 1.2706, D(x): 0.67, D(G(z)): 0.33\n",
            "Saving fake_images-0035.png\n",
            "Epoch [35/300], Step [200/600], d_loss: 0.9098, g_loss: 1.3552, D(x): 0.72, D(G(z)): 0.33\n",
            "Epoch [35/300], Step [400/600], d_loss: 0.8899, g_loss: 1.3181, D(x): 0.72, D(G(z)): 0.33\n",
            "Epoch [35/300], Step [600/600], d_loss: 1.0619, g_loss: 1.3005, D(x): 0.66, D(G(z)): 0.36\n",
            "Saving fake_images-0036.png\n",
            "Epoch [36/300], Step [200/600], d_loss: 1.0477, g_loss: 1.1230, D(x): 0.67, D(G(z)): 0.38\n",
            "Epoch [36/300], Step [400/600], d_loss: 1.0136, g_loss: 1.3002, D(x): 0.64, D(G(z)): 0.31\n",
            "Epoch [36/300], Step [600/600], d_loss: 0.9784, g_loss: 1.2102, D(x): 0.70, D(G(z)): 0.35\n",
            "Saving fake_images-0037.png\n",
            "Epoch [37/300], Step [200/600], d_loss: 0.9938, g_loss: 1.0853, D(x): 0.64, D(G(z)): 0.33\n",
            "Epoch [37/300], Step [400/600], d_loss: 1.1153, g_loss: 1.2934, D(x): 0.59, D(G(z)): 0.31\n",
            "Epoch [37/300], Step [600/600], d_loss: 0.9685, g_loss: 1.1988, D(x): 0.67, D(G(z)): 0.32\n",
            "Saving fake_images-0038.png\n",
            "Epoch [38/300], Step [200/600], d_loss: 0.8615, g_loss: 1.2258, D(x): 0.74, D(G(z)): 0.32\n",
            "Epoch [38/300], Step [400/600], d_loss: 1.0368, g_loss: 1.1542, D(x): 0.62, D(G(z)): 0.35\n",
            "Epoch [38/300], Step [600/600], d_loss: 0.8653, g_loss: 1.2503, D(x): 0.70, D(G(z)): 0.30\n",
            "Saving fake_images-0039.png\n",
            "Epoch [39/300], Step [200/600], d_loss: 1.0325, g_loss: 1.2342, D(x): 0.64, D(G(z)): 0.34\n",
            "Epoch [39/300], Step [400/600], d_loss: 1.1175, g_loss: 1.2269, D(x): 0.63, D(G(z)): 0.36\n",
            "Epoch [39/300], Step [600/600], d_loss: 1.1213, g_loss: 1.4333, D(x): 0.64, D(G(z)): 0.35\n",
            "Saving fake_images-0040.png\n",
            "Epoch [40/300], Step [200/600], d_loss: 0.9605, g_loss: 1.2393, D(x): 0.67, D(G(z)): 0.33\n",
            "Epoch [40/300], Step [400/600], d_loss: 0.9925, g_loss: 1.1171, D(x): 0.68, D(G(z)): 0.37\n",
            "Epoch [40/300], Step [600/600], d_loss: 0.9988, g_loss: 1.2091, D(x): 0.70, D(G(z)): 0.36\n",
            "Saving fake_images-0041.png\n",
            "Epoch [41/300], Step [200/600], d_loss: 0.8648, g_loss: 1.2724, D(x): 0.71, D(G(z)): 0.31\n",
            "Epoch [41/300], Step [400/600], d_loss: 1.0403, g_loss: 1.3529, D(x): 0.67, D(G(z)): 0.34\n",
            "Epoch [41/300], Step [600/600], d_loss: 0.9933, g_loss: 1.4326, D(x): 0.63, D(G(z)): 0.30\n",
            "Saving fake_images-0042.png\n",
            "Epoch [42/300], Step [200/600], d_loss: 1.0691, g_loss: 1.1344, D(x): 0.61, D(G(z)): 0.36\n",
            "Epoch [42/300], Step [400/600], d_loss: 1.0235, g_loss: 1.1658, D(x): 0.61, D(G(z)): 0.33\n",
            "Epoch [42/300], Step [600/600], d_loss: 1.0829, g_loss: 0.9830, D(x): 0.62, D(G(z)): 0.35\n",
            "Saving fake_images-0043.png\n",
            "Epoch [43/300], Step [200/600], d_loss: 1.1124, g_loss: 1.1513, D(x): 0.63, D(G(z)): 0.39\n",
            "Epoch [43/300], Step [400/600], d_loss: 1.0097, g_loss: 1.0850, D(x): 0.67, D(G(z)): 0.36\n",
            "Epoch [43/300], Step [600/600], d_loss: 1.1563, g_loss: 1.1672, D(x): 0.62, D(G(z)): 0.39\n",
            "Saving fake_images-0044.png\n",
            "Epoch [44/300], Step [200/600], d_loss: 0.9783, g_loss: 1.1024, D(x): 0.68, D(G(z)): 0.35\n",
            "Epoch [44/300], Step [400/600], d_loss: 0.9922, g_loss: 1.0119, D(x): 0.68, D(G(z)): 0.38\n",
            "Epoch [44/300], Step [600/600], d_loss: 1.0261, g_loss: 1.1305, D(x): 0.66, D(G(z)): 0.36\n",
            "Saving fake_images-0045.png\n",
            "Epoch [45/300], Step [200/600], d_loss: 1.1011, g_loss: 1.1000, D(x): 0.62, D(G(z)): 0.38\n",
            "Epoch [45/300], Step [400/600], d_loss: 0.9931, g_loss: 1.0307, D(x): 0.67, D(G(z)): 0.37\n",
            "Epoch [45/300], Step [600/600], d_loss: 0.9893, g_loss: 1.0423, D(x): 0.69, D(G(z)): 0.38\n",
            "Saving fake_images-0046.png\n",
            "Epoch [46/300], Step [200/600], d_loss: 0.9431, g_loss: 1.1178, D(x): 0.67, D(G(z)): 0.34\n",
            "Epoch [46/300], Step [400/600], d_loss: 1.0718, g_loss: 0.9936, D(x): 0.65, D(G(z)): 0.38\n",
            "Epoch [46/300], Step [600/600], d_loss: 1.1262, g_loss: 1.0514, D(x): 0.63, D(G(z)): 0.41\n",
            "Saving fake_images-0047.png\n",
            "Epoch [47/300], Step [200/600], d_loss: 0.9851, g_loss: 1.1534, D(x): 0.64, D(G(z)): 0.33\n",
            "Epoch [47/300], Step [400/600], d_loss: 1.1178, g_loss: 1.2274, D(x): 0.61, D(G(z)): 0.38\n",
            "Epoch [47/300], Step [600/600], d_loss: 1.0697, g_loss: 1.1073, D(x): 0.61, D(G(z)): 0.35\n",
            "Saving fake_images-0048.png\n",
            "Epoch [48/300], Step [200/600], d_loss: 1.0672, g_loss: 0.9851, D(x): 0.64, D(G(z)): 0.40\n",
            "Epoch [48/300], Step [400/600], d_loss: 1.2366, g_loss: 0.8836, D(x): 0.66, D(G(z)): 0.45\n",
            "Epoch [48/300], Step [600/600], d_loss: 1.0413, g_loss: 1.2779, D(x): 0.64, D(G(z)): 0.34\n",
            "Saving fake_images-0049.png\n",
            "Epoch [49/300], Step [200/600], d_loss: 1.0313, g_loss: 1.2165, D(x): 0.59, D(G(z)): 0.31\n",
            "Epoch [49/300], Step [400/600], d_loss: 1.0939, g_loss: 1.1383, D(x): 0.59, D(G(z)): 0.34\n",
            "Epoch [49/300], Step [600/600], d_loss: 1.1685, g_loss: 1.0539, D(x): 0.60, D(G(z)): 0.37\n",
            "Saving fake_images-0050.png\n",
            "Epoch [50/300], Step [200/600], d_loss: 1.1017, g_loss: 1.3873, D(x): 0.60, D(G(z)): 0.34\n",
            "Epoch [50/300], Step [400/600], d_loss: 1.0980, g_loss: 1.1317, D(x): 0.61, D(G(z)): 0.39\n",
            "Epoch [50/300], Step [600/600], d_loss: 0.9984, g_loss: 1.0670, D(x): 0.66, D(G(z)): 0.37\n",
            "Saving fake_images-0051.png\n",
            "Epoch [51/300], Step [200/600], d_loss: 1.1131, g_loss: 1.1497, D(x): 0.59, D(G(z)): 0.34\n",
            "Epoch [51/300], Step [400/600], d_loss: 1.0711, g_loss: 1.1902, D(x): 0.68, D(G(z)): 0.39\n",
            "Epoch [51/300], Step [600/600], d_loss: 1.3577, g_loss: 1.0492, D(x): 0.57, D(G(z)): 0.43\n",
            "Saving fake_images-0052.png\n",
            "Epoch [52/300], Step [200/600], d_loss: 1.0639, g_loss: 1.0884, D(x): 0.63, D(G(z)): 0.37\n",
            "Epoch [52/300], Step [400/600], d_loss: 1.1314, g_loss: 1.0198, D(x): 0.62, D(G(z)): 0.38\n",
            "Epoch [52/300], Step [600/600], d_loss: 1.1488, g_loss: 0.9729, D(x): 0.64, D(G(z)): 0.42\n",
            "Saving fake_images-0053.png\n",
            "Epoch [53/300], Step [200/600], d_loss: 1.1353, g_loss: 0.9581, D(x): 0.62, D(G(z)): 0.41\n",
            "Epoch [53/300], Step [400/600], d_loss: 1.2176, g_loss: 1.0712, D(x): 0.59, D(G(z)): 0.41\n",
            "Epoch [53/300], Step [600/600], d_loss: 1.0771, g_loss: 1.0393, D(x): 0.65, D(G(z)): 0.38\n",
            "Saving fake_images-0054.png\n",
            "Epoch [54/300], Step [200/600], d_loss: 1.3291, g_loss: 1.1801, D(x): 0.58, D(G(z)): 0.42\n",
            "Epoch [54/300], Step [400/600], d_loss: 1.1071, g_loss: 1.0606, D(x): 0.62, D(G(z)): 0.36\n",
            "Epoch [54/300], Step [600/600], d_loss: 1.1702, g_loss: 1.0711, D(x): 0.57, D(G(z)): 0.38\n",
            "Saving fake_images-0055.png\n",
            "Epoch [55/300], Step [200/600], d_loss: 1.0889, g_loss: 1.0608, D(x): 0.62, D(G(z)): 0.38\n",
            "Epoch [55/300], Step [400/600], d_loss: 1.1504, g_loss: 0.8817, D(x): 0.64, D(G(z)): 0.41\n",
            "Epoch [55/300], Step [600/600], d_loss: 1.0365, g_loss: 1.0060, D(x): 0.62, D(G(z)): 0.35\n",
            "Saving fake_images-0056.png\n",
            "Epoch [56/300], Step [200/600], d_loss: 1.2897, g_loss: 1.0437, D(x): 0.58, D(G(z)): 0.43\n",
            "Epoch [56/300], Step [400/600], d_loss: 1.1967, g_loss: 0.9750, D(x): 0.63, D(G(z)): 0.42\n",
            "Epoch [56/300], Step [600/600], d_loss: 1.1019, g_loss: 1.0074, D(x): 0.62, D(G(z)): 0.37\n",
            "Saving fake_images-0057.png\n",
            "Epoch [57/300], Step [200/600], d_loss: 1.2552, g_loss: 0.9653, D(x): 0.59, D(G(z)): 0.44\n",
            "Epoch [57/300], Step [400/600], d_loss: 1.1084, g_loss: 0.9428, D(x): 0.62, D(G(z)): 0.40\n",
            "Epoch [57/300], Step [600/600], d_loss: 1.1907, g_loss: 1.0210, D(x): 0.58, D(G(z)): 0.40\n",
            "Saving fake_images-0058.png\n",
            "Epoch [58/300], Step [200/600], d_loss: 1.0695, g_loss: 1.2942, D(x): 0.60, D(G(z)): 0.34\n",
            "Epoch [58/300], Step [400/600], d_loss: 1.1214, g_loss: 0.9863, D(x): 0.61, D(G(z)): 0.38\n",
            "Epoch [58/300], Step [600/600], d_loss: 1.1233, g_loss: 1.0754, D(x): 0.60, D(G(z)): 0.38\n",
            "Saving fake_images-0059.png\n",
            "Epoch [59/300], Step [200/600], d_loss: 1.2225, g_loss: 0.9803, D(x): 0.57, D(G(z)): 0.35\n",
            "Epoch [59/300], Step [400/600], d_loss: 1.1503, g_loss: 1.0952, D(x): 0.57, D(G(z)): 0.36\n",
            "Epoch [59/300], Step [600/600], d_loss: 1.2548, g_loss: 0.9568, D(x): 0.58, D(G(z)): 0.43\n",
            "Saving fake_images-0060.png\n",
            "Epoch [60/300], Step [200/600], d_loss: 1.2461, g_loss: 1.0500, D(x): 0.57, D(G(z)): 0.41\n",
            "Epoch [60/300], Step [400/600], d_loss: 1.0724, g_loss: 0.8483, D(x): 0.65, D(G(z)): 0.41\n",
            "Epoch [60/300], Step [600/600], d_loss: 1.1066, g_loss: 0.8752, D(x): 0.68, D(G(z)): 0.44\n",
            "Saving fake_images-0061.png\n",
            "Epoch [61/300], Step [200/600], d_loss: 1.2465, g_loss: 1.0285, D(x): 0.51, D(G(z)): 0.36\n",
            "Epoch [61/300], Step [400/600], d_loss: 1.0351, g_loss: 1.1635, D(x): 0.61, D(G(z)): 0.33\n",
            "Epoch [61/300], Step [600/600], d_loss: 1.0538, g_loss: 0.9423, D(x): 0.64, D(G(z)): 0.38\n",
            "Saving fake_images-0062.png\n",
            "Epoch [62/300], Step [200/600], d_loss: 1.0598, g_loss: 0.9844, D(x): 0.63, D(G(z)): 0.39\n",
            "Epoch [62/300], Step [400/600], d_loss: 1.1570, g_loss: 1.2095, D(x): 0.53, D(G(z)): 0.31\n",
            "Epoch [62/300], Step [600/600], d_loss: 1.1605, g_loss: 1.1383, D(x): 0.57, D(G(z)): 0.37\n",
            "Saving fake_images-0063.png\n",
            "Epoch [63/300], Step [200/600], d_loss: 1.0916, g_loss: 0.9006, D(x): 0.61, D(G(z)): 0.37\n",
            "Epoch [63/300], Step [400/600], d_loss: 1.1503, g_loss: 1.0443, D(x): 0.58, D(G(z)): 0.37\n",
            "Epoch [63/300], Step [600/600], d_loss: 1.2141, g_loss: 0.9987, D(x): 0.62, D(G(z)): 0.42\n",
            "Saving fake_images-0064.png\n",
            "Epoch [64/300], Step [200/600], d_loss: 1.0449, g_loss: 1.1738, D(x): 0.63, D(G(z)): 0.35\n",
            "Epoch [64/300], Step [400/600], d_loss: 1.1377, g_loss: 0.9538, D(x): 0.60, D(G(z)): 0.40\n",
            "Epoch [64/300], Step [600/600], d_loss: 1.0673, g_loss: 1.0352, D(x): 0.59, D(G(z)): 0.34\n",
            "Saving fake_images-0065.png\n",
            "Epoch [65/300], Step [200/600], d_loss: 1.0367, g_loss: 1.0034, D(x): 0.66, D(G(z)): 0.41\n",
            "Epoch [65/300], Step [400/600], d_loss: 1.1229, g_loss: 1.0116, D(x): 0.62, D(G(z)): 0.42\n",
            "Epoch [65/300], Step [600/600], d_loss: 1.0812, g_loss: 0.9502, D(x): 0.65, D(G(z)): 0.41\n",
            "Saving fake_images-0066.png\n",
            "Epoch [66/300], Step [200/600], d_loss: 1.2015, g_loss: 1.0241, D(x): 0.58, D(G(z)): 0.40\n",
            "Epoch [66/300], Step [400/600], d_loss: 1.2263, g_loss: 0.9185, D(x): 0.64, D(G(z)): 0.47\n",
            "Epoch [66/300], Step [600/600], d_loss: 1.1160, g_loss: 1.0556, D(x): 0.63, D(G(z)): 0.42\n",
            "Saving fake_images-0067.png\n",
            "Epoch [67/300], Step [200/600], d_loss: 1.2140, g_loss: 0.8509, D(x): 0.58, D(G(z)): 0.42\n",
            "Epoch [67/300], Step [400/600], d_loss: 1.1477, g_loss: 0.8767, D(x): 0.61, D(G(z)): 0.41\n",
            "Epoch [67/300], Step [600/600], d_loss: 1.1548, g_loss: 0.9590, D(x): 0.63, D(G(z)): 0.42\n",
            "Saving fake_images-0068.png\n",
            "Epoch [68/300], Step [200/600], d_loss: 1.1494, g_loss: 0.9061, D(x): 0.60, D(G(z)): 0.40\n",
            "Epoch [68/300], Step [400/600], d_loss: 1.2033, g_loss: 0.9875, D(x): 0.60, D(G(z)): 0.43\n",
            "Epoch [68/300], Step [600/600], d_loss: 0.9999, g_loss: 1.0192, D(x): 0.66, D(G(z)): 0.38\n",
            "Saving fake_images-0069.png\n",
            "Epoch [69/300], Step [200/600], d_loss: 1.1700, g_loss: 1.0431, D(x): 0.56, D(G(z)): 0.38\n",
            "Epoch [69/300], Step [400/600], d_loss: 1.1989, g_loss: 0.9387, D(x): 0.61, D(G(z)): 0.42\n",
            "Epoch [69/300], Step [600/600], d_loss: 1.1051, g_loss: 1.1813, D(x): 0.59, D(G(z)): 0.35\n",
            "Saving fake_images-0070.png\n",
            "Epoch [70/300], Step [200/600], d_loss: 1.1481, g_loss: 0.9318, D(x): 0.60, D(G(z)): 0.38\n",
            "Epoch [70/300], Step [400/600], d_loss: 1.0705, g_loss: 1.1648, D(x): 0.63, D(G(z)): 0.39\n",
            "Epoch [70/300], Step [600/600], d_loss: 1.1449, g_loss: 0.9012, D(x): 0.58, D(G(z)): 0.39\n",
            "Saving fake_images-0071.png\n",
            "Epoch [71/300], Step [200/600], d_loss: 1.0745, g_loss: 1.1465, D(x): 0.59, D(G(z)): 0.35\n",
            "Epoch [71/300], Step [400/600], d_loss: 1.1787, g_loss: 0.9322, D(x): 0.62, D(G(z)): 0.43\n",
            "Epoch [71/300], Step [600/600], d_loss: 1.0770, g_loss: 1.1483, D(x): 0.61, D(G(z)): 0.37\n",
            "Saving fake_images-0072.png\n",
            "Epoch [72/300], Step [200/600], d_loss: 1.1154, g_loss: 1.2366, D(x): 0.60, D(G(z)): 0.35\n",
            "Epoch [72/300], Step [400/600], d_loss: 1.1923, g_loss: 1.0485, D(x): 0.61, D(G(z)): 0.43\n",
            "Epoch [72/300], Step [600/600], d_loss: 1.0960, g_loss: 1.0401, D(x): 0.61, D(G(z)): 0.39\n",
            "Saving fake_images-0073.png\n",
            "Epoch [73/300], Step [200/600], d_loss: 1.1552, g_loss: 1.2397, D(x): 0.56, D(G(z)): 0.35\n",
            "Epoch [73/300], Step [400/600], d_loss: 1.1471, g_loss: 1.0092, D(x): 0.59, D(G(z)): 0.39\n",
            "Epoch [73/300], Step [600/600], d_loss: 1.1089, g_loss: 1.0060, D(x): 0.60, D(G(z)): 0.39\n",
            "Saving fake_images-0074.png\n",
            "Epoch [74/300], Step [200/600], d_loss: 1.1334, g_loss: 1.1611, D(x): 0.60, D(G(z)): 0.37\n",
            "Epoch [74/300], Step [400/600], d_loss: 1.1830, g_loss: 0.9631, D(x): 0.60, D(G(z)): 0.42\n",
            "Epoch [74/300], Step [600/600], d_loss: 1.2383, g_loss: 1.0070, D(x): 0.58, D(G(z)): 0.40\n",
            "Saving fake_images-0075.png\n",
            "Epoch [75/300], Step [200/600], d_loss: 1.2366, g_loss: 1.0161, D(x): 0.54, D(G(z)): 0.36\n",
            "Epoch [75/300], Step [400/600], d_loss: 1.1803, g_loss: 0.8477, D(x): 0.64, D(G(z)): 0.47\n",
            "Epoch [75/300], Step [600/600], d_loss: 1.0452, g_loss: 1.0582, D(x): 0.64, D(G(z)): 0.37\n",
            "Saving fake_images-0076.png\n",
            "Epoch [76/300], Step [200/600], d_loss: 1.2213, g_loss: 1.3184, D(x): 0.54, D(G(z)): 0.34\n",
            "Epoch [76/300], Step [400/600], d_loss: 1.0783, g_loss: 1.0196, D(x): 0.60, D(G(z)): 0.37\n",
            "Epoch [76/300], Step [600/600], d_loss: 1.1859, g_loss: 1.0352, D(x): 0.58, D(G(z)): 0.40\n",
            "Saving fake_images-0077.png\n",
            "Epoch [77/300], Step [200/600], d_loss: 1.2326, g_loss: 0.9538, D(x): 0.56, D(G(z)): 0.42\n",
            "Epoch [77/300], Step [400/600], d_loss: 1.2297, g_loss: 1.1512, D(x): 0.51, D(G(z)): 0.36\n",
            "Epoch [77/300], Step [600/600], d_loss: 1.2440, g_loss: 0.8668, D(x): 0.59, D(G(z)): 0.46\n",
            "Saving fake_images-0078.png\n",
            "Epoch [78/300], Step [200/600], d_loss: 1.1137, g_loss: 0.9130, D(x): 0.60, D(G(z)): 0.40\n",
            "Epoch [78/300], Step [400/600], d_loss: 1.2381, g_loss: 1.1311, D(x): 0.57, D(G(z)): 0.43\n",
            "Epoch [78/300], Step [600/600], d_loss: 1.2359, g_loss: 0.8337, D(x): 0.59, D(G(z)): 0.45\n",
            "Saving fake_images-0079.png\n",
            "Epoch [79/300], Step [200/600], d_loss: 1.3341, g_loss: 0.8708, D(x): 0.51, D(G(z)): 0.42\n",
            "Epoch [79/300], Step [400/600], d_loss: 1.1323, g_loss: 0.8813, D(x): 0.64, D(G(z)): 0.44\n",
            "Epoch [79/300], Step [600/600], d_loss: 1.1775, g_loss: 1.0710, D(x): 0.56, D(G(z)): 0.37\n",
            "Saving fake_images-0080.png\n",
            "Epoch [80/300], Step [200/600], d_loss: 1.2691, g_loss: 0.8908, D(x): 0.56, D(G(z)): 0.43\n",
            "Epoch [80/300], Step [400/600], d_loss: 1.1828, g_loss: 1.0625, D(x): 0.56, D(G(z)): 0.39\n",
            "Epoch [80/300], Step [600/600], d_loss: 1.2005, g_loss: 0.9799, D(x): 0.54, D(G(z)): 0.37\n",
            "Saving fake_images-0081.png\n",
            "Epoch [81/300], Step [200/600], d_loss: 1.1483, g_loss: 0.9040, D(x): 0.63, D(G(z)): 0.44\n",
            "Epoch [81/300], Step [400/600], d_loss: 1.2004, g_loss: 1.0504, D(x): 0.54, D(G(z)): 0.37\n",
            "Epoch [81/300], Step [600/600], d_loss: 1.1671, g_loss: 0.9339, D(x): 0.61, D(G(z)): 0.42\n",
            "Saving fake_images-0082.png\n",
            "Epoch [82/300], Step [200/600], d_loss: 1.1817, g_loss: 0.9365, D(x): 0.59, D(G(z)): 0.42\n",
            "Epoch [82/300], Step [400/600], d_loss: 1.2118, g_loss: 0.9825, D(x): 0.57, D(G(z)): 0.42\n",
            "Epoch [82/300], Step [600/600], d_loss: 1.1495, g_loss: 0.8339, D(x): 0.63, D(G(z)): 0.46\n",
            "Saving fake_images-0083.png\n",
            "Epoch [83/300], Step [200/600], d_loss: 1.2610, g_loss: 0.8824, D(x): 0.56, D(G(z)): 0.44\n",
            "Epoch [83/300], Step [400/600], d_loss: 1.1307, g_loss: 1.0085, D(x): 0.57, D(G(z)): 0.38\n",
            "Epoch [83/300], Step [600/600], d_loss: 1.1927, g_loss: 1.0179, D(x): 0.56, D(G(z)): 0.38\n",
            "Saving fake_images-0084.png\n",
            "Epoch [84/300], Step [200/600], d_loss: 1.2139, g_loss: 0.9624, D(x): 0.57, D(G(z)): 0.42\n",
            "Epoch [84/300], Step [400/600], d_loss: 1.1967, g_loss: 0.8961, D(x): 0.61, D(G(z)): 0.43\n",
            "Epoch [84/300], Step [600/600], d_loss: 1.1459, g_loss: 1.0095, D(x): 0.60, D(G(z)): 0.40\n",
            "Saving fake_images-0085.png\n",
            "Epoch [85/300], Step [200/600], d_loss: 1.1225, g_loss: 1.2338, D(x): 0.57, D(G(z)): 0.36\n",
            "Epoch [85/300], Step [400/600], d_loss: 1.2709, g_loss: 0.8951, D(x): 0.55, D(G(z)): 0.43\n",
            "Epoch [85/300], Step [600/600], d_loss: 1.2109, g_loss: 0.7612, D(x): 0.63, D(G(z)): 0.47\n",
            "Saving fake_images-0086.png\n",
            "Epoch [86/300], Step [200/600], d_loss: 1.2534, g_loss: 0.8280, D(x): 0.62, D(G(z)): 0.49\n",
            "Epoch [86/300], Step [400/600], d_loss: 1.2496, g_loss: 0.9329, D(x): 0.56, D(G(z)): 0.44\n",
            "Epoch [86/300], Step [600/600], d_loss: 1.1257, g_loss: 1.2363, D(x): 0.56, D(G(z)): 0.36\n",
            "Saving fake_images-0087.png\n",
            "Epoch [87/300], Step [200/600], d_loss: 1.1671, g_loss: 1.0496, D(x): 0.57, D(G(z)): 0.37\n",
            "Epoch [87/300], Step [400/600], d_loss: 1.2301, g_loss: 0.8414, D(x): 0.59, D(G(z)): 0.46\n",
            "Epoch [87/300], Step [600/600], d_loss: 1.1599, g_loss: 0.9043, D(x): 0.61, D(G(z)): 0.43\n",
            "Saving fake_images-0088.png\n",
            "Epoch [88/300], Step [200/600], d_loss: 1.3533, g_loss: 0.8221, D(x): 0.55, D(G(z)): 0.47\n",
            "Epoch [88/300], Step [400/600], d_loss: 1.2301, g_loss: 0.7932, D(x): 0.63, D(G(z)): 0.48\n",
            "Epoch [88/300], Step [600/600], d_loss: 1.1682, g_loss: 0.9963, D(x): 0.54, D(G(z)): 0.35\n",
            "Saving fake_images-0089.png\n",
            "Epoch [89/300], Step [200/600], d_loss: 1.1595, g_loss: 0.8530, D(x): 0.59, D(G(z)): 0.41\n",
            "Epoch [89/300], Step [400/600], d_loss: 1.2019, g_loss: 0.8579, D(x): 0.61, D(G(z)): 0.44\n",
            "Epoch [89/300], Step [600/600], d_loss: 1.3123, g_loss: 0.9112, D(x): 0.56, D(G(z)): 0.46\n",
            "Saving fake_images-0090.png\n",
            "Epoch [90/300], Step [200/600], d_loss: 1.1646, g_loss: 0.8696, D(x): 0.60, D(G(z)): 0.42\n",
            "Epoch [90/300], Step [400/600], d_loss: 1.2845, g_loss: 0.9419, D(x): 0.55, D(G(z)): 0.42\n",
            "Epoch [90/300], Step [600/600], d_loss: 1.1896, g_loss: 0.9142, D(x): 0.56, D(G(z)): 0.40\n",
            "Saving fake_images-0091.png\n",
            "Epoch [91/300], Step [200/600], d_loss: 1.1917, g_loss: 0.9511, D(x): 0.61, D(G(z)): 0.44\n",
            "Epoch [91/300], Step [400/600], d_loss: 1.2566, g_loss: 0.9182, D(x): 0.57, D(G(z)): 0.43\n",
            "Epoch [91/300], Step [600/600], d_loss: 1.1703, g_loss: 0.8579, D(x): 0.57, D(G(z)): 0.42\n",
            "Saving fake_images-0092.png\n",
            "Epoch [92/300], Step [200/600], d_loss: 1.2347, g_loss: 0.9201, D(x): 0.54, D(G(z)): 0.41\n",
            "Epoch [92/300], Step [400/600], d_loss: 1.3778, g_loss: 0.8085, D(x): 0.56, D(G(z)): 0.48\n",
            "Epoch [92/300], Step [600/600], d_loss: 1.2816, g_loss: 0.8816, D(x): 0.57, D(G(z)): 0.44\n",
            "Saving fake_images-0093.png\n",
            "Epoch [93/300], Step [200/600], d_loss: 1.2317, g_loss: 0.8699, D(x): 0.60, D(G(z)): 0.47\n",
            "Epoch [93/300], Step [400/600], d_loss: 1.2441, g_loss: 0.9011, D(x): 0.56, D(G(z)): 0.43\n",
            "Epoch [93/300], Step [600/600], d_loss: 1.2297, g_loss: 1.0683, D(x): 0.58, D(G(z)): 0.43\n",
            "Saving fake_images-0094.png\n",
            "Epoch [94/300], Step [200/600], d_loss: 1.1772, g_loss: 0.9123, D(x): 0.61, D(G(z)): 0.43\n",
            "Epoch [94/300], Step [400/600], d_loss: 1.2050, g_loss: 0.9496, D(x): 0.58, D(G(z)): 0.43\n",
            "Epoch [94/300], Step [600/600], d_loss: 1.3474, g_loss: 0.7959, D(x): 0.59, D(G(z)): 0.49\n",
            "Saving fake_images-0095.png\n",
            "Epoch [95/300], Step [200/600], d_loss: 1.1787, g_loss: 0.8528, D(x): 0.60, D(G(z)): 0.44\n",
            "Epoch [95/300], Step [400/600], d_loss: 1.1392, g_loss: 1.0795, D(x): 0.57, D(G(z)): 0.39\n",
            "Epoch [95/300], Step [600/600], d_loss: 1.2952, g_loss: 1.0026, D(x): 0.53, D(G(z)): 0.42\n",
            "Saving fake_images-0096.png\n",
            "Epoch [96/300], Step [200/600], d_loss: 1.1881, g_loss: 1.0582, D(x): 0.56, D(G(z)): 0.38\n",
            "Epoch [96/300], Step [400/600], d_loss: 1.1848, g_loss: 0.9242, D(x): 0.59, D(G(z)): 0.43\n",
            "Epoch [96/300], Step [600/600], d_loss: 1.1627, g_loss: 0.9216, D(x): 0.59, D(G(z)): 0.42\n",
            "Saving fake_images-0097.png\n",
            "Epoch [97/300], Step [200/600], d_loss: 1.1975, g_loss: 0.9223, D(x): 0.57, D(G(z)): 0.41\n",
            "Epoch [97/300], Step [400/600], d_loss: 1.2881, g_loss: 0.9722, D(x): 0.56, D(G(z)): 0.45\n",
            "Epoch [97/300], Step [600/600], d_loss: 1.2643, g_loss: 0.8585, D(x): 0.57, D(G(z)): 0.46\n",
            "Saving fake_images-0098.png\n",
            "Epoch [98/300], Step [200/600], d_loss: 1.1382, g_loss: 1.0400, D(x): 0.57, D(G(z)): 0.38\n",
            "Epoch [98/300], Step [400/600], d_loss: 1.2466, g_loss: 0.8491, D(x): 0.57, D(G(z)): 0.45\n",
            "Epoch [98/300], Step [600/600], d_loss: 1.2243, g_loss: 0.9325, D(x): 0.58, D(G(z)): 0.41\n",
            "Saving fake_images-0099.png\n",
            "Epoch [99/300], Step [200/600], d_loss: 1.2083, g_loss: 0.9301, D(x): 0.57, D(G(z)): 0.41\n",
            "Epoch [99/300], Step [400/600], d_loss: 1.3741, g_loss: 0.8745, D(x): 0.52, D(G(z)): 0.43\n",
            "Epoch [99/300], Step [600/600], d_loss: 1.3483, g_loss: 0.8791, D(x): 0.54, D(G(z)): 0.46\n",
            "Saving fake_images-0100.png\n",
            "Epoch [100/300], Step [200/600], d_loss: 1.2341, g_loss: 0.9504, D(x): 0.59, D(G(z)): 0.45\n",
            "Epoch [100/300], Step [400/600], d_loss: 1.2760, g_loss: 0.8439, D(x): 0.53, D(G(z)): 0.43\n",
            "Epoch [100/300], Step [600/600], d_loss: 1.3332, g_loss: 1.0076, D(x): 0.50, D(G(z)): 0.42\n",
            "Saving fake_images-0101.png\n",
            "Epoch [101/300], Step [200/600], d_loss: 1.2246, g_loss: 0.9114, D(x): 0.55, D(G(z)): 0.42\n",
            "Epoch [101/300], Step [400/600], d_loss: 1.2360, g_loss: 0.9182, D(x): 0.55, D(G(z)): 0.42\n",
            "Epoch [101/300], Step [600/600], d_loss: 1.2711, g_loss: 0.8616, D(x): 0.56, D(G(z)): 0.45\n",
            "Saving fake_images-0102.png\n",
            "Epoch [102/300], Step [200/600], d_loss: 1.1591, g_loss: 0.8936, D(x): 0.59, D(G(z)): 0.43\n",
            "Epoch [102/300], Step [400/600], d_loss: 1.2242, g_loss: 0.9351, D(x): 0.56, D(G(z)): 0.43\n",
            "Epoch [102/300], Step [600/600], d_loss: 1.2638, g_loss: 0.8424, D(x): 0.55, D(G(z)): 0.43\n",
            "Saving fake_images-0103.png\n",
            "Epoch [103/300], Step [200/600], d_loss: 1.2098, g_loss: 1.1240, D(x): 0.54, D(G(z)): 0.39\n",
            "Epoch [103/300], Step [400/600], d_loss: 1.2289, g_loss: 0.9596, D(x): 0.54, D(G(z)): 0.40\n",
            "Epoch [103/300], Step [600/600], d_loss: 1.3532, g_loss: 0.8483, D(x): 0.54, D(G(z)): 0.45\n",
            "Saving fake_images-0104.png\n",
            "Epoch [104/300], Step [200/600], d_loss: 1.2462, g_loss: 0.9102, D(x): 0.54, D(G(z)): 0.42\n",
            "Epoch [104/300], Step [400/600], d_loss: 1.2503, g_loss: 0.7457, D(x): 0.61, D(G(z)): 0.50\n",
            "Epoch [104/300], Step [600/600], d_loss: 1.2272, g_loss: 0.9372, D(x): 0.59, D(G(z)): 0.45\n",
            "Saving fake_images-0105.png\n",
            "Epoch [105/300], Step [200/600], d_loss: 1.3063, g_loss: 0.8386, D(x): 0.54, D(G(z)): 0.45\n",
            "Epoch [105/300], Step [400/600], d_loss: 1.2524, g_loss: 0.7803, D(x): 0.59, D(G(z)): 0.46\n",
            "Epoch [105/300], Step [600/600], d_loss: 1.3031, g_loss: 0.8660, D(x): 0.53, D(G(z)): 0.45\n",
            "Saving fake_images-0106.png\n",
            "Epoch [106/300], Step [200/600], d_loss: 1.2696, g_loss: 0.9278, D(x): 0.55, D(G(z)): 0.43\n",
            "Epoch [106/300], Step [400/600], d_loss: 1.2490, g_loss: 0.8862, D(x): 0.56, D(G(z)): 0.44\n",
            "Epoch [106/300], Step [600/600], d_loss: 1.2179, g_loss: 0.9131, D(x): 0.55, D(G(z)): 0.41\n",
            "Saving fake_images-0107.png\n",
            "Epoch [107/300], Step [200/600], d_loss: 1.2273, g_loss: 0.9654, D(x): 0.58, D(G(z)): 0.44\n",
            "Epoch [107/300], Step [400/600], d_loss: 1.2208, g_loss: 0.9414, D(x): 0.57, D(G(z)): 0.42\n",
            "Epoch [107/300], Step [600/600], d_loss: 1.1861, g_loss: 0.9792, D(x): 0.52, D(G(z)): 0.36\n",
            "Saving fake_images-0108.png\n",
            "Epoch [108/300], Step [200/600], d_loss: 1.1788, g_loss: 1.2614, D(x): 0.52, D(G(z)): 0.35\n",
            "Epoch [108/300], Step [400/600], d_loss: 1.1977, g_loss: 0.8781, D(x): 0.57, D(G(z)): 0.42\n",
            "Epoch [108/300], Step [600/600], d_loss: 1.2979, g_loss: 0.9370, D(x): 0.51, D(G(z)): 0.42\n",
            "Saving fake_images-0109.png\n",
            "Epoch [109/300], Step [200/600], d_loss: 1.2451, g_loss: 0.8572, D(x): 0.58, D(G(z)): 0.45\n",
            "Epoch [109/300], Step [400/600], d_loss: 1.2711, g_loss: 0.7801, D(x): 0.58, D(G(z)): 0.47\n",
            "Epoch [109/300], Step [600/600], d_loss: 1.2658, g_loss: 0.8343, D(x): 0.55, D(G(z)): 0.44\n",
            "Saving fake_images-0110.png\n",
            "Epoch [110/300], Step [200/600], d_loss: 1.2780, g_loss: 0.8541, D(x): 0.51, D(G(z)): 0.41\n",
            "Epoch [110/300], Step [400/600], d_loss: 1.2301, g_loss: 0.8300, D(x): 0.58, D(G(z)): 0.45\n",
            "Epoch [110/300], Step [600/600], d_loss: 1.2411, g_loss: 0.8802, D(x): 0.57, D(G(z)): 0.45\n",
            "Saving fake_images-0111.png\n",
            "Epoch [111/300], Step [200/600], d_loss: 1.1365, g_loss: 0.8662, D(x): 0.57, D(G(z)): 0.40\n",
            "Epoch [111/300], Step [400/600], d_loss: 1.2886, g_loss: 0.8593, D(x): 0.54, D(G(z)): 0.45\n",
            "Epoch [111/300], Step [600/600], d_loss: 1.1915, g_loss: 0.9198, D(x): 0.57, D(G(z)): 0.42\n",
            "Saving fake_images-0112.png\n",
            "Epoch [112/300], Step [200/600], d_loss: 1.2232, g_loss: 0.9591, D(x): 0.56, D(G(z)): 0.42\n",
            "Epoch [112/300], Step [400/600], d_loss: 1.2559, g_loss: 0.9724, D(x): 0.53, D(G(z)): 0.42\n",
            "Epoch [112/300], Step [600/600], d_loss: 1.1803, g_loss: 0.7921, D(x): 0.60, D(G(z)): 0.45\n",
            "Saving fake_images-0113.png\n",
            "Epoch [113/300], Step [200/600], d_loss: 1.1401, g_loss: 1.1183, D(x): 0.53, D(G(z)): 0.33\n",
            "Epoch [113/300], Step [400/600], d_loss: 1.2149, g_loss: 0.8134, D(x): 0.58, D(G(z)): 0.44\n",
            "Epoch [113/300], Step [600/600], d_loss: 1.2495, g_loss: 1.1353, D(x): 0.53, D(G(z)): 0.37\n",
            "Saving fake_images-0114.png\n",
            "Epoch [114/300], Step [200/600], d_loss: 1.3322, g_loss: 0.7574, D(x): 0.58, D(G(z)): 0.49\n",
            "Epoch [114/300], Step [400/600], d_loss: 1.1726, g_loss: 0.9037, D(x): 0.58, D(G(z)): 0.41\n",
            "Epoch [114/300], Step [600/600], d_loss: 1.2718, g_loss: 0.9541, D(x): 0.51, D(G(z)): 0.39\n",
            "Saving fake_images-0115.png\n",
            "Epoch [115/300], Step [200/600], d_loss: 1.2852, g_loss: 0.9412, D(x): 0.55, D(G(z)): 0.43\n",
            "Epoch [115/300], Step [400/600], d_loss: 1.2790, g_loss: 0.8764, D(x): 0.56, D(G(z)): 0.44\n",
            "Epoch [115/300], Step [600/600], d_loss: 1.2766, g_loss: 0.8634, D(x): 0.56, D(G(z)): 0.44\n",
            "Saving fake_images-0116.png\n",
            "Epoch [116/300], Step [200/600], d_loss: 1.2568, g_loss: 0.8053, D(x): 0.58, D(G(z)): 0.46\n",
            "Epoch [116/300], Step [400/600], d_loss: 1.3652, g_loss: 0.8459, D(x): 0.54, D(G(z)): 0.47\n",
            "Epoch [116/300], Step [600/600], d_loss: 1.2543, g_loss: 0.8960, D(x): 0.56, D(G(z)): 0.43\n",
            "Saving fake_images-0117.png\n",
            "Epoch [117/300], Step [200/600], d_loss: 1.2117, g_loss: 1.0005, D(x): 0.54, D(G(z)): 0.40\n",
            "Epoch [117/300], Step [400/600], d_loss: 1.3105, g_loss: 0.8759, D(x): 0.51, D(G(z)): 0.42\n",
            "Epoch [117/300], Step [600/600], d_loss: 1.1838, g_loss: 0.9973, D(x): 0.58, D(G(z)): 0.42\n",
            "Saving fake_images-0118.png\n",
            "Epoch [118/300], Step [200/600], d_loss: 1.2341, g_loss: 0.7764, D(x): 0.60, D(G(z)): 0.46\n",
            "Epoch [118/300], Step [400/600], d_loss: 1.2195, g_loss: 0.8226, D(x): 0.57, D(G(z)): 0.43\n",
            "Epoch [118/300], Step [600/600], d_loss: 1.2390, g_loss: 0.8125, D(x): 0.57, D(G(z)): 0.44\n",
            "Saving fake_images-0119.png\n",
            "Epoch [119/300], Step [200/600], d_loss: 1.2357, g_loss: 1.0189, D(x): 0.53, D(G(z)): 0.41\n",
            "Epoch [119/300], Step [400/600], d_loss: 1.2628, g_loss: 0.8972, D(x): 0.53, D(G(z)): 0.42\n",
            "Epoch [119/300], Step [600/600], d_loss: 1.3077, g_loss: 0.9532, D(x): 0.51, D(G(z)): 0.42\n",
            "Saving fake_images-0120.png\n",
            "Epoch [120/300], Step [200/600], d_loss: 1.2482, g_loss: 0.8823, D(x): 0.58, D(G(z)): 0.45\n",
            "Epoch [120/300], Step [400/600], d_loss: 1.2318, g_loss: 0.7925, D(x): 0.58, D(G(z)): 0.46\n",
            "Epoch [120/300], Step [600/600], d_loss: 1.3446, g_loss: 0.8009, D(x): 0.54, D(G(z)): 0.46\n",
            "Saving fake_images-0121.png\n",
            "Epoch [121/300], Step [200/600], d_loss: 1.3698, g_loss: 0.8579, D(x): 0.56, D(G(z)): 0.48\n",
            "Epoch [121/300], Step [400/600], d_loss: 1.1883, g_loss: 0.9300, D(x): 0.57, D(G(z)): 0.42\n",
            "Epoch [121/300], Step [600/600], d_loss: 1.3023, g_loss: 0.9434, D(x): 0.56, D(G(z)): 0.46\n",
            "Saving fake_images-0122.png\n",
            "Epoch [122/300], Step [200/600], d_loss: 1.2861, g_loss: 0.8673, D(x): 0.54, D(G(z)): 0.44\n",
            "Epoch [122/300], Step [400/600], d_loss: 1.4236, g_loss: 0.8950, D(x): 0.52, D(G(z)): 0.47\n",
            "Epoch [122/300], Step [600/600], d_loss: 1.1887, g_loss: 0.7392, D(x): 0.60, D(G(z)): 0.45\n",
            "Saving fake_images-0123.png\n",
            "Epoch [123/300], Step [200/600], d_loss: 1.2015, g_loss: 1.0334, D(x): 0.50, D(G(z)): 0.36\n",
            "Epoch [123/300], Step [400/600], d_loss: 1.3445, g_loss: 0.9821, D(x): 0.51, D(G(z)): 0.43\n",
            "Epoch [123/300], Step [600/600], d_loss: 1.2366, g_loss: 0.8354, D(x): 0.59, D(G(z)): 0.45\n",
            "Saving fake_images-0124.png\n",
            "Epoch [124/300], Step [200/600], d_loss: 1.2576, g_loss: 0.8858, D(x): 0.55, D(G(z)): 0.44\n",
            "Epoch [124/300], Step [400/600], d_loss: 1.2858, g_loss: 0.8645, D(x): 0.54, D(G(z)): 0.41\n",
            "Epoch [124/300], Step [600/600], d_loss: 1.2890, g_loss: 0.8623, D(x): 0.52, D(G(z)): 0.43\n",
            "Saving fake_images-0125.png\n",
            "Epoch [125/300], Step [200/600], d_loss: 1.3245, g_loss: 0.9088, D(x): 0.50, D(G(z)): 0.41\n",
            "Epoch [125/300], Step [400/600], d_loss: 1.2744, g_loss: 0.9459, D(x): 0.53, D(G(z)): 0.41\n",
            "Epoch [125/300], Step [600/600], d_loss: 1.2542, g_loss: 0.7947, D(x): 0.54, D(G(z)): 0.43\n",
            "Saving fake_images-0126.png\n",
            "Epoch [126/300], Step [200/600], d_loss: 1.2697, g_loss: 0.8558, D(x): 0.58, D(G(z)): 0.47\n",
            "Epoch [126/300], Step [400/600], d_loss: 1.2701, g_loss: 0.8618, D(x): 0.55, D(G(z)): 0.45\n",
            "Epoch [126/300], Step [600/600], d_loss: 1.2366, g_loss: 0.9085, D(x): 0.56, D(G(z)): 0.44\n",
            "Saving fake_images-0127.png\n",
            "Epoch [127/300], Step [200/600], d_loss: 1.2397, g_loss: 0.8820, D(x): 0.55, D(G(z)): 0.43\n",
            "Epoch [127/300], Step [400/600], d_loss: 1.2642, g_loss: 0.8079, D(x): 0.58, D(G(z)): 0.47\n",
            "Epoch [127/300], Step [600/600], d_loss: 1.2878, g_loss: 0.9640, D(x): 0.54, D(G(z)): 0.43\n",
            "Saving fake_images-0128.png\n",
            "Epoch [128/300], Step [200/600], d_loss: 1.1763, g_loss: 0.8933, D(x): 0.55, D(G(z)): 0.41\n",
            "Epoch [128/300], Step [400/600], d_loss: 1.2188, g_loss: 0.9780, D(x): 0.56, D(G(z)): 0.42\n",
            "Epoch [128/300], Step [600/600], d_loss: 1.2004, g_loss: 0.8398, D(x): 0.59, D(G(z)): 0.45\n",
            "Saving fake_images-0129.png\n",
            "Epoch [129/300], Step [200/600], d_loss: 1.2803, g_loss: 0.8363, D(x): 0.58, D(G(z)): 0.45\n",
            "Epoch [129/300], Step [400/600], d_loss: 1.2511, g_loss: 0.9425, D(x): 0.53, D(G(z)): 0.42\n",
            "Epoch [129/300], Step [600/600], d_loss: 1.2632, g_loss: 0.8527, D(x): 0.58, D(G(z)): 0.46\n",
            "Saving fake_images-0130.png\n",
            "Epoch [130/300], Step [200/600], d_loss: 1.2627, g_loss: 0.7373, D(x): 0.56, D(G(z)): 0.45\n",
            "Epoch [130/300], Step [400/600], d_loss: 1.2069, g_loss: 0.8646, D(x): 0.57, D(G(z)): 0.44\n",
            "Epoch [130/300], Step [600/600], d_loss: 1.2247, g_loss: 0.8373, D(x): 0.57, D(G(z)): 0.43\n",
            "Saving fake_images-0131.png\n",
            "Epoch [131/300], Step [200/600], d_loss: 1.1440, g_loss: 0.7586, D(x): 0.61, D(G(z)): 0.44\n",
            "Epoch [131/300], Step [400/600], d_loss: 1.2360, g_loss: 0.9328, D(x): 0.54, D(G(z)): 0.42\n",
            "Epoch [131/300], Step [600/600], d_loss: 1.2724, g_loss: 0.8303, D(x): 0.55, D(G(z)): 0.45\n",
            "Saving fake_images-0132.png\n",
            "Epoch [132/300], Step [200/600], d_loss: 1.1623, g_loss: 1.0606, D(x): 0.61, D(G(z)): 0.43\n",
            "Epoch [132/300], Step [400/600], d_loss: 1.2283, g_loss: 0.8288, D(x): 0.59, D(G(z)): 0.46\n",
            "Epoch [132/300], Step [600/600], d_loss: 1.1662, g_loss: 1.0739, D(x): 0.56, D(G(z)): 0.40\n",
            "Saving fake_images-0133.png\n",
            "Epoch [133/300], Step [200/600], d_loss: 1.2822, g_loss: 0.8778, D(x): 0.55, D(G(z)): 0.44\n",
            "Epoch [133/300], Step [400/600], d_loss: 1.3109, g_loss: 0.8579, D(x): 0.53, D(G(z)): 0.45\n",
            "Epoch [133/300], Step [600/600], d_loss: 1.3120, g_loss: 0.8861, D(x): 0.56, D(G(z)): 0.46\n",
            "Saving fake_images-0134.png\n",
            "Epoch [134/300], Step [200/600], d_loss: 1.2600, g_loss: 0.8819, D(x): 0.57, D(G(z)): 0.45\n",
            "Epoch [134/300], Step [400/600], d_loss: 1.3272, g_loss: 0.8503, D(x): 0.53, D(G(z)): 0.45\n",
            "Epoch [134/300], Step [600/600], d_loss: 1.2766, g_loss: 0.9334, D(x): 0.53, D(G(z)): 0.42\n",
            "Saving fake_images-0135.png\n",
            "Epoch [135/300], Step [200/600], d_loss: 1.2698, g_loss: 0.8828, D(x): 0.53, D(G(z)): 0.42\n",
            "Epoch [135/300], Step [400/600], d_loss: 1.3001, g_loss: 0.9922, D(x): 0.52, D(G(z)): 0.41\n",
            "Epoch [135/300], Step [600/600], d_loss: 1.2459, g_loss: 0.7926, D(x): 0.60, D(G(z)): 0.48\n",
            "Saving fake_images-0136.png\n",
            "Epoch [136/300], Step [200/600], d_loss: 1.2531, g_loss: 0.8374, D(x): 0.56, D(G(z)): 0.45\n",
            "Epoch [136/300], Step [400/600], d_loss: 1.3044, g_loss: 0.9827, D(x): 0.52, D(G(z)): 0.43\n",
            "Epoch [136/300], Step [600/600], d_loss: 1.2796, g_loss: 0.8745, D(x): 0.56, D(G(z)): 0.46\n",
            "Saving fake_images-0137.png\n",
            "Epoch [137/300], Step [200/600], d_loss: 1.2515, g_loss: 0.8536, D(x): 0.57, D(G(z)): 0.46\n",
            "Epoch [137/300], Step [400/600], d_loss: 1.2840, g_loss: 0.7794, D(x): 0.55, D(G(z)): 0.46\n",
            "Epoch [137/300], Step [600/600], d_loss: 1.2835, g_loss: 0.8487, D(x): 0.56, D(G(z)): 0.46\n",
            "Saving fake_images-0138.png\n",
            "Epoch [138/300], Step [200/600], d_loss: 1.2320, g_loss: 0.9139, D(x): 0.57, D(G(z)): 0.44\n",
            "Epoch [138/300], Step [400/600], d_loss: 1.2337, g_loss: 0.8949, D(x): 0.55, D(G(z)): 0.42\n",
            "Epoch [138/300], Step [600/600], d_loss: 1.2772, g_loss: 0.8341, D(x): 0.58, D(G(z)): 0.48\n",
            "Saving fake_images-0139.png\n",
            "Epoch [139/300], Step [200/600], d_loss: 1.2440, g_loss: 0.9865, D(x): 0.55, D(G(z)): 0.43\n",
            "Epoch [139/300], Step [400/600], d_loss: 1.1853, g_loss: 0.8725, D(x): 0.58, D(G(z)): 0.43\n",
            "Epoch [139/300], Step [600/600], d_loss: 1.3363, g_loss: 0.9100, D(x): 0.53, D(G(z)): 0.46\n",
            "Saving fake_images-0140.png\n",
            "Epoch [140/300], Step [200/600], d_loss: 1.2679, g_loss: 0.8318, D(x): 0.56, D(G(z)): 0.46\n",
            "Epoch [140/300], Step [400/600], d_loss: 1.3408, g_loss: 0.8725, D(x): 0.49, D(G(z)): 0.41\n",
            "Epoch [140/300], Step [600/600], d_loss: 1.2218, g_loss: 0.9063, D(x): 0.59, D(G(z)): 0.44\n",
            "Saving fake_images-0141.png\n",
            "Epoch [141/300], Step [200/600], d_loss: 1.3034, g_loss: 0.7685, D(x): 0.58, D(G(z)): 0.49\n",
            "Epoch [141/300], Step [400/600], d_loss: 1.2351, g_loss: 0.8904, D(x): 0.52, D(G(z)): 0.39\n",
            "Epoch [141/300], Step [600/600], d_loss: 1.2748, g_loss: 0.8152, D(x): 0.60, D(G(z)): 0.48\n",
            "Saving fake_images-0142.png\n",
            "Epoch [142/300], Step [200/600], d_loss: 1.2301, g_loss: 0.7810, D(x): 0.57, D(G(z)): 0.44\n",
            "Epoch [142/300], Step [400/600], d_loss: 1.2544, g_loss: 0.8276, D(x): 0.56, D(G(z)): 0.45\n",
            "Epoch [142/300], Step [600/600], d_loss: 1.2900, g_loss: 0.9842, D(x): 0.52, D(G(z)): 0.42\n",
            "Saving fake_images-0143.png\n",
            "Epoch [143/300], Step [200/600], d_loss: 1.2335, g_loss: 0.8192, D(x): 0.57, D(G(z)): 0.45\n",
            "Epoch [143/300], Step [400/600], d_loss: 1.2253, g_loss: 0.8413, D(x): 0.59, D(G(z)): 0.48\n",
            "Epoch [143/300], Step [600/600], d_loss: 1.2527, g_loss: 0.8859, D(x): 0.57, D(G(z)): 0.45\n",
            "Saving fake_images-0144.png\n",
            "Epoch [144/300], Step [200/600], d_loss: 1.2570, g_loss: 0.8934, D(x): 0.57, D(G(z)): 0.45\n",
            "Epoch [144/300], Step [400/600], d_loss: 1.2050, g_loss: 0.8746, D(x): 0.54, D(G(z)): 0.41\n",
            "Epoch [144/300], Step [600/600], d_loss: 1.2690, g_loss: 0.8725, D(x): 0.56, D(G(z)): 0.45\n",
            "Saving fake_images-0145.png\n",
            "Epoch [145/300], Step [200/600], d_loss: 1.2109, g_loss: 0.8180, D(x): 0.56, D(G(z)): 0.43\n",
            "Epoch [145/300], Step [400/600], d_loss: 1.3097, g_loss: 0.9249, D(x): 0.54, D(G(z)): 0.45\n",
            "Epoch [145/300], Step [600/600], d_loss: 1.2282, g_loss: 0.8779, D(x): 0.54, D(G(z)): 0.42\n",
            "Saving fake_images-0146.png\n",
            "Epoch [146/300], Step [200/600], d_loss: 1.3080, g_loss: 0.8226, D(x): 0.55, D(G(z)): 0.47\n",
            "Epoch [146/300], Step [400/600], d_loss: 1.2361, g_loss: 0.7288, D(x): 0.58, D(G(z)): 0.46\n",
            "Epoch [146/300], Step [600/600], d_loss: 1.2393, g_loss: 0.8726, D(x): 0.57, D(G(z)): 0.45\n",
            "Saving fake_images-0147.png\n",
            "Epoch [147/300], Step [200/600], d_loss: 1.2764, g_loss: 1.0181, D(x): 0.55, D(G(z)): 0.42\n",
            "Epoch [147/300], Step [400/600], d_loss: 1.2300, g_loss: 0.8550, D(x): 0.58, D(G(z)): 0.46\n",
            "Epoch [147/300], Step [600/600], d_loss: 1.3137, g_loss: 0.7587, D(x): 0.57, D(G(z)): 0.47\n",
            "Saving fake_images-0148.png\n",
            "Epoch [148/300], Step [200/600], d_loss: 1.2757, g_loss: 0.7523, D(x): 0.57, D(G(z)): 0.48\n",
            "Epoch [148/300], Step [400/600], d_loss: 1.1772, g_loss: 0.8059, D(x): 0.57, D(G(z)): 0.42\n",
            "Epoch [148/300], Step [600/600], d_loss: 1.2512, g_loss: 0.8080, D(x): 0.56, D(G(z)): 0.44\n",
            "Saving fake_images-0149.png\n",
            "Epoch [149/300], Step [200/600], d_loss: 1.3500, g_loss: 0.8675, D(x): 0.53, D(G(z)): 0.46\n",
            "Epoch [149/300], Step [400/600], d_loss: 1.2157, g_loss: 1.0179, D(x): 0.56, D(G(z)): 0.40\n",
            "Epoch [149/300], Step [600/600], d_loss: 1.3465, g_loss: 0.9432, D(x): 0.53, D(G(z)): 0.46\n",
            "Saving fake_images-0150.png\n",
            "Epoch [150/300], Step [200/600], d_loss: 1.2577, g_loss: 0.8540, D(x): 0.53, D(G(z)): 0.42\n",
            "Epoch [150/300], Step [400/600], d_loss: 1.2883, g_loss: 0.6784, D(x): 0.60, D(G(z)): 0.50\n",
            "Epoch [150/300], Step [600/600], d_loss: 1.2550, g_loss: 0.7758, D(x): 0.59, D(G(z)): 0.47\n",
            "Saving fake_images-0151.png\n",
            "Epoch [151/300], Step [200/600], d_loss: 1.2466, g_loss: 0.7678, D(x): 0.59, D(G(z)): 0.47\n",
            "Epoch [151/300], Step [400/600], d_loss: 1.3094, g_loss: 0.8029, D(x): 0.55, D(G(z)): 0.45\n",
            "Epoch [151/300], Step [600/600], d_loss: 1.2731, g_loss: 0.8860, D(x): 0.54, D(G(z)): 0.44\n",
            "Saving fake_images-0152.png\n",
            "Epoch [152/300], Step [200/600], d_loss: 1.3432, g_loss: 0.8959, D(x): 0.54, D(G(z)): 0.46\n",
            "Epoch [152/300], Step [400/600], d_loss: 1.2334, g_loss: 0.8571, D(x): 0.57, D(G(z)): 0.45\n",
            "Epoch [152/300], Step [600/600], d_loss: 1.2573, g_loss: 0.8357, D(x): 0.54, D(G(z)): 0.44\n",
            "Saving fake_images-0153.png\n",
            "Epoch [153/300], Step [200/600], d_loss: 1.2477, g_loss: 0.7409, D(x): 0.57, D(G(z)): 0.47\n",
            "Epoch [153/300], Step [400/600], d_loss: 1.2291, g_loss: 0.8483, D(x): 0.57, D(G(z)): 0.44\n",
            "Epoch [153/300], Step [600/600], d_loss: 1.2952, g_loss: 0.8792, D(x): 0.53, D(G(z)): 0.44\n",
            "Saving fake_images-0154.png\n",
            "Epoch [154/300], Step [200/600], d_loss: 1.3133, g_loss: 0.7500, D(x): 0.58, D(G(z)): 0.47\n",
            "Epoch [154/300], Step [400/600], d_loss: 1.2954, g_loss: 0.8471, D(x): 0.53, D(G(z)): 0.45\n",
            "Epoch [154/300], Step [600/600], d_loss: 1.2326, g_loss: 0.8897, D(x): 0.57, D(G(z)): 0.45\n",
            "Saving fake_images-0155.png\n",
            "Epoch [155/300], Step [200/600], d_loss: 1.2344, g_loss: 0.8995, D(x): 0.56, D(G(z)): 0.44\n",
            "Epoch [155/300], Step [400/600], d_loss: 1.3522, g_loss: 0.7542, D(x): 0.55, D(G(z)): 0.48\n",
            "Epoch [155/300], Step [600/600], d_loss: 1.2172, g_loss: 0.8654, D(x): 0.56, D(G(z)): 0.43\n",
            "Saving fake_images-0156.png\n",
            "Epoch [156/300], Step [200/600], d_loss: 1.2974, g_loss: 0.9308, D(x): 0.52, D(G(z)): 0.43\n",
            "Epoch [156/300], Step [400/600], d_loss: 1.3754, g_loss: 0.8221, D(x): 0.51, D(G(z)): 0.46\n",
            "Epoch [156/300], Step [600/600], d_loss: 1.3264, g_loss: 0.8072, D(x): 0.54, D(G(z)): 0.46\n",
            "Saving fake_images-0157.png\n",
            "Epoch [157/300], Step [200/600], d_loss: 1.3966, g_loss: 0.8386, D(x): 0.54, D(G(z)): 0.49\n",
            "Epoch [157/300], Step [400/600], d_loss: 1.2764, g_loss: 0.8148, D(x): 0.56, D(G(z)): 0.45\n",
            "Epoch [157/300], Step [600/600], d_loss: 1.3020, g_loss: 0.9223, D(x): 0.50, D(G(z)): 0.42\n",
            "Saving fake_images-0158.png\n",
            "Epoch [158/300], Step [200/600], d_loss: 1.2661, g_loss: 0.9358, D(x): 0.56, D(G(z)): 0.45\n",
            "Epoch [158/300], Step [400/600], d_loss: 1.2923, g_loss: 0.7964, D(x): 0.55, D(G(z)): 0.47\n",
            "Epoch [158/300], Step [600/600], d_loss: 1.3212, g_loss: 0.8067, D(x): 0.54, D(G(z)): 0.47\n",
            "Saving fake_images-0159.png\n",
            "Epoch [159/300], Step [200/600], d_loss: 1.2406, g_loss: 1.0282, D(x): 0.54, D(G(z)): 0.41\n",
            "Epoch [159/300], Step [400/600], d_loss: 1.2708, g_loss: 0.8301, D(x): 0.56, D(G(z)): 0.46\n",
            "Epoch [159/300], Step [600/600], d_loss: 1.2706, g_loss: 0.8625, D(x): 0.56, D(G(z)): 0.45\n",
            "Saving fake_images-0160.png\n",
            "Epoch [160/300], Step [200/600], d_loss: 1.2877, g_loss: 0.8604, D(x): 0.52, D(G(z)): 0.42\n",
            "Epoch [160/300], Step [400/600], d_loss: 1.3182, g_loss: 0.8814, D(x): 0.55, D(G(z)): 0.46\n",
            "Epoch [160/300], Step [600/600], d_loss: 1.3184, g_loss: 0.7600, D(x): 0.57, D(G(z)): 0.48\n",
            "Saving fake_images-0161.png\n",
            "Epoch [161/300], Step [200/600], d_loss: 1.2312, g_loss: 0.7794, D(x): 0.56, D(G(z)): 0.44\n",
            "Epoch [161/300], Step [400/600], d_loss: 1.2132, g_loss: 0.8768, D(x): 0.58, D(G(z)): 0.44\n",
            "Epoch [161/300], Step [600/600], d_loss: 1.2091, g_loss: 0.7539, D(x): 0.60, D(G(z)): 0.47\n",
            "Saving fake_images-0162.png\n",
            "Epoch [162/300], Step [200/600], d_loss: 1.2211, g_loss: 0.8540, D(x): 0.57, D(G(z)): 0.43\n",
            "Epoch [162/300], Step [400/600], d_loss: 1.2278, g_loss: 0.8673, D(x): 0.59, D(G(z)): 0.46\n",
            "Epoch [162/300], Step [600/600], d_loss: 1.2419, g_loss: 0.8489, D(x): 0.56, D(G(z)): 0.45\n",
            "Saving fake_images-0163.png\n",
            "Epoch [163/300], Step [200/600], d_loss: 1.1520, g_loss: 0.8450, D(x): 0.60, D(G(z)): 0.43\n",
            "Epoch [163/300], Step [400/600], d_loss: 1.2670, g_loss: 0.7962, D(x): 0.57, D(G(z)): 0.46\n",
            "Epoch [163/300], Step [600/600], d_loss: 1.2602, g_loss: 0.8540, D(x): 0.56, D(G(z)): 0.45\n",
            "Saving fake_images-0164.png\n",
            "Epoch [164/300], Step [200/600], d_loss: 1.2389, g_loss: 0.9793, D(x): 0.53, D(G(z)): 0.41\n",
            "Epoch [164/300], Step [400/600], d_loss: 1.2880, g_loss: 0.7801, D(x): 0.55, D(G(z)): 0.46\n",
            "Epoch [164/300], Step [600/600], d_loss: 1.2701, g_loss: 0.8263, D(x): 0.55, D(G(z)): 0.45\n",
            "Saving fake_images-0165.png\n",
            "Epoch [165/300], Step [200/600], d_loss: 1.2795, g_loss: 0.7620, D(x): 0.56, D(G(z)): 0.46\n",
            "Epoch [165/300], Step [400/600], d_loss: 1.3327, g_loss: 0.8465, D(x): 0.55, D(G(z)): 0.47\n",
            "Epoch [165/300], Step [600/600], d_loss: 1.3225, g_loss: 0.8228, D(x): 0.51, D(G(z)): 0.43\n",
            "Saving fake_images-0166.png\n",
            "Epoch [166/300], Step [200/600], d_loss: 1.1936, g_loss: 0.8810, D(x): 0.58, D(G(z)): 0.43\n",
            "Epoch [166/300], Step [400/600], d_loss: 1.3312, g_loss: 0.8247, D(x): 0.56, D(G(z)): 0.48\n",
            "Epoch [166/300], Step [600/600], d_loss: 1.2642, g_loss: 0.8954, D(x): 0.53, D(G(z)): 0.44\n",
            "Saving fake_images-0167.png\n",
            "Epoch [167/300], Step [200/600], d_loss: 1.2881, g_loss: 0.9997, D(x): 0.50, D(G(z)): 0.40\n",
            "Epoch [167/300], Step [400/600], d_loss: 1.1905, g_loss: 0.8806, D(x): 0.57, D(G(z)): 0.42\n",
            "Epoch [167/300], Step [600/600], d_loss: 1.2291, g_loss: 0.7936, D(x): 0.55, D(G(z)): 0.43\n",
            "Saving fake_images-0168.png\n",
            "Epoch [168/300], Step [200/600], d_loss: 1.3146, g_loss: 0.8074, D(x): 0.55, D(G(z)): 0.47\n",
            "Epoch [168/300], Step [400/600], d_loss: 1.2451, g_loss: 0.8436, D(x): 0.55, D(G(z)): 0.44\n",
            "Epoch [168/300], Step [600/600], d_loss: 1.2925, g_loss: 0.7801, D(x): 0.56, D(G(z)): 0.46\n",
            "Saving fake_images-0169.png\n",
            "Epoch [169/300], Step [200/600], d_loss: 1.2642, g_loss: 0.9167, D(x): 0.52, D(G(z)): 0.41\n",
            "Epoch [169/300], Step [400/600], d_loss: 1.2488, g_loss: 0.7466, D(x): 0.58, D(G(z)): 0.47\n",
            "Epoch [169/300], Step [600/600], d_loss: 1.2103, g_loss: 0.9234, D(x): 0.54, D(G(z)): 0.41\n",
            "Saving fake_images-0170.png\n",
            "Epoch [170/300], Step [200/600], d_loss: 1.2436, g_loss: 0.8604, D(x): 0.54, D(G(z)): 0.43\n",
            "Epoch [170/300], Step [400/600], d_loss: 1.3305, g_loss: 0.8227, D(x): 0.53, D(G(z)): 0.46\n",
            "Epoch [170/300], Step [600/600], d_loss: 1.3078, g_loss: 0.8322, D(x): 0.54, D(G(z)): 0.45\n",
            "Saving fake_images-0171.png\n",
            "Epoch [171/300], Step [200/600], d_loss: 1.2335, g_loss: 0.8937, D(x): 0.52, D(G(z)): 0.39\n",
            "Epoch [171/300], Step [400/600], d_loss: 1.3023, g_loss: 0.8374, D(x): 0.54, D(G(z)): 0.46\n",
            "Epoch [171/300], Step [600/600], d_loss: 1.2005, g_loss: 0.8990, D(x): 0.57, D(G(z)): 0.42\n",
            "Saving fake_images-0172.png\n",
            "Epoch [172/300], Step [200/600], d_loss: 1.3072, g_loss: 0.8976, D(x): 0.50, D(G(z)): 0.41\n",
            "Epoch [172/300], Step [400/600], d_loss: 1.2126, g_loss: 0.8813, D(x): 0.57, D(G(z)): 0.44\n",
            "Epoch [172/300], Step [600/600], d_loss: 1.2405, g_loss: 0.9210, D(x): 0.56, D(G(z)): 0.44\n",
            "Saving fake_images-0173.png\n",
            "Epoch [173/300], Step [200/600], d_loss: 1.3345, g_loss: 0.8397, D(x): 0.57, D(G(z)): 0.48\n",
            "Epoch [173/300], Step [400/600], d_loss: 1.2425, g_loss: 0.8368, D(x): 0.55, D(G(z)): 0.43\n",
            "Epoch [173/300], Step [600/600], d_loss: 1.2977, g_loss: 0.8116, D(x): 0.56, D(G(z)): 0.46\n",
            "Saving fake_images-0174.png\n",
            "Epoch [174/300], Step [200/600], d_loss: 1.2307, g_loss: 0.8747, D(x): 0.58, D(G(z)): 0.46\n",
            "Epoch [174/300], Step [400/600], d_loss: 1.2356, g_loss: 0.8668, D(x): 0.54, D(G(z)): 0.42\n",
            "Epoch [174/300], Step [600/600], d_loss: 1.3092, g_loss: 0.9234, D(x): 0.51, D(G(z)): 0.43\n",
            "Saving fake_images-0175.png\n",
            "Epoch [175/300], Step [200/600], d_loss: 1.2990, g_loss: 0.8397, D(x): 0.56, D(G(z)): 0.46\n",
            "Epoch [175/300], Step [400/600], d_loss: 1.3319, g_loss: 0.7345, D(x): 0.54, D(G(z)): 0.48\n",
            "Epoch [175/300], Step [600/600], d_loss: 1.3017, g_loss: 0.8069, D(x): 0.53, D(G(z)): 0.44\n",
            "Saving fake_images-0176.png\n",
            "Epoch [176/300], Step [200/600], d_loss: 1.2298, g_loss: 0.8518, D(x): 0.59, D(G(z)): 0.46\n",
            "Epoch [176/300], Step [400/600], d_loss: 1.2195, g_loss: 0.9145, D(x): 0.56, D(G(z)): 0.43\n",
            "Epoch [176/300], Step [600/600], d_loss: 1.2644, g_loss: 0.8013, D(x): 0.57, D(G(z)): 0.47\n",
            "Saving fake_images-0177.png\n",
            "Epoch [177/300], Step [200/600], d_loss: 1.2490, g_loss: 0.9541, D(x): 0.54, D(G(z)): 0.42\n",
            "Epoch [177/300], Step [400/600], d_loss: 1.2466, g_loss: 0.8582, D(x): 0.55, D(G(z)): 0.45\n",
            "Epoch [177/300], Step [600/600], d_loss: 1.2859, g_loss: 0.8741, D(x): 0.53, D(G(z)): 0.43\n",
            "Saving fake_images-0178.png\n",
            "Epoch [178/300], Step [200/600], d_loss: 1.2219, g_loss: 0.8115, D(x): 0.56, D(G(z)): 0.44\n",
            "Epoch [178/300], Step [400/600], d_loss: 1.2913, g_loss: 0.9119, D(x): 0.55, D(G(z)): 0.45\n",
            "Epoch [178/300], Step [600/600], d_loss: 1.2306, g_loss: 0.8284, D(x): 0.58, D(G(z)): 0.46\n",
            "Saving fake_images-0179.png\n",
            "Epoch [179/300], Step [200/600], d_loss: 1.3501, g_loss: 0.9285, D(x): 0.52, D(G(z)): 0.44\n",
            "Epoch [179/300], Step [400/600], d_loss: 1.2449, g_loss: 0.9958, D(x): 0.55, D(G(z)): 0.43\n",
            "Epoch [179/300], Step [600/600], d_loss: 1.3082, g_loss: 0.7567, D(x): 0.57, D(G(z)): 0.48\n",
            "Saving fake_images-0180.png\n",
            "Epoch [180/300], Step [200/600], d_loss: 1.2822, g_loss: 0.9149, D(x): 0.55, D(G(z)): 0.44\n",
            "Epoch [180/300], Step [400/600], d_loss: 1.3284, g_loss: 0.8825, D(x): 0.53, D(G(z)): 0.44\n",
            "Epoch [180/300], Step [600/600], d_loss: 1.2800, g_loss: 0.8374, D(x): 0.57, D(G(z)): 0.46\n",
            "Saving fake_images-0181.png\n",
            "Epoch [181/300], Step [200/600], d_loss: 1.2574, g_loss: 0.7691, D(x): 0.56, D(G(z)): 0.45\n",
            "Epoch [181/300], Step [400/600], d_loss: 1.3239, g_loss: 0.7672, D(x): 0.55, D(G(z)): 0.48\n",
            "Epoch [181/300], Step [600/600], d_loss: 1.2762, g_loss: 0.8002, D(x): 0.57, D(G(z)): 0.47\n",
            "Saving fake_images-0182.png\n",
            "Epoch [182/300], Step [200/600], d_loss: 1.2892, g_loss: 0.9220, D(x): 0.52, D(G(z)): 0.42\n",
            "Epoch [182/300], Step [400/600], d_loss: 1.2533, g_loss: 0.8857, D(x): 0.54, D(G(z)): 0.42\n",
            "Epoch [182/300], Step [600/600], d_loss: 1.2292, g_loss: 0.9307, D(x): 0.54, D(G(z)): 0.40\n",
            "Saving fake_images-0183.png\n",
            "Epoch [183/300], Step [200/600], d_loss: 1.1758, g_loss: 0.9318, D(x): 0.58, D(G(z)): 0.42\n",
            "Epoch [183/300], Step [400/600], d_loss: 1.3652, g_loss: 0.8026, D(x): 0.55, D(G(z)): 0.48\n",
            "Epoch [183/300], Step [600/600], d_loss: 1.3019, g_loss: 0.7201, D(x): 0.57, D(G(z)): 0.48\n",
            "Saving fake_images-0184.png\n",
            "Epoch [184/300], Step [200/600], d_loss: 1.2605, g_loss: 1.0176, D(x): 0.54, D(G(z)): 0.41\n",
            "Epoch [184/300], Step [400/600], d_loss: 1.2687, g_loss: 0.8242, D(x): 0.54, D(G(z)): 0.45\n",
            "Epoch [184/300], Step [600/600], d_loss: 1.3291, g_loss: 0.8164, D(x): 0.55, D(G(z)): 0.47\n",
            "Saving fake_images-0185.png\n",
            "Epoch [185/300], Step [200/600], d_loss: 1.2970, g_loss: 0.8219, D(x): 0.56, D(G(z)): 0.46\n",
            "Epoch [185/300], Step [400/600], d_loss: 1.3219, g_loss: 0.8526, D(x): 0.53, D(G(z)): 0.45\n",
            "Epoch [185/300], Step [600/600], d_loss: 1.2165, g_loss: 0.7567, D(x): 0.59, D(G(z)): 0.47\n",
            "Saving fake_images-0186.png\n",
            "Epoch [186/300], Step [200/600], d_loss: 1.2725, g_loss: 0.8202, D(x): 0.57, D(G(z)): 0.47\n",
            "Epoch [186/300], Step [400/600], d_loss: 1.2947, g_loss: 0.7881, D(x): 0.56, D(G(z)): 0.47\n",
            "Epoch [186/300], Step [600/600], d_loss: 1.2260, g_loss: 0.9378, D(x): 0.56, D(G(z)): 0.42\n",
            "Saving fake_images-0187.png\n",
            "Epoch [187/300], Step [200/600], d_loss: 1.2683, g_loss: 0.7709, D(x): 0.58, D(G(z)): 0.47\n",
            "Epoch [187/300], Step [400/600], d_loss: 1.3276, g_loss: 0.7540, D(x): 0.56, D(G(z)): 0.47\n",
            "Epoch [187/300], Step [600/600], d_loss: 1.3227, g_loss: 0.8718, D(x): 0.53, D(G(z)): 0.45\n",
            "Saving fake_images-0188.png\n",
            "Epoch [188/300], Step [200/600], d_loss: 1.3445, g_loss: 0.9110, D(x): 0.51, D(G(z)): 0.42\n",
            "Epoch [188/300], Step [400/600], d_loss: 1.2535, g_loss: 0.8413, D(x): 0.55, D(G(z)): 0.45\n",
            "Epoch [188/300], Step [600/600], d_loss: 1.2524, g_loss: 0.8033, D(x): 0.59, D(G(z)): 0.47\n",
            "Saving fake_images-0189.png\n",
            "Epoch [189/300], Step [200/600], d_loss: 1.2353, g_loss: 0.9320, D(x): 0.54, D(G(z)): 0.41\n",
            "Epoch [189/300], Step [400/600], d_loss: 1.2614, g_loss: 0.8881, D(x): 0.52, D(G(z)): 0.42\n",
            "Epoch [189/300], Step [600/600], d_loss: 1.2050, g_loss: 0.9615, D(x): 0.56, D(G(z)): 0.41\n",
            "Saving fake_images-0190.png\n",
            "Epoch [190/300], Step [200/600], d_loss: 1.2955, g_loss: 0.7172, D(x): 0.56, D(G(z)): 0.47\n",
            "Epoch [190/300], Step [400/600], d_loss: 1.2332, g_loss: 0.8398, D(x): 0.57, D(G(z)): 0.44\n",
            "Epoch [190/300], Step [600/600], d_loss: 1.2160, g_loss: 0.8490, D(x): 0.56, D(G(z)): 0.43\n",
            "Saving fake_images-0191.png\n",
            "Epoch [191/300], Step [200/600], d_loss: 1.2641, g_loss: 0.8066, D(x): 0.56, D(G(z)): 0.45\n",
            "Epoch [191/300], Step [400/600], d_loss: 1.2408, g_loss: 0.8074, D(x): 0.55, D(G(z)): 0.44\n",
            "Epoch [191/300], Step [600/600], d_loss: 1.2700, g_loss: 0.8209, D(x): 0.58, D(G(z)): 0.47\n",
            "Saving fake_images-0192.png\n",
            "Epoch [192/300], Step [200/600], d_loss: 1.2484, g_loss: 0.8260, D(x): 0.53, D(G(z)): 0.41\n",
            "Epoch [192/300], Step [400/600], d_loss: 1.2651, g_loss: 0.8099, D(x): 0.57, D(G(z)): 0.46\n",
            "Epoch [192/300], Step [600/600], d_loss: 1.3886, g_loss: 0.8571, D(x): 0.53, D(G(z)): 0.46\n",
            "Saving fake_images-0193.png\n",
            "Epoch [193/300], Step [200/600], d_loss: 1.2154, g_loss: 0.9465, D(x): 0.54, D(G(z)): 0.39\n",
            "Epoch [193/300], Step [400/600], d_loss: 1.2862, g_loss: 0.8368, D(x): 0.52, D(G(z)): 0.42\n",
            "Epoch [193/300], Step [600/600], d_loss: 1.2866, g_loss: 0.9390, D(x): 0.53, D(G(z)): 0.43\n",
            "Saving fake_images-0194.png\n",
            "Epoch [194/300], Step [200/600], d_loss: 1.2545, g_loss: 0.8961, D(x): 0.54, D(G(z)): 0.42\n",
            "Epoch [194/300], Step [400/600], d_loss: 1.3433, g_loss: 0.7749, D(x): 0.55, D(G(z)): 0.48\n",
            "Epoch [194/300], Step [600/600], d_loss: 1.2656, g_loss: 0.8265, D(x): 0.55, D(G(z)): 0.43\n",
            "Saving fake_images-0195.png\n",
            "Epoch [195/300], Step [200/600], d_loss: 1.2019, g_loss: 0.8541, D(x): 0.57, D(G(z)): 0.44\n",
            "Epoch [195/300], Step [400/600], d_loss: 1.2432, g_loss: 0.8932, D(x): 0.56, D(G(z)): 0.44\n",
            "Epoch [195/300], Step [600/600], d_loss: 1.1610, g_loss: 0.8783, D(x): 0.57, D(G(z)): 0.41\n",
            "Saving fake_images-0196.png\n",
            "Epoch [196/300], Step [200/600], d_loss: 1.2511, g_loss: 0.8079, D(x): 0.57, D(G(z)): 0.45\n",
            "Epoch [196/300], Step [400/600], d_loss: 1.2043, g_loss: 0.8912, D(x): 0.57, D(G(z)): 0.43\n",
            "Epoch [196/300], Step [600/600], d_loss: 1.3623, g_loss: 0.7848, D(x): 0.56, D(G(z)): 0.49\n",
            "Saving fake_images-0197.png\n",
            "Epoch [197/300], Step [200/600], d_loss: 1.2704, g_loss: 0.9030, D(x): 0.53, D(G(z)): 0.43\n",
            "Epoch [197/300], Step [400/600], d_loss: 1.2246, g_loss: 0.8237, D(x): 0.59, D(G(z)): 0.46\n",
            "Epoch [197/300], Step [600/600], d_loss: 1.3125, g_loss: 0.8885, D(x): 0.52, D(G(z)): 0.44\n",
            "Saving fake_images-0198.png\n",
            "Epoch [198/300], Step [200/600], d_loss: 1.3112, g_loss: 0.8722, D(x): 0.52, D(G(z)): 0.43\n",
            "Epoch [198/300], Step [400/600], d_loss: 1.2326, g_loss: 0.9498, D(x): 0.54, D(G(z)): 0.42\n",
            "Epoch [198/300], Step [600/600], d_loss: 1.2025, g_loss: 0.9025, D(x): 0.55, D(G(z)): 0.40\n",
            "Saving fake_images-0199.png\n",
            "Epoch [199/300], Step [200/600], d_loss: 1.2583, g_loss: 0.9525, D(x): 0.55, D(G(z)): 0.44\n",
            "Epoch [199/300], Step [400/600], d_loss: 1.2316, g_loss: 0.8376, D(x): 0.57, D(G(z)): 0.45\n",
            "Epoch [199/300], Step [600/600], d_loss: 1.3416, g_loss: 0.8554, D(x): 0.56, D(G(z)): 0.49\n",
            "Saving fake_images-0200.png\n",
            "Epoch [200/300], Step [200/600], d_loss: 1.2507, g_loss: 0.8164, D(x): 0.57, D(G(z)): 0.45\n",
            "Epoch [200/300], Step [400/600], d_loss: 1.2729, g_loss: 0.8718, D(x): 0.57, D(G(z)): 0.46\n",
            "Epoch [200/300], Step [600/600], d_loss: 1.3057, g_loss: 0.8778, D(x): 0.53, D(G(z)): 0.45\n",
            "Saving fake_images-0201.png\n",
            "Epoch [201/300], Step [200/600], d_loss: 1.2183, g_loss: 0.8555, D(x): 0.59, D(G(z)): 0.46\n",
            "Epoch [201/300], Step [400/600], d_loss: 1.2534, g_loss: 0.7793, D(x): 0.58, D(G(z)): 0.47\n",
            "Epoch [201/300], Step [600/600], d_loss: 1.2233, g_loss: 0.9282, D(x): 0.55, D(G(z)): 0.42\n",
            "Saving fake_images-0202.png\n",
            "Epoch [202/300], Step [200/600], d_loss: 1.1742, g_loss: 0.9200, D(x): 0.55, D(G(z)): 0.40\n",
            "Epoch [202/300], Step [400/600], d_loss: 1.2807, g_loss: 0.8897, D(x): 0.55, D(G(z)): 0.44\n",
            "Epoch [202/300], Step [600/600], d_loss: 1.2572, g_loss: 0.9361, D(x): 0.54, D(G(z)): 0.44\n",
            "Saving fake_images-0203.png\n",
            "Epoch [203/300], Step [200/600], d_loss: 1.3025, g_loss: 0.7446, D(x): 0.57, D(G(z)): 0.49\n",
            "Epoch [203/300], Step [400/600], d_loss: 1.2689, g_loss: 0.8259, D(x): 0.57, D(G(z)): 0.47\n",
            "Epoch [203/300], Step [600/600], d_loss: 1.2598, g_loss: 0.6971, D(x): 0.59, D(G(z)): 0.49\n",
            "Saving fake_images-0204.png\n",
            "Epoch [204/300], Step [200/600], d_loss: 1.2352, g_loss: 0.9097, D(x): 0.52, D(G(z)): 0.40\n",
            "Epoch [204/300], Step [400/600], d_loss: 1.2787, g_loss: 0.8275, D(x): 0.55, D(G(z)): 0.45\n",
            "Epoch [204/300], Step [600/600], d_loss: 1.2174, g_loss: 0.9418, D(x): 0.56, D(G(z)): 0.41\n",
            "Saving fake_images-0205.png\n",
            "Epoch [205/300], Step [200/600], d_loss: 1.2917, g_loss: 0.7919, D(x): 0.55, D(G(z)): 0.46\n",
            "Epoch [205/300], Step [400/600], d_loss: 1.3004, g_loss: 0.7373, D(x): 0.59, D(G(z)): 0.50\n",
            "Epoch [205/300], Step [600/600], d_loss: 1.2828, g_loss: 0.8168, D(x): 0.55, D(G(z)): 0.46\n",
            "Saving fake_images-0206.png\n",
            "Epoch [206/300], Step [200/600], d_loss: 1.3080, g_loss: 0.8657, D(x): 0.55, D(G(z)): 0.46\n",
            "Epoch [206/300], Step [400/600], d_loss: 1.2883, g_loss: 0.7864, D(x): 0.56, D(G(z)): 0.47\n",
            "Epoch [206/300], Step [600/600], d_loss: 1.3236, g_loss: 0.8282, D(x): 0.56, D(G(z)): 0.49\n",
            "Saving fake_images-0207.png\n",
            "Epoch [207/300], Step [200/600], d_loss: 1.2750, g_loss: 0.8996, D(x): 0.56, D(G(z)): 0.45\n",
            "Epoch [207/300], Step [400/600], d_loss: 1.2797, g_loss: 0.8077, D(x): 0.54, D(G(z)): 0.44\n",
            "Epoch [207/300], Step [600/600], d_loss: 1.3290, g_loss: 0.8345, D(x): 0.54, D(G(z)): 0.46\n",
            "Saving fake_images-0208.png\n",
            "Epoch [208/300], Step [200/600], d_loss: 1.3113, g_loss: 0.8567, D(x): 0.52, D(G(z)): 0.43\n",
            "Epoch [208/300], Step [400/600], d_loss: 1.2775, g_loss: 0.8298, D(x): 0.56, D(G(z)): 0.45\n",
            "Epoch [208/300], Step [600/600], d_loss: 1.1592, g_loss: 0.9748, D(x): 0.55, D(G(z)): 0.39\n",
            "Saving fake_images-0209.png\n",
            "Epoch [209/300], Step [200/600], d_loss: 1.3109, g_loss: 0.7574, D(x): 0.54, D(G(z)): 0.47\n",
            "Epoch [209/300], Step [400/600], d_loss: 1.3157, g_loss: 0.9677, D(x): 0.50, D(G(z)): 0.42\n",
            "Epoch [209/300], Step [600/600], d_loss: 1.2847, g_loss: 0.8040, D(x): 0.55, D(G(z)): 0.46\n",
            "Saving fake_images-0210.png\n",
            "Epoch [210/300], Step [200/600], d_loss: 1.2302, g_loss: 0.8866, D(x): 0.55, D(G(z)): 0.42\n",
            "Epoch [210/300], Step [400/600], d_loss: 1.3193, g_loss: 0.7698, D(x): 0.58, D(G(z)): 0.47\n",
            "Epoch [210/300], Step [600/600], d_loss: 1.2897, g_loss: 0.9626, D(x): 0.52, D(G(z)): 0.41\n",
            "Saving fake_images-0211.png\n",
            "Epoch [211/300], Step [200/600], d_loss: 1.3095, g_loss: 0.8775, D(x): 0.56, D(G(z)): 0.47\n",
            "Epoch [211/300], Step [400/600], d_loss: 1.2509, g_loss: 0.7324, D(x): 0.57, D(G(z)): 0.46\n",
            "Epoch [211/300], Step [600/600], d_loss: 1.3126, g_loss: 0.7451, D(x): 0.55, D(G(z)): 0.47\n",
            "Saving fake_images-0212.png\n",
            "Epoch [212/300], Step [200/600], d_loss: 1.4117, g_loss: 0.6930, D(x): 0.57, D(G(z)): 0.52\n",
            "Epoch [212/300], Step [400/600], d_loss: 1.2429, g_loss: 0.8887, D(x): 0.56, D(G(z)): 0.44\n",
            "Epoch [212/300], Step [600/600], d_loss: 1.2559, g_loss: 0.8312, D(x): 0.57, D(G(z)): 0.45\n",
            "Saving fake_images-0213.png\n",
            "Epoch [213/300], Step [200/600], d_loss: 1.3054, g_loss: 0.8740, D(x): 0.55, D(G(z)): 0.47\n",
            "Epoch [213/300], Step [400/600], d_loss: 1.2431, g_loss: 1.0916, D(x): 0.53, D(G(z)): 0.40\n",
            "Epoch [213/300], Step [600/600], d_loss: 1.1898, g_loss: 0.7625, D(x): 0.59, D(G(z)): 0.45\n",
            "Saving fake_images-0214.png\n",
            "Epoch [214/300], Step [200/600], d_loss: 1.2963, g_loss: 0.8362, D(x): 0.56, D(G(z)): 0.47\n",
            "Epoch [214/300], Step [400/600], d_loss: 1.2790, g_loss: 0.8770, D(x): 0.53, D(G(z)): 0.44\n",
            "Epoch [214/300], Step [600/600], d_loss: 1.2932, g_loss: 0.9293, D(x): 0.53, D(G(z)): 0.43\n",
            "Saving fake_images-0215.png\n",
            "Epoch [215/300], Step [200/600], d_loss: 1.2875, g_loss: 0.8143, D(x): 0.57, D(G(z)): 0.47\n",
            "Epoch [215/300], Step [400/600], d_loss: 1.3324, g_loss: 0.8485, D(x): 0.52, D(G(z)): 0.46\n",
            "Epoch [215/300], Step [600/600], d_loss: 1.1535, g_loss: 0.9117, D(x): 0.59, D(G(z)): 0.42\n",
            "Saving fake_images-0216.png\n",
            "Epoch [216/300], Step [200/600], d_loss: 1.2708, g_loss: 0.7452, D(x): 0.58, D(G(z)): 0.48\n",
            "Epoch [216/300], Step [400/600], d_loss: 1.2255, g_loss: 0.9127, D(x): 0.53, D(G(z)): 0.42\n",
            "Epoch [216/300], Step [600/600], d_loss: 1.2496, g_loss: 0.8475, D(x): 0.56, D(G(z)): 0.45\n",
            "Saving fake_images-0217.png\n",
            "Epoch [217/300], Step [200/600], d_loss: 1.2947, g_loss: 0.8744, D(x): 0.54, D(G(z)): 0.44\n",
            "Epoch [217/300], Step [400/600], d_loss: 1.3253, g_loss: 0.9845, D(x): 0.51, D(G(z)): 0.42\n",
            "Epoch [217/300], Step [600/600], d_loss: 1.2537, g_loss: 0.8148, D(x): 0.56, D(G(z)): 0.45\n",
            "Saving fake_images-0218.png\n",
            "Epoch [218/300], Step [200/600], d_loss: 1.2764, g_loss: 0.7923, D(x): 0.57, D(G(z)): 0.46\n",
            "Epoch [218/300], Step [400/600], d_loss: 1.2249, g_loss: 0.9177, D(x): 0.54, D(G(z)): 0.41\n",
            "Epoch [218/300], Step [600/600], d_loss: 1.2870, g_loss: 0.8173, D(x): 0.51, D(G(z)): 0.42\n",
            "Saving fake_images-0219.png\n",
            "Epoch [219/300], Step [200/600], d_loss: 1.2696, g_loss: 0.7517, D(x): 0.55, D(G(z)): 0.45\n",
            "Epoch [219/300], Step [400/600], d_loss: 1.2419, g_loss: 0.8325, D(x): 0.59, D(G(z)): 0.46\n",
            "Epoch [219/300], Step [600/600], d_loss: 1.2773, g_loss: 0.8082, D(x): 0.54, D(G(z)): 0.44\n",
            "Saving fake_images-0220.png\n",
            "Epoch [220/300], Step [200/600], d_loss: 1.2285, g_loss: 0.8575, D(x): 0.59, D(G(z)): 0.46\n",
            "Epoch [220/300], Step [400/600], d_loss: 1.3006, g_loss: 0.8921, D(x): 0.54, D(G(z)): 0.45\n",
            "Epoch [220/300], Step [600/600], d_loss: 1.2832, g_loss: 0.8442, D(x): 0.53, D(G(z)): 0.44\n",
            "Saving fake_images-0221.png\n",
            "Epoch [221/300], Step [200/600], d_loss: 1.2282, g_loss: 0.8281, D(x): 0.54, D(G(z)): 0.43\n",
            "Epoch [221/300], Step [400/600], d_loss: 1.2506, g_loss: 0.9202, D(x): 0.58, D(G(z)): 0.45\n",
            "Epoch [221/300], Step [600/600], d_loss: 1.3009, g_loss: 0.9099, D(x): 0.53, D(G(z)): 0.44\n",
            "Saving fake_images-0222.png\n",
            "Epoch [222/300], Step [200/600], d_loss: 1.2765, g_loss: 0.9666, D(x): 0.52, D(G(z)): 0.43\n",
            "Epoch [222/300], Step [400/600], d_loss: 1.1772, g_loss: 0.9546, D(x): 0.56, D(G(z)): 0.40\n",
            "Epoch [222/300], Step [600/600], d_loss: 1.2629, g_loss: 0.8347, D(x): 0.56, D(G(z)): 0.46\n",
            "Saving fake_images-0223.png\n",
            "Epoch [223/300], Step [200/600], d_loss: 1.3111, g_loss: 0.7859, D(x): 0.54, D(G(z)): 0.46\n",
            "Epoch [223/300], Step [400/600], d_loss: 1.2415, g_loss: 0.8641, D(x): 0.56, D(G(z)): 0.43\n",
            "Epoch [223/300], Step [600/600], d_loss: 1.2987, g_loss: 0.7574, D(x): 0.57, D(G(z)): 0.48\n",
            "Saving fake_images-0224.png\n",
            "Epoch [224/300], Step [200/600], d_loss: 1.3535, g_loss: 0.8148, D(x): 0.56, D(G(z)): 0.48\n",
            "Epoch [224/300], Step [400/600], d_loss: 1.2844, g_loss: 0.8581, D(x): 0.55, D(G(z)): 0.45\n",
            "Epoch [224/300], Step [600/600], d_loss: 1.3092, g_loss: 0.8434, D(x): 0.51, D(G(z)): 0.42\n",
            "Saving fake_images-0225.png\n",
            "Epoch [225/300], Step [200/600], d_loss: 1.2032, g_loss: 0.8870, D(x): 0.54, D(G(z)): 0.41\n",
            "Epoch [225/300], Step [400/600], d_loss: 1.2761, g_loss: 0.8138, D(x): 0.55, D(G(z)): 0.45\n",
            "Epoch [225/300], Step [600/600], d_loss: 1.3097, g_loss: 0.7357, D(x): 0.58, D(G(z)): 0.49\n",
            "Saving fake_images-0226.png\n",
            "Epoch [226/300], Step [200/600], d_loss: 1.3104, g_loss: 0.8078, D(x): 0.55, D(G(z)): 0.47\n",
            "Epoch [226/300], Step [400/600], d_loss: 1.2441, g_loss: 0.8121, D(x): 0.55, D(G(z)): 0.42\n",
            "Epoch [226/300], Step [600/600], d_loss: 1.2714, g_loss: 0.8203, D(x): 0.54, D(G(z)): 0.44\n",
            "Saving fake_images-0227.png\n",
            "Epoch [227/300], Step [200/600], d_loss: 1.2697, g_loss: 0.8800, D(x): 0.56, D(G(z)): 0.45\n",
            "Epoch [227/300], Step [400/600], d_loss: 1.2969, g_loss: 0.8678, D(x): 0.57, D(G(z)): 0.47\n",
            "Epoch [227/300], Step [600/600], d_loss: 1.2701, g_loss: 0.7806, D(x): 0.60, D(G(z)): 0.48\n",
            "Saving fake_images-0228.png\n",
            "Epoch [228/300], Step [200/600], d_loss: 1.3183, g_loss: 0.8237, D(x): 0.55, D(G(z)): 0.46\n",
            "Epoch [228/300], Step [400/600], d_loss: 1.2123, g_loss: 0.8563, D(x): 0.60, D(G(z)): 0.47\n",
            "Epoch [228/300], Step [600/600], d_loss: 1.3023, g_loss: 0.7585, D(x): 0.54, D(G(z)): 0.47\n",
            "Saving fake_images-0229.png\n",
            "Epoch [229/300], Step [200/600], d_loss: 1.3119, g_loss: 0.7792, D(x): 0.56, D(G(z)): 0.48\n",
            "Epoch [229/300], Step [400/600], d_loss: 1.2364, g_loss: 0.7608, D(x): 0.57, D(G(z)): 0.46\n",
            "Epoch [229/300], Step [600/600], d_loss: 1.2605, g_loss: 0.9250, D(x): 0.54, D(G(z)): 0.44\n",
            "Saving fake_images-0230.png\n",
            "Epoch [230/300], Step [200/600], d_loss: 1.2294, g_loss: 0.9373, D(x): 0.56, D(G(z)): 0.43\n",
            "Epoch [230/300], Step [400/600], d_loss: 1.2958, g_loss: 0.7614, D(x): 0.60, D(G(z)): 0.51\n",
            "Epoch [230/300], Step [600/600], d_loss: 1.2664, g_loss: 0.8230, D(x): 0.55, D(G(z)): 0.44\n",
            "Saving fake_images-0231.png\n",
            "Epoch [231/300], Step [200/600], d_loss: 1.2500, g_loss: 0.9114, D(x): 0.54, D(G(z)): 0.43\n",
            "Epoch [231/300], Step [400/600], d_loss: 1.2501, g_loss: 0.7948, D(x): 0.56, D(G(z)): 0.45\n",
            "Epoch [231/300], Step [600/600], d_loss: 1.2888, g_loss: 0.9012, D(x): 0.54, D(G(z)): 0.45\n",
            "Saving fake_images-0232.png\n",
            "Epoch [232/300], Step [200/600], d_loss: 1.2688, g_loss: 0.9047, D(x): 0.56, D(G(z)): 0.44\n",
            "Epoch [232/300], Step [400/600], d_loss: 1.3449, g_loss: 0.8343, D(x): 0.52, D(G(z)): 0.45\n",
            "Epoch [232/300], Step [600/600], d_loss: 1.3434, g_loss: 0.8505, D(x): 0.53, D(G(z)): 0.47\n",
            "Saving fake_images-0233.png\n",
            "Epoch [233/300], Step [200/600], d_loss: 1.3072, g_loss: 1.0798, D(x): 0.50, D(G(z)): 0.42\n",
            "Epoch [233/300], Step [400/600], d_loss: 1.2959, g_loss: 0.8861, D(x): 0.51, D(G(z)): 0.43\n",
            "Epoch [233/300], Step [600/600], d_loss: 1.3135, g_loss: 0.7800, D(x): 0.57, D(G(z)): 0.48\n",
            "Saving fake_images-0234.png\n",
            "Epoch [234/300], Step [200/600], d_loss: 1.3014, g_loss: 0.7850, D(x): 0.56, D(G(z)): 0.47\n",
            "Epoch [234/300], Step [400/600], d_loss: 1.2877, g_loss: 0.7784, D(x): 0.56, D(G(z)): 0.46\n",
            "Epoch [234/300], Step [600/600], d_loss: 1.2776, g_loss: 0.9632, D(x): 0.51, D(G(z)): 0.42\n",
            "Saving fake_images-0235.png\n",
            "Epoch [235/300], Step [200/600], d_loss: 1.3006, g_loss: 0.8119, D(x): 0.56, D(G(z)): 0.47\n",
            "Epoch [235/300], Step [400/600], d_loss: 1.2582, g_loss: 0.9363, D(x): 0.56, D(G(z)): 0.43\n",
            "Epoch [235/300], Step [600/600], d_loss: 1.2137, g_loss: 0.8917, D(x): 0.55, D(G(z)): 0.42\n",
            "Saving fake_images-0236.png\n",
            "Epoch [236/300], Step [200/600], d_loss: 1.2716, g_loss: 0.8842, D(x): 0.58, D(G(z)): 0.46\n",
            "Epoch [236/300], Step [400/600], d_loss: 1.2052, g_loss: 0.8408, D(x): 0.56, D(G(z)): 0.44\n",
            "Epoch [236/300], Step [600/600], d_loss: 1.2833, g_loss: 0.8673, D(x): 0.54, D(G(z)): 0.44\n",
            "Saving fake_images-0237.png\n",
            "Epoch [237/300], Step [200/600], d_loss: 1.3293, g_loss: 0.9306, D(x): 0.51, D(G(z)): 0.43\n",
            "Epoch [237/300], Step [400/600], d_loss: 1.3379, g_loss: 0.8788, D(x): 0.52, D(G(z)): 0.46\n",
            "Epoch [237/300], Step [600/600], d_loss: 1.4094, g_loss: 0.9382, D(x): 0.46, D(G(z)): 0.43\n",
            "Saving fake_images-0238.png\n",
            "Epoch [238/300], Step [200/600], d_loss: 1.2138, g_loss: 0.8131, D(x): 0.58, D(G(z)): 0.46\n",
            "Epoch [238/300], Step [400/600], d_loss: 1.2472, g_loss: 0.8018, D(x): 0.59, D(G(z)): 0.47\n",
            "Epoch [238/300], Step [600/600], d_loss: 1.2647, g_loss: 0.8490, D(x): 0.54, D(G(z)): 0.44\n",
            "Saving fake_images-0239.png\n",
            "Epoch [239/300], Step [200/600], d_loss: 1.2354, g_loss: 0.8578, D(x): 0.54, D(G(z)): 0.43\n",
            "Epoch [239/300], Step [400/600], d_loss: 1.2672, g_loss: 0.8971, D(x): 0.54, D(G(z)): 0.43\n",
            "Epoch [239/300], Step [600/600], d_loss: 1.3271, g_loss: 0.9001, D(x): 0.52, D(G(z)): 0.44\n",
            "Saving fake_images-0240.png\n",
            "Epoch [240/300], Step [200/600], d_loss: 1.2992, g_loss: 0.9283, D(x): 0.52, D(G(z)): 0.42\n",
            "Epoch [240/300], Step [400/600], d_loss: 1.2866, g_loss: 0.8439, D(x): 0.55, D(G(z)): 0.45\n",
            "Epoch [240/300], Step [600/600], d_loss: 1.2168, g_loss: 0.7419, D(x): 0.60, D(G(z)): 0.47\n",
            "Saving fake_images-0241.png\n",
            "Epoch [241/300], Step [200/600], d_loss: 1.3125, g_loss: 0.8243, D(x): 0.53, D(G(z)): 0.44\n",
            "Epoch [241/300], Step [400/600], d_loss: 1.2722, g_loss: 0.7973, D(x): 0.55, D(G(z)): 0.45\n",
            "Epoch [241/300], Step [600/600], d_loss: 1.3095, g_loss: 0.9350, D(x): 0.53, D(G(z)): 0.44\n",
            "Saving fake_images-0242.png\n",
            "Epoch [242/300], Step [200/600], d_loss: 1.2913, g_loss: 0.8043, D(x): 0.56, D(G(z)): 0.46\n",
            "Epoch [242/300], Step [400/600], d_loss: 1.2386, g_loss: 0.8126, D(x): 0.58, D(G(z)): 0.46\n",
            "Epoch [242/300], Step [600/600], d_loss: 1.3042, g_loss: 0.8793, D(x): 0.52, D(G(z)): 0.45\n",
            "Saving fake_images-0243.png\n",
            "Epoch [243/300], Step [200/600], d_loss: 1.2740, g_loss: 0.7837, D(x): 0.55, D(G(z)): 0.46\n",
            "Epoch [243/300], Step [400/600], d_loss: 1.3609, g_loss: 0.7834, D(x): 0.51, D(G(z)): 0.45\n",
            "Epoch [243/300], Step [600/600], d_loss: 1.2101, g_loss: 0.8954, D(x): 0.55, D(G(z)): 0.42\n",
            "Saving fake_images-0244.png\n",
            "Epoch [244/300], Step [200/600], d_loss: 1.2466, g_loss: 0.8178, D(x): 0.57, D(G(z)): 0.46\n",
            "Epoch [244/300], Step [400/600], d_loss: 1.3561, g_loss: 0.9008, D(x): 0.53, D(G(z)): 0.47\n",
            "Epoch [244/300], Step [600/600], d_loss: 1.3536, g_loss: 0.8829, D(x): 0.53, D(G(z)): 0.47\n",
            "Saving fake_images-0245.png\n",
            "Epoch [245/300], Step [200/600], d_loss: 1.3729, g_loss: 0.8473, D(x): 0.55, D(G(z)): 0.49\n",
            "Epoch [245/300], Step [400/600], d_loss: 1.2981, g_loss: 0.8440, D(x): 0.55, D(G(z)): 0.46\n",
            "Epoch [245/300], Step [600/600], d_loss: 1.3397, g_loss: 0.8513, D(x): 0.51, D(G(z)): 0.44\n",
            "Saving fake_images-0246.png\n",
            "Epoch [246/300], Step [200/600], d_loss: 1.3024, g_loss: 0.7549, D(x): 0.56, D(G(z)): 0.47\n",
            "Epoch [246/300], Step [400/600], d_loss: 1.2789, g_loss: 0.8002, D(x): 0.59, D(G(z)): 0.49\n",
            "Epoch [246/300], Step [600/600], d_loss: 1.2746, g_loss: 0.8251, D(x): 0.55, D(G(z)): 0.43\n",
            "Saving fake_images-0247.png\n",
            "Epoch [247/300], Step [200/600], d_loss: 1.3032, g_loss: 0.8037, D(x): 0.55, D(G(z)): 0.46\n",
            "Epoch [247/300], Step [400/600], d_loss: 1.3371, g_loss: 0.9320, D(x): 0.50, D(G(z)): 0.43\n",
            "Epoch [247/300], Step [600/600], d_loss: 1.2000, g_loss: 1.0308, D(x): 0.54, D(G(z)): 0.39\n",
            "Saving fake_images-0248.png\n",
            "Epoch [248/300], Step [200/600], d_loss: 1.2685, g_loss: 0.8589, D(x): 0.53, D(G(z)): 0.43\n",
            "Epoch [248/300], Step [400/600], d_loss: 1.2399, g_loss: 0.8307, D(x): 0.56, D(G(z)): 0.45\n",
            "Epoch [248/300], Step [600/600], d_loss: 1.2755, g_loss: 0.8821, D(x): 0.53, D(G(z)): 0.43\n",
            "Saving fake_images-0249.png\n",
            "Epoch [249/300], Step [200/600], d_loss: 1.2590, g_loss: 0.8299, D(x): 0.57, D(G(z)): 0.46\n",
            "Epoch [249/300], Step [400/600], d_loss: 1.3736, g_loss: 0.7711, D(x): 0.53, D(G(z)): 0.47\n",
            "Epoch [249/300], Step [600/600], d_loss: 1.2688, g_loss: 0.8334, D(x): 0.57, D(G(z)): 0.46\n",
            "Saving fake_images-0250.png\n",
            "Epoch [250/300], Step [200/600], d_loss: 1.1649, g_loss: 0.8188, D(x): 0.60, D(G(z)): 0.43\n",
            "Epoch [250/300], Step [400/600], d_loss: 1.3241, g_loss: 0.8436, D(x): 0.52, D(G(z)): 0.45\n",
            "Epoch [250/300], Step [600/600], d_loss: 1.2611, g_loss: 0.8201, D(x): 0.57, D(G(z)): 0.46\n",
            "Saving fake_images-0251.png\n",
            "Epoch [251/300], Step [200/600], d_loss: 1.2923, g_loss: 0.8947, D(x): 0.55, D(G(z)): 0.46\n",
            "Epoch [251/300], Step [400/600], d_loss: 1.3342, g_loss: 0.8888, D(x): 0.53, D(G(z)): 0.46\n",
            "Epoch [251/300], Step [600/600], d_loss: 1.2673, g_loss: 0.8531, D(x): 0.54, D(G(z)): 0.44\n",
            "Saving fake_images-0252.png\n",
            "Epoch [252/300], Step [200/600], d_loss: 1.2172, g_loss: 0.9631, D(x): 0.54, D(G(z)): 0.41\n",
            "Epoch [252/300], Step [400/600], d_loss: 1.2481, g_loss: 0.8910, D(x): 0.55, D(G(z)): 0.44\n",
            "Epoch [252/300], Step [600/600], d_loss: 1.3370, g_loss: 0.9042, D(x): 0.55, D(G(z)): 0.47\n",
            "Saving fake_images-0253.png\n",
            "Epoch [253/300], Step [200/600], d_loss: 1.2446, g_loss: 0.8556, D(x): 0.55, D(G(z)): 0.44\n",
            "Epoch [253/300], Step [400/600], d_loss: 1.2969, g_loss: 0.8658, D(x): 0.51, D(G(z)): 0.42\n",
            "Epoch [253/300], Step [600/600], d_loss: 1.2560, g_loss: 0.9374, D(x): 0.56, D(G(z)): 0.44\n",
            "Saving fake_images-0254.png\n",
            "Epoch [254/300], Step [200/600], d_loss: 1.3130, g_loss: 0.7530, D(x): 0.57, D(G(z)): 0.48\n",
            "Epoch [254/300], Step [400/600], d_loss: 1.3294, g_loss: 0.7785, D(x): 0.54, D(G(z)): 0.46\n",
            "Epoch [254/300], Step [600/600], d_loss: 1.3612, g_loss: 0.8078, D(x): 0.54, D(G(z)): 0.49\n",
            "Saving fake_images-0255.png\n",
            "Epoch [255/300], Step [200/600], d_loss: 1.3178, g_loss: 0.7937, D(x): 0.55, D(G(z)): 0.46\n",
            "Epoch [255/300], Step [400/600], d_loss: 1.2998, g_loss: 0.8997, D(x): 0.52, D(G(z)): 0.43\n",
            "Epoch [255/300], Step [600/600], d_loss: 1.3899, g_loss: 0.8538, D(x): 0.54, D(G(z)): 0.50\n",
            "Saving fake_images-0256.png\n",
            "Epoch [256/300], Step [200/600], d_loss: 1.2098, g_loss: 0.9283, D(x): 0.55, D(G(z)): 0.41\n",
            "Epoch [256/300], Step [400/600], d_loss: 1.2413, g_loss: 1.0035, D(x): 0.52, D(G(z)): 0.39\n",
            "Epoch [256/300], Step [600/600], d_loss: 1.2873, g_loss: 0.8956, D(x): 0.55, D(G(z)): 0.46\n",
            "Saving fake_images-0257.png\n",
            "Epoch [257/300], Step [200/600], d_loss: 1.3128, g_loss: 0.8080, D(x): 0.56, D(G(z)): 0.47\n",
            "Epoch [257/300], Step [400/600], d_loss: 1.2492, g_loss: 1.0018, D(x): 0.55, D(G(z)): 0.42\n",
            "Epoch [257/300], Step [600/600], d_loss: 1.2593, g_loss: 0.8038, D(x): 0.58, D(G(z)): 0.47\n",
            "Saving fake_images-0258.png\n",
            "Epoch [258/300], Step [200/600], d_loss: 1.3344, g_loss: 0.8392, D(x): 0.54, D(G(z)): 0.47\n",
            "Epoch [258/300], Step [400/600], d_loss: 1.1957, g_loss: 0.9123, D(x): 0.56, D(G(z)): 0.42\n",
            "Epoch [258/300], Step [600/600], d_loss: 1.3291, g_loss: 0.8489, D(x): 0.52, D(G(z)): 0.45\n",
            "Saving fake_images-0259.png\n",
            "Epoch [259/300], Step [200/600], d_loss: 1.2413, g_loss: 0.8540, D(x): 0.57, D(G(z)): 0.45\n",
            "Epoch [259/300], Step [400/600], d_loss: 1.3319, g_loss: 0.7608, D(x): 0.61, D(G(z)): 0.52\n",
            "Epoch [259/300], Step [600/600], d_loss: 1.3232, g_loss: 0.8656, D(x): 0.53, D(G(z)): 0.45\n",
            "Saving fake_images-0260.png\n",
            "Epoch [260/300], Step [200/600], d_loss: 1.3046, g_loss: 0.8758, D(x): 0.56, D(G(z)): 0.48\n",
            "Epoch [260/300], Step [400/600], d_loss: 1.3011, g_loss: 0.8053, D(x): 0.53, D(G(z)): 0.45\n",
            "Epoch [260/300], Step [600/600], d_loss: 1.2625, g_loss: 0.8362, D(x): 0.56, D(G(z)): 0.46\n",
            "Saving fake_images-0261.png\n",
            "Epoch [261/300], Step [200/600], d_loss: 1.3360, g_loss: 0.9084, D(x): 0.51, D(G(z)): 0.43\n",
            "Epoch [261/300], Step [400/600], d_loss: 1.2756, g_loss: 0.8995, D(x): 0.55, D(G(z)): 0.44\n",
            "Epoch [261/300], Step [600/600], d_loss: 1.2085, g_loss: 1.0345, D(x): 0.55, D(G(z)): 0.42\n",
            "Saving fake_images-0262.png\n",
            "Epoch [262/300], Step [200/600], d_loss: 1.2458, g_loss: 0.8586, D(x): 0.55, D(G(z)): 0.44\n",
            "Epoch [262/300], Step [400/600], d_loss: 1.3256, g_loss: 0.8018, D(x): 0.52, D(G(z)): 0.46\n",
            "Epoch [262/300], Step [600/600], d_loss: 1.2591, g_loss: 0.8503, D(x): 0.54, D(G(z)): 0.42\n",
            "Saving fake_images-0263.png\n",
            "Epoch [263/300], Step [200/600], d_loss: 1.3103, g_loss: 0.8949, D(x): 0.50, D(G(z)): 0.40\n",
            "Epoch [263/300], Step [400/600], d_loss: 1.2914, g_loss: 0.8256, D(x): 0.54, D(G(z)): 0.45\n",
            "Epoch [263/300], Step [600/600], d_loss: 1.2547, g_loss: 0.8747, D(x): 0.57, D(G(z)): 0.45\n",
            "Saving fake_images-0264.png\n",
            "Epoch [264/300], Step [200/600], d_loss: 1.2803, g_loss: 0.8840, D(x): 0.55, D(G(z)): 0.45\n",
            "Epoch [264/300], Step [400/600], d_loss: 1.2693, g_loss: 0.7932, D(x): 0.54, D(G(z)): 0.45\n",
            "Epoch [264/300], Step [600/600], d_loss: 1.2764, g_loss: 0.9031, D(x): 0.53, D(G(z)): 0.43\n",
            "Saving fake_images-0265.png\n",
            "Epoch [265/300], Step [200/600], d_loss: 1.3144, g_loss: 0.8262, D(x): 0.55, D(G(z)): 0.46\n",
            "Epoch [265/300], Step [400/600], d_loss: 1.3068, g_loss: 0.9552, D(x): 0.51, D(G(z)): 0.42\n",
            "Epoch [265/300], Step [600/600], d_loss: 1.3586, g_loss: 0.7762, D(x): 0.55, D(G(z)): 0.49\n",
            "Saving fake_images-0266.png\n",
            "Epoch [266/300], Step [200/600], d_loss: 1.2139, g_loss: 0.8230, D(x): 0.59, D(G(z)): 0.46\n",
            "Epoch [266/300], Step [400/600], d_loss: 1.3126, g_loss: 0.7693, D(x): 0.52, D(G(z)): 0.44\n",
            "Epoch [266/300], Step [600/600], d_loss: 1.2758, g_loss: 0.8196, D(x): 0.55, D(G(z)): 0.44\n",
            "Saving fake_images-0267.png\n",
            "Epoch [267/300], Step [200/600], d_loss: 1.2645, g_loss: 0.8895, D(x): 0.53, D(G(z)): 0.42\n",
            "Epoch [267/300], Step [400/600], d_loss: 1.2318, g_loss: 0.8275, D(x): 0.54, D(G(z)): 0.42\n",
            "Epoch [267/300], Step [600/600], d_loss: 1.2678, g_loss: 0.7520, D(x): 0.58, D(G(z)): 0.47\n",
            "Saving fake_images-0268.png\n",
            "Epoch [268/300], Step [200/600], d_loss: 1.3112, g_loss: 0.8410, D(x): 0.53, D(G(z)): 0.45\n",
            "Epoch [268/300], Step [400/600], d_loss: 1.2239, g_loss: 0.8143, D(x): 0.58, D(G(z)): 0.46\n",
            "Epoch [268/300], Step [600/600], d_loss: 1.2729, g_loss: 0.8220, D(x): 0.59, D(G(z)): 0.48\n",
            "Saving fake_images-0269.png\n",
            "Epoch [269/300], Step [200/600], d_loss: 1.3226, g_loss: 0.7899, D(x): 0.58, D(G(z)): 0.50\n",
            "Epoch [269/300], Step [400/600], d_loss: 1.2196, g_loss: 0.8146, D(x): 0.58, D(G(z)): 0.46\n",
            "Epoch [269/300], Step [600/600], d_loss: 1.3003, g_loss: 0.8910, D(x): 0.56, D(G(z)): 0.46\n",
            "Saving fake_images-0270.png\n",
            "Epoch [270/300], Step [200/600], d_loss: 1.3045, g_loss: 0.9016, D(x): 0.54, D(G(z)): 0.46\n",
            "Epoch [270/300], Step [400/600], d_loss: 1.3413, g_loss: 0.7880, D(x): 0.55, D(G(z)): 0.49\n",
            "Epoch [270/300], Step [600/600], d_loss: 1.3380, g_loss: 0.7989, D(x): 0.55, D(G(z)): 0.48\n",
            "Saving fake_images-0271.png\n",
            "Epoch [271/300], Step [200/600], d_loss: 1.2910, g_loss: 0.7608, D(x): 0.56, D(G(z)): 0.48\n",
            "Epoch [271/300], Step [400/600], d_loss: 1.2563, g_loss: 0.7651, D(x): 0.57, D(G(z)): 0.45\n",
            "Epoch [271/300], Step [600/600], d_loss: 1.2688, g_loss: 0.8279, D(x): 0.55, D(G(z)): 0.44\n",
            "Saving fake_images-0272.png\n",
            "Epoch [272/300], Step [200/600], d_loss: 1.2382, g_loss: 0.7890, D(x): 0.58, D(G(z)): 0.45\n",
            "Epoch [272/300], Step [400/600], d_loss: 1.3296, g_loss: 0.8185, D(x): 0.53, D(G(z)): 0.46\n",
            "Epoch [272/300], Step [600/600], d_loss: 1.2944, g_loss: 0.7880, D(x): 0.54, D(G(z)): 0.46\n",
            "Saving fake_images-0273.png\n",
            "Epoch [273/300], Step [200/600], d_loss: 1.2597, g_loss: 0.8555, D(x): 0.54, D(G(z)): 0.43\n",
            "Epoch [273/300], Step [400/600], d_loss: 1.2777, g_loss: 0.7746, D(x): 0.56, D(G(z)): 0.46\n",
            "Epoch [273/300], Step [600/600], d_loss: 1.2612, g_loss: 0.8182, D(x): 0.56, D(G(z)): 0.45\n",
            "Saving fake_images-0274.png\n",
            "Epoch [274/300], Step [200/600], d_loss: 1.2266, g_loss: 0.8601, D(x): 0.57, D(G(z)): 0.44\n",
            "Epoch [274/300], Step [400/600], d_loss: 1.2459, g_loss: 1.0154, D(x): 0.49, D(G(z)): 0.37\n",
            "Epoch [274/300], Step [600/600], d_loss: 1.3094, g_loss: 0.7693, D(x): 0.57, D(G(z)): 0.48\n",
            "Saving fake_images-0275.png\n",
            "Epoch [275/300], Step [200/600], d_loss: 1.1982, g_loss: 0.9046, D(x): 0.57, D(G(z)): 0.42\n",
            "Epoch [275/300], Step [400/600], d_loss: 1.2511, g_loss: 0.8725, D(x): 0.55, D(G(z)): 0.43\n",
            "Epoch [275/300], Step [600/600], d_loss: 1.2542, g_loss: 0.7354, D(x): 0.59, D(G(z)): 0.48\n",
            "Saving fake_images-0276.png\n",
            "Epoch [276/300], Step [200/600], d_loss: 1.2466, g_loss: 0.9335, D(x): 0.55, D(G(z)): 0.44\n",
            "Epoch [276/300], Step [400/600], d_loss: 1.2829, g_loss: 0.7955, D(x): 0.55, D(G(z)): 0.46\n",
            "Epoch [276/300], Step [600/600], d_loss: 1.1959, g_loss: 0.8890, D(x): 0.57, D(G(z)): 0.43\n",
            "Saving fake_images-0277.png\n",
            "Epoch [277/300], Step [200/600], d_loss: 1.1947, g_loss: 0.8466, D(x): 0.56, D(G(z)): 0.42\n",
            "Epoch [277/300], Step [400/600], d_loss: 1.3670, g_loss: 0.8448, D(x): 0.56, D(G(z)): 0.50\n",
            "Epoch [277/300], Step [600/600], d_loss: 1.2827, g_loss: 0.8810, D(x): 0.52, D(G(z)): 0.42\n",
            "Saving fake_images-0278.png\n",
            "Epoch [278/300], Step [200/600], d_loss: 1.2886, g_loss: 0.8279, D(x): 0.58, D(G(z)): 0.49\n",
            "Epoch [278/300], Step [400/600], d_loss: 1.2977, g_loss: 0.8351, D(x): 0.57, D(G(z)): 0.46\n",
            "Epoch [278/300], Step [600/600], d_loss: 1.2931, g_loss: 0.9205, D(x): 0.54, D(G(z)): 0.44\n",
            "Saving fake_images-0279.png\n",
            "Epoch [279/300], Step [200/600], d_loss: 1.2487, g_loss: 0.8440, D(x): 0.56, D(G(z)): 0.45\n",
            "Epoch [279/300], Step [400/600], d_loss: 1.3263, g_loss: 0.8350, D(x): 0.52, D(G(z)): 0.44\n",
            "Epoch [279/300], Step [600/600], d_loss: 1.2810, g_loss: 0.8959, D(x): 0.54, D(G(z)): 0.44\n",
            "Saving fake_images-0280.png\n",
            "Epoch [280/300], Step [200/600], d_loss: 1.2481, g_loss: 0.8419, D(x): 0.57, D(G(z)): 0.44\n",
            "Epoch [280/300], Step [400/600], d_loss: 1.2244, g_loss: 0.8227, D(x): 0.58, D(G(z)): 0.45\n",
            "Epoch [280/300], Step [600/600], d_loss: 1.2404, g_loss: 0.7865, D(x): 0.57, D(G(z)): 0.45\n",
            "Saving fake_images-0281.png\n",
            "Epoch [281/300], Step [200/600], d_loss: 1.2444, g_loss: 0.9830, D(x): 0.52, D(G(z)): 0.40\n",
            "Epoch [281/300], Step [400/600], d_loss: 1.2696, g_loss: 0.8027, D(x): 0.55, D(G(z)): 0.45\n",
            "Epoch [281/300], Step [600/600], d_loss: 1.3010, g_loss: 0.8988, D(x): 0.57, D(G(z)): 0.47\n",
            "Saving fake_images-0282.png\n",
            "Epoch [282/300], Step [200/600], d_loss: 1.2449, g_loss: 0.7798, D(x): 0.58, D(G(z)): 0.46\n",
            "Epoch [282/300], Step [400/600], d_loss: 1.2788, g_loss: 0.9192, D(x): 0.53, D(G(z)): 0.42\n",
            "Epoch [282/300], Step [600/600], d_loss: 1.2317, g_loss: 0.8508, D(x): 0.56, D(G(z)): 0.44\n",
            "Saving fake_images-0283.png\n",
            "Epoch [283/300], Step [200/600], d_loss: 1.2379, g_loss: 0.8560, D(x): 0.54, D(G(z)): 0.43\n",
            "Epoch [283/300], Step [400/600], d_loss: 1.2667, g_loss: 0.9670, D(x): 0.55, D(G(z)): 0.44\n",
            "Epoch [283/300], Step [600/600], d_loss: 1.3061, g_loss: 0.7992, D(x): 0.58, D(G(z)): 0.48\n",
            "Saving fake_images-0284.png\n",
            "Epoch [284/300], Step [200/600], d_loss: 1.2824, g_loss: 0.8604, D(x): 0.55, D(G(z)): 0.46\n",
            "Epoch [284/300], Step [400/600], d_loss: 1.3194, g_loss: 0.9114, D(x): 0.53, D(G(z)): 0.45\n",
            "Epoch [284/300], Step [600/600], d_loss: 1.2250, g_loss: 0.8058, D(x): 0.58, D(G(z)): 0.45\n",
            "Saving fake_images-0285.png\n",
            "Epoch [285/300], Step [200/600], d_loss: 1.3486, g_loss: 0.8999, D(x): 0.50, D(G(z)): 0.43\n",
            "Epoch [285/300], Step [400/600], d_loss: 1.2530, g_loss: 0.8271, D(x): 0.59, D(G(z)): 0.47\n",
            "Epoch [285/300], Step [600/600], d_loss: 1.2397, g_loss: 0.9303, D(x): 0.55, D(G(z)): 0.43\n",
            "Saving fake_images-0286.png\n",
            "Epoch [286/300], Step [200/600], d_loss: 1.2216, g_loss: 0.8671, D(x): 0.57, D(G(z)): 0.44\n",
            "Epoch [286/300], Step [400/600], d_loss: 1.1744, g_loss: 0.8112, D(x): 0.59, D(G(z)): 0.44\n",
            "Epoch [286/300], Step [600/600], d_loss: 1.2127, g_loss: 0.8237, D(x): 0.59, D(G(z)): 0.45\n",
            "Saving fake_images-0287.png\n",
            "Epoch [287/300], Step [200/600], d_loss: 1.2949, g_loss: 1.0166, D(x): 0.54, D(G(z)): 0.44\n",
            "Epoch [287/300], Step [400/600], d_loss: 1.4172, g_loss: 0.8580, D(x): 0.52, D(G(z)): 0.48\n",
            "Epoch [287/300], Step [600/600], d_loss: 1.2551, g_loss: 0.9548, D(x): 0.53, D(G(z)): 0.42\n",
            "Saving fake_images-0288.png\n",
            "Epoch [288/300], Step [200/600], d_loss: 1.3021, g_loss: 0.8857, D(x): 0.56, D(G(z)): 0.46\n",
            "Epoch [288/300], Step [400/600], d_loss: 1.2536, g_loss: 0.9147, D(x): 0.51, D(G(z)): 0.41\n",
            "Epoch [288/300], Step [600/600], d_loss: 1.3057, g_loss: 0.7893, D(x): 0.53, D(G(z)): 0.45\n",
            "Saving fake_images-0289.png\n",
            "Epoch [289/300], Step [200/600], d_loss: 1.3065, g_loss: 0.9209, D(x): 0.56, D(G(z)): 0.47\n",
            "Epoch [289/300], Step [400/600], d_loss: 1.2811, g_loss: 0.7862, D(x): 0.56, D(G(z)): 0.46\n",
            "Epoch [289/300], Step [600/600], d_loss: 1.2897, g_loss: 0.8298, D(x): 0.56, D(G(z)): 0.46\n",
            "Saving fake_images-0290.png\n",
            "Epoch [290/300], Step [200/600], d_loss: 1.2998, g_loss: 0.8875, D(x): 0.53, D(G(z)): 0.44\n",
            "Epoch [290/300], Step [400/600], d_loss: 1.2662, g_loss: 0.7984, D(x): 0.56, D(G(z)): 0.45\n",
            "Epoch [290/300], Step [600/600], d_loss: 1.3804, g_loss: 0.8527, D(x): 0.53, D(G(z)): 0.47\n",
            "Saving fake_images-0291.png\n",
            "Epoch [291/300], Step [200/600], d_loss: 1.2472, g_loss: 0.8110, D(x): 0.58, D(G(z)): 0.45\n",
            "Epoch [291/300], Step [400/600], d_loss: 1.2323, g_loss: 0.9258, D(x): 0.56, D(G(z)): 0.43\n",
            "Epoch [291/300], Step [600/600], d_loss: 1.3203, g_loss: 0.9063, D(x): 0.54, D(G(z)): 0.46\n",
            "Saving fake_images-0292.png\n",
            "Epoch [292/300], Step [200/600], d_loss: 1.2860, g_loss: 0.9820, D(x): 0.55, D(G(z)): 0.45\n",
            "Epoch [292/300], Step [400/600], d_loss: 1.3026, g_loss: 0.8369, D(x): 0.52, D(G(z)): 0.43\n",
            "Epoch [292/300], Step [600/600], d_loss: 1.3547, g_loss: 0.7682, D(x): 0.57, D(G(z)): 0.49\n",
            "Saving fake_images-0293.png\n",
            "Epoch [293/300], Step [200/600], d_loss: 1.2879, g_loss: 0.7868, D(x): 0.55, D(G(z)): 0.46\n",
            "Epoch [293/300], Step [400/600], d_loss: 1.2841, g_loss: 0.8365, D(x): 0.52, D(G(z)): 0.43\n",
            "Epoch [293/300], Step [600/600], d_loss: 1.2641, g_loss: 0.8329, D(x): 0.56, D(G(z)): 0.45\n",
            "Saving fake_images-0294.png\n",
            "Epoch [294/300], Step [200/600], d_loss: 1.1999, g_loss: 0.8381, D(x): 0.57, D(G(z)): 0.43\n",
            "Epoch [294/300], Step [400/600], d_loss: 1.2963, g_loss: 0.7809, D(x): 0.56, D(G(z)): 0.48\n",
            "Epoch [294/300], Step [600/600], d_loss: 1.2104, g_loss: 0.8541, D(x): 0.57, D(G(z)): 0.43\n",
            "Saving fake_images-0295.png\n",
            "Epoch [295/300], Step [200/600], d_loss: 1.3137, g_loss: 0.8404, D(x): 0.56, D(G(z)): 0.47\n",
            "Epoch [295/300], Step [400/600], d_loss: 1.2356, g_loss: 0.8956, D(x): 0.55, D(G(z)): 0.43\n",
            "Epoch [295/300], Step [600/600], d_loss: 1.2412, g_loss: 0.9038, D(x): 0.55, D(G(z)): 0.42\n",
            "Saving fake_images-0296.png\n",
            "Epoch [296/300], Step [200/600], d_loss: 1.2103, g_loss: 0.9185, D(x): 0.56, D(G(z)): 0.41\n",
            "Epoch [296/300], Step [400/600], d_loss: 1.2590, g_loss: 0.9411, D(x): 0.55, D(G(z)): 0.43\n",
            "Epoch [296/300], Step [600/600], d_loss: 1.2062, g_loss: 0.8756, D(x): 0.57, D(G(z)): 0.42\n",
            "Saving fake_images-0297.png\n",
            "Epoch [297/300], Step [200/600], d_loss: 1.3146, g_loss: 0.8309, D(x): 0.53, D(G(z)): 0.45\n",
            "Epoch [297/300], Step [400/600], d_loss: 1.2625, g_loss: 0.8722, D(x): 0.58, D(G(z)): 0.46\n",
            "Epoch [297/300], Step [600/600], d_loss: 1.3098, g_loss: 0.8160, D(x): 0.55, D(G(z)): 0.47\n",
            "Saving fake_images-0298.png\n",
            "Epoch [298/300], Step [200/600], d_loss: 1.3478, g_loss: 0.8836, D(x): 0.56, D(G(z)): 0.49\n",
            "Epoch [298/300], Step [400/600], d_loss: 1.2982, g_loss: 0.7951, D(x): 0.57, D(G(z)): 0.48\n",
            "Epoch [298/300], Step [600/600], d_loss: 1.2423, g_loss: 0.9798, D(x): 0.58, D(G(z)): 0.45\n",
            "Saving fake_images-0299.png\n",
            "Epoch [299/300], Step [200/600], d_loss: 1.2604, g_loss: 0.8248, D(x): 0.56, D(G(z)): 0.45\n",
            "Epoch [299/300], Step [400/600], d_loss: 1.2352, g_loss: 0.9751, D(x): 0.54, D(G(z)): 0.41\n",
            "Epoch [299/300], Step [600/600], d_loss: 1.3111, g_loss: 0.8335, D(x): 0.52, D(G(z)): 0.44\n",
            "Saving fake_images-0300.png\n",
            "CPU times: user 1h 17min 35s, sys: 23.7 s, total: 1h 17min 59s\n",
            "Wall time: 1h 18min 27s\n"
          ]
        }
      ],
      "source": [
        "%%time\n",
        "total_step = len(data_loader)\n",
        "d_losses, g_losses, real_scores, fake_scores = [], [], [], []\n",
        "G.to(device)\n",
        "D.to(device)\n",
        "for epoch in range(num_epochs):\n",
        "    for i, (images, _) in enumerate(data_loader):\n",
        "        # Load a batch & transform to vectors\n",
        "        images = images.reshape(batch_size, -1).to(device)\n",
        "\n",
        "        # Train the discriminator\n",
        "        d_loss, real_score, fake_score = train_discriminator(D, G, images)\n",
        "        # Train the generator\n",
        "        g_loss, fake_images = train_generator(G)\n",
        "        # Inspect the losses\n",
        "        if (i + 1) % 200 == 0:\n",
        "            d_losses.append(d_loss.item())\n",
        "            g_losses.append(g_loss.item())\n",
        "            real_scores.append(real_score.mean().item())\n",
        "            fake_scores.append(fake_score.mean().item())\n",
        "            print(\n",
        "                \"Epoch [{}/{}], Step [{}/{}], d_loss: {:.4f}, g_loss: {:.4f}, D(x): {:.2f}, D(G(z)): {:.2f}\".format(\n",
        "                    epoch,\n",
        "                    num_epochs,\n",
        "                    i + 1,\n",
        "                    total_step,\n",
        "                    d_loss.item(),\n",
        "                    g_loss.item(),\n",
        "                    real_score.mean().item(),\n",
        "                    fake_score.mean().item(),\n",
        "                )\n",
        "            )\n",
        "    # Sample and save images\n",
        "    save_fake_images_mnist(G, epoch + 1)"
      ]
    },
    {
      "cell_type": "code",
      "execution_count": 17,
      "metadata": {
        "execution": {
          "iopub.execute_input": "2024-10-10T15:37:25.108051Z",
          "iopub.status.busy": "2024-10-10T15:37:25.107067Z",
          "iopub.status.idle": "2024-10-10T15:37:25.134995Z",
          "shell.execute_reply": "2024-10-10T15:37:25.134084Z",
          "shell.execute_reply.started": "2024-10-10T15:37:25.108005Z"
        },
        "id": "Dlm4M7ja___j",
        "pycharm": {
          "name": "#%%\n"
        },
        "tags": [],
        "colab": {
          "base_uri": "https://localhost:8080/",
          "height": 319
        },
        "outputId": "c497c6ec-7ab5-487d-974b-6a3b1c6e4cb7"
      },
      "outputs": [
        {
          "output_type": "execute_result",
          "data": {
            "text/plain": [
              "<PIL.PngImagePlugin.PngImageFile image mode=RGB size=302x302>"
            ],
            "image/png": "[encoded data removed]",
            "image/jpeg": "[encoded data removed]"
          },
          "metadata": {},
          "execution_count": 17
        }
      ],
      "source": [
        "# show output after epochs training\n",
        "Image.open(os.path.join(sample_dir, \"fake_images-0300.png\"))"
      ]
    },
    {
      "cell_type": "code",
      "execution_count": 18,
      "metadata": {
        "execution": {
          "iopub.execute_input": "2024-10-10T15:37:35.256863Z",
          "iopub.status.busy": "2024-10-10T15:37:35.255705Z",
          "iopub.status.idle": "2024-10-10T15:37:35.505641Z",
          "shell.execute_reply": "2024-10-10T15:37:35.504504Z",
          "shell.execute_reply.started": "2024-10-10T15:37:35.256815Z"
        },
        "id": "LuLUwaaY___k",
        "pycharm": {
          "name": "#%%\n"
        },
        "tags": [],
        "colab": {
          "base_uri": "https://localhost:8080/",
          "height": 477
        },
        "outputId": "d785ccfa-9b6b-40e0-d813-03736208cf14"
      },
      "outputs": [
        {
          "output_type": "display_data",
          "data": {
            "text/plain": [
              "<Figure size 640x480 with 1 Axes>"
            ],
            "image/png": "[encoded data removed]"
          },
          "metadata": {}
        }
      ],
      "source": [
        "# show the discrimator loss and generator loss\n",
        "plt.plot(d_losses, \"-\")\n",
        "plt.plot(g_losses, \"-\")\n",
        "plt.xlabel(\"epoch\")\n",
        "plt.ylabel(\"loss\")\n",
        "plt.legend([\"Discriminator\", \"Generator\"])\n",
        "plt.title(\"Losses\");"
      ]
    },
    {
      "cell_type": "code",
      "execution_count": 19,
      "metadata": {
        "execution": {
          "iopub.execute_input": "2024-10-10T15:37:47.364714Z",
          "iopub.status.busy": "2024-10-10T15:37:47.363403Z",
          "iopub.status.idle": "2024-10-10T15:37:47.606757Z",
          "shell.execute_reply": "2024-10-10T15:37:47.605906Z",
          "shell.execute_reply.started": "2024-10-10T15:37:47.364668Z"
        },
        "id": "KXe1OMMA___l",
        "pycharm": {
          "name": "#%%\n"
        },
        "tags": [],
        "colab": {
          "base_uri": "https://localhost:8080/",
          "height": 477
        },
        "outputId": "0651f3f2-25bf-4ef4-b20c-58e3db8fd9e5"
      },
      "outputs": [
        {
          "output_type": "display_data",
          "data": {
            "text/plain": [
              "<Figure size 640x480 with 1 Axes>"
            ],
            "image/png": "[encoded data removed]"
          },
          "metadata": {}
        }
      ],
      "source": [
        "# plot the accuracy of discrimator\n",
        "plt.plot(real_scores, \"-\")\n",
        "plt.plot(fake_scores, \"-\")\n",
        "plt.xlabel(\"epoch\")\n",
        "plt.ylabel(\"score\")\n",
        "plt.legend([\"Real Score\", \"Fake score\"])\n",
        "plt.title(\"Scores\");"
      ]
    },
    {
      "cell_type": "markdown",
      "metadata": {
        "id": "VxjGRy71___l",
        "pycharm": {
          "name": "#%% md\n"
        }
      },
      "source": [
        "## 2. DCGAN"
      ]
    },
    {
      "cell_type": "markdown",
      "metadata": {
        "id": "R2SBUbSM___m",
        "pycharm": {
          "name": "#%% md\n"
        }
      },
      "source": [
        "*Source: <a href=\"https://arxiv.org/pdf/1511.06434v2.pdf\" target=\"_blank\">Radford, Alec, Luke Metz, and Soumith Chintala. \"Unsupervised representation learning with deep convolutional generative adversarial networks.\" arXiv preprint arXiv:1511.06434 (2015)</a>.*"
      ]
    },
    {
      "cell_type": "markdown",
      "metadata": {
        "id": "AOaZuDsv___m",
        "pycharm": {
          "name": "#%% md\n"
        }
      },
      "source": [
        "The goal of this part is to enhance your results achieved in the part one with DCGAN. Feel free to reuse your code, improve architecture or training scheme, etc."
      ]
    },
    {
      "cell_type": "code",
      "execution_count": null,
      "metadata": {
        "execution": {
          "iopub.status.busy": "2024-10-10T14:20:03.655770Z",
          "iopub.status.idle": "2024-10-10T14:20:03.656128Z",
          "shell.execute_reply": "2024-10-10T14:20:03.655979Z",
          "shell.execute_reply.started": "2024-10-10T14:20:03.655963Z"
        },
        "id": "jJWbnASW___m",
        "pycharm": {
          "name": "#%%\n"
        }
      },
      "outputs": [],
      "source": [
        "class CFG:\n",
        "    batch_size = 128\n",
        "    num_epochs = 300\n",
        "    workers = 4\n",
        "    seed = 2021\n",
        "    image_size = 64\n",
        "    download = True\n",
        "    dataroot = \"data\"\n",
        "    nc = 3  ## number of chanels\n",
        "    ngf = 64  # Size of feature maps in generator\n",
        "    nz = 100  # latent random input vector\n",
        "    ndf = 64  # Size of feature maps in discriminator\n",
        "    lr = 0.0002\n",
        "    device = \"cuda\" if torch.cuda.is_available() else \"cpu\"\n",
        "    sample_dir = \"./images/\"\n",
        "\n",
        "\n",
        "if not os.path.exists(CFG.sample_dir):\n",
        "    os.makedirs(CFG.sample_dir)\n",
        "\n",
        "cifar_dataset = CIFAR10(\n",
        "    root=CFG.dataroot,\n",
        "    download=CFG.download,\n",
        "    transform=transforms.Compose(\n",
        "        [\n",
        "            transforms.Resize([CFG.image_size, CFG.image_size]),\n",
        "            transforms.ToTensor(),\n",
        "            transforms.Normalize((0.5, 0.5, 0.5), (0.5, 0.5, 0.5)),\n",
        "        ]\n",
        "    ),\n",
        ")"
      ]
    },
    {
      "cell_type": "code",
      "execution_count": null,
      "metadata": {
        "execution": {
          "iopub.status.busy": "2024-10-10T14:20:03.658002Z",
          "iopub.status.idle": "2024-10-10T14:20:03.658760Z",
          "shell.execute_reply": "2024-10-10T14:20:03.658556Z",
          "shell.execute_reply.started": "2024-10-10T14:20:03.658530Z"
        },
        "id": "1zQ13kF6___n",
        "pycharm": {
          "name": "#%%\n"
        }
      },
      "outputs": [],
      "source": [
        "img, label = cifar_dataset[0]\n",
        "print(\"Label: \", label)\n",
        "plt.hist(img[:, 5:15, 5:15].flatten(), bins=15)"
      ]
    },
    {
      "cell_type": "code",
      "execution_count": null,
      "metadata": {
        "execution": {
          "iopub.status.busy": "2024-10-10T14:20:03.659925Z",
          "iopub.status.idle": "2024-10-10T14:20:03.660642Z",
          "shell.execute_reply": "2024-10-10T14:20:03.660439Z",
          "shell.execute_reply.started": "2024-10-10T14:20:03.660416Z"
        },
        "id": "bQek-_xx___o",
        "pycharm": {
          "name": "#%%\n"
        }
      },
      "outputs": [],
      "source": [
        "# unnormalization image from range (-1)-1 to range 0-1 to display it\n",
        "def denorm(img):\n",
        "    # write your code\n",
        "\n",
        "# show  image sample with matplotlib\n"
      ]
    },
    {
      "cell_type": "code",
      "execution_count": null,
      "metadata": {
        "execution": {
          "iopub.status.busy": "2024-10-10T14:20:03.661483Z",
          "iopub.status.idle": "2024-10-10T14:20:03.662563Z",
          "shell.execute_reply": "2024-10-10T14:20:03.662346Z",
          "shell.execute_reply.started": "2024-10-10T14:20:03.662323Z"
        },
        "id": "QCgngJq5___o",
        "pycharm": {
          "name": "#%%\n"
        }
      },
      "outputs": [],
      "source": [
        "# create the data_loader"
      ]
    },
    {
      "cell_type": "markdown",
      "metadata": {
        "id": "8Eeg3xE8___o",
        "pycharm": {
          "name": "#%% md\n"
        }
      },
      "source": [
        "### DCGAN implementation"
      ]
    },
    {
      "cell_type": "code",
      "execution_count": null,
      "metadata": {
        "execution": {
          "iopub.status.busy": "2024-10-10T14:20:03.663471Z",
          "iopub.status.idle": "2024-10-10T14:20:03.664321Z",
          "shell.execute_reply": "2024-10-10T14:20:03.664121Z",
          "shell.execute_reply.started": "2024-10-10T14:20:03.664093Z"
        },
        "id": "tlvyHI7Q___p",
        "pycharm": {
          "name": "#%%\n"
        }
      },
      "outputs": [],
      "source": [
        "class DCGenerator(nn.Module):\n",
        "    def __init__(self, nc, nz, ngf):\n",
        "        # ConvTranspose2d - BatchNorm - Relu -ConvTranspose2d - BatchNorm - Relu -ConvTranspose2d - BatchNorm - Relu\n",
        "        # ConvTranspose2d - BatchNorm - Relu - ConvTranspose2d - Tanh\n",
        "        super(Generator, self).__init__()\n",
        "        ##\n",
        "\n",
        "    def forward(self, x):\n",
        "        ##\n",
        "        return F.tanh(x)\n",
        "\n",
        "\n",
        "class DCDiscriminator(nn.Module):\n",
        "    def __init__(self, nc, ndf):\n",
        "        # conv2d - leaky - conv2d - batchnorm - leaky - conv2d - batchnorm - leaky - conv - batchnorm - leaky - conv2d\n",
        "        super(Discriminator, self).__init__()\n",
        "        ##\n",
        "\n",
        "    def forward(self, x):\n",
        "        ##\n",
        "        return F.sigmoid(x)"
      ]
    },
    {
      "cell_type": "code",
      "execution_count": null,
      "metadata": {
        "execution": {
          "iopub.status.busy": "2024-10-10T14:20:03.665500Z",
          "iopub.status.idle": "2024-10-10T14:20:03.665971Z",
          "shell.execute_reply": "2024-10-10T14:20:03.665775Z",
          "shell.execute_reply.started": "2024-10-10T14:20:03.665754Z"
        },
        "id": "sPVR9Rh1___p",
        "pycharm": {
          "name": "#%%\n"
        }
      },
      "outputs": [],
      "source": [
        "# create new Generator model\n",
        "\n",
        "# DCG = DCGenerator...\n",
        "\n",
        "# create new Discriminator model\n",
        "\n",
        "# DCD = DCDiscriminator..."
      ]
    },
    {
      "cell_type": "code",
      "execution_count": null,
      "metadata": {
        "execution": {
          "iopub.status.busy": "2024-10-10T14:20:03.666711Z",
          "iopub.status.idle": "2024-10-10T14:20:03.667164Z",
          "shell.execute_reply": "2024-10-10T14:20:03.666972Z",
          "shell.execute_reply.started": "2024-10-10T14:20:03.666950Z"
        },
        "id": "Gq2e2ccb___p",
        "pycharm": {
          "name": "#%%\n"
        }
      },
      "outputs": [],
      "source": [
        "# show the output of model\n",
        "y = DCG(torch.randn(2, CFG.nz))"
      ]
    },
    {
      "cell_type": "code",
      "execution_count": null,
      "metadata": {
        "execution": {
          "iopub.status.busy": "2024-10-10T14:20:03.667884Z",
          "iopub.status.idle": "2024-10-10T14:20:03.668354Z",
          "shell.execute_reply": "2024-10-10T14:20:03.668164Z",
          "shell.execute_reply.started": "2024-10-10T14:20:03.668144Z"
        },
        "id": "13uPUnSB___q",
        "pycharm": {
          "name": "#%%\n"
        }
      },
      "outputs": [],
      "source": [
        "# define the criterion is nn.BCELoss()\n",
        "criterion = nn.BCELoss()\n",
        "## Define the optimizer for generator and discrimator"
      ]
    },
    {
      "cell_type": "code",
      "execution_count": null,
      "metadata": {
        "execution": {
          "iopub.status.busy": "2024-10-10T14:20:03.669664Z",
          "iopub.status.idle": "2024-10-10T14:20:03.670113Z",
          "shell.execute_reply": "2024-10-10T14:20:03.669930Z",
          "shell.execute_reply.started": "2024-10-10T14:20:03.669911Z"
        },
        "id": "IkrRHEa3___q",
        "pycharm": {
          "name": "#%%\n"
        }
      },
      "outputs": [],
      "source": [
        "# feel free to reuse your training functions"
      ]
    },
    {
      "cell_type": "markdown",
      "metadata": {
        "id": "j7ONDPUq___r",
        "pycharm": {
          "name": "#%% md\n"
        }
      },
      "source": [
        "### Start the training proccess"
      ]
    },
    {
      "cell_type": "code",
      "execution_count": null,
      "metadata": {
        "execution": {
          "iopub.status.busy": "2024-10-10T14:20:03.672267Z",
          "iopub.status.idle": "2024-10-10T14:20:03.673140Z",
          "shell.execute_reply": "2024-10-10T14:20:03.672932Z",
          "shell.execute_reply.started": "2024-10-10T14:20:03.672903Z"
        },
        "id": "ByYpMvdf___r",
        "pycharm": {
          "name": "#%%\n"
        }
      },
      "outputs": [],
      "source": [
        "def save_fake_images_cifar(DCG_model, index):\n",
        "    sample_vectors = torch.randn(CFG.batch_size, CFG.nz, 1, 1).to(CFG.device)\n",
        "    fake_images = DCG_model(sample_vectors)\n",
        "    fake_images = fake_images.reshape(fake_images.size(0), 3, 64, 64)\n",
        "    fake_fname = \"fake_images-{0:0=4d}.png\".format(index)\n",
        "    print(\"Saving\", fake_fname)\n",
        "    save_image(\n",
        "        denorm(fake_images), os.path.join(CFG.sample_dir, fake_fname), nrow=10\n",
        "    )"
      ]
    },
    {
      "cell_type": "code",
      "execution_count": null,
      "metadata": {
        "execution": {
          "iopub.status.busy": "2024-10-10T14:20:03.674136Z",
          "iopub.status.idle": "2024-10-10T14:20:03.674847Z",
          "shell.execute_reply": "2024-10-10T14:20:03.674642Z",
          "shell.execute_reply.started": "2024-10-10T14:20:03.674618Z"
        },
        "id": "jVBi-pBJ___r",
        "pycharm": {
          "name": "#%%\n"
        }
      },
      "outputs": [],
      "source": [
        "%%time\n",
        "device = CFG.device\n",
        "num_epochs = CFG.num_epochs\n",
        "batch_size = CFG.batch_size\n",
        "\n",
        "total_step = len(data_loader)\n",
        "d_losses, g_losses, real_scores, fake_scores = [], [], [], []\n",
        "DCG.to(device)\n",
        "DCD.to(device)\n",
        "\n",
        "for epoch in range(num_epochs):\n",
        "    for i, (images, _) in enumerate(data_loader):\n",
        "        # Load a batch & transform to vectors\n",
        "        images = images.reshape(batch_size, -1).to(device)\n",
        "\n",
        "        # Train the discriminator\n",
        "\n",
        "        # Train the generator\n",
        "\n",
        "        # Inspect the losses\n",
        "        if (i + 1) % 200 == 0:\n",
        "            d_losses.append(d_loss.item())\n",
        "            g_losses.append(g_loss.item())\n",
        "            real_scores.append(real_score.mean().item())\n",
        "            fake_scores.append(fake_score.mean().item())\n",
        "            print(\n",
        "                \"Epoch [{}/{}], Step [{}/{}], d_loss: {:.4f}, g_loss: {:.4f}, D(x): {:.2f}, D(G(z)): {:.2f}\".format(\n",
        "                    epoch,\n",
        "                    num_epochs,\n",
        "                    i + 1,\n",
        "                    total_step,\n",
        "                    d_loss.item(),\n",
        "                    g_loss.item(),\n",
        "                    real_score.mean().item(),\n",
        "                    fake_score.mean().item(),\n",
        "                )\n",
        "            )\n",
        "    # Sample and save images\n",
        "    save_fake_images_cifar(epoch + 1)"
      ]
    },
    {
      "cell_type": "code",
      "execution_count": null,
      "metadata": {
        "execution": {
          "iopub.status.busy": "2024-10-10T14:20:03.676350Z",
          "iopub.status.idle": "2024-10-10T14:20:03.677171Z",
          "shell.execute_reply": "2024-10-10T14:20:03.676957Z",
          "shell.execute_reply.started": "2024-10-10T14:20:03.676930Z"
        },
        "id": "V-23l5zp___s",
        "pycharm": {
          "name": "#%%\n"
        },
        "tags": []
      },
      "outputs": [],
      "source": [
        "# show your results!"
      ]
    }
  ],
  "metadata": {
    "colab": {
      "provenance": [],
      "gpuType": "T4",
      "include_colab_link": true
    },
    "kernelspec": {
      "display_name": "Python 3",
      "name": "python3"
    },
    "language_info": {
      "codemirror_mode": {
        "name": "ipython",
        "version": 3
      },
      "file_extension": ".py",
      "mimetype": "text/x-python",
      "name": "python",
      "nbconvert_exporter": "python",
      "pygments_lexer": "ipython3",
      "version": "3.10.12"
    },
    "accelerator": "GPU"
  },
  "nbformat": 4,
  "nbformat_minor": 0
}