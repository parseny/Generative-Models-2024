{
  "cells": [
    {
      "cell_type": "markdown",
      "metadata": {
        "id": "view-in-github",
        "colab_type": "text"
      },
      "source": [
        "<a href=\"https://colab.research.google.com/github/parseny/Generative-Models-2024/blob/assignment-1/Assignment%201/1_gan_dcgan.ipynb\" target=\"_parent\"><img src=\"https://colab.research.google.com/assets/colab-badge.svg\" alt=\"Open In Colab\"/></a>"
      ]
    },
    {
      "cell_type": "markdown",
      "metadata": {
        "id": "OUCkVdFc___N",
        "pycharm": {
          "name": "#%% md\n"
        }
      },
      "source": [
        "# Generative Models\n",
        "***\n",
        "\n",
        "**Autumn 2024**\n"
      ]
    },
    {
      "cell_type": "markdown",
      "metadata": {
        "id": "ML_snL71___T",
        "pycharm": {
          "name": "#%% md\n"
        }
      },
      "source": [
        "## Assignment 1\n",
        "\n",
        "***\n",
        "\n",
        "\n",
        "*Authored by Arip Asadulaev & Manh Lab*\n",
        "\n",
        "*Adapted by Alexander Panfilov*\n",
        "\n",
        "***\n"
      ]
    },
    {
      "cell_type": "markdown",
      "metadata": {
        "id": "JXCL_bw8___U",
        "pycharm": {
          "name": "#%% md\n"
        }
      },
      "source": [
        "The assignment is split into two parts: at first, you will implement classical GAN for the MNIST dataset, and after, you will enhance your results with DCGAN and the CIFAR dataset.\n",
        "\n",
        "Good luck!"
      ]
    },
    {
      "cell_type": "markdown",
      "metadata": {
        "id": "EUILjtbd___V",
        "pycharm": {
          "name": "#%% md\n"
        }
      },
      "source": [
        "## 1. GAN\n",
        "*Source: <a href=\"https://arxiv.org/pdf/1406.2661.pdf\" target=\"_blank\">Goodfellow, Ian J., et al. \"Generative Adversarial Networks.\" arXiv preprint arXiv:1406.2661 (2014)</a>.*"
      ]
    },
    {
      "cell_type": "markdown",
      "metadata": {
        "id": "Glhi9UoTJR0T",
        "pycharm": {
          "name": "#%% md\n"
        }
      },
      "source": [
        "In 2014, Ian Goodfellow and his colleagues at the University of Montreal published a stunning paper introducing the world to GANs, or generative adversarial networks. The models play two distinct (literally, adversarial) roles. Given some real data set $\\mathcal{X}$, $G$ is the generator, trying to create fake data that looks just like the genuine data, while $D$ is the discriminator, getting data from either the real set or $G$ and labeling the difference.\n",
        "\n",
        "Goodfellow’s metaphor (and a fine one it is) was that $G$ was like a team of forgers trying to match real paintings with their output, while $D$ was the team of detectives trying to tell the difference. (Except in this case, the forgers $G$ never get to see the original data — only the judgments of $D$. They’re like blind forgers.)\n",
        "\n",
        "<img src=\"https://production-media.paperswithcode.com/methods/gan.jpeg\" style=\"display=block; margin:auto\"/>\n",
        "<p style=\"text-align: center\">\n",
        "    <b>Picture taken from the <a href=\"https://paperswithcode.com/method/gan\" target=\"_blank\">paperswithcode</a> website. There you can find a whole bunch of papers on GANs with implementation.</b>\n",
        "</p>"
      ]
    },
    {
      "cell_type": "markdown",
      "metadata": {
        "id": "v2s_R0-J___W",
        "pycharm": {
          "name": "#%% md\n"
        }
      },
      "source": [
        "In this part, we are going to implement classical GAN. You can find a rough plan on how to do it below; however, it is not mandatory to stick with it precisely but one might expect some questions related to the listed steps. Feel free to adapt provided code!\n",
        "\n",
        "- Define the parameters\n",
        "- Load the data (with transforms and normalization)\n",
        "- Denormalize for visual inspection of samples\n",
        "- Define the Discriminator network, the Generator network\n",
        "- Study the activation function: Leaky ReLU\n",
        "- Explain the output activation function: Tanh, Sigmoid\n",
        "- Look at some sample outputs\n",
        "- Define losses, optimizers and helper functions for training\n",
        "     - For Discriminator\n",
        "     - For Generator\n",
        "- Train the model\n",
        "- Save intermediate generated images to file\n",
        "- Look at some outputs\n",
        "- Save the models"
      ]
    },
    {
      "cell_type": "markdown",
      "metadata": {
        "id": "t5m0Z5Sn___X",
        "pycharm": {
          "name": "#%% md\n"
        }
      },
      "source": [
        "### Imports"
      ]
    },
    {
      "cell_type": "code",
      "execution_count": 1,
      "metadata": {
        "execution": {
          "iopub.execute_input": "2024-10-10T14:19:00.662372Z",
          "iopub.status.busy": "2024-10-10T14:19:00.661190Z",
          "iopub.status.idle": "2024-10-10T14:19:09.156631Z",
          "shell.execute_reply": "2024-10-10T14:19:09.155827Z",
          "shell.execute_reply.started": "2024-10-10T14:19:00.662314Z"
        },
        "id": "bLWJJFYI___Y",
        "pycharm": {
          "name": "#%%\n"
        }
      },
      "outputs": [],
      "source": [
        "import os\n",
        "\n",
        "import matplotlib.pyplot as plt\n",
        "import numpy as np\n",
        "import torch\n",
        "import torch.nn as nn\n",
        "import torch.nn.functional as F\n",
        "from PIL import Image\n",
        "from torchvision import transforms\n",
        "from torchvision.datasets import CIFAR10, MNIST\n",
        "from torchvision.transforms import Compose, Normalize, ToTensor\n",
        "from torchvision.utils import save_image\n",
        "\n",
        "%matplotlib inline\n",
        "plt.style.use(\"ggplot\")"
      ]
    },
    {
      "cell_type": "markdown",
      "metadata": {
        "id": "eLj6X3bVn3eT",
        "pycharm": {
          "name": "#%% md\n"
        }
      },
      "source": [
        "### Define parameters & data loading"
      ]
    },
    {
      "cell_type": "code",
      "execution_count": 21,
      "metadata": {
        "execution": {
          "iopub.execute_input": "2024-10-10T14:19:09.159182Z",
          "iopub.status.busy": "2024-10-10T14:19:09.158061Z",
          "iopub.status.idle": "2024-10-10T14:19:48.120611Z",
          "shell.execute_reply": "2024-10-10T14:19:48.119818Z",
          "shell.execute_reply.started": "2024-10-10T14:19:09.159141Z"
        },
        "id": "uI1speTm___a",
        "pycharm": {
          "name": "#%%\n"
        }
      },
      "outputs": [],
      "source": [
        "hidden_size = 256\n",
        "batch_size = 100\n",
        "LR = 0.0002\n",
        "num_epochs = 300\n",
        "sample_dir = \"./images\"\n",
        "latent_size = 64  # input random input vector latent\n",
        "image_size = 784  # 28*28 flatten\n",
        "device = \"cuda\" if torch.cuda.is_available() else \"cpu\"\n",
        "\n",
        "if not os.path.exists(sample_dir):\n",
        "    os.makedirs(sample_dir)\n",
        "## Define the dataset\n",
        "mnist_dataset = MNIST(\n",
        "    root=\"data\",\n",
        "    train=True,\n",
        "    download=True,\n",
        "    transform=Compose([ToTensor(), Normalize(mean=(0.5,), std=(0.5,))]),\n",
        ")"
      ]
    },
    {
      "cell_type": "code",
      "execution_count": 3,
      "metadata": {
        "colab": {
          "base_uri": "https://localhost:8080/",
          "height": 569
        },
        "execution": {
          "iopub.execute_input": "2024-10-10T14:19:48.122766Z",
          "iopub.status.busy": "2024-10-10T14:19:48.121838Z",
          "iopub.status.idle": "2024-10-10T14:19:48.439406Z",
          "shell.execute_reply": "2024-10-10T14:19:48.438372Z",
          "shell.execute_reply.started": "2024-10-10T14:19:48.122725Z"
        },
        "id": "tv3tRhsc___b",
        "outputId": "6ed23f0b-5c97-4410-abf2-653aae79e57c",
        "pycharm": {
          "name": "#%%\n"
        }
      },
      "outputs": [
        {
          "output_type": "stream",
          "name": "stdout",
          "text": [
            "Label:  5\n"
          ]
        },
        {
          "output_type": "execute_result",
          "data": {
            "text/plain": [
              "(array([55.,  4.,  3.,  0.,  3.,  2.,  1.,  0.,  1.,  3.,  1.,  3.,  2.,\n",
              "         1., 21.]),\n",
              " array([-1.        , -0.86771244, -0.73542482, -0.60313725, -0.47084966,\n",
              "        -0.3385621 , -0.20627451, -0.07398693,  0.05830066,  0.19058824,\n",
              "         0.32287583,  0.45516339,  0.58745098,  0.71973854,  0.85202616,\n",
              "         0.98431373]),\n",
              " <BarContainer object of 15 artists>)"
            ]
          },
          "metadata": {},
          "execution_count": 3
        },
        {
          "output_type": "display_data",
          "data": {
            "text/plain": [
              "<Figure size 640x480 with 1 Axes>"
            ],
            "image/png": "[encoded data removed]"
          },
          "metadata": {}
        }
      ],
      "source": [
        "img, label = mnist_dataset[0]\n",
        "print(\"Label: \", label)\n",
        "plt.hist(img[:, 5:15, 5:15].flatten(), bins=15)"
      ]
    },
    {
      "cell_type": "code",
      "execution_count": 4,
      "metadata": {
        "execution": {
          "iopub.execute_input": "2024-10-10T14:19:48.442865Z",
          "iopub.status.busy": "2024-10-10T14:19:48.441675Z",
          "iopub.status.idle": "2024-10-10T14:19:48.453086Z",
          "shell.execute_reply": "2024-10-10T14:19:48.452367Z",
          "shell.execute_reply.started": "2024-10-10T14:19:48.442823Z"
        },
        "id": "mDTAJ9hN___b",
        "pycharm": {
          "name": "#%%\n"
        }
      },
      "outputs": [],
      "source": [
        "# denormalization image from range (-1)-1 to range 0-1 to display it\n",
        "def denorm(x):\n",
        "  return (x + 1) / 2\n"
      ]
    },
    {
      "cell_type": "code",
      "execution_count": null,
      "metadata": {
        "colab": {
          "base_uri": "https://localhost:8080/",
          "height": 430
        },
        "execution": {
          "iopub.execute_input": "2024-10-10T14:19:48.454655Z",
          "iopub.status.busy": "2024-10-10T14:19:48.454090Z",
          "iopub.status.idle": "2024-10-10T14:19:48.668532Z",
          "shell.execute_reply": "2024-10-10T14:19:48.667748Z",
          "shell.execute_reply.started": "2024-10-10T14:19:48.454618Z"
        },
        "id": "FdQspwIB___c",
        "outputId": "4e5243fb-5b3a-4a0b-8512-e3d9a6d77d43",
        "pycharm": {
          "name": "#%%\n"
        }
      },
      "outputs": [
        {
          "data": {
            "image/png": "[encoded data removed]",
            "text/plain": [
              "<Figure size 640x480 with 1 Axes>"
            ]
          },
          "metadata": {},
          "output_type": "display_data"
        }
      ],
      "source": [
        "# show image sample with matplotlib\n",
        "imgplot = plt.imshow(denorm(img.squeeze(0)))"
      ]
    },
    {
      "cell_type": "code",
      "execution_count": 22,
      "metadata": {
        "execution": {
          "iopub.execute_input": "2024-10-10T14:19:48.670061Z",
          "iopub.status.busy": "2024-10-10T14:19:48.669562Z",
          "iopub.status.idle": "2024-10-10T14:19:48.681059Z",
          "shell.execute_reply": "2024-10-10T14:19:48.680266Z",
          "shell.execute_reply.started": "2024-10-10T14:19:48.670025Z"
        },
        "id": "NFmgyzny___c",
        "pycharm": {
          "name": "#%%\n"
        }
      },
      "outputs": [],
      "source": [
        "from torch.utils.data import DataLoader\n",
        "\n",
        "# define the data_loader\n",
        "data_loader = DataLoader(dataset=mnist_dataset, batch_size=batch_size, shuffle=True, drop_last=True)"
      ]
    },
    {
      "cell_type": "markdown",
      "metadata": {
        "id": "KPGRU37y___d",
        "pycharm": {
          "name": "#%% md\n"
        }
      },
      "source": [
        "### GAN implementation"
      ]
    },
    {
      "cell_type": "markdown",
      "metadata": {
        "id": "oCPhhAgp___d",
        "pycharm": {
          "name": "#%% md\n"
        }
      },
      "source": [
        "GAN consists of two deep networks, a generator ($G$) and a discriminator ($D$). The generator creates images before learning it. Since the discriminator is a binary classification model, we can use the binary cross-entropy loss function to quantify how well it can distinguish between real and generated images."
      ]
    },
    {
      "cell_type": "code",
      "execution_count": 7,
      "metadata": {
        "execution": {
          "iopub.execute_input": "2024-10-10T14:19:48.682561Z",
          "iopub.status.busy": "2024-10-10T14:19:48.682052Z",
          "iopub.status.idle": "2024-10-10T14:19:48.697126Z",
          "shell.execute_reply": "2024-10-10T14:19:48.696439Z",
          "shell.execute_reply.started": "2024-10-10T14:19:48.682527Z"
        },
        "id": "Eb6z7nry___d",
        "pycharm": {
          "name": "#%%\n"
        }
      },
      "outputs": [],
      "source": [
        "class Generator(nn.Module):\n",
        "    def __init__(self, latent_size, image_size, hidden_size):\n",
        "        super(Generator, self).__init__()\n",
        "        # set a linear layer with input size is latent_size and output size is hidden_size\n",
        "        self.linear1 = nn.Linear(latent_size, hidden_size)\n",
        "        # set a linear layer with input size is hidden_size and output size is hidden_size\n",
        "        self.linear2 = nn.Linear(hidden_size, hidden_size)\n",
        "        # set a linear layer with input size is hidden_size and output size is image_size\n",
        "        self.linear3 = nn.Linear(hidden_size, image_size)\n",
        "        # self.relu = nn.ReLU()\n",
        "        # self.tanh = nn.Tanh()\n",
        "\n",
        "    def forward(self, x):\n",
        "        # forward x -> linear1 -> relu -> linear2 -> relu -> linear3 -> tanh\n",
        "        x = nn.functional.relu(self.linear1(x))\n",
        "        x = nn.functional.relu(self.linear2(x))\n",
        "        x = nn.functional.tanh(self.linear3(x))\n",
        "        return x\n",
        "\n",
        "\n",
        "class Discriminator(nn.Module):\n",
        "    def __init__(self, image_size, hidden_size):\n",
        "        super(Discriminator, self).__init__()\n",
        "        ## set a linear layer with input size is image_size and output size is hidden_size\n",
        "        self.linear1 = nn.Linear(image_size, hidden_size)\n",
        "        # set a linear layer with input size is hidden_size and output size is hidden_size\n",
        "        self.linear2 = nn.Linear(hidden_size, hidden_size)\n",
        "        # set a linear layer with input size is hidden_size and output size is 1\n",
        "        self.linear3 = nn.Linear(hidden_size, 1)\n",
        "        self.dropout = nn.Dropout(0.3)\n",
        "        self.model = nn.Sequential(\n",
        "            nn.Linear(image_size, hidden_size),\n",
        "            nn.LeakyReLU(),\n",
        "            nn.Dropout(0.3),\n",
        "            nn.Linear(hidden_size, hidden_size),\n",
        "            nn.LeakyReLU(),\n",
        "            nn.Dropout(0.3),\n",
        "            nn.Linear(hidden_size, 1),\n",
        "            nn.Sigmoid()\n",
        "        )\n",
        "    def forward(self, x):\n",
        "        # forward x -> linear1 -> relu -> linear2 -> relu -> linear3 -> sigmoid\n",
        "        # x = nn.functional.leaky_relu(self.linear1(x))\n",
        "        # x = self.dropout(x)\n",
        "        # x = nn.functional.leaky_relu(self.linear2(x))\n",
        "        # x = self.dropout(x)\n",
        "        # x = nn.functional.sigmoid(self.linear3(x))\n",
        "        x = self.model(x)\n",
        "        return x"
      ]
    },
    {
      "cell_type": "markdown",
      "metadata": {
        "id": "dhViiJdk___e",
        "pycharm": {
          "name": "#%% md\n"
        }
      },
      "source": [
        "### Create the Generator and Discriminator"
      ]
    },
    {
      "cell_type": "code",
      "execution_count": 23,
      "metadata": {
        "execution": {
          "iopub.execute_input": "2024-10-10T14:19:48.698572Z",
          "iopub.status.busy": "2024-10-10T14:19:48.698076Z",
          "iopub.status.idle": "2024-10-10T14:19:48.723352Z",
          "shell.execute_reply": "2024-10-10T14:19:48.722435Z",
          "shell.execute_reply.started": "2024-10-10T14:19:48.698535Z"
        },
        "id": "n102NpQJ___e",
        "pycharm": {
          "name": "#%%\n"
        }
      },
      "outputs": [],
      "source": [
        "# create new Generator model\n",
        "\n",
        "G = Generator(latent_size, image_size, hidden_size)\n",
        "\n",
        "# create new Discriminator model\n",
        "\n",
        "D = Discriminator(image_size, hidden_size)"
      ]
    },
    {
      "cell_type": "code",
      "execution_count": 24,
      "metadata": {
        "colab": {
          "base_uri": "https://localhost:8080/",
          "height": 447
        },
        "execution": {
          "iopub.execute_input": "2024-10-10T14:19:48.725371Z",
          "iopub.status.busy": "2024-10-10T14:19:48.724552Z",
          "iopub.status.idle": "2024-10-10T14:19:48.973436Z",
          "shell.execute_reply": "2024-10-10T14:19:48.972482Z",
          "shell.execute_reply.started": "2024-10-10T14:19:48.725334Z"
        },
        "id": "rESTDDE5___f",
        "outputId": "e53e07da-a951-4338-b30e-247ca786fe9b",
        "pycharm": {
          "name": "#%%\n"
        }
      },
      "outputs": [
        {
          "output_type": "execute_result",
          "data": {
            "text/plain": [
              "<matplotlib.image.AxesImage at 0x783aacaefaf0>"
            ]
          },
          "metadata": {},
          "execution_count": 24
        },
        {
          "output_type": "display_data",
          "data": {
            "text/plain": [
              "<Figure size 640x480 with 1 Axes>"
            ],
            "image/png": "[encoded data removed]"
          },
          "metadata": {}
        }
      ],
      "source": [
        "# show the output of model\n",
        "y = G(torch.randn(1, latent_size))\n",
        "plt.imshow(denorm(y).view(28, 28).detach().numpy())"
      ]
    },
    {
      "cell_type": "code",
      "execution_count": 26,
      "metadata": {
        "execution": {
          "iopub.execute_input": "2024-10-10T14:19:48.977447Z",
          "iopub.status.busy": "2024-10-10T14:19:48.976673Z",
          "iopub.status.idle": "2024-10-10T14:19:49.014225Z",
          "shell.execute_reply": "2024-10-10T14:19:49.013382Z",
          "shell.execute_reply.started": "2024-10-10T14:19:48.977407Z"
        },
        "id": "cDqDOGc-___f",
        "pycharm": {
          "name": "#%%\n"
        }
      },
      "outputs": [],
      "source": [
        "# define the criterion is nn.BCELoss()\n",
        "criterion = nn.BCELoss()\n",
        "\n",
        "## Define the optimizer for generator and discrimator\n",
        "\n",
        "optimizer_G = torch.optim.Adam(G.parameters(), lr=LR)\n",
        "\n",
        "# Определение оптимизатора для дискриминатора\n",
        "optimizer_D = torch.optim.Adam(D.parameters(), lr=LR)"
      ]
    },
    {
      "cell_type": "markdown",
      "metadata": {
        "id": "UreJsJKb___g",
        "pycharm": {
          "name": "#%% md\n"
        }
      },
      "source": [
        "Discriminator Training"
      ]
    },
    {
      "cell_type": "code",
      "execution_count": 25,
      "metadata": {
        "execution": {
          "iopub.execute_input": "2024-10-10T14:19:49.016410Z",
          "iopub.status.busy": "2024-10-10T14:19:49.015308Z",
          "iopub.status.idle": "2024-10-10T14:19:49.029559Z",
          "shell.execute_reply": "2024-10-10T14:19:49.028858Z",
          "shell.execute_reply.started": "2024-10-10T14:19:49.016369Z"
        },
        "id": "Rs4ZPjcP___g",
        "pycharm": {
          "name": "#%%\n"
        }
      },
      "outputs": [],
      "source": [
        "def reset_grad():\n",
        "    ## reset gradient for optimizer of generator and discrimator\n",
        "    optimizer_G.zero_grad()\n",
        "    optimizer_D.zero_grad()\n",
        "\n",
        "def train_discriminator(D_model, G_model, images):\n",
        "\n",
        "    # Create the labels which are later used as input for the BCE loss\n",
        "    real_labels = torch.ones(batch_size, 1).to(device)\n",
        "    fake_labels = torch.zeros(batch_size, 1).to(device)\n",
        "\n",
        "\n",
        "    outputs = D_model(images)\n",
        "    # Loss for real images\n",
        "    real_loss = criterion(outputs, real_labels)\n",
        "    real_score = outputs\n",
        "\n",
        "    # Loss for fake images\n",
        "    z = torch.randn(batch_size, latent_size).to(device)\n",
        "    fake_images = G_model(z)\n",
        "    outputs = D_model(fake_images)\n",
        "\n",
        "    fake_loss = criterion(outputs, fake_labels)\n",
        "    fake_score = outputs\n",
        "\n",
        "    # Sum losses\n",
        "    d_loss = real_loss + fake_loss\n",
        "    # Reset gradients\n",
        "    reset_grad()\n",
        "    # Compute gradients\n",
        "    d_loss.backward()\n",
        "    optimizer_D.step()\n",
        "    # Adjust the parameters using backprop\n",
        "\n",
        "    return d_loss, real_score, fake_score"
      ]
    },
    {
      "cell_type": "markdown",
      "metadata": {
        "id": "GPF-F7k2___h",
        "pycharm": {
          "name": "#%% md\n"
        }
      },
      "source": [
        "Generator Training"
      ]
    },
    {
      "cell_type": "code",
      "execution_count": 18,
      "metadata": {
        "execution": {
          "iopub.execute_input": "2024-10-10T14:19:49.031425Z",
          "iopub.status.busy": "2024-10-10T14:19:49.030690Z",
          "iopub.status.idle": "2024-10-10T14:19:49.045442Z",
          "shell.execute_reply": "2024-10-10T14:19:49.044736Z",
          "shell.execute_reply.started": "2024-10-10T14:19:49.031386Z"
        },
        "id": "Yx02VmkA___h",
        "pycharm": {
          "name": "#%%\n"
        }
      },
      "outputs": [],
      "source": [
        "def train_generator(G_model):\n",
        "    # Generate fake images and calculate loss\n",
        "    # z = torch.randn(batch_size, latent_size).to(device)\n",
        "    z = torch.Tensor(np.random.normal(0, 1, (batch_size, latent_size))).to(device)\n",
        "    fake_images = G_model(z)\n",
        "    labels = torch.ones(batch_size, 1).to(device)\n",
        "    # calculate the generator loss\n",
        "    outputs = D(fake_images)\n",
        "    g_loss = criterion(outputs, labels)\n",
        "    # Reset gradients\n",
        "    reset_grad()\n",
        "    # Backprop and optimize\n",
        "    g_loss.backward()\n",
        "    optimizer_G.step()\n",
        "    return g_loss, fake_images"
      ]
    },
    {
      "cell_type": "markdown",
      "metadata": {
        "id": "FJHs15NF___i",
        "pycharm": {
          "name": "#%% md\n"
        }
      },
      "source": [
        "### Start the training proccess"
      ]
    },
    {
      "cell_type": "code",
      "execution_count": 19,
      "metadata": {
        "execution": {
          "iopub.execute_input": "2024-10-10T14:19:49.047978Z",
          "iopub.status.busy": "2024-10-10T14:19:49.046367Z",
          "iopub.status.idle": "2024-10-10T14:19:49.067065Z",
          "shell.execute_reply": "2024-10-10T14:19:49.066239Z",
          "shell.execute_reply.started": "2024-10-10T14:19:49.047919Z"
        },
        "id": "dlUgHAi6___i",
        "pycharm": {
          "name": "#%%\n"
        }
      },
      "outputs": [],
      "source": [
        "# function to save the sample output of generator\n",
        "def save_fake_images_mnist(G_model, index):\n",
        "    # sample_vectors = torch.randn(batch_size, latent_size).to(device)\n",
        "    sample_vectors = torch.Tensor(np.random.normal(0, 1, (batch_size, latent_size))).to(\n",
        "        device\n",
        "    )\n",
        "    fake_images = G_model(sample_vectors)\n",
        "    fake_images = fake_images.reshape(fake_images.size(0), 1, 28, 28)\n",
        "    fake_fname = \"fake_images-{0:0=4d}.png\".format(index)\n",
        "    print(\"Saving\", fake_fname)\n",
        "    save_image(denorm(fake_images), os.path.join(sample_dir, fake_fname), nrow=10)"
      ]
    },
    {
      "cell_type": "code",
      "execution_count": 27,
      "metadata": {
        "execution": {
          "iopub.execute_input": "2024-10-10T14:21:15.935243Z",
          "iopub.status.busy": "2024-10-10T14:21:15.933979Z",
          "iopub.status.idle": "2024-10-10T15:32:56.933619Z",
          "shell.execute_reply": "2024-10-10T15:32:56.932698Z",
          "shell.execute_reply.started": "2024-10-10T14:21:15.935204Z"
        },
        "id": "aCsHM9uS___j",
        "pycharm": {
          "name": "#%%\n"
        },
        "tags": [],
        "colab": {
          "base_uri": "https://localhost:8080/"
        },
        "outputId": "0b5c6989-d2e8-41af-cdbf-b54bed9c4f84"
      },
      "outputs": [
        {
          "output_type": "stream",
          "name": "stdout",
          "text": [
            "Epoch [0/300], Step [200/600], d_loss: 0.1084, g_loss: 2.8882, D(x): 0.98, D(G(z)): 0.09\n",
            "Epoch [0/300], Step [400/600], d_loss: 1.3707, g_loss: 0.8770, D(x): 0.78, D(G(z)): 0.60\n",
            "Epoch [0/300], Step [600/600], d_loss: 0.7510, g_loss: 1.5206, D(x): 0.70, D(G(z)): 0.30\n",
            "Saving fake_images-0001.png\n",
            "Epoch [1/300], Step [200/600], d_loss: 0.8795, g_loss: 1.0680, D(x): 0.70, D(G(z)): 0.38\n",
            "Epoch [1/300], Step [400/600], d_loss: 0.3971, g_loss: 2.2756, D(x): 0.87, D(G(z)): 0.18\n",
            "Epoch [1/300], Step [600/600], d_loss: 0.2834, g_loss: 2.4229, D(x): 0.93, D(G(z)): 0.15\n",
            "Saving fake_images-0002.png\n",
            "Epoch [2/300], Step [200/600], d_loss: 0.3326, g_loss: 2.5243, D(x): 0.91, D(G(z)): 0.14\n",
            "Epoch [2/300], Step [400/600], d_loss: 1.0252, g_loss: 2.1014, D(x): 0.67, D(G(z)): 0.22\n",
            "Epoch [2/300], Step [600/600], d_loss: 0.7357, g_loss: 2.0763, D(x): 0.72, D(G(z)): 0.22\n",
            "Saving fake_images-0003.png\n",
            "Epoch [3/300], Step [200/600], d_loss: 0.1710, g_loss: 3.2340, D(x): 0.95, D(G(z)): 0.09\n",
            "Epoch [3/300], Step [400/600], d_loss: 0.4615, g_loss: 2.3423, D(x): 0.84, D(G(z)): 0.17\n",
            "Epoch [3/300], Step [600/600], d_loss: 0.5556, g_loss: 3.1280, D(x): 0.84, D(G(z)): 0.14\n",
            "Saving fake_images-0004.png\n",
            "Epoch [4/300], Step [200/600], d_loss: 0.3519, g_loss: 3.6631, D(x): 0.87, D(G(z)): 0.12\n",
            "Epoch [4/300], Step [400/600], d_loss: 0.4540, g_loss: 4.2946, D(x): 0.90, D(G(z)): 0.11\n",
            "Epoch [4/300], Step [600/600], d_loss: 0.3439, g_loss: 3.9714, D(x): 0.90, D(G(z)): 0.12\n",
            "Saving fake_images-0005.png\n",
            "Epoch [5/300], Step [200/600], d_loss: 0.3833, g_loss: 2.3075, D(x): 0.89, D(G(z)): 0.17\n",
            "Epoch [5/300], Step [400/600], d_loss: 0.2375, g_loss: 3.5471, D(x): 0.93, D(G(z)): 0.11\n",
            "Epoch [5/300], Step [600/600], d_loss: 0.1866, g_loss: 4.8093, D(x): 0.93, D(G(z)): 0.04\n",
            "Saving fake_images-0006.png\n",
            "Epoch [6/300], Step [200/600], d_loss: 0.4109, g_loss: 3.4348, D(x): 0.87, D(G(z)): 0.05\n",
            "Epoch [6/300], Step [400/600], d_loss: 0.3381, g_loss: 4.3010, D(x): 0.92, D(G(z)): 0.09\n",
            "Epoch [6/300], Step [600/600], d_loss: 0.3338, g_loss: 2.5280, D(x): 0.92, D(G(z)): 0.15\n",
            "Saving fake_images-0007.png\n",
            "Epoch [7/300], Step [200/600], d_loss: 0.4049, g_loss: 3.0860, D(x): 0.87, D(G(z)): 0.09\n",
            "Epoch [7/300], Step [400/600], d_loss: 0.2741, g_loss: 3.5240, D(x): 0.90, D(G(z)): 0.06\n",
            "Epoch [7/300], Step [600/600], d_loss: 0.4422, g_loss: 2.3189, D(x): 0.86, D(G(z)): 0.14\n",
            "Saving fake_images-0008.png\n",
            "Epoch [8/300], Step [200/600], d_loss: 0.2653, g_loss: 3.7988, D(x): 0.90, D(G(z)): 0.07\n",
            "Epoch [8/300], Step [400/600], d_loss: 0.3908, g_loss: 2.5947, D(x): 0.88, D(G(z)): 0.12\n",
            "Epoch [8/300], Step [600/600], d_loss: 0.3618, g_loss: 2.4362, D(x): 0.89, D(G(z)): 0.13\n",
            "Saving fake_images-0009.png\n",
            "Epoch [9/300], Step [200/600], d_loss: 0.3657, g_loss: 2.8246, D(x): 0.92, D(G(z)): 0.15\n",
            "Epoch [9/300], Step [400/600], d_loss: 0.4694, g_loss: 2.9652, D(x): 0.85, D(G(z)): 0.13\n",
            "Epoch [9/300], Step [600/600], d_loss: 0.3627, g_loss: 3.1166, D(x): 0.88, D(G(z)): 0.10\n",
            "Saving fake_images-0010.png\n",
            "Epoch [10/300], Step [200/600], d_loss: 0.6193, g_loss: 2.2976, D(x): 0.78, D(G(z)): 0.16\n",
            "Epoch [10/300], Step [400/600], d_loss: 0.3571, g_loss: 3.6055, D(x): 0.87, D(G(z)): 0.08\n",
            "Epoch [10/300], Step [600/600], d_loss: 0.3810, g_loss: 2.6737, D(x): 0.87, D(G(z)): 0.11\n",
            "Saving fake_images-0011.png\n",
            "Epoch [11/300], Step [200/600], d_loss: 0.3458, g_loss: 3.2658, D(x): 0.95, D(G(z)): 0.15\n",
            "Epoch [11/300], Step [400/600], d_loss: 0.3507, g_loss: 2.9644, D(x): 0.88, D(G(z)): 0.12\n",
            "Epoch [11/300], Step [600/600], d_loss: 0.4278, g_loss: 2.8149, D(x): 0.87, D(G(z)): 0.12\n",
            "Saving fake_images-0012.png\n",
            "Epoch [12/300], Step [200/600], d_loss: 0.6794, g_loss: 2.4241, D(x): 0.79, D(G(z)): 0.21\n",
            "Epoch [12/300], Step [400/600], d_loss: 0.5368, g_loss: 2.3790, D(x): 0.81, D(G(z)): 0.14\n",
            "Epoch [12/300], Step [600/600], d_loss: 0.4946, g_loss: 2.3983, D(x): 0.87, D(G(z)): 0.15\n",
            "Saving fake_images-0013.png\n",
            "Epoch [13/300], Step [200/600], d_loss: 0.4770, g_loss: 2.6918, D(x): 0.89, D(G(z)): 0.16\n",
            "Epoch [13/300], Step [400/600], d_loss: 0.4479, g_loss: 2.6617, D(x): 0.89, D(G(z)): 0.14\n",
            "Epoch [13/300], Step [600/600], d_loss: 0.4779, g_loss: 2.6721, D(x): 0.85, D(G(z)): 0.15\n",
            "Saving fake_images-0014.png\n",
            "Epoch [14/300], Step [200/600], d_loss: 0.6040, g_loss: 2.0381, D(x): 0.82, D(G(z)): 0.19\n",
            "Epoch [14/300], Step [400/600], d_loss: 0.3885, g_loss: 2.7550, D(x): 0.90, D(G(z)): 0.13\n",
            "Epoch [14/300], Step [600/600], d_loss: 0.4438, g_loss: 2.7607, D(x): 0.88, D(G(z)): 0.15\n",
            "Saving fake_images-0015.png\n",
            "Epoch [15/300], Step [200/600], d_loss: 0.4440, g_loss: 2.7706, D(x): 0.90, D(G(z)): 0.16\n",
            "Epoch [15/300], Step [400/600], d_loss: 0.5875, g_loss: 2.5588, D(x): 0.79, D(G(z)): 0.12\n",
            "Epoch [15/300], Step [600/600], d_loss: 0.5864, g_loss: 1.9915, D(x): 0.84, D(G(z)): 0.20\n",
            "Saving fake_images-0016.png\n",
            "Epoch [16/300], Step [200/600], d_loss: 0.5860, g_loss: 2.4559, D(x): 0.79, D(G(z)): 0.16\n",
            "Epoch [16/300], Step [400/600], d_loss: 0.6268, g_loss: 2.2943, D(x): 0.85, D(G(z)): 0.20\n",
            "Epoch [16/300], Step [600/600], d_loss: 0.8475, g_loss: 2.4936, D(x): 0.80, D(G(z)): 0.22\n",
            "Saving fake_images-0017.png\n",
            "Epoch [17/300], Step [200/600], d_loss: 0.6100, g_loss: 1.9124, D(x): 0.83, D(G(z)): 0.22\n",
            "Epoch [17/300], Step [400/600], d_loss: 0.6002, g_loss: 2.0963, D(x): 0.81, D(G(z)): 0.20\n",
            "Epoch [17/300], Step [600/600], d_loss: 0.6122, g_loss: 2.7498, D(x): 0.76, D(G(z)): 0.13\n",
            "Saving fake_images-0018.png\n",
            "Epoch [18/300], Step [200/600], d_loss: 0.7357, g_loss: 2.0715, D(x): 0.75, D(G(z)): 0.17\n",
            "Epoch [18/300], Step [400/600], d_loss: 0.4696, g_loss: 2.3615, D(x): 0.84, D(G(z)): 0.15\n",
            "Epoch [18/300], Step [600/600], d_loss: 0.7421, g_loss: 2.1540, D(x): 0.74, D(G(z)): 0.16\n",
            "Saving fake_images-0019.png\n",
            "Epoch [19/300], Step [200/600], d_loss: 0.6998, g_loss: 2.0003, D(x): 0.72, D(G(z)): 0.16\n",
            "Epoch [19/300], Step [400/600], d_loss: 0.6040, g_loss: 1.6429, D(x): 0.82, D(G(z)): 0.24\n",
            "Epoch [19/300], Step [600/600], d_loss: 0.7267, g_loss: 1.7054, D(x): 0.74, D(G(z)): 0.19\n",
            "Saving fake_images-0020.png\n",
            "Epoch [20/300], Step [200/600], d_loss: 0.7085, g_loss: 2.1066, D(x): 0.79, D(G(z)): 0.23\n",
            "Epoch [20/300], Step [400/600], d_loss: 0.6477, g_loss: 1.5255, D(x): 0.80, D(G(z)): 0.25\n",
            "Epoch [20/300], Step [600/600], d_loss: 0.7769, g_loss: 1.8969, D(x): 0.69, D(G(z)): 0.17\n",
            "Saving fake_images-0021.png\n",
            "Epoch [21/300], Step [200/600], d_loss: 0.9253, g_loss: 1.7448, D(x): 0.66, D(G(z)): 0.23\n",
            "Epoch [21/300], Step [400/600], d_loss: 0.7239, g_loss: 1.7531, D(x): 0.76, D(G(z)): 0.22\n",
            "Epoch [21/300], Step [600/600], d_loss: 0.7525, g_loss: 1.5338, D(x): 0.75, D(G(z)): 0.24\n",
            "Saving fake_images-0022.png\n",
            "Epoch [22/300], Step [200/600], d_loss: 0.7886, g_loss: 1.9726, D(x): 0.73, D(G(z)): 0.21\n",
            "Epoch [22/300], Step [400/600], d_loss: 0.7999, g_loss: 1.9623, D(x): 0.70, D(G(z)): 0.19\n",
            "Epoch [22/300], Step [600/600], d_loss: 0.7293, g_loss: 1.6176, D(x): 0.78, D(G(z)): 0.25\n",
            "Saving fake_images-0023.png\n",
            "Epoch [23/300], Step [200/600], d_loss: 0.6505, g_loss: 2.1135, D(x): 0.76, D(G(z)): 0.17\n",
            "Epoch [23/300], Step [400/600], d_loss: 0.7455, g_loss: 1.7129, D(x): 0.75, D(G(z)): 0.22\n",
            "Epoch [23/300], Step [600/600], d_loss: 0.5391, g_loss: 1.7680, D(x): 0.85, D(G(z)): 0.20\n",
            "Saving fake_images-0024.png\n",
            "Epoch [24/300], Step [200/600], d_loss: 0.7943, g_loss: 1.5045, D(x): 0.77, D(G(z)): 0.28\n",
            "Epoch [24/300], Step [400/600], d_loss: 0.7667, g_loss: 1.7951, D(x): 0.73, D(G(z)): 0.22\n",
            "Epoch [24/300], Step [600/600], d_loss: 0.8229, g_loss: 1.7795, D(x): 0.72, D(G(z)): 0.24\n",
            "Saving fake_images-0025.png\n",
            "Epoch [25/300], Step [200/600], d_loss: 0.6258, g_loss: 2.0282, D(x): 0.79, D(G(z)): 0.19\n",
            "Epoch [25/300], Step [400/600], d_loss: 0.9490, g_loss: 1.5441, D(x): 0.72, D(G(z)): 0.31\n",
            "Epoch [25/300], Step [600/600], d_loss: 0.7752, g_loss: 1.7251, D(x): 0.75, D(G(z)): 0.25\n",
            "Saving fake_images-0026.png\n",
            "Epoch [26/300], Step [200/600], d_loss: 0.8980, g_loss: 1.9604, D(x): 0.70, D(G(z)): 0.24\n",
            "Epoch [26/300], Step [400/600], d_loss: 0.9394, g_loss: 1.4462, D(x): 0.66, D(G(z)): 0.27\n",
            "Epoch [26/300], Step [600/600], d_loss: 0.8284, g_loss: 1.9521, D(x): 0.72, D(G(z)): 0.26\n",
            "Saving fake_images-0027.png\n",
            "Epoch [27/300], Step [200/600], d_loss: 0.8082, g_loss: 1.4589, D(x): 0.79, D(G(z)): 0.31\n",
            "Epoch [27/300], Step [400/600], d_loss: 0.7574, g_loss: 1.6314, D(x): 0.75, D(G(z)): 0.25\n",
            "Epoch [27/300], Step [600/600], d_loss: 0.6985, g_loss: 1.8887, D(x): 0.73, D(G(z)): 0.18\n",
            "Saving fake_images-0028.png\n",
            "Epoch [28/300], Step [200/600], d_loss: 0.8255, g_loss: 1.4966, D(x): 0.73, D(G(z)): 0.28\n",
            "Epoch [28/300], Step [400/600], d_loss: 0.9369, g_loss: 1.4009, D(x): 0.69, D(G(z)): 0.30\n",
            "Epoch [28/300], Step [600/600], d_loss: 0.9250, g_loss: 1.8297, D(x): 0.66, D(G(z)): 0.26\n",
            "Saving fake_images-0029.png\n",
            "Epoch [29/300], Step [200/600], d_loss: 0.8996, g_loss: 1.4695, D(x): 0.74, D(G(z)): 0.34\n",
            "Epoch [29/300], Step [400/600], d_loss: 0.7530, g_loss: 1.7777, D(x): 0.71, D(G(z)): 0.22\n",
            "Epoch [29/300], Step [600/600], d_loss: 0.8090, g_loss: 1.4978, D(x): 0.71, D(G(z)): 0.25\n",
            "Saving fake_images-0030.png\n",
            "Epoch [30/300], Step [200/600], d_loss: 0.7704, g_loss: 1.3875, D(x): 0.79, D(G(z)): 0.30\n",
            "Epoch [30/300], Step [400/600], d_loss: 0.6643, g_loss: 1.5316, D(x): 0.75, D(G(z)): 0.22\n",
            "Epoch [30/300], Step [600/600], d_loss: 0.9211, g_loss: 1.5740, D(x): 0.71, D(G(z)): 0.29\n",
            "Saving fake_images-0031.png\n",
            "Epoch [31/300], Step [200/600], d_loss: 0.8728, g_loss: 1.4314, D(x): 0.72, D(G(z)): 0.27\n",
            "Epoch [31/300], Step [400/600], d_loss: 0.7309, g_loss: 1.5628, D(x): 0.77, D(G(z)): 0.27\n",
            "Epoch [31/300], Step [600/600], d_loss: 0.8881, g_loss: 1.3315, D(x): 0.77, D(G(z)): 0.33\n",
            "Saving fake_images-0032.png\n",
            "Epoch [32/300], Step [200/600], d_loss: 0.7812, g_loss: 1.6634, D(x): 0.74, D(G(z)): 0.29\n",
            "Epoch [32/300], Step [400/600], d_loss: 0.8196, g_loss: 1.8739, D(x): 0.71, D(G(z)): 0.24\n",
            "Epoch [32/300], Step [600/600], d_loss: 0.7758, g_loss: 1.5952, D(x): 0.76, D(G(z)): 0.29\n",
            "Saving fake_images-0033.png\n",
            "Epoch [33/300], Step [200/600], d_loss: 0.8732, g_loss: 1.4849, D(x): 0.76, D(G(z)): 0.32\n",
            "Epoch [33/300], Step [400/600], d_loss: 0.9238, g_loss: 1.5851, D(x): 0.74, D(G(z)): 0.32\n",
            "Epoch [33/300], Step [600/600], d_loss: 0.8657, g_loss: 1.4370, D(x): 0.72, D(G(z)): 0.29\n",
            "Saving fake_images-0034.png\n",
            "Epoch [34/300], Step [200/600], d_loss: 0.9192, g_loss: 1.3413, D(x): 0.70, D(G(z)): 0.31\n",
            "Epoch [34/300], Step [400/600], d_loss: 0.8162, g_loss: 1.8188, D(x): 0.75, D(G(z)): 0.25\n",
            "Epoch [34/300], Step [600/600], d_loss: 0.9644, g_loss: 1.5100, D(x): 0.69, D(G(z)): 0.29\n",
            "Saving fake_images-0035.png\n",
            "Epoch [35/300], Step [200/600], d_loss: 0.8072, g_loss: 1.5000, D(x): 0.72, D(G(z)): 0.28\n",
            "Epoch [35/300], Step [400/600], d_loss: 0.9923, g_loss: 1.4085, D(x): 0.71, D(G(z)): 0.32\n",
            "Epoch [35/300], Step [600/600], d_loss: 1.0045, g_loss: 1.3686, D(x): 0.66, D(G(z)): 0.31\n",
            "Saving fake_images-0036.png\n",
            "Epoch [36/300], Step [200/600], d_loss: 0.9231, g_loss: 1.6261, D(x): 0.62, D(G(z)): 0.23\n",
            "Epoch [36/300], Step [400/600], d_loss: 0.8617, g_loss: 1.3708, D(x): 0.72, D(G(z)): 0.30\n",
            "Epoch [36/300], Step [600/600], d_loss: 0.8332, g_loss: 1.4621, D(x): 0.75, D(G(z)): 0.30\n",
            "Saving fake_images-0037.png\n",
            "Epoch [37/300], Step [200/600], d_loss: 0.9907, g_loss: 1.7394, D(x): 0.67, D(G(z)): 0.28\n",
            "Epoch [37/300], Step [400/600], d_loss: 1.0477, g_loss: 1.5859, D(x): 0.69, D(G(z)): 0.29\n",
            "Epoch [37/300], Step [600/600], d_loss: 0.8160, g_loss: 1.8095, D(x): 0.72, D(G(z)): 0.26\n",
            "Saving fake_images-0038.png\n",
            "Epoch [38/300], Step [200/600], d_loss: 0.9213, g_loss: 1.2578, D(x): 0.74, D(G(z)): 0.33\n",
            "Epoch [38/300], Step [400/600], d_loss: 0.8603, g_loss: 1.4331, D(x): 0.71, D(G(z)): 0.30\n",
            "Epoch [38/300], Step [600/600], d_loss: 0.9189, g_loss: 1.3380, D(x): 0.73, D(G(z)): 0.33\n",
            "Saving fake_images-0039.png\n",
            "Epoch [39/300], Step [200/600], d_loss: 0.6156, g_loss: 1.4413, D(x): 0.79, D(G(z)): 0.24\n",
            "Epoch [39/300], Step [400/600], d_loss: 0.9798, g_loss: 1.6639, D(x): 0.71, D(G(z)): 0.33\n",
            "Epoch [39/300], Step [600/600], d_loss: 0.8142, g_loss: 1.2857, D(x): 0.73, D(G(z)): 0.28\n",
            "Saving fake_images-0040.png\n",
            "Epoch [40/300], Step [200/600], d_loss: 0.7800, g_loss: 1.7533, D(x): 0.72, D(G(z)): 0.24\n",
            "Epoch [40/300], Step [400/600], d_loss: 0.9178, g_loss: 1.5749, D(x): 0.68, D(G(z)): 0.27\n",
            "Epoch [40/300], Step [600/600], d_loss: 0.9407, g_loss: 1.3364, D(x): 0.71, D(G(z)): 0.34\n",
            "Saving fake_images-0041.png\n",
            "Epoch [41/300], Step [200/600], d_loss: 0.8994, g_loss: 1.3232, D(x): 0.73, D(G(z)): 0.30\n",
            "Epoch [41/300], Step [400/600], d_loss: 0.8757, g_loss: 1.6736, D(x): 0.65, D(G(z)): 0.26\n",
            "Epoch [41/300], Step [600/600], d_loss: 0.8548, g_loss: 1.5747, D(x): 0.69, D(G(z)): 0.26\n",
            "Saving fake_images-0042.png\n",
            "Epoch [42/300], Step [200/600], d_loss: 1.1008, g_loss: 1.5564, D(x): 0.65, D(G(z)): 0.32\n",
            "Epoch [42/300], Step [400/600], d_loss: 0.8328, g_loss: 1.4336, D(x): 0.75, D(G(z)): 0.33\n",
            "Epoch [42/300], Step [600/600], d_loss: 0.9231, g_loss: 1.3528, D(x): 0.65, D(G(z)): 0.26\n",
            "Saving fake_images-0043.png\n",
            "Epoch [43/300], Step [200/600], d_loss: 0.9249, g_loss: 1.7041, D(x): 0.73, D(G(z)): 0.32\n",
            "Epoch [43/300], Step [400/600], d_loss: 0.9107, g_loss: 1.3032, D(x): 0.69, D(G(z)): 0.30\n",
            "Epoch [43/300], Step [600/600], d_loss: 0.8867, g_loss: 1.4710, D(x): 0.67, D(G(z)): 0.28\n",
            "Saving fake_images-0044.png\n",
            "Epoch [44/300], Step [200/600], d_loss: 0.9452, g_loss: 1.6463, D(x): 0.63, D(G(z)): 0.26\n",
            "Epoch [44/300], Step [400/600], d_loss: 0.8911, g_loss: 1.7572, D(x): 0.68, D(G(z)): 0.26\n",
            "Epoch [44/300], Step [600/600], d_loss: 1.0074, g_loss: 1.3672, D(x): 0.66, D(G(z)): 0.33\n",
            "Saving fake_images-0045.png\n",
            "Epoch [45/300], Step [200/600], d_loss: 0.8665, g_loss: 1.3425, D(x): 0.69, D(G(z)): 0.30\n",
            "Epoch [45/300], Step [400/600], d_loss: 0.9480, g_loss: 1.5997, D(x): 0.71, D(G(z)): 0.31\n",
            "Epoch [45/300], Step [600/600], d_loss: 1.0888, g_loss: 1.1783, D(x): 0.69, D(G(z)): 0.38\n",
            "Saving fake_images-0046.png\n",
            "Epoch [46/300], Step [200/600], d_loss: 1.0723, g_loss: 1.2654, D(x): 0.69, D(G(z)): 0.37\n",
            "Epoch [46/300], Step [400/600], d_loss: 0.9236, g_loss: 1.3253, D(x): 0.67, D(G(z)): 0.29\n",
            "Epoch [46/300], Step [600/600], d_loss: 0.8881, g_loss: 1.2486, D(x): 0.69, D(G(z)): 0.29\n",
            "Saving fake_images-0047.png\n",
            "Epoch [47/300], Step [200/600], d_loss: 0.9567, g_loss: 1.3903, D(x): 0.70, D(G(z)): 0.32\n",
            "Epoch [47/300], Step [400/600], d_loss: 0.9435, g_loss: 1.4582, D(x): 0.67, D(G(z)): 0.32\n",
            "Epoch [47/300], Step [600/600], d_loss: 0.9410, g_loss: 1.3402, D(x): 0.69, D(G(z)): 0.30\n",
            "Saving fake_images-0048.png\n",
            "Epoch [48/300], Step [200/600], d_loss: 0.8020, g_loss: 1.5850, D(x): 0.73, D(G(z)): 0.30\n",
            "Epoch [48/300], Step [400/600], d_loss: 0.9400, g_loss: 1.4719, D(x): 0.67, D(G(z)): 0.29\n",
            "Epoch [48/300], Step [600/600], d_loss: 0.8893, g_loss: 1.4243, D(x): 0.70, D(G(z)): 0.29\n",
            "Saving fake_images-0049.png\n",
            "Epoch [49/300], Step [200/600], d_loss: 0.8337, g_loss: 1.4105, D(x): 0.72, D(G(z)): 0.29\n",
            "Epoch [49/300], Step [400/600], d_loss: 0.9597, g_loss: 1.1050, D(x): 0.70, D(G(z)): 0.35\n",
            "Epoch [49/300], Step [600/600], d_loss: 0.9425, g_loss: 1.2376, D(x): 0.72, D(G(z)): 0.36\n",
            "Saving fake_images-0050.png\n",
            "Epoch [50/300], Step [200/600], d_loss: 1.0413, g_loss: 1.1427, D(x): 0.64, D(G(z)): 0.35\n",
            "Epoch [50/300], Step [400/600], d_loss: 0.9681, g_loss: 1.6704, D(x): 0.64, D(G(z)): 0.30\n",
            "Epoch [50/300], Step [600/600], d_loss: 0.9713, g_loss: 1.5869, D(x): 0.69, D(G(z)): 0.31\n",
            "Saving fake_images-0051.png\n",
            "Epoch [51/300], Step [200/600], d_loss: 0.9543, g_loss: 1.4339, D(x): 0.63, D(G(z)): 0.26\n",
            "Epoch [51/300], Step [400/600], d_loss: 0.8737, g_loss: 1.0837, D(x): 0.76, D(G(z)): 0.36\n",
            "Epoch [51/300], Step [600/600], d_loss: 0.8728, g_loss: 1.3692, D(x): 0.74, D(G(z)): 0.33\n",
            "Saving fake_images-0052.png\n",
            "Epoch [52/300], Step [200/600], d_loss: 0.9427, g_loss: 1.1398, D(x): 0.73, D(G(z)): 0.38\n",
            "Epoch [52/300], Step [400/600], d_loss: 1.0367, g_loss: 1.3872, D(x): 0.65, D(G(z)): 0.31\n",
            "Epoch [52/300], Step [600/600], d_loss: 0.8816, g_loss: 1.2193, D(x): 0.69, D(G(z)): 0.28\n",
            "Saving fake_images-0053.png\n",
            "Epoch [53/300], Step [200/600], d_loss: 0.9595, g_loss: 1.4722, D(x): 0.64, D(G(z)): 0.28\n",
            "Epoch [53/300], Step [400/600], d_loss: 0.9679, g_loss: 1.4449, D(x): 0.63, D(G(z)): 0.28\n",
            "Epoch [53/300], Step [600/600], d_loss: 1.0036, g_loss: 1.4748, D(x): 0.60, D(G(z)): 0.26\n",
            "Saving fake_images-0054.png\n",
            "Epoch [54/300], Step [200/600], d_loss: 0.9975, g_loss: 1.3457, D(x): 0.68, D(G(z)): 0.37\n",
            "Epoch [54/300], Step [400/600], d_loss: 1.0624, g_loss: 1.1874, D(x): 0.66, D(G(z)): 0.36\n",
            "Epoch [54/300], Step [600/600], d_loss: 0.9046, g_loss: 1.5544, D(x): 0.62, D(G(z)): 0.24\n",
            "Saving fake_images-0055.png\n",
            "Epoch [55/300], Step [200/600], d_loss: 1.0554, g_loss: 1.0758, D(x): 0.70, D(G(z)): 0.38\n",
            "Epoch [55/300], Step [400/600], d_loss: 0.9962, g_loss: 1.2574, D(x): 0.67, D(G(z)): 0.34\n",
            "Epoch [55/300], Step [600/600], d_loss: 0.9796, g_loss: 1.2377, D(x): 0.68, D(G(z)): 0.32\n",
            "Saving fake_images-0056.png\n",
            "Epoch [56/300], Step [200/600], d_loss: 1.1645, g_loss: 1.0885, D(x): 0.64, D(G(z)): 0.38\n",
            "Epoch [56/300], Step [400/600], d_loss: 0.9508, g_loss: 1.1896, D(x): 0.67, D(G(z)): 0.35\n",
            "Epoch [56/300], Step [600/600], d_loss: 0.8028, g_loss: 1.5009, D(x): 0.73, D(G(z)): 0.30\n",
            "Saving fake_images-0057.png\n",
            "Epoch [57/300], Step [200/600], d_loss: 0.9624, g_loss: 1.1263, D(x): 0.69, D(G(z)): 0.36\n",
            "Epoch [57/300], Step [400/600], d_loss: 0.9587, g_loss: 1.3361, D(x): 0.68, D(G(z)): 0.32\n",
            "Epoch [57/300], Step [600/600], d_loss: 1.0174, g_loss: 1.3490, D(x): 0.63, D(G(z)): 0.32\n",
            "Saving fake_images-0058.png\n",
            "Epoch [58/300], Step [200/600], d_loss: 0.9564, g_loss: 1.4527, D(x): 0.62, D(G(z)): 0.29\n",
            "Epoch [58/300], Step [400/600], d_loss: 1.0882, g_loss: 1.2285, D(x): 0.62, D(G(z)): 0.35\n",
            "Epoch [58/300], Step [600/600], d_loss: 1.2016, g_loss: 1.0930, D(x): 0.65, D(G(z)): 0.40\n",
            "Saving fake_images-0059.png\n",
            "Epoch [59/300], Step [200/600], d_loss: 0.8896, g_loss: 1.1122, D(x): 0.68, D(G(z)): 0.32\n",
            "Epoch [59/300], Step [400/600], d_loss: 0.9665, g_loss: 1.5578, D(x): 0.67, D(G(z)): 0.33\n",
            "Epoch [59/300], Step [600/600], d_loss: 1.1813, g_loss: 1.3139, D(x): 0.62, D(G(z)): 0.39\n",
            "Saving fake_images-0060.png\n",
            "Epoch [60/300], Step [200/600], d_loss: 1.2042, g_loss: 1.1050, D(x): 0.59, D(G(z)): 0.39\n",
            "Epoch [60/300], Step [400/600], d_loss: 1.0299, g_loss: 1.4119, D(x): 0.67, D(G(z)): 0.34\n",
            "Epoch [60/300], Step [600/600], d_loss: 0.9563, g_loss: 1.0889, D(x): 0.68, D(G(z)): 0.34\n",
            "Saving fake_images-0061.png\n",
            "Epoch [61/300], Step [200/600], d_loss: 1.0500, g_loss: 1.4020, D(x): 0.63, D(G(z)): 0.32\n",
            "Epoch [61/300], Step [400/600], d_loss: 1.0333, g_loss: 1.6595, D(x): 0.60, D(G(z)): 0.30\n",
            "Epoch [61/300], Step [600/600], d_loss: 0.8844, g_loss: 1.4824, D(x): 0.72, D(G(z)): 0.35\n",
            "Saving fake_images-0062.png\n",
            "Epoch [62/300], Step [200/600], d_loss: 0.9792, g_loss: 1.1594, D(x): 0.66, D(G(z)): 0.32\n",
            "Epoch [62/300], Step [400/600], d_loss: 1.0317, g_loss: 1.3712, D(x): 0.60, D(G(z)): 0.28\n",
            "Epoch [62/300], Step [600/600], d_loss: 0.9862, g_loss: 1.1924, D(x): 0.63, D(G(z)): 0.32\n",
            "Saving fake_images-0063.png\n",
            "Epoch [63/300], Step [200/600], d_loss: 1.1041, g_loss: 1.1633, D(x): 0.64, D(G(z)): 0.37\n",
            "Epoch [63/300], Step [400/600], d_loss: 1.0781, g_loss: 1.3183, D(x): 0.58, D(G(z)): 0.29\n",
            "Epoch [63/300], Step [600/600], d_loss: 0.9872, g_loss: 1.2360, D(x): 0.69, D(G(z)): 0.37\n",
            "Saving fake_images-0064.png\n",
            "Epoch [64/300], Step [200/600], d_loss: 0.9895, g_loss: 1.2723, D(x): 0.65, D(G(z)): 0.32\n",
            "Epoch [64/300], Step [400/600], d_loss: 1.2070, g_loss: 1.5576, D(x): 0.53, D(G(z)): 0.27\n",
            "Epoch [64/300], Step [600/600], d_loss: 1.0641, g_loss: 1.0361, D(x): 0.69, D(G(z)): 0.40\n",
            "Saving fake_images-0065.png\n",
            "Epoch [65/300], Step [200/600], d_loss: 1.0897, g_loss: 1.3847, D(x): 0.59, D(G(z)): 0.32\n",
            "Epoch [65/300], Step [400/600], d_loss: 1.0434, g_loss: 1.2978, D(x): 0.63, D(G(z)): 0.34\n",
            "Epoch [65/300], Step [600/600], d_loss: 1.0116, g_loss: 1.3883, D(x): 0.65, D(G(z)): 0.36\n",
            "Saving fake_images-0066.png\n",
            "Epoch [66/300], Step [200/600], d_loss: 1.0252, g_loss: 1.0582, D(x): 0.67, D(G(z)): 0.38\n",
            "Epoch [66/300], Step [400/600], d_loss: 1.0997, g_loss: 1.0538, D(x): 0.66, D(G(z)): 0.41\n",
            "Epoch [66/300], Step [600/600], d_loss: 1.0457, g_loss: 1.1758, D(x): 0.61, D(G(z)): 0.34\n",
            "Saving fake_images-0067.png\n",
            "Epoch [67/300], Step [200/600], d_loss: 1.0607, g_loss: 1.0810, D(x): 0.62, D(G(z)): 0.35\n",
            "Epoch [67/300], Step [400/600], d_loss: 1.0506, g_loss: 1.0268, D(x): 0.67, D(G(z)): 0.38\n",
            "Epoch [67/300], Step [600/600], d_loss: 1.0215, g_loss: 1.6281, D(x): 0.58, D(G(z)): 0.29\n",
            "Saving fake_images-0068.png\n",
            "Epoch [68/300], Step [200/600], d_loss: 1.0346, g_loss: 1.3322, D(x): 0.66, D(G(z)): 0.35\n",
            "Epoch [68/300], Step [400/600], d_loss: 1.0545, g_loss: 1.4858, D(x): 0.61, D(G(z)): 0.31\n",
            "Epoch [68/300], Step [600/600], d_loss: 1.0407, g_loss: 0.9572, D(x): 0.70, D(G(z)): 0.43\n",
            "Saving fake_images-0069.png\n",
            "Epoch [69/300], Step [200/600], d_loss: 1.0221, g_loss: 1.0516, D(x): 0.67, D(G(z)): 0.37\n",
            "Epoch [69/300], Step [400/600], d_loss: 1.0172, g_loss: 1.1463, D(x): 0.67, D(G(z)): 0.37\n",
            "Epoch [69/300], Step [600/600], d_loss: 1.0119, g_loss: 0.9208, D(x): 0.73, D(G(z)): 0.43\n",
            "Saving fake_images-0070.png\n",
            "Epoch [70/300], Step [200/600], d_loss: 0.9453, g_loss: 1.2936, D(x): 0.67, D(G(z)): 0.33\n",
            "Epoch [70/300], Step [400/600], d_loss: 0.9635, g_loss: 1.2749, D(x): 0.67, D(G(z)): 0.35\n",
            "Epoch [70/300], Step [600/600], d_loss: 1.0490, g_loss: 1.3847, D(x): 0.63, D(G(z)): 0.36\n",
            "Saving fake_images-0071.png\n",
            "Epoch [71/300], Step [200/600], d_loss: 1.0179, g_loss: 1.1568, D(x): 0.64, D(G(z)): 0.34\n",
            "Epoch [71/300], Step [400/600], d_loss: 1.0811, g_loss: 1.0504, D(x): 0.61, D(G(z)): 0.34\n",
            "Epoch [71/300], Step [600/600], d_loss: 1.1344, g_loss: 1.1471, D(x): 0.60, D(G(z)): 0.37\n",
            "Saving fake_images-0072.png\n",
            "Epoch [72/300], Step [200/600], d_loss: 1.0794, g_loss: 1.1411, D(x): 0.61, D(G(z)): 0.35\n",
            "Epoch [72/300], Step [400/600], d_loss: 1.0265, g_loss: 1.0188, D(x): 0.72, D(G(z)): 0.42\n",
            "Epoch [72/300], Step [600/600], d_loss: 0.9902, g_loss: 1.1744, D(x): 0.67, D(G(z)): 0.37\n",
            "Saving fake_images-0073.png\n",
            "Epoch [73/300], Step [200/600], d_loss: 1.0557, g_loss: 1.0084, D(x): 0.68, D(G(z)): 0.41\n",
            "Epoch [73/300], Step [400/600], d_loss: 1.1873, g_loss: 1.0758, D(x): 0.60, D(G(z)): 0.38\n",
            "Epoch [73/300], Step [600/600], d_loss: 1.0908, g_loss: 1.0731, D(x): 0.60, D(G(z)): 0.34\n",
            "Saving fake_images-0074.png\n",
            "Epoch [74/300], Step [200/600], d_loss: 0.9386, g_loss: 1.1118, D(x): 0.67, D(G(z)): 0.34\n",
            "Epoch [74/300], Step [400/600], d_loss: 1.1112, g_loss: 1.4495, D(x): 0.56, D(G(z)): 0.30\n",
            "Epoch [74/300], Step [600/600], d_loss: 1.0699, g_loss: 1.0715, D(x): 0.66, D(G(z)): 0.38\n",
            "Saving fake_images-0075.png\n",
            "Epoch [75/300], Step [200/600], d_loss: 1.0329, g_loss: 1.2846, D(x): 0.60, D(G(z)): 0.33\n",
            "Epoch [75/300], Step [400/600], d_loss: 1.2082, g_loss: 1.2188, D(x): 0.56, D(G(z)): 0.37\n",
            "Epoch [75/300], Step [600/600], d_loss: 1.0458, g_loss: 1.2367, D(x): 0.64, D(G(z)): 0.34\n",
            "Saving fake_images-0076.png\n",
            "Epoch [76/300], Step [200/600], d_loss: 1.0946, g_loss: 1.2419, D(x): 0.60, D(G(z)): 0.35\n",
            "Epoch [76/300], Step [400/600], d_loss: 1.0562, g_loss: 1.3836, D(x): 0.61, D(G(z)): 0.33\n",
            "Epoch [76/300], Step [600/600], d_loss: 1.1082, g_loss: 1.1458, D(x): 0.62, D(G(z)): 0.39\n",
            "Saving fake_images-0077.png\n",
            "Epoch [77/300], Step [200/600], d_loss: 1.2053, g_loss: 1.3944, D(x): 0.57, D(G(z)): 0.36\n",
            "Epoch [77/300], Step [400/600], d_loss: 1.0556, g_loss: 1.1289, D(x): 0.63, D(G(z)): 0.35\n",
            "Epoch [77/300], Step [600/600], d_loss: 1.0605, g_loss: 1.3476, D(x): 0.58, D(G(z)): 0.33\n",
            "Saving fake_images-0078.png\n",
            "Epoch [78/300], Step [200/600], d_loss: 1.0549, g_loss: 1.0497, D(x): 0.65, D(G(z)): 0.38\n",
            "Epoch [78/300], Step [400/600], d_loss: 1.1454, g_loss: 1.0217, D(x): 0.64, D(G(z)): 0.37\n",
            "Epoch [78/300], Step [600/600], d_loss: 1.0603, g_loss: 1.3105, D(x): 0.63, D(G(z)): 0.35\n",
            "Saving fake_images-0079.png\n",
            "Epoch [79/300], Step [200/600], d_loss: 1.1311, g_loss: 0.9686, D(x): 0.61, D(G(z)): 0.38\n",
            "Epoch [79/300], Step [400/600], d_loss: 1.0004, g_loss: 1.2243, D(x): 0.63, D(G(z)): 0.34\n",
            "Epoch [79/300], Step [600/600], d_loss: 1.1282, g_loss: 1.0745, D(x): 0.62, D(G(z)): 0.41\n",
            "Saving fake_images-0080.png\n",
            "Epoch [80/300], Step [200/600], d_loss: 1.0472, g_loss: 1.1033, D(x): 0.67, D(G(z)): 0.39\n",
            "Epoch [80/300], Step [400/600], d_loss: 1.0703, g_loss: 1.3058, D(x): 0.63, D(G(z)): 0.37\n",
            "Epoch [80/300], Step [600/600], d_loss: 1.0097, g_loss: 1.1916, D(x): 0.65, D(G(z)): 0.37\n",
            "Saving fake_images-0081.png\n",
            "Epoch [81/300], Step [200/600], d_loss: 0.9667, g_loss: 1.1677, D(x): 0.68, D(G(z)): 0.38\n",
            "Epoch [81/300], Step [400/600], d_loss: 0.9854, g_loss: 1.0417, D(x): 0.64, D(G(z)): 0.35\n",
            "Epoch [81/300], Step [600/600], d_loss: 1.1746, g_loss: 1.1599, D(x): 0.61, D(G(z)): 0.39\n",
            "Saving fake_images-0082.png\n",
            "Epoch [82/300], Step [200/600], d_loss: 1.0957, g_loss: 1.0366, D(x): 0.62, D(G(z)): 0.39\n",
            "Epoch [82/300], Step [400/600], d_loss: 1.1349, g_loss: 1.0513, D(x): 0.69, D(G(z)): 0.45\n",
            "Epoch [82/300], Step [600/600], d_loss: 1.0729, g_loss: 1.2373, D(x): 0.62, D(G(z)): 0.35\n",
            "Saving fake_images-0083.png\n",
            "Epoch [83/300], Step [200/600], d_loss: 0.9890, g_loss: 1.2358, D(x): 0.65, D(G(z)): 0.32\n",
            "Epoch [83/300], Step [400/600], d_loss: 1.1243, g_loss: 1.2302, D(x): 0.61, D(G(z)): 0.38\n",
            "Epoch [83/300], Step [600/600], d_loss: 1.1514, g_loss: 0.9771, D(x): 0.63, D(G(z)): 0.43\n",
            "Saving fake_images-0084.png\n",
            "Epoch [84/300], Step [200/600], d_loss: 1.0240, g_loss: 1.2008, D(x): 0.63, D(G(z)): 0.33\n",
            "Epoch [84/300], Step [400/600], d_loss: 1.1459, g_loss: 0.9961, D(x): 0.65, D(G(z)): 0.40\n",
            "Epoch [84/300], Step [600/600], d_loss: 1.1621, g_loss: 0.9927, D(x): 0.64, D(G(z)): 0.43\n",
            "Saving fake_images-0085.png\n",
            "Epoch [85/300], Step [200/600], d_loss: 1.0808, g_loss: 1.0530, D(x): 0.58, D(G(z)): 0.35\n",
            "Epoch [85/300], Step [400/600], d_loss: 1.0657, g_loss: 1.1823, D(x): 0.64, D(G(z)): 0.37\n",
            "Epoch [85/300], Step [600/600], d_loss: 1.1752, g_loss: 1.0223, D(x): 0.63, D(G(z)): 0.41\n",
            "Saving fake_images-0086.png\n",
            "Epoch [86/300], Step [200/600], d_loss: 1.2096, g_loss: 0.9801, D(x): 0.62, D(G(z)): 0.42\n",
            "Epoch [86/300], Step [400/600], d_loss: 1.1001, g_loss: 1.0563, D(x): 0.59, D(G(z)): 0.36\n",
            "Epoch [86/300], Step [600/600], d_loss: 1.1019, g_loss: 1.0812, D(x): 0.65, D(G(z)): 0.40\n",
            "Saving fake_images-0087.png\n",
            "Epoch [87/300], Step [200/600], d_loss: 1.1829, g_loss: 1.0143, D(x): 0.64, D(G(z)): 0.45\n",
            "Epoch [87/300], Step [400/600], d_loss: 1.2184, g_loss: 0.9506, D(x): 0.66, D(G(z)): 0.46\n",
            "Epoch [87/300], Step [600/600], d_loss: 1.0069, g_loss: 1.1836, D(x): 0.65, D(G(z)): 0.35\n",
            "Saving fake_images-0088.png\n",
            "Epoch [88/300], Step [200/600], d_loss: 1.0576, g_loss: 1.1442, D(x): 0.61, D(G(z)): 0.33\n",
            "Epoch [88/300], Step [400/600], d_loss: 1.0357, g_loss: 1.3465, D(x): 0.57, D(G(z)): 0.29\n",
            "Epoch [88/300], Step [600/600], d_loss: 1.1399, g_loss: 0.8643, D(x): 0.65, D(G(z)): 0.43\n",
            "Saving fake_images-0089.png\n",
            "Epoch [89/300], Step [200/600], d_loss: 1.1270, g_loss: 0.9454, D(x): 0.68, D(G(z)): 0.44\n",
            "Epoch [89/300], Step [400/600], d_loss: 1.1734, g_loss: 1.3318, D(x): 0.58, D(G(z)): 0.37\n",
            "Epoch [89/300], Step [600/600], d_loss: 1.0783, g_loss: 1.3663, D(x): 0.61, D(G(z)): 0.36\n",
            "Saving fake_images-0090.png\n",
            "Epoch [90/300], Step [200/600], d_loss: 1.1962, g_loss: 1.2372, D(x): 0.62, D(G(z)): 0.38\n",
            "Epoch [90/300], Step [400/600], d_loss: 1.1243, g_loss: 1.5251, D(x): 0.54, D(G(z)): 0.28\n",
            "Epoch [90/300], Step [600/600], d_loss: 1.0815, g_loss: 1.3392, D(x): 0.60, D(G(z)): 0.35\n",
            "Saving fake_images-0091.png\n",
            "Epoch [91/300], Step [200/600], d_loss: 1.1406, g_loss: 0.9587, D(x): 0.64, D(G(z)): 0.43\n",
            "Epoch [91/300], Step [400/600], d_loss: 1.1720, g_loss: 1.1291, D(x): 0.55, D(G(z)): 0.34\n",
            "Epoch [91/300], Step [600/600], d_loss: 1.1584, g_loss: 1.0724, D(x): 0.64, D(G(z)): 0.41\n",
            "Saving fake_images-0092.png\n",
            "Epoch [92/300], Step [200/600], d_loss: 0.9705, g_loss: 1.0777, D(x): 0.66, D(G(z)): 0.37\n",
            "Epoch [92/300], Step [400/600], d_loss: 1.0680, g_loss: 1.1349, D(x): 0.64, D(G(z)): 0.38\n",
            "Epoch [92/300], Step [600/600], d_loss: 1.1540, g_loss: 1.2115, D(x): 0.60, D(G(z)): 0.38\n",
            "Saving fake_images-0093.png\n",
            "Epoch [93/300], Step [200/600], d_loss: 1.1658, g_loss: 1.1016, D(x): 0.56, D(G(z)): 0.36\n",
            "Epoch [93/300], Step [400/600], d_loss: 1.1256, g_loss: 0.9865, D(x): 0.64, D(G(z)): 0.42\n",
            "Epoch [93/300], Step [600/600], d_loss: 1.0690, g_loss: 0.9851, D(x): 0.65, D(G(z)): 0.39\n",
            "Saving fake_images-0094.png\n",
            "Epoch [94/300], Step [200/600], d_loss: 1.0353, g_loss: 1.1523, D(x): 0.62, D(G(z)): 0.36\n",
            "Epoch [94/300], Step [400/600], d_loss: 1.0687, g_loss: 1.1092, D(x): 0.66, D(G(z)): 0.38\n",
            "Epoch [94/300], Step [600/600], d_loss: 1.1416, g_loss: 1.0300, D(x): 0.60, D(G(z)): 0.39\n",
            "Saving fake_images-0095.png\n",
            "Epoch [95/300], Step [200/600], d_loss: 1.1323, g_loss: 1.1035, D(x): 0.62, D(G(z)): 0.39\n",
            "Epoch [95/300], Step [400/600], d_loss: 0.9894, g_loss: 1.2557, D(x): 0.60, D(G(z)): 0.32\n",
            "Epoch [95/300], Step [600/600], d_loss: 1.1378, g_loss: 1.0621, D(x): 0.60, D(G(z)): 0.37\n",
            "Saving fake_images-0096.png\n",
            "Epoch [96/300], Step [200/600], d_loss: 1.1361, g_loss: 1.1535, D(x): 0.62, D(G(z)): 0.39\n",
            "Epoch [96/300], Step [400/600], d_loss: 1.1268, g_loss: 0.9035, D(x): 0.64, D(G(z)): 0.43\n",
            "Epoch [96/300], Step [600/600], d_loss: 1.1372, g_loss: 1.1316, D(x): 0.62, D(G(z)): 0.37\n",
            "Saving fake_images-0097.png\n",
            "Epoch [97/300], Step [200/600], d_loss: 1.0968, g_loss: 1.0657, D(x): 0.65, D(G(z)): 0.41\n",
            "Epoch [97/300], Step [400/600], d_loss: 1.0920, g_loss: 1.1003, D(x): 0.60, D(G(z)): 0.36\n",
            "Epoch [97/300], Step [600/600], d_loss: 1.1312, g_loss: 1.0013, D(x): 0.61, D(G(z)): 0.40\n",
            "Saving fake_images-0098.png\n",
            "Epoch [98/300], Step [200/600], d_loss: 1.1178, g_loss: 1.3481, D(x): 0.57, D(G(z)): 0.33\n",
            "Epoch [98/300], Step [400/600], d_loss: 1.1343, g_loss: 0.9009, D(x): 0.67, D(G(z)): 0.45\n",
            "Epoch [98/300], Step [600/600], d_loss: 1.1429, g_loss: 0.9964, D(x): 0.62, D(G(z)): 0.39\n",
            "Saving fake_images-0099.png\n",
            "Epoch [99/300], Step [200/600], d_loss: 1.0217, g_loss: 1.0803, D(x): 0.65, D(G(z)): 0.38\n",
            "Epoch [99/300], Step [400/600], d_loss: 1.1247, g_loss: 1.0146, D(x): 0.66, D(G(z)): 0.43\n",
            "Epoch [99/300], Step [600/600], d_loss: 1.1841, g_loss: 0.9954, D(x): 0.58, D(G(z)): 0.40\n",
            "Saving fake_images-0100.png\n",
            "Epoch [100/300], Step [200/600], d_loss: 1.1854, g_loss: 1.1652, D(x): 0.59, D(G(z)): 0.40\n",
            "Epoch [100/300], Step [400/600], d_loss: 1.0782, g_loss: 0.9836, D(x): 0.61, D(G(z)): 0.36\n",
            "Epoch [100/300], Step [600/600], d_loss: 1.1368, g_loss: 1.0466, D(x): 0.62, D(G(z)): 0.39\n",
            "Saving fake_images-0101.png\n",
            "Epoch [101/300], Step [200/600], d_loss: 1.1834, g_loss: 1.0923, D(x): 0.57, D(G(z)): 0.37\n",
            "Epoch [101/300], Step [400/600], d_loss: 1.1414, g_loss: 1.0980, D(x): 0.59, D(G(z)): 0.38\n",
            "Epoch [101/300], Step [600/600], d_loss: 1.1391, g_loss: 1.1716, D(x): 0.59, D(G(z)): 0.37\n",
            "Saving fake_images-0102.png\n",
            "Epoch [102/300], Step [200/600], d_loss: 1.1636, g_loss: 1.0376, D(x): 0.69, D(G(z)): 0.44\n",
            "Epoch [102/300], Step [400/600], d_loss: 1.2475, g_loss: 0.9586, D(x): 0.62, D(G(z)): 0.46\n",
            "Epoch [102/300], Step [600/600], d_loss: 1.1130, g_loss: 0.9754, D(x): 0.63, D(G(z)): 0.40\n",
            "Saving fake_images-0103.png\n",
            "Epoch [103/300], Step [200/600], d_loss: 1.1222, g_loss: 0.9631, D(x): 0.64, D(G(z)): 0.41\n",
            "Epoch [103/300], Step [400/600], d_loss: 1.0191, g_loss: 1.1029, D(x): 0.63, D(G(z)): 0.36\n",
            "Epoch [103/300], Step [600/600], d_loss: 1.0992, g_loss: 0.9876, D(x): 0.64, D(G(z)): 0.39\n",
            "Saving fake_images-0104.png\n",
            "Epoch [104/300], Step [200/600], d_loss: 1.1161, g_loss: 1.2131, D(x): 0.58, D(G(z)): 0.35\n",
            "Epoch [104/300], Step [400/600], d_loss: 1.1554, g_loss: 0.9330, D(x): 0.60, D(G(z)): 0.40\n",
            "Epoch [104/300], Step [600/600], d_loss: 1.2057, g_loss: 1.1447, D(x): 0.56, D(G(z)): 0.38\n",
            "Saving fake_images-0105.png\n",
            "Epoch [105/300], Step [200/600], d_loss: 1.0943, g_loss: 1.0964, D(x): 0.60, D(G(z)): 0.37\n",
            "Epoch [105/300], Step [400/600], d_loss: 1.1129, g_loss: 0.9839, D(x): 0.63, D(G(z)): 0.40\n",
            "Epoch [105/300], Step [600/600], d_loss: 1.2502, g_loss: 0.9061, D(x): 0.65, D(G(z)): 0.46\n",
            "Saving fake_images-0106.png\n",
            "Epoch [106/300], Step [200/600], d_loss: 1.0786, g_loss: 1.1995, D(x): 0.63, D(G(z)): 0.38\n",
            "Epoch [106/300], Step [400/600], d_loss: 1.0787, g_loss: 1.2176, D(x): 0.61, D(G(z)): 0.36\n",
            "Epoch [106/300], Step [600/600], d_loss: 1.1962, g_loss: 1.0285, D(x): 0.64, D(G(z)): 0.45\n",
            "Saving fake_images-0107.png\n",
            "Epoch [107/300], Step [200/600], d_loss: 1.1387, g_loss: 1.0338, D(x): 0.63, D(G(z)): 0.42\n",
            "Epoch [107/300], Step [400/600], d_loss: 1.1303, g_loss: 1.0050, D(x): 0.64, D(G(z)): 0.42\n",
            "Epoch [107/300], Step [600/600], d_loss: 1.1362, g_loss: 1.2402, D(x): 0.56, D(G(z)): 0.33\n",
            "Saving fake_images-0108.png\n",
            "Epoch [108/300], Step [200/600], d_loss: 1.0810, g_loss: 1.0881, D(x): 0.59, D(G(z)): 0.34\n",
            "Epoch [108/300], Step [400/600], d_loss: 1.0953, g_loss: 0.9145, D(x): 0.63, D(G(z)): 0.41\n",
            "Epoch [108/300], Step [600/600], d_loss: 1.0883, g_loss: 0.8796, D(x): 0.65, D(G(z)): 0.42\n",
            "Saving fake_images-0109.png\n",
            "Epoch [109/300], Step [200/600], d_loss: 1.1373, g_loss: 1.4402, D(x): 0.53, D(G(z)): 0.32\n",
            "Epoch [109/300], Step [400/600], d_loss: 1.2081, g_loss: 1.1660, D(x): 0.58, D(G(z)): 0.39\n",
            "Epoch [109/300], Step [600/600], d_loss: 1.1879, g_loss: 0.8791, D(x): 0.64, D(G(z)): 0.45\n",
            "Saving fake_images-0110.png\n",
            "Epoch [110/300], Step [200/600], d_loss: 1.1295, g_loss: 1.0108, D(x): 0.64, D(G(z)): 0.42\n",
            "Epoch [110/300], Step [400/600], d_loss: 1.1621, g_loss: 1.0280, D(x): 0.60, D(G(z)): 0.37\n",
            "Epoch [110/300], Step [600/600], d_loss: 1.2155, g_loss: 1.0667, D(x): 0.64, D(G(z)): 0.45\n",
            "Saving fake_images-0111.png\n",
            "Epoch [111/300], Step [200/600], d_loss: 1.1235, g_loss: 0.8802, D(x): 0.67, D(G(z)): 0.44\n",
            "Epoch [111/300], Step [400/600], d_loss: 1.0531, g_loss: 1.2438, D(x): 0.62, D(G(z)): 0.36\n",
            "Epoch [111/300], Step [600/600], d_loss: 1.2093, g_loss: 0.9448, D(x): 0.60, D(G(z)): 0.43\n",
            "Saving fake_images-0112.png\n",
            "Epoch [112/300], Step [200/600], d_loss: 1.0314, g_loss: 1.2137, D(x): 0.65, D(G(z)): 0.37\n",
            "Epoch [112/300], Step [400/600], d_loss: 1.1806, g_loss: 1.2107, D(x): 0.58, D(G(z)): 0.37\n",
            "Epoch [112/300], Step [600/600], d_loss: 1.1139, g_loss: 0.9071, D(x): 0.67, D(G(z)): 0.44\n",
            "Saving fake_images-0113.png\n",
            "Epoch [113/300], Step [200/600], d_loss: 1.2180, g_loss: 0.8570, D(x): 0.67, D(G(z)): 0.47\n",
            "Epoch [113/300], Step [400/600], d_loss: 1.1490, g_loss: 1.1424, D(x): 0.58, D(G(z)): 0.37\n",
            "Epoch [113/300], Step [600/600], d_loss: 1.1330, g_loss: 0.9822, D(x): 0.63, D(G(z)): 0.40\n",
            "Saving fake_images-0114.png\n",
            "Epoch [114/300], Step [200/600], d_loss: 1.2000, g_loss: 0.9613, D(x): 0.63, D(G(z)): 0.44\n",
            "Epoch [114/300], Step [400/600], d_loss: 1.1167, g_loss: 1.1198, D(x): 0.60, D(G(z)): 0.38\n",
            "Epoch [114/300], Step [600/600], d_loss: 1.1909, g_loss: 0.9747, D(x): 0.64, D(G(z)): 0.44\n",
            "Saving fake_images-0115.png\n",
            "Epoch [115/300], Step [200/600], d_loss: 1.1169, g_loss: 1.1021, D(x): 0.62, D(G(z)): 0.37\n",
            "Epoch [115/300], Step [400/600], d_loss: 1.2163, g_loss: 1.0919, D(x): 0.59, D(G(z)): 0.40\n",
            "Epoch [115/300], Step [600/600], d_loss: 1.1524, g_loss: 1.1901, D(x): 0.59, D(G(z)): 0.37\n",
            "Saving fake_images-0116.png\n",
            "Epoch [116/300], Step [200/600], d_loss: 1.0837, g_loss: 1.2816, D(x): 0.61, D(G(z)): 0.34\n",
            "Epoch [116/300], Step [400/600], d_loss: 1.0276, g_loss: 1.2388, D(x): 0.57, D(G(z)): 0.27\n",
            "Epoch [116/300], Step [600/600], d_loss: 1.0423, g_loss: 0.8876, D(x): 0.66, D(G(z)): 0.39\n",
            "Saving fake_images-0117.png\n",
            "Epoch [117/300], Step [200/600], d_loss: 1.1091, g_loss: 1.0132, D(x): 0.65, D(G(z)): 0.39\n",
            "Epoch [117/300], Step [400/600], d_loss: 1.0991, g_loss: 0.9574, D(x): 0.65, D(G(z)): 0.41\n",
            "Epoch [117/300], Step [600/600], d_loss: 1.1421, g_loss: 1.1820, D(x): 0.60, D(G(z)): 0.37\n",
            "Saving fake_images-0118.png\n",
            "Epoch [118/300], Step [200/600], d_loss: 1.0668, g_loss: 1.1143, D(x): 0.64, D(G(z)): 0.39\n",
            "Epoch [118/300], Step [400/600], d_loss: 1.0555, g_loss: 0.9363, D(x): 0.65, D(G(z)): 0.40\n",
            "Epoch [118/300], Step [600/600], d_loss: 1.2007, g_loss: 0.9954, D(x): 0.62, D(G(z)): 0.44\n",
            "Saving fake_images-0119.png\n",
            "Epoch [119/300], Step [200/600], d_loss: 1.1376, g_loss: 1.1857, D(x): 0.60, D(G(z)): 0.36\n",
            "Epoch [119/300], Step [400/600], d_loss: 1.1622, g_loss: 1.0637, D(x): 0.56, D(G(z)): 0.37\n",
            "Epoch [119/300], Step [600/600], d_loss: 1.1013, g_loss: 1.1893, D(x): 0.62, D(G(z)): 0.38\n",
            "Saving fake_images-0120.png\n",
            "Epoch [120/300], Step [200/600], d_loss: 1.1139, g_loss: 1.3136, D(x): 0.56, D(G(z)): 0.32\n",
            "Epoch [120/300], Step [400/600], d_loss: 1.0407, g_loss: 1.2425, D(x): 0.63, D(G(z)): 0.34\n",
            "Epoch [120/300], Step [600/600], d_loss: 1.1241, g_loss: 1.0141, D(x): 0.64, D(G(z)): 0.42\n",
            "Saving fake_images-0121.png\n",
            "Epoch [121/300], Step [200/600], d_loss: 1.0687, g_loss: 1.2202, D(x): 0.64, D(G(z)): 0.36\n",
            "Epoch [121/300], Step [400/600], d_loss: 1.2212, g_loss: 0.9314, D(x): 0.58, D(G(z)): 0.41\n",
            "Epoch [121/300], Step [600/600], d_loss: 1.0325, g_loss: 1.2292, D(x): 0.67, D(G(z)): 0.37\n",
            "Saving fake_images-0122.png\n",
            "Epoch [122/300], Step [200/600], d_loss: 1.1762, g_loss: 1.3693, D(x): 0.60, D(G(z)): 0.37\n",
            "Epoch [122/300], Step [400/600], d_loss: 1.1738, g_loss: 1.0005, D(x): 0.63, D(G(z)): 0.42\n",
            "Epoch [122/300], Step [600/600], d_loss: 1.1474, g_loss: 1.3944, D(x): 0.59, D(G(z)): 0.36\n",
            "Saving fake_images-0123.png\n",
            "Epoch [123/300], Step [200/600], d_loss: 0.9870, g_loss: 1.0491, D(x): 0.66, D(G(z)): 0.37\n",
            "Epoch [123/300], Step [400/600], d_loss: 1.1145, g_loss: 0.9294, D(x): 0.60, D(G(z)): 0.39\n",
            "Epoch [123/300], Step [600/600], d_loss: 1.0317, g_loss: 1.1469, D(x): 0.62, D(G(z)): 0.35\n",
            "Saving fake_images-0124.png\n",
            "Epoch [124/300], Step [200/600], d_loss: 1.1174, g_loss: 1.0765, D(x): 0.61, D(G(z)): 0.39\n",
            "Epoch [124/300], Step [400/600], d_loss: 1.1505, g_loss: 1.2461, D(x): 0.61, D(G(z)): 0.40\n",
            "Epoch [124/300], Step [600/600], d_loss: 1.1307, g_loss: 0.9752, D(x): 0.62, D(G(z)): 0.38\n",
            "Saving fake_images-0125.png\n",
            "Epoch [125/300], Step [200/600], d_loss: 1.0274, g_loss: 0.9912, D(x): 0.63, D(G(z)): 0.36\n",
            "Epoch [125/300], Step [400/600], d_loss: 1.1726, g_loss: 1.0329, D(x): 0.61, D(G(z)): 0.41\n",
            "Epoch [125/300], Step [600/600], d_loss: 1.1427, g_loss: 0.9497, D(x): 0.66, D(G(z)): 0.46\n",
            "Saving fake_images-0126.png\n",
            "Epoch [126/300], Step [200/600], d_loss: 1.1616, g_loss: 1.3201, D(x): 0.58, D(G(z)): 0.36\n",
            "Epoch [126/300], Step [400/600], d_loss: 1.1191, g_loss: 0.8895, D(x): 0.66, D(G(z)): 0.43\n",
            "Epoch [126/300], Step [600/600], d_loss: 1.2069, g_loss: 1.1858, D(x): 0.57, D(G(z)): 0.37\n",
            "Saving fake_images-0127.png\n",
            "Epoch [127/300], Step [200/600], d_loss: 1.1694, g_loss: 1.2766, D(x): 0.57, D(G(z)): 0.37\n",
            "Epoch [127/300], Step [400/600], d_loss: 1.2070, g_loss: 1.0164, D(x): 0.58, D(G(z)): 0.39\n",
            "Epoch [127/300], Step [600/600], d_loss: 1.0083, g_loss: 0.9865, D(x): 0.64, D(G(z)): 0.36\n",
            "Saving fake_images-0128.png\n",
            "Epoch [128/300], Step [200/600], d_loss: 1.1039, g_loss: 1.2157, D(x): 0.60, D(G(z)): 0.35\n",
            "Epoch [128/300], Step [400/600], d_loss: 1.0853, g_loss: 1.1044, D(x): 0.64, D(G(z)): 0.39\n",
            "Epoch [128/300], Step [600/600], d_loss: 1.0760, g_loss: 0.9139, D(x): 0.67, D(G(z)): 0.43\n",
            "Saving fake_images-0129.png\n",
            "Epoch [129/300], Step [200/600], d_loss: 1.0943, g_loss: 1.0039, D(x): 0.63, D(G(z)): 0.39\n",
            "Epoch [129/300], Step [400/600], d_loss: 1.1313, g_loss: 0.8839, D(x): 0.62, D(G(z)): 0.41\n",
            "Epoch [129/300], Step [600/600], d_loss: 1.1880, g_loss: 1.1138, D(x): 0.58, D(G(z)): 0.40\n",
            "Saving fake_images-0130.png\n",
            "Epoch [130/300], Step [200/600], d_loss: 1.2629, g_loss: 0.8962, D(x): 0.59, D(G(z)): 0.44\n",
            "Epoch [130/300], Step [400/600], d_loss: 1.2012, g_loss: 0.9336, D(x): 0.62, D(G(z)): 0.43\n",
            "Epoch [130/300], Step [600/600], d_loss: 1.2322, g_loss: 1.0377, D(x): 0.57, D(G(z)): 0.40\n",
            "Saving fake_images-0131.png\n",
            "Epoch [131/300], Step [200/600], d_loss: 1.0818, g_loss: 1.1338, D(x): 0.59, D(G(z)): 0.33\n",
            "Epoch [131/300], Step [400/600], d_loss: 0.9940, g_loss: 1.2365, D(x): 0.63, D(G(z)): 0.35\n",
            "Epoch [131/300], Step [600/600], d_loss: 1.2728, g_loss: 1.0572, D(x): 0.58, D(G(z)): 0.42\n",
            "Saving fake_images-0132.png\n",
            "Epoch [132/300], Step [200/600], d_loss: 1.1035, g_loss: 1.1600, D(x): 0.58, D(G(z)): 0.32\n",
            "Epoch [132/300], Step [400/600], d_loss: 1.0547, g_loss: 1.0698, D(x): 0.66, D(G(z)): 0.39\n",
            "Epoch [132/300], Step [600/600], d_loss: 1.2734, g_loss: 1.0219, D(x): 0.59, D(G(z)): 0.44\n",
            "Saving fake_images-0133.png\n",
            "Epoch [133/300], Step [200/600], d_loss: 1.2357, g_loss: 0.9300, D(x): 0.61, D(G(z)): 0.45\n",
            "Epoch [133/300], Step [400/600], d_loss: 1.1808, g_loss: 0.9442, D(x): 0.62, D(G(z)): 0.42\n",
            "Epoch [133/300], Step [600/600], d_loss: 1.2590, g_loss: 1.0024, D(x): 0.59, D(G(z)): 0.44\n",
            "Saving fake_images-0134.png\n",
            "Epoch [134/300], Step [200/600], d_loss: 1.0760, g_loss: 0.9790, D(x): 0.67, D(G(z)): 0.41\n",
            "Epoch [134/300], Step [400/600], d_loss: 1.2099, g_loss: 0.9736, D(x): 0.55, D(G(z)): 0.38\n",
            "Epoch [134/300], Step [600/600], d_loss: 1.3299, g_loss: 1.0773, D(x): 0.56, D(G(z)): 0.44\n",
            "Saving fake_images-0135.png\n",
            "Epoch [135/300], Step [200/600], d_loss: 1.0921, g_loss: 0.9151, D(x): 0.67, D(G(z)): 0.43\n",
            "Epoch [135/300], Step [400/600], d_loss: 1.0954, g_loss: 1.1115, D(x): 0.59, D(G(z)): 0.34\n",
            "Epoch [135/300], Step [600/600], d_loss: 1.1861, g_loss: 0.8653, D(x): 0.64, D(G(z)): 0.44\n",
            "Saving fake_images-0136.png\n",
            "Epoch [136/300], Step [200/600], d_loss: 1.0764, g_loss: 1.1690, D(x): 0.59, D(G(z)): 0.34\n",
            "Epoch [136/300], Step [400/600], d_loss: 1.1657, g_loss: 1.0648, D(x): 0.64, D(G(z)): 0.43\n",
            "Epoch [136/300], Step [600/600], d_loss: 1.1132, g_loss: 1.1811, D(x): 0.59, D(G(z)): 0.34\n",
            "Saving fake_images-0137.png\n",
            "Epoch [137/300], Step [200/600], d_loss: 1.0883, g_loss: 1.0384, D(x): 0.62, D(G(z)): 0.38\n",
            "Epoch [137/300], Step [400/600], d_loss: 1.1945, g_loss: 1.0156, D(x): 0.61, D(G(z)): 0.41\n",
            "Epoch [137/300], Step [600/600], d_loss: 1.1049, g_loss: 1.0162, D(x): 0.60, D(G(z)): 0.39\n",
            "Saving fake_images-0138.png\n",
            "Epoch [138/300], Step [200/600], d_loss: 0.9909, g_loss: 1.0816, D(x): 0.65, D(G(z)): 0.35\n",
            "Epoch [138/300], Step [400/600], d_loss: 1.1558, g_loss: 0.9484, D(x): 0.59, D(G(z)): 0.39\n",
            "Epoch [138/300], Step [600/600], d_loss: 1.1444, g_loss: 0.9840, D(x): 0.62, D(G(z)): 0.42\n",
            "Saving fake_images-0139.png\n",
            "Epoch [139/300], Step [200/600], d_loss: 1.1394, g_loss: 1.1287, D(x): 0.58, D(G(z)): 0.36\n",
            "Epoch [139/300], Step [400/600], d_loss: 1.2489, g_loss: 1.0880, D(x): 0.55, D(G(z)): 0.38\n",
            "Epoch [139/300], Step [600/600], d_loss: 1.1576, g_loss: 0.9857, D(x): 0.61, D(G(z)): 0.42\n",
            "Saving fake_images-0140.png\n",
            "Epoch [140/300], Step [200/600], d_loss: 1.1403, g_loss: 1.0095, D(x): 0.62, D(G(z)): 0.40\n",
            "Epoch [140/300], Step [400/600], d_loss: 1.2467, g_loss: 1.0896, D(x): 0.62, D(G(z)): 0.44\n",
            "Epoch [140/300], Step [600/600], d_loss: 1.0424, g_loss: 1.1945, D(x): 0.64, D(G(z)): 0.37\n",
            "Saving fake_images-0141.png\n",
            "Epoch [141/300], Step [200/600], d_loss: 1.2147, g_loss: 1.1463, D(x): 0.57, D(G(z)): 0.39\n",
            "Epoch [141/300], Step [400/600], d_loss: 1.1575, g_loss: 1.1075, D(x): 0.56, D(G(z)): 0.36\n",
            "Epoch [141/300], Step [600/600], d_loss: 1.1357, g_loss: 1.1025, D(x): 0.63, D(G(z)): 0.40\n",
            "Saving fake_images-0142.png\n",
            "Epoch [142/300], Step [200/600], d_loss: 0.9627, g_loss: 1.5976, D(x): 0.65, D(G(z)): 0.34\n",
            "Epoch [142/300], Step [400/600], d_loss: 1.1456, g_loss: 0.9874, D(x): 0.60, D(G(z)): 0.39\n",
            "Epoch [142/300], Step [600/600], d_loss: 1.1763, g_loss: 1.0464, D(x): 0.60, D(G(z)): 0.41\n",
            "Saving fake_images-0143.png\n",
            "Epoch [143/300], Step [200/600], d_loss: 1.1967, g_loss: 0.9325, D(x): 0.64, D(G(z)): 0.45\n",
            "Epoch [143/300], Step [400/600], d_loss: 1.1309, g_loss: 0.9815, D(x): 0.61, D(G(z)): 0.41\n",
            "Epoch [143/300], Step [600/600], d_loss: 1.0976, g_loss: 1.0155, D(x): 0.66, D(G(z)): 0.43\n",
            "Saving fake_images-0144.png\n",
            "Epoch [144/300], Step [200/600], d_loss: 1.1716, g_loss: 1.0295, D(x): 0.63, D(G(z)): 0.43\n",
            "Epoch [144/300], Step [400/600], d_loss: 1.1820, g_loss: 0.8847, D(x): 0.66, D(G(z)): 0.46\n",
            "Epoch [144/300], Step [600/600], d_loss: 1.1507, g_loss: 1.0623, D(x): 0.62, D(G(z)): 0.40\n",
            "Saving fake_images-0145.png\n",
            "Epoch [145/300], Step [200/600], d_loss: 1.1251, g_loss: 1.0844, D(x): 0.64, D(G(z)): 0.40\n",
            "Epoch [145/300], Step [400/600], d_loss: 1.2064, g_loss: 1.0259, D(x): 0.60, D(G(z)): 0.40\n",
            "Epoch [145/300], Step [600/600], d_loss: 1.1572, g_loss: 0.9952, D(x): 0.62, D(G(z)): 0.42\n",
            "Saving fake_images-0146.png\n",
            "Epoch [146/300], Step [200/600], d_loss: 1.2882, g_loss: 0.9638, D(x): 0.55, D(G(z)): 0.42\n",
            "Epoch [146/300], Step [400/600], d_loss: 1.1563, g_loss: 1.0882, D(x): 0.62, D(G(z)): 0.42\n",
            "Epoch [146/300], Step [600/600], d_loss: 1.1212, g_loss: 1.0095, D(x): 0.62, D(G(z)): 0.41\n",
            "Saving fake_images-0147.png\n",
            "Epoch [147/300], Step [200/600], d_loss: 1.1535, g_loss: 0.9540, D(x): 0.63, D(G(z)): 0.43\n",
            "Epoch [147/300], Step [400/600], d_loss: 1.1164, g_loss: 1.2330, D(x): 0.62, D(G(z)): 0.38\n",
            "Epoch [147/300], Step [600/600], d_loss: 1.0626, g_loss: 1.0186, D(x): 0.60, D(G(z)): 0.35\n",
            "Saving fake_images-0148.png\n",
            "Epoch [148/300], Step [200/600], d_loss: 1.1369, g_loss: 0.9306, D(x): 0.64, D(G(z)): 0.42\n",
            "Epoch [148/300], Step [400/600], d_loss: 1.1577, g_loss: 1.1260, D(x): 0.59, D(G(z)): 0.38\n",
            "Epoch [148/300], Step [600/600], d_loss: 1.1095, g_loss: 1.0839, D(x): 0.60, D(G(z)): 0.36\n",
            "Saving fake_images-0149.png\n",
            "Epoch [149/300], Step [200/600], d_loss: 1.0860, g_loss: 1.0850, D(x): 0.62, D(G(z)): 0.37\n",
            "Epoch [149/300], Step [400/600], d_loss: 1.1639, g_loss: 1.1132, D(x): 0.59, D(G(z)): 0.37\n",
            "Epoch [149/300], Step [600/600], d_loss: 1.1116, g_loss: 1.1177, D(x): 0.60, D(G(z)): 0.38\n",
            "Saving fake_images-0150.png\n",
            "Epoch [150/300], Step [200/600], d_loss: 1.1446, g_loss: 0.8836, D(x): 0.65, D(G(z)): 0.42\n",
            "Epoch [150/300], Step [400/600], d_loss: 1.1203, g_loss: 1.1405, D(x): 0.62, D(G(z)): 0.37\n",
            "Epoch [150/300], Step [600/600], d_loss: 1.1496, g_loss: 1.1598, D(x): 0.61, D(G(z)): 0.40\n",
            "Saving fake_images-0151.png\n",
            "Epoch [151/300], Step [200/600], d_loss: 1.1549, g_loss: 0.9694, D(x): 0.61, D(G(z)): 0.40\n",
            "Epoch [151/300], Step [400/600], d_loss: 1.0833, g_loss: 1.0201, D(x): 0.62, D(G(z)): 0.38\n",
            "Epoch [151/300], Step [600/600], d_loss: 1.2341, g_loss: 1.1093, D(x): 0.55, D(G(z)): 0.36\n",
            "Saving fake_images-0152.png\n",
            "Epoch [152/300], Step [200/600], d_loss: 1.2242, g_loss: 1.1833, D(x): 0.60, D(G(z)): 0.42\n",
            "Epoch [152/300], Step [400/600], d_loss: 1.0923, g_loss: 1.1184, D(x): 0.63, D(G(z)): 0.39\n",
            "Epoch [152/300], Step [600/600], d_loss: 1.1782, g_loss: 0.9701, D(x): 0.61, D(G(z)): 0.41\n",
            "Saving fake_images-0153.png\n",
            "Epoch [153/300], Step [200/600], d_loss: 1.1990, g_loss: 1.0748, D(x): 0.58, D(G(z)): 0.39\n",
            "Epoch [153/300], Step [400/600], d_loss: 1.1545, g_loss: 1.1200, D(x): 0.62, D(G(z)): 0.41\n",
            "Epoch [153/300], Step [600/600], d_loss: 1.0580, g_loss: 0.9705, D(x): 0.61, D(G(z)): 0.36\n",
            "Saving fake_images-0154.png\n",
            "Epoch [154/300], Step [200/600], d_loss: 1.2060, g_loss: 0.8528, D(x): 0.66, D(G(z)): 0.48\n",
            "Epoch [154/300], Step [400/600], d_loss: 1.2432, g_loss: 0.9924, D(x): 0.58, D(G(z)): 0.42\n",
            "Epoch [154/300], Step [600/600], d_loss: 1.0610, g_loss: 1.0906, D(x): 0.62, D(G(z)): 0.38\n",
            "Saving fake_images-0155.png\n",
            "Epoch [155/300], Step [200/600], d_loss: 1.1241, g_loss: 1.1412, D(x): 0.56, D(G(z)): 0.35\n",
            "Epoch [155/300], Step [400/600], d_loss: 1.0157, g_loss: 1.0957, D(x): 0.66, D(G(z)): 0.37\n",
            "Epoch [155/300], Step [600/600], d_loss: 1.1649, g_loss: 0.9328, D(x): 0.61, D(G(z)): 0.42\n",
            "Saving fake_images-0156.png\n",
            "Epoch [156/300], Step [200/600], d_loss: 1.2681, g_loss: 0.9924, D(x): 0.60, D(G(z)): 0.44\n",
            "Epoch [156/300], Step [400/600], d_loss: 1.1101, g_loss: 0.9049, D(x): 0.64, D(G(z)): 0.42\n",
            "Epoch [156/300], Step [600/600], d_loss: 1.1442, g_loss: 1.2881, D(x): 0.60, D(G(z)): 0.37\n",
            "Saving fake_images-0157.png\n",
            "Epoch [157/300], Step [200/600], d_loss: 1.0885, g_loss: 1.0484, D(x): 0.63, D(G(z)): 0.39\n",
            "Epoch [157/300], Step [400/600], d_loss: 1.1724, g_loss: 1.0529, D(x): 0.58, D(G(z)): 0.39\n",
            "Epoch [157/300], Step [600/600], d_loss: 1.2032, g_loss: 1.0842, D(x): 0.61, D(G(z)): 0.41\n",
            "Saving fake_images-0158.png\n",
            "Epoch [158/300], Step [200/600], d_loss: 1.1119, g_loss: 0.9523, D(x): 0.63, D(G(z)): 0.40\n",
            "Epoch [158/300], Step [400/600], d_loss: 1.0857, g_loss: 1.0800, D(x): 0.63, D(G(z)): 0.39\n",
            "Epoch [158/300], Step [600/600], d_loss: 1.1550, g_loss: 1.1424, D(x): 0.59, D(G(z)): 0.37\n",
            "Saving fake_images-0159.png\n",
            "Epoch [159/300], Step [200/600], d_loss: 1.1451, g_loss: 0.9327, D(x): 0.63, D(G(z)): 0.43\n",
            "Epoch [159/300], Step [400/600], d_loss: 1.1645, g_loss: 0.9594, D(x): 0.62, D(G(z)): 0.42\n",
            "Epoch [159/300], Step [600/600], d_loss: 1.0482, g_loss: 1.0229, D(x): 0.65, D(G(z)): 0.40\n",
            "Saving fake_images-0160.png\n",
            "Epoch [160/300], Step [200/600], d_loss: 1.1317, g_loss: 0.9153, D(x): 0.65, D(G(z)): 0.43\n",
            "Epoch [160/300], Step [400/600], d_loss: 1.1175, g_loss: 1.1487, D(x): 0.62, D(G(z)): 0.37\n",
            "Epoch [160/300], Step [600/600], d_loss: 1.1771, g_loss: 1.1038, D(x): 0.59, D(G(z)): 0.42\n",
            "Saving fake_images-0161.png\n",
            "Epoch [161/300], Step [200/600], d_loss: 1.0391, g_loss: 1.0412, D(x): 0.60, D(G(z)): 0.33\n",
            "Epoch [161/300], Step [400/600], d_loss: 1.0993, g_loss: 0.8967, D(x): 0.63, D(G(z)): 0.41\n",
            "Epoch [161/300], Step [600/600], d_loss: 1.0964, g_loss: 1.0823, D(x): 0.59, D(G(z)): 0.37\n",
            "Saving fake_images-0162.png\n",
            "Epoch [162/300], Step [200/600], d_loss: 1.1749, g_loss: 1.1821, D(x): 0.59, D(G(z)): 0.41\n",
            "Epoch [162/300], Step [400/600], d_loss: 1.2433, g_loss: 1.2379, D(x): 0.56, D(G(z)): 0.39\n",
            "Epoch [162/300], Step [600/600], d_loss: 1.1049, g_loss: 0.9340, D(x): 0.63, D(G(z)): 0.39\n",
            "Saving fake_images-0163.png\n",
            "Epoch [163/300], Step [200/600], d_loss: 1.2496, g_loss: 0.9551, D(x): 0.60, D(G(z)): 0.44\n",
            "Epoch [163/300], Step [400/600], d_loss: 1.0809, g_loss: 1.0835, D(x): 0.65, D(G(z)): 0.40\n",
            "Epoch [163/300], Step [600/600], d_loss: 1.1118, g_loss: 1.0495, D(x): 0.60, D(G(z)): 0.38\n",
            "Saving fake_images-0164.png\n",
            "Epoch [164/300], Step [200/600], d_loss: 1.1030, g_loss: 1.1081, D(x): 0.65, D(G(z)): 0.41\n",
            "Epoch [164/300], Step [400/600], d_loss: 1.1599, g_loss: 1.1574, D(x): 0.57, D(G(z)): 0.35\n",
            "Epoch [164/300], Step [600/600], d_loss: 1.1361, g_loss: 0.8980, D(x): 0.64, D(G(z)): 0.41\n",
            "Saving fake_images-0165.png\n",
            "Epoch [165/300], Step [200/600], d_loss: 1.0836, g_loss: 1.0112, D(x): 0.66, D(G(z)): 0.41\n",
            "Epoch [165/300], Step [400/600], d_loss: 1.1488, g_loss: 1.0453, D(x): 0.60, D(G(z)): 0.39\n",
            "Epoch [165/300], Step [600/600], d_loss: 1.1075, g_loss: 0.8848, D(x): 0.65, D(G(z)): 0.43\n",
            "Saving fake_images-0166.png\n",
            "Epoch [166/300], Step [200/600], d_loss: 1.0470, g_loss: 1.0766, D(x): 0.61, D(G(z)): 0.34\n",
            "Epoch [166/300], Step [400/600], d_loss: 1.0674, g_loss: 1.0291, D(x): 0.64, D(G(z)): 0.39\n",
            "Epoch [166/300], Step [600/600], d_loss: 1.1754, g_loss: 1.0385, D(x): 0.60, D(G(z)): 0.40\n",
            "Saving fake_images-0167.png\n",
            "Epoch [167/300], Step [200/600], d_loss: 1.1273, g_loss: 1.1322, D(x): 0.64, D(G(z)): 0.40\n",
            "Epoch [167/300], Step [400/600], d_loss: 1.0321, g_loss: 1.0908, D(x): 0.64, D(G(z)): 0.36\n",
            "Epoch [167/300], Step [600/600], d_loss: 1.0512, g_loss: 1.1462, D(x): 0.62, D(G(z)): 0.37\n",
            "Saving fake_images-0168.png\n",
            "Epoch [168/300], Step [200/600], d_loss: 1.0248, g_loss: 0.9891, D(x): 0.60, D(G(z)): 0.32\n",
            "Epoch [168/300], Step [400/600], d_loss: 1.1517, g_loss: 1.0602, D(x): 0.59, D(G(z)): 0.37\n",
            "Epoch [168/300], Step [600/600], d_loss: 1.0717, g_loss: 1.1212, D(x): 0.64, D(G(z)): 0.37\n",
            "Saving fake_images-0169.png\n",
            "Epoch [169/300], Step [200/600], d_loss: 1.1399, g_loss: 0.9605, D(x): 0.62, D(G(z)): 0.42\n",
            "Epoch [169/300], Step [400/600], d_loss: 1.1237, g_loss: 0.9897, D(x): 0.67, D(G(z)): 0.44\n",
            "Epoch [169/300], Step [600/600], d_loss: 1.2362, g_loss: 1.0174, D(x): 0.63, D(G(z)): 0.43\n",
            "Saving fake_images-0170.png\n",
            "Epoch [170/300], Step [200/600], d_loss: 1.1931, g_loss: 0.9839, D(x): 0.62, D(G(z)): 0.43\n",
            "Epoch [170/300], Step [400/600], d_loss: 1.1879, g_loss: 1.0195, D(x): 0.62, D(G(z)): 0.42\n",
            "Epoch [170/300], Step [600/600], d_loss: 1.0901, g_loss: 1.1943, D(x): 0.63, D(G(z)): 0.38\n",
            "Saving fake_images-0171.png\n",
            "Epoch [171/300], Step [200/600], d_loss: 1.1819, g_loss: 0.9774, D(x): 0.60, D(G(z)): 0.39\n",
            "Epoch [171/300], Step [400/600], d_loss: 1.2289, g_loss: 1.2432, D(x): 0.54, D(G(z)): 0.35\n",
            "Epoch [171/300], Step [600/600], d_loss: 1.1648, g_loss: 1.0600, D(x): 0.60, D(G(z)): 0.40\n",
            "Saving fake_images-0172.png\n",
            "Epoch [172/300], Step [200/600], d_loss: 1.0803, g_loss: 0.9210, D(x): 0.65, D(G(z)): 0.41\n",
            "Epoch [172/300], Step [400/600], d_loss: 1.2009, g_loss: 1.0325, D(x): 0.57, D(G(z)): 0.39\n",
            "Epoch [172/300], Step [600/600], d_loss: 1.2319, g_loss: 0.9744, D(x): 0.64, D(G(z)): 0.45\n",
            "Saving fake_images-0173.png\n",
            "Epoch [173/300], Step [200/600], d_loss: 1.1178, g_loss: 1.0409, D(x): 0.62, D(G(z)): 0.40\n",
            "Epoch [173/300], Step [400/600], d_loss: 1.1502, g_loss: 0.9723, D(x): 0.61, D(G(z)): 0.41\n",
            "Epoch [173/300], Step [600/600], d_loss: 1.1587, g_loss: 1.0723, D(x): 0.56, D(G(z)): 0.35\n",
            "Saving fake_images-0174.png\n",
            "Epoch [174/300], Step [200/600], d_loss: 1.0408, g_loss: 1.1991, D(x): 0.63, D(G(z)): 0.35\n",
            "Epoch [174/300], Step [400/600], d_loss: 1.1724, g_loss: 1.0188, D(x): 0.61, D(G(z)): 0.42\n",
            "Epoch [174/300], Step [600/600], d_loss: 1.0890, g_loss: 0.9707, D(x): 0.66, D(G(z)): 0.43\n",
            "Saving fake_images-0175.png\n",
            "Epoch [175/300], Step [200/600], d_loss: 1.1012, g_loss: 1.0778, D(x): 0.60, D(G(z)): 0.38\n",
            "Epoch [175/300], Step [400/600], d_loss: 1.0572, g_loss: 1.0578, D(x): 0.64, D(G(z)): 0.39\n",
            "Epoch [175/300], Step [600/600], d_loss: 1.1138, g_loss: 1.0109, D(x): 0.59, D(G(z)): 0.35\n",
            "Saving fake_images-0176.png\n",
            "Epoch [176/300], Step [200/600], d_loss: 1.0997, g_loss: 0.9896, D(x): 0.64, D(G(z)): 0.40\n",
            "Epoch [176/300], Step [400/600], d_loss: 1.1528, g_loss: 1.0801, D(x): 0.64, D(G(z)): 0.43\n",
            "Epoch [176/300], Step [600/600], d_loss: 1.1860, g_loss: 1.0337, D(x): 0.58, D(G(z)): 0.39\n",
            "Saving fake_images-0177.png\n",
            "Epoch [177/300], Step [200/600], d_loss: 1.3383, g_loss: 1.0180, D(x): 0.60, D(G(z)): 0.47\n",
            "Epoch [177/300], Step [400/600], d_loss: 1.0933, g_loss: 1.0678, D(x): 0.64, D(G(z)): 0.40\n",
            "Epoch [177/300], Step [600/600], d_loss: 1.1486, g_loss: 1.0829, D(x): 0.61, D(G(z)): 0.37\n",
            "Saving fake_images-0178.png\n",
            "Epoch [178/300], Step [200/600], d_loss: 1.0208, g_loss: 1.2181, D(x): 0.65, D(G(z)): 0.38\n",
            "Epoch [178/300], Step [400/600], d_loss: 1.1365, g_loss: 1.0111, D(x): 0.58, D(G(z)): 0.37\n",
            "Epoch [178/300], Step [600/600], d_loss: 1.0824, g_loss: 0.9604, D(x): 0.64, D(G(z)): 0.40\n",
            "Saving fake_images-0179.png\n",
            "Epoch [179/300], Step [200/600], d_loss: 1.2032, g_loss: 0.9452, D(x): 0.58, D(G(z)): 0.40\n",
            "Epoch [179/300], Step [400/600], d_loss: 1.2605, g_loss: 0.9862, D(x): 0.62, D(G(z)): 0.44\n",
            "Epoch [179/300], Step [600/600], d_loss: 1.1414, g_loss: 1.0648, D(x): 0.64, D(G(z)): 0.41\n",
            "Saving fake_images-0180.png\n",
            "Epoch [180/300], Step [200/600], d_loss: 1.2498, g_loss: 1.1380, D(x): 0.57, D(G(z)): 0.37\n",
            "Epoch [180/300], Step [400/600], d_loss: 1.2195, g_loss: 0.9419, D(x): 0.60, D(G(z)): 0.43\n",
            "Epoch [180/300], Step [600/600], d_loss: 1.0643, g_loss: 1.2556, D(x): 0.60, D(G(z)): 0.34\n",
            "Saving fake_images-0181.png\n",
            "Epoch [181/300], Step [200/600], d_loss: 1.1367, g_loss: 1.0746, D(x): 0.61, D(G(z)): 0.38\n",
            "Epoch [181/300], Step [400/600], d_loss: 1.2151, g_loss: 1.0370, D(x): 0.63, D(G(z)): 0.43\n",
            "Epoch [181/300], Step [600/600], d_loss: 1.2148, g_loss: 1.1329, D(x): 0.56, D(G(z)): 0.37\n",
            "Saving fake_images-0182.png\n",
            "Epoch [182/300], Step [200/600], d_loss: 1.1109, g_loss: 1.2644, D(x): 0.55, D(G(z)): 0.31\n",
            "Epoch [182/300], Step [400/600], d_loss: 1.0530, g_loss: 1.1676, D(x): 0.62, D(G(z)): 0.37\n",
            "Epoch [182/300], Step [600/600], d_loss: 1.1524, g_loss: 0.8955, D(x): 0.64, D(G(z)): 0.44\n",
            "Saving fake_images-0183.png\n",
            "Epoch [183/300], Step [200/600], d_loss: 1.2043, g_loss: 1.0652, D(x): 0.58, D(G(z)): 0.38\n",
            "Epoch [183/300], Step [400/600], d_loss: 1.0656, g_loss: 1.1317, D(x): 0.64, D(G(z)): 0.38\n",
            "Epoch [183/300], Step [600/600], d_loss: 1.1690, g_loss: 1.1881, D(x): 0.56, D(G(z)): 0.37\n",
            "Saving fake_images-0184.png\n",
            "Epoch [184/300], Step [200/600], d_loss: 1.0902, g_loss: 0.9288, D(x): 0.63, D(G(z)): 0.39\n",
            "Epoch [184/300], Step [400/600], d_loss: 1.2966, g_loss: 1.0362, D(x): 0.59, D(G(z)): 0.44\n",
            "Epoch [184/300], Step [600/600], d_loss: 1.1529, g_loss: 1.0328, D(x): 0.62, D(G(z)): 0.40\n",
            "Saving fake_images-0185.png\n",
            "Epoch [185/300], Step [200/600], d_loss: 1.0788, g_loss: 1.1157, D(x): 0.61, D(G(z)): 0.35\n",
            "Epoch [185/300], Step [400/600], d_loss: 1.1643, g_loss: 0.9066, D(x): 0.59, D(G(z)): 0.40\n",
            "Epoch [185/300], Step [600/600], d_loss: 1.1319, g_loss: 1.1102, D(x): 0.56, D(G(z)): 0.33\n",
            "Saving fake_images-0186.png\n",
            "Epoch [186/300], Step [200/600], d_loss: 1.1714, g_loss: 1.1186, D(x): 0.59, D(G(z)): 0.39\n",
            "Epoch [186/300], Step [400/600], d_loss: 1.0672, g_loss: 1.2338, D(x): 0.60, D(G(z)): 0.34\n",
            "Epoch [186/300], Step [600/600], d_loss: 1.1601, g_loss: 1.0553, D(x): 0.61, D(G(z)): 0.39\n",
            "Saving fake_images-0187.png\n",
            "Epoch [187/300], Step [200/600], d_loss: 1.1140, g_loss: 1.2486, D(x): 0.57, D(G(z)): 0.35\n",
            "Epoch [187/300], Step [400/600], d_loss: 1.0719, g_loss: 0.9800, D(x): 0.64, D(G(z)): 0.40\n",
            "Epoch [187/300], Step [600/600], d_loss: 1.0665, g_loss: 0.9914, D(x): 0.64, D(G(z)): 0.40\n",
            "Saving fake_images-0188.png\n",
            "Epoch [188/300], Step [200/600], d_loss: 1.0611, g_loss: 1.1475, D(x): 0.63, D(G(z)): 0.38\n",
            "Epoch [188/300], Step [400/600], d_loss: 1.0995, g_loss: 1.2364, D(x): 0.59, D(G(z)): 0.34\n",
            "Epoch [188/300], Step [600/600], d_loss: 1.2090, g_loss: 1.0505, D(x): 0.62, D(G(z)): 0.43\n",
            "Saving fake_images-0189.png\n",
            "Epoch [189/300], Step [200/600], d_loss: 1.1846, g_loss: 1.0210, D(x): 0.63, D(G(z)): 0.44\n",
            "Epoch [189/300], Step [400/600], d_loss: 1.0598, g_loss: 1.1271, D(x): 0.63, D(G(z)): 0.37\n",
            "Epoch [189/300], Step [600/600], d_loss: 1.1379, g_loss: 0.9259, D(x): 0.60, D(G(z)): 0.41\n",
            "Saving fake_images-0190.png\n",
            "Epoch [190/300], Step [200/600], d_loss: 1.0302, g_loss: 0.9792, D(x): 0.66, D(G(z)): 0.40\n",
            "Epoch [190/300], Step [400/600], d_loss: 1.1800, g_loss: 0.9787, D(x): 0.62, D(G(z)): 0.40\n",
            "Epoch [190/300], Step [600/600], d_loss: 1.1342, g_loss: 0.9968, D(x): 0.62, D(G(z)): 0.40\n",
            "Saving fake_images-0191.png\n",
            "Epoch [191/300], Step [200/600], d_loss: 1.1192, g_loss: 1.0774, D(x): 0.58, D(G(z)): 0.36\n",
            "Epoch [191/300], Step [400/600], d_loss: 1.0697, g_loss: 1.0284, D(x): 0.66, D(G(z)): 0.39\n",
            "Epoch [191/300], Step [600/600], d_loss: 1.1419, g_loss: 0.9886, D(x): 0.62, D(G(z)): 0.41\n",
            "Saving fake_images-0192.png\n",
            "Epoch [192/300], Step [200/600], d_loss: 1.0659, g_loss: 1.1272, D(x): 0.64, D(G(z)): 0.38\n",
            "Epoch [192/300], Step [400/600], d_loss: 1.1805, g_loss: 1.1065, D(x): 0.63, D(G(z)): 0.41\n",
            "Epoch [192/300], Step [600/600], d_loss: 1.1759, g_loss: 0.9989, D(x): 0.60, D(G(z)): 0.41\n",
            "Saving fake_images-0193.png\n",
            "Epoch [193/300], Step [200/600], d_loss: 1.0824, g_loss: 0.9924, D(x): 0.65, D(G(z)): 0.41\n",
            "Epoch [193/300], Step [400/600], d_loss: 1.0030, g_loss: 1.0041, D(x): 0.64, D(G(z)): 0.36\n",
            "Epoch [193/300], Step [600/600], d_loss: 1.1610, g_loss: 1.1551, D(x): 0.58, D(G(z)): 0.36\n",
            "Saving fake_images-0194.png\n",
            "Epoch [194/300], Step [200/600], d_loss: 1.1312, g_loss: 1.1413, D(x): 0.61, D(G(z)): 0.37\n",
            "Epoch [194/300], Step [400/600], d_loss: 1.1261, g_loss: 1.0287, D(x): 0.63, D(G(z)): 0.40\n",
            "Epoch [194/300], Step [600/600], d_loss: 1.3331, g_loss: 0.9576, D(x): 0.58, D(G(z)): 0.45\n",
            "Saving fake_images-0195.png\n",
            "Epoch [195/300], Step [200/600], d_loss: 1.1410, g_loss: 0.9555, D(x): 0.57, D(G(z)): 0.38\n",
            "Epoch [195/300], Step [400/600], d_loss: 1.0017, g_loss: 1.0884, D(x): 0.65, D(G(z)): 0.36\n",
            "Epoch [195/300], Step [600/600], d_loss: 1.2121, g_loss: 1.0529, D(x): 0.60, D(G(z)): 0.42\n",
            "Saving fake_images-0196.png\n",
            "Epoch [196/300], Step [200/600], d_loss: 1.1238, g_loss: 1.0948, D(x): 0.61, D(G(z)): 0.37\n",
            "Epoch [196/300], Step [400/600], d_loss: 1.1725, g_loss: 1.0517, D(x): 0.57, D(G(z)): 0.36\n",
            "Epoch [196/300], Step [600/600], d_loss: 1.1773, g_loss: 1.0943, D(x): 0.59, D(G(z)): 0.39\n",
            "Saving fake_images-0197.png\n",
            "Epoch [197/300], Step [200/600], d_loss: 1.0818, g_loss: 1.0721, D(x): 0.67, D(G(z)): 0.41\n",
            "Epoch [197/300], Step [400/600], d_loss: 1.1268, g_loss: 1.0108, D(x): 0.63, D(G(z)): 0.42\n",
            "Epoch [197/300], Step [600/600], d_loss: 1.0792, g_loss: 1.2153, D(x): 0.62, D(G(z)): 0.36\n",
            "Saving fake_images-0198.png\n",
            "Epoch [198/300], Step [200/600], d_loss: 1.1602, g_loss: 1.0393, D(x): 0.61, D(G(z)): 0.42\n",
            "Epoch [198/300], Step [400/600], d_loss: 1.2124, g_loss: 0.9325, D(x): 0.66, D(G(z)): 0.46\n",
            "Epoch [198/300], Step [600/600], d_loss: 1.1730, g_loss: 1.0511, D(x): 0.62, D(G(z)): 0.40\n",
            "Saving fake_images-0199.png\n",
            "Epoch [199/300], Step [200/600], d_loss: 1.1047, g_loss: 1.0078, D(x): 0.61, D(G(z)): 0.38\n",
            "Epoch [199/300], Step [400/600], d_loss: 1.1855, g_loss: 1.2420, D(x): 0.60, D(G(z)): 0.38\n",
            "Epoch [199/300], Step [600/600], d_loss: 1.1325, g_loss: 0.9677, D(x): 0.63, D(G(z)): 0.41\n",
            "Saving fake_images-0200.png\n",
            "Epoch [200/300], Step [200/600], d_loss: 1.2082, g_loss: 0.9435, D(x): 0.61, D(G(z)): 0.42\n",
            "Epoch [200/300], Step [400/600], d_loss: 1.1286, g_loss: 1.2408, D(x): 0.58, D(G(z)): 0.36\n",
            "Epoch [200/300], Step [600/600], d_loss: 1.1294, g_loss: 1.0180, D(x): 0.63, D(G(z)): 0.38\n",
            "Saving fake_images-0201.png\n",
            "Epoch [201/300], Step [200/600], d_loss: 1.1801, g_loss: 1.0101, D(x): 0.60, D(G(z)): 0.40\n",
            "Epoch [201/300], Step [400/600], d_loss: 1.0916, g_loss: 1.1036, D(x): 0.60, D(G(z)): 0.37\n",
            "Epoch [201/300], Step [600/600], d_loss: 1.1500, g_loss: 1.1862, D(x): 0.59, D(G(z)): 0.36\n",
            "Saving fake_images-0202.png\n",
            "Epoch [202/300], Step [200/600], d_loss: 1.0901, g_loss: 1.1208, D(x): 0.60, D(G(z)): 0.36\n",
            "Epoch [202/300], Step [400/600], d_loss: 1.2037, g_loss: 1.1314, D(x): 0.62, D(G(z)): 0.42\n",
            "Epoch [202/300], Step [600/600], d_loss: 1.1361, g_loss: 0.9886, D(x): 0.67, D(G(z)): 0.44\n",
            "Saving fake_images-0203.png\n",
            "Epoch [203/300], Step [200/600], d_loss: 1.1164, g_loss: 0.9952, D(x): 0.62, D(G(z)): 0.39\n",
            "Epoch [203/300], Step [400/600], d_loss: 1.1167, g_loss: 1.1327, D(x): 0.59, D(G(z)): 0.36\n",
            "Epoch [203/300], Step [600/600], d_loss: 1.1011, g_loss: 0.9656, D(x): 0.60, D(G(z)): 0.37\n",
            "Saving fake_images-0204.png\n",
            "Epoch [204/300], Step [200/600], d_loss: 1.2044, g_loss: 1.0934, D(x): 0.58, D(G(z)): 0.40\n",
            "Epoch [204/300], Step [400/600], d_loss: 1.1224, g_loss: 1.2364, D(x): 0.60, D(G(z)): 0.38\n",
            "Epoch [204/300], Step [600/600], d_loss: 1.0973, g_loss: 1.1775, D(x): 0.61, D(G(z)): 0.35\n",
            "Saving fake_images-0205.png\n",
            "Epoch [205/300], Step [200/600], d_loss: 1.0930, g_loss: 1.0292, D(x): 0.64, D(G(z)): 0.39\n",
            "Epoch [205/300], Step [400/600], d_loss: 1.2622, g_loss: 1.0213, D(x): 0.58, D(G(z)): 0.43\n",
            "Epoch [205/300], Step [600/600], d_loss: 1.0537, g_loss: 1.1385, D(x): 0.63, D(G(z)): 0.37\n",
            "Saving fake_images-0206.png\n",
            "Epoch [206/300], Step [200/600], d_loss: 1.2345, g_loss: 1.0920, D(x): 0.58, D(G(z)): 0.41\n",
            "Epoch [206/300], Step [400/600], d_loss: 1.0662, g_loss: 1.1183, D(x): 0.61, D(G(z)): 0.36\n",
            "Epoch [206/300], Step [600/600], d_loss: 1.1780, g_loss: 1.2037, D(x): 0.61, D(G(z)): 0.41\n",
            "Saving fake_images-0207.png\n",
            "Epoch [207/300], Step [200/600], d_loss: 1.0728, g_loss: 1.2964, D(x): 0.57, D(G(z)): 0.31\n",
            "Epoch [207/300], Step [400/600], d_loss: 1.1012, g_loss: 0.9756, D(x): 0.61, D(G(z)): 0.37\n",
            "Epoch [207/300], Step [600/600], d_loss: 1.1351, g_loss: 1.1570, D(x): 0.63, D(G(z)): 0.40\n",
            "Saving fake_images-0208.png\n",
            "Epoch [208/300], Step [200/600], d_loss: 1.1751, g_loss: 1.0245, D(x): 0.60, D(G(z)): 0.41\n",
            "Epoch [208/300], Step [400/600], d_loss: 1.2404, g_loss: 0.8651, D(x): 0.64, D(G(z)): 0.47\n",
            "Epoch [208/300], Step [600/600], d_loss: 1.1448, g_loss: 0.9965, D(x): 0.62, D(G(z)): 0.41\n",
            "Saving fake_images-0209.png\n",
            "Epoch [209/300], Step [200/600], d_loss: 1.1699, g_loss: 1.1096, D(x): 0.61, D(G(z)): 0.42\n",
            "Epoch [209/300], Step [400/600], d_loss: 1.2339, g_loss: 1.2009, D(x): 0.56, D(G(z)): 0.38\n",
            "Epoch [209/300], Step [600/600], d_loss: 1.1653, g_loss: 1.1278, D(x): 0.62, D(G(z)): 0.41\n",
            "Saving fake_images-0210.png\n",
            "Epoch [210/300], Step [200/600], d_loss: 1.0506, g_loss: 0.9944, D(x): 0.64, D(G(z)): 0.38\n",
            "Epoch [210/300], Step [400/600], d_loss: 1.1180, g_loss: 1.1236, D(x): 0.60, D(G(z)): 0.36\n",
            "Epoch [210/300], Step [600/600], d_loss: 1.2012, g_loss: 1.1575, D(x): 0.57, D(G(z)): 0.38\n",
            "Saving fake_images-0211.png\n",
            "Epoch [211/300], Step [200/600], d_loss: 1.1389, g_loss: 1.0685, D(x): 0.63, D(G(z)): 0.41\n",
            "Epoch [211/300], Step [400/600], d_loss: 1.0948, g_loss: 0.9465, D(x): 0.63, D(G(z)): 0.41\n",
            "Epoch [211/300], Step [600/600], d_loss: 1.2409, g_loss: 1.0585, D(x): 0.59, D(G(z)): 0.42\n",
            "Saving fake_images-0212.png\n",
            "Epoch [212/300], Step [200/600], d_loss: 1.0691, g_loss: 1.1575, D(x): 0.61, D(G(z)): 0.36\n",
            "Epoch [212/300], Step [400/600], d_loss: 1.0772, g_loss: 0.9764, D(x): 0.66, D(G(z)): 0.41\n",
            "Epoch [212/300], Step [600/600], d_loss: 1.0865, g_loss: 1.2591, D(x): 0.63, D(G(z)): 0.36\n",
            "Saving fake_images-0213.png\n",
            "Epoch [213/300], Step [200/600], d_loss: 1.1494, g_loss: 1.0449, D(x): 0.62, D(G(z)): 0.42\n",
            "Epoch [213/300], Step [400/600], d_loss: 1.1587, g_loss: 1.1381, D(x): 0.59, D(G(z)): 0.37\n",
            "Epoch [213/300], Step [600/600], d_loss: 1.1346, g_loss: 1.0327, D(x): 0.62, D(G(z)): 0.38\n",
            "Saving fake_images-0214.png\n",
            "Epoch [214/300], Step [200/600], d_loss: 1.1669, g_loss: 1.1098, D(x): 0.58, D(G(z)): 0.38\n",
            "Epoch [214/300], Step [400/600], d_loss: 0.9941, g_loss: 1.1548, D(x): 0.61, D(G(z)): 0.31\n",
            "Epoch [214/300], Step [600/600], d_loss: 1.2532, g_loss: 1.1297, D(x): 0.56, D(G(z)): 0.39\n",
            "Saving fake_images-0215.png\n",
            "Epoch [215/300], Step [200/600], d_loss: 1.1642, g_loss: 0.9187, D(x): 0.63, D(G(z)): 0.41\n",
            "Epoch [215/300], Step [400/600], d_loss: 1.1427, g_loss: 0.9650, D(x): 0.62, D(G(z)): 0.40\n",
            "Epoch [215/300], Step [600/600], d_loss: 1.1728, g_loss: 1.1437, D(x): 0.57, D(G(z)): 0.37\n",
            "Saving fake_images-0216.png\n",
            "Epoch [216/300], Step [200/600], d_loss: 1.1649, g_loss: 1.0911, D(x): 0.60, D(G(z)): 0.39\n",
            "Epoch [216/300], Step [400/600], d_loss: 1.1606, g_loss: 1.0293, D(x): 0.62, D(G(z)): 0.41\n",
            "Epoch [216/300], Step [600/600], d_loss: 1.1669, g_loss: 1.0123, D(x): 0.60, D(G(z)): 0.40\n",
            "Saving fake_images-0217.png\n",
            "Epoch [217/300], Step [200/600], d_loss: 1.0949, g_loss: 1.0462, D(x): 0.62, D(G(z)): 0.36\n",
            "Epoch [217/300], Step [400/600], d_loss: 1.0713, g_loss: 0.9814, D(x): 0.63, D(G(z)): 0.38\n",
            "Epoch [217/300], Step [600/600], d_loss: 1.0589, g_loss: 1.1341, D(x): 0.61, D(G(z)): 0.34\n",
            "Saving fake_images-0218.png\n",
            "Epoch [218/300], Step [200/600], d_loss: 1.1321, g_loss: 1.0409, D(x): 0.61, D(G(z)): 0.39\n",
            "Epoch [218/300], Step [400/600], d_loss: 1.1852, g_loss: 0.9231, D(x): 0.61, D(G(z)): 0.43\n",
            "Epoch [218/300], Step [600/600], d_loss: 1.1646, g_loss: 1.0772, D(x): 0.62, D(G(z)): 0.41\n",
            "Saving fake_images-0219.png\n",
            "Epoch [219/300], Step [200/600], d_loss: 1.2360, g_loss: 0.8864, D(x): 0.61, D(G(z)): 0.44\n",
            "Epoch [219/300], Step [400/600], d_loss: 1.1566, g_loss: 1.0004, D(x): 0.59, D(G(z)): 0.37\n",
            "Epoch [219/300], Step [600/600], d_loss: 1.1261, g_loss: 1.0879, D(x): 0.59, D(G(z)): 0.36\n",
            "Saving fake_images-0220.png\n",
            "Epoch [220/300], Step [200/600], d_loss: 1.1123, g_loss: 0.9728, D(x): 0.63, D(G(z)): 0.39\n",
            "Epoch [220/300], Step [400/600], d_loss: 1.0907, g_loss: 0.8850, D(x): 0.65, D(G(z)): 0.42\n",
            "Epoch [220/300], Step [600/600], d_loss: 1.0721, g_loss: 0.9957, D(x): 0.66, D(G(z)): 0.40\n",
            "Saving fake_images-0221.png\n",
            "Epoch [221/300], Step [200/600], d_loss: 1.1648, g_loss: 0.9983, D(x): 0.64, D(G(z)): 0.43\n",
            "Epoch [221/300], Step [400/600], d_loss: 1.2093, g_loss: 1.0057, D(x): 0.63, D(G(z)): 0.42\n",
            "Epoch [221/300], Step [600/600], d_loss: 1.0965, g_loss: 1.1383, D(x): 0.63, D(G(z)): 0.37\n",
            "Saving fake_images-0222.png\n",
            "Epoch [222/300], Step [200/600], d_loss: 1.1415, g_loss: 1.0537, D(x): 0.59, D(G(z)): 0.37\n",
            "Epoch [222/300], Step [400/600], d_loss: 1.1058, g_loss: 1.0511, D(x): 0.61, D(G(z)): 0.39\n",
            "Epoch [222/300], Step [600/600], d_loss: 1.0425, g_loss: 1.1115, D(x): 0.65, D(G(z)): 0.38\n",
            "Saving fake_images-0223.png\n",
            "Epoch [223/300], Step [200/600], d_loss: 1.3015, g_loss: 0.9897, D(x): 0.61, D(G(z)): 0.44\n",
            "Epoch [223/300], Step [400/600], d_loss: 1.1222, g_loss: 1.0544, D(x): 0.61, D(G(z)): 0.36\n",
            "Epoch [223/300], Step [600/600], d_loss: 1.1142, g_loss: 1.1187, D(x): 0.56, D(G(z)): 0.35\n",
            "Saving fake_images-0224.png\n",
            "Epoch [224/300], Step [200/600], d_loss: 1.0266, g_loss: 1.1487, D(x): 0.58, D(G(z)): 0.30\n",
            "Epoch [224/300], Step [400/600], d_loss: 1.1246, g_loss: 0.9714, D(x): 0.62, D(G(z)): 0.39\n",
            "Epoch [224/300], Step [600/600], d_loss: 1.1483, g_loss: 1.0120, D(x): 0.61, D(G(z)): 0.40\n",
            "Saving fake_images-0225.png\n",
            "Epoch [225/300], Step [200/600], d_loss: 1.0613, g_loss: 1.1683, D(x): 0.58, D(G(z)): 0.32\n",
            "Epoch [225/300], Step [400/600], d_loss: 1.1999, g_loss: 0.9654, D(x): 0.65, D(G(z)): 0.45\n",
            "Epoch [225/300], Step [600/600], d_loss: 1.1250, g_loss: 0.9109, D(x): 0.65, D(G(z)): 0.40\n",
            "Saving fake_images-0226.png\n",
            "Epoch [226/300], Step [200/600], d_loss: 1.1063, g_loss: 0.9675, D(x): 0.64, D(G(z)): 0.40\n",
            "Epoch [226/300], Step [400/600], d_loss: 1.1590, g_loss: 1.1236, D(x): 0.60, D(G(z)): 0.38\n",
            "Epoch [226/300], Step [600/600], d_loss: 1.1763, g_loss: 1.0173, D(x): 0.61, D(G(z)): 0.41\n",
            "Saving fake_images-0227.png\n",
            "Epoch [227/300], Step [200/600], d_loss: 1.1071, g_loss: 1.0543, D(x): 0.65, D(G(z)): 0.41\n",
            "Epoch [227/300], Step [400/600], d_loss: 1.0493, g_loss: 1.3251, D(x): 0.57, D(G(z)): 0.29\n",
            "Epoch [227/300], Step [600/600], d_loss: 1.1768, g_loss: 1.0796, D(x): 0.61, D(G(z)): 0.41\n",
            "Saving fake_images-0228.png\n",
            "Epoch [228/300], Step [200/600], d_loss: 1.1558, g_loss: 0.8714, D(x): 0.65, D(G(z)): 0.44\n",
            "Epoch [228/300], Step [400/600], d_loss: 1.1723, g_loss: 0.9390, D(x): 0.63, D(G(z)): 0.42\n",
            "Epoch [228/300], Step [600/600], d_loss: 1.0986, g_loss: 1.2757, D(x): 0.62, D(G(z)): 0.38\n",
            "Saving fake_images-0229.png\n",
            "Epoch [229/300], Step [200/600], d_loss: 1.1817, g_loss: 0.9864, D(x): 0.60, D(G(z)): 0.40\n",
            "Epoch [229/300], Step [400/600], d_loss: 1.1368, g_loss: 0.9632, D(x): 0.64, D(G(z)): 0.41\n",
            "Epoch [229/300], Step [600/600], d_loss: 1.1445, g_loss: 0.9976, D(x): 0.62, D(G(z)): 0.40\n",
            "Saving fake_images-0230.png\n",
            "Epoch [230/300], Step [200/600], d_loss: 1.1588, g_loss: 1.0855, D(x): 0.62, D(G(z)): 0.40\n",
            "Epoch [230/300], Step [400/600], d_loss: 1.1598, g_loss: 1.0431, D(x): 0.62, D(G(z)): 0.41\n",
            "Epoch [230/300], Step [600/600], d_loss: 1.0896, g_loss: 1.0638, D(x): 0.63, D(G(z)): 0.38\n",
            "Saving fake_images-0231.png\n",
            "Epoch [231/300], Step [200/600], d_loss: 1.2028, g_loss: 1.0224, D(x): 0.59, D(G(z)): 0.41\n",
            "Epoch [231/300], Step [400/600], d_loss: 1.1479, g_loss: 1.0686, D(x): 0.64, D(G(z)): 0.41\n",
            "Epoch [231/300], Step [600/600], d_loss: 1.1932, g_loss: 0.9723, D(x): 0.58, D(G(z)): 0.39\n",
            "Saving fake_images-0232.png\n",
            "Epoch [232/300], Step [200/600], d_loss: 1.1271, g_loss: 1.0837, D(x): 0.62, D(G(z)): 0.40\n",
            "Epoch [232/300], Step [400/600], d_loss: 1.1382, g_loss: 1.0588, D(x): 0.62, D(G(z)): 0.39\n",
            "Epoch [232/300], Step [600/600], d_loss: 1.1133, g_loss: 1.0663, D(x): 0.62, D(G(z)): 0.39\n",
            "Saving fake_images-0233.png\n",
            "Epoch [233/300], Step [200/600], d_loss: 1.3086, g_loss: 1.0013, D(x): 0.60, D(G(z)): 0.45\n",
            "Epoch [233/300], Step [400/600], d_loss: 1.0386, g_loss: 1.0824, D(x): 0.66, D(G(z)): 0.39\n",
            "Epoch [233/300], Step [600/600], d_loss: 1.1479, g_loss: 1.0440, D(x): 0.60, D(G(z)): 0.40\n",
            "Saving fake_images-0234.png\n",
            "Epoch [234/300], Step [200/600], d_loss: 1.0829, g_loss: 1.0157, D(x): 0.60, D(G(z)): 0.36\n",
            "Epoch [234/300], Step [400/600], d_loss: 1.0810, g_loss: 1.0710, D(x): 0.62, D(G(z)): 0.38\n",
            "Epoch [234/300], Step [600/600], d_loss: 1.1654, g_loss: 1.0991, D(x): 0.61, D(G(z)): 0.40\n",
            "Saving fake_images-0235.png\n",
            "Epoch [235/300], Step [200/600], d_loss: 1.2497, g_loss: 0.9414, D(x): 0.57, D(G(z)): 0.41\n",
            "Epoch [235/300], Step [400/600], d_loss: 1.1344, g_loss: 1.0535, D(x): 0.55, D(G(z)): 0.33\n",
            "Epoch [235/300], Step [600/600], d_loss: 1.0120, g_loss: 1.0137, D(x): 0.64, D(G(z)): 0.37\n",
            "Saving fake_images-0236.png\n",
            "Epoch [236/300], Step [200/600], d_loss: 1.2016, g_loss: 1.0227, D(x): 0.62, D(G(z)): 0.44\n",
            "Epoch [236/300], Step [400/600], d_loss: 1.1990, g_loss: 0.9246, D(x): 0.61, D(G(z)): 0.44\n",
            "Epoch [236/300], Step [600/600], d_loss: 1.0576, g_loss: 1.0515, D(x): 0.63, D(G(z)): 0.39\n",
            "Saving fake_images-0237.png\n",
            "Epoch [237/300], Step [200/600], d_loss: 1.1411, g_loss: 1.0907, D(x): 0.59, D(G(z)): 0.36\n",
            "Epoch [237/300], Step [400/600], d_loss: 1.1795, g_loss: 1.2205, D(x): 0.57, D(G(z)): 0.37\n",
            "Epoch [237/300], Step [600/600], d_loss: 1.1574, g_loss: 1.0825, D(x): 0.62, D(G(z)): 0.40\n",
            "Saving fake_images-0238.png\n",
            "Epoch [238/300], Step [200/600], d_loss: 1.1570, g_loss: 1.0621, D(x): 0.61, D(G(z)): 0.40\n",
            "Epoch [238/300], Step [400/600], d_loss: 1.1321, g_loss: 1.1277, D(x): 0.61, D(G(z)): 0.38\n",
            "Epoch [238/300], Step [600/600], d_loss: 1.0840, g_loss: 1.0705, D(x): 0.62, D(G(z)): 0.38\n",
            "Saving fake_images-0239.png\n",
            "Epoch [239/300], Step [200/600], d_loss: 1.0898, g_loss: 1.1771, D(x): 0.60, D(G(z)): 0.36\n",
            "Epoch [239/300], Step [400/600], d_loss: 1.1525, g_loss: 1.0456, D(x): 0.61, D(G(z)): 0.40\n",
            "Epoch [239/300], Step [600/600], d_loss: 1.1785, g_loss: 1.0836, D(x): 0.58, D(G(z)): 0.39\n",
            "Saving fake_images-0240.png\n",
            "Epoch [240/300], Step [200/600], d_loss: 1.0323, g_loss: 1.1112, D(x): 0.64, D(G(z)): 0.37\n",
            "Epoch [240/300], Step [400/600], d_loss: 1.1705, g_loss: 1.1443, D(x): 0.58, D(G(z)): 0.38\n",
            "Epoch [240/300], Step [600/600], d_loss: 1.1730, g_loss: 0.9514, D(x): 0.59, D(G(z)): 0.39\n",
            "Saving fake_images-0241.png\n",
            "Epoch [241/300], Step [200/600], d_loss: 1.1324, g_loss: 0.9841, D(x): 0.63, D(G(z)): 0.40\n",
            "Epoch [241/300], Step [400/600], d_loss: 1.2979, g_loss: 1.1106, D(x): 0.57, D(G(z)): 0.41\n",
            "Epoch [241/300], Step [600/600], d_loss: 1.2060, g_loss: 0.9275, D(x): 0.65, D(G(z)): 0.46\n",
            "Saving fake_images-0242.png\n",
            "Epoch [242/300], Step [200/600], d_loss: 1.1700, g_loss: 1.2907, D(x): 0.57, D(G(z)): 0.35\n",
            "Epoch [242/300], Step [400/600], d_loss: 1.1260, g_loss: 0.9659, D(x): 0.62, D(G(z)): 0.38\n",
            "Epoch [242/300], Step [600/600], d_loss: 1.1136, g_loss: 1.0434, D(x): 0.63, D(G(z)): 0.40\n",
            "Saving fake_images-0243.png\n",
            "Epoch [243/300], Step [200/600], d_loss: 1.0216, g_loss: 1.0505, D(x): 0.64, D(G(z)): 0.37\n",
            "Epoch [243/300], Step [400/600], d_loss: 1.2078, g_loss: 0.9818, D(x): 0.55, D(G(z)): 0.38\n",
            "Epoch [243/300], Step [600/600], d_loss: 1.2654, g_loss: 1.1097, D(x): 0.61, D(G(z)): 0.45\n",
            "Saving fake_images-0244.png\n",
            "Epoch [244/300], Step [200/600], d_loss: 1.0463, g_loss: 0.9101, D(x): 0.66, D(G(z)): 0.38\n",
            "Epoch [244/300], Step [400/600], d_loss: 1.1291, g_loss: 1.0101, D(x): 0.64, D(G(z)): 0.41\n",
            "Epoch [244/300], Step [600/600], d_loss: 0.9780, g_loss: 1.3014, D(x): 0.64, D(G(z)): 0.32\n",
            "Saving fake_images-0245.png\n",
            "Epoch [245/300], Step [200/600], d_loss: 1.0870, g_loss: 0.9335, D(x): 0.64, D(G(z)): 0.42\n",
            "Epoch [245/300], Step [400/600], d_loss: 1.0986, g_loss: 1.0855, D(x): 0.61, D(G(z)): 0.38\n",
            "Epoch [245/300], Step [600/600], d_loss: 1.1609, g_loss: 0.9824, D(x): 0.61, D(G(z)): 0.41\n",
            "Saving fake_images-0246.png\n",
            "Epoch [246/300], Step [200/600], d_loss: 1.0899, g_loss: 1.0265, D(x): 0.63, D(G(z)): 0.39\n",
            "Epoch [246/300], Step [400/600], d_loss: 1.2141, g_loss: 0.9658, D(x): 0.60, D(G(z)): 0.42\n",
            "Epoch [246/300], Step [600/600], d_loss: 1.2191, g_loss: 0.9681, D(x): 0.62, D(G(z)): 0.44\n",
            "Saving fake_images-0247.png\n",
            "Epoch [247/300], Step [200/600], d_loss: 1.1908, g_loss: 1.0236, D(x): 0.59, D(G(z)): 0.40\n",
            "Epoch [247/300], Step [400/600], d_loss: 1.2031, g_loss: 1.0274, D(x): 0.57, D(G(z)): 0.39\n",
            "Epoch [247/300], Step [600/600], d_loss: 1.0409, g_loss: 0.9831, D(x): 0.64, D(G(z)): 0.39\n",
            "Saving fake_images-0248.png\n",
            "Epoch [248/300], Step [200/600], d_loss: 1.0952, g_loss: 0.9857, D(x): 0.63, D(G(z)): 0.40\n",
            "Epoch [248/300], Step [400/600], d_loss: 1.0190, g_loss: 1.0508, D(x): 0.64, D(G(z)): 0.36\n",
            "Epoch [248/300], Step [600/600], d_loss: 1.2144, g_loss: 1.0726, D(x): 0.59, D(G(z)): 0.41\n",
            "Saving fake_images-0249.png\n",
            "Epoch [249/300], Step [200/600], d_loss: 1.1690, g_loss: 1.1470, D(x): 0.58, D(G(z)): 0.37\n",
            "Epoch [249/300], Step [400/600], d_loss: 1.1740, g_loss: 1.1047, D(x): 0.61, D(G(z)): 0.41\n",
            "Epoch [249/300], Step [600/600], d_loss: 1.1304, g_loss: 1.0669, D(x): 0.59, D(G(z)): 0.37\n",
            "Saving fake_images-0250.png\n",
            "Epoch [250/300], Step [200/600], d_loss: 1.1723, g_loss: 1.0791, D(x): 0.59, D(G(z)): 0.37\n",
            "Epoch [250/300], Step [400/600], d_loss: 1.0949, g_loss: 1.0127, D(x): 0.65, D(G(z)): 0.42\n",
            "Epoch [250/300], Step [600/600], d_loss: 1.0500, g_loss: 0.8811, D(x): 0.62, D(G(z)): 0.35\n",
            "Saving fake_images-0251.png\n",
            "Epoch [251/300], Step [200/600], d_loss: 1.0194, g_loss: 0.9845, D(x): 0.65, D(G(z)): 0.38\n",
            "Epoch [251/300], Step [400/600], d_loss: 1.3230, g_loss: 0.9883, D(x): 0.55, D(G(z)): 0.43\n",
            "Epoch [251/300], Step [600/600], d_loss: 1.2660, g_loss: 1.1149, D(x): 0.57, D(G(z)): 0.40\n",
            "Saving fake_images-0252.png\n",
            "Epoch [252/300], Step [200/600], d_loss: 1.2507, g_loss: 1.0872, D(x): 0.56, D(G(z)): 0.40\n",
            "Epoch [252/300], Step [400/600], d_loss: 1.0873, g_loss: 1.0457, D(x): 0.59, D(G(z)): 0.34\n",
            "Epoch [252/300], Step [600/600], d_loss: 1.1865, g_loss: 1.1021, D(x): 0.56, D(G(z)): 0.39\n",
            "Saving fake_images-0253.png\n",
            "Epoch [253/300], Step [200/600], d_loss: 1.1408, g_loss: 1.1512, D(x): 0.59, D(G(z)): 0.37\n",
            "Epoch [253/300], Step [400/600], d_loss: 1.0885, g_loss: 1.1007, D(x): 0.61, D(G(z)): 0.37\n",
            "Epoch [253/300], Step [600/600], d_loss: 1.1508, g_loss: 1.1719, D(x): 0.65, D(G(z)): 0.42\n",
            "Saving fake_images-0254.png\n",
            "Epoch [254/300], Step [200/600], d_loss: 1.1300, g_loss: 1.1806, D(x): 0.57, D(G(z)): 0.35\n",
            "Epoch [254/300], Step [400/600], d_loss: 1.1715, g_loss: 1.0301, D(x): 0.64, D(G(z)): 0.42\n",
            "Epoch [254/300], Step [600/600], d_loss: 1.1344, g_loss: 1.0355, D(x): 0.63, D(G(z)): 0.41\n",
            "Saving fake_images-0255.png\n",
            "Epoch [255/300], Step [200/600], d_loss: 1.2157, g_loss: 1.1612, D(x): 0.60, D(G(z)): 0.43\n",
            "Epoch [255/300], Step [400/600], d_loss: 1.0062, g_loss: 1.3206, D(x): 0.60, D(G(z)): 0.31\n",
            "Epoch [255/300], Step [600/600], d_loss: 1.0974, g_loss: 0.9809, D(x): 0.62, D(G(z)): 0.36\n",
            "Saving fake_images-0256.png\n",
            "Epoch [256/300], Step [200/600], d_loss: 1.2538, g_loss: 0.9778, D(x): 0.61, D(G(z)): 0.43\n",
            "Epoch [256/300], Step [400/600], d_loss: 1.1678, g_loss: 1.1367, D(x): 0.58, D(G(z)): 0.36\n",
            "Epoch [256/300], Step [600/600], d_loss: 1.0177, g_loss: 1.0123, D(x): 0.68, D(G(z)): 0.41\n",
            "Saving fake_images-0257.png\n",
            "Epoch [257/300], Step [200/600], d_loss: 1.1783, g_loss: 1.0920, D(x): 0.60, D(G(z)): 0.39\n",
            "Epoch [257/300], Step [400/600], d_loss: 1.1465, g_loss: 0.9196, D(x): 0.62, D(G(z)): 0.41\n",
            "Epoch [257/300], Step [600/600], d_loss: 1.1544, g_loss: 1.1736, D(x): 0.58, D(G(z)): 0.37\n",
            "Saving fake_images-0258.png\n",
            "Epoch [258/300], Step [200/600], d_loss: 1.1673, g_loss: 0.9992, D(x): 0.61, D(G(z)): 0.41\n",
            "Epoch [258/300], Step [400/600], d_loss: 1.1193, g_loss: 1.0207, D(x): 0.63, D(G(z)): 0.40\n",
            "Epoch [258/300], Step [600/600], d_loss: 1.0745, g_loss: 1.1484, D(x): 0.64, D(G(z)): 0.38\n",
            "Saving fake_images-0259.png\n",
            "Epoch [259/300], Step [200/600], d_loss: 1.0737, g_loss: 1.2061, D(x): 0.59, D(G(z)): 0.35\n",
            "Epoch [259/300], Step [400/600], d_loss: 1.2165, g_loss: 1.1898, D(x): 0.57, D(G(z)): 0.41\n",
            "Epoch [259/300], Step [600/600], d_loss: 1.1474, g_loss: 1.0228, D(x): 0.63, D(G(z)): 0.40\n",
            "Saving fake_images-0260.png\n",
            "Epoch [260/300], Step [200/600], d_loss: 1.1795, g_loss: 1.0316, D(x): 0.62, D(G(z)): 0.43\n",
            "Epoch [260/300], Step [400/600], d_loss: 1.0958, g_loss: 1.1319, D(x): 0.62, D(G(z)): 0.39\n",
            "Epoch [260/300], Step [600/600], d_loss: 1.1772, g_loss: 0.9988, D(x): 0.65, D(G(z)): 0.43\n",
            "Saving fake_images-0261.png\n",
            "Epoch [261/300], Step [200/600], d_loss: 1.0826, g_loss: 1.0424, D(x): 0.62, D(G(z)): 0.37\n",
            "Epoch [261/300], Step [400/600], d_loss: 1.1477, g_loss: 1.0815, D(x): 0.57, D(G(z)): 0.37\n",
            "Epoch [261/300], Step [600/600], d_loss: 1.1938, g_loss: 1.1471, D(x): 0.55, D(G(z)): 0.34\n",
            "Saving fake_images-0262.png\n",
            "Epoch [262/300], Step [200/600], d_loss: 1.1681, g_loss: 1.0388, D(x): 0.57, D(G(z)): 0.37\n",
            "Epoch [262/300], Step [400/600], d_loss: 1.1657, g_loss: 1.1061, D(x): 0.63, D(G(z)): 0.42\n",
            "Epoch [262/300], Step [600/600], d_loss: 1.0547, g_loss: 1.0210, D(x): 0.63, D(G(z)): 0.39\n",
            "Saving fake_images-0263.png\n",
            "Epoch [263/300], Step [200/600], d_loss: 1.0475, g_loss: 1.0337, D(x): 0.62, D(G(z)): 0.36\n",
            "Epoch [263/300], Step [400/600], d_loss: 1.1157, g_loss: 1.0492, D(x): 0.59, D(G(z)): 0.36\n",
            "Epoch [263/300], Step [600/600], d_loss: 1.0797, g_loss: 1.0904, D(x): 0.65, D(G(z)): 0.41\n",
            "Saving fake_images-0264.png\n",
            "Epoch [264/300], Step [200/600], d_loss: 1.1367, g_loss: 0.9755, D(x): 0.63, D(G(z)): 0.40\n",
            "Epoch [264/300], Step [400/600], d_loss: 1.1221, g_loss: 0.9717, D(x): 0.65, D(G(z)): 0.43\n",
            "Epoch [264/300], Step [600/600], d_loss: 1.1139, g_loss: 1.2095, D(x): 0.59, D(G(z)): 0.36\n",
            "Saving fake_images-0265.png\n",
            "Epoch [265/300], Step [200/600], d_loss: 1.0754, g_loss: 1.1142, D(x): 0.60, D(G(z)): 0.35\n",
            "Epoch [265/300], Step [400/600], d_loss: 1.1577, g_loss: 1.1896, D(x): 0.58, D(G(z)): 0.37\n",
            "Epoch [265/300], Step [600/600], d_loss: 1.2037, g_loss: 1.0069, D(x): 0.61, D(G(z)): 0.40\n",
            "Saving fake_images-0266.png\n",
            "Epoch [266/300], Step [200/600], d_loss: 1.1413, g_loss: 1.0165, D(x): 0.61, D(G(z)): 0.40\n",
            "Epoch [266/300], Step [400/600], d_loss: 1.0145, g_loss: 1.4079, D(x): 0.60, D(G(z)): 0.31\n",
            "Epoch [266/300], Step [600/600], d_loss: 1.0712, g_loss: 1.1812, D(x): 0.59, D(G(z)): 0.34\n",
            "Saving fake_images-0267.png\n",
            "Epoch [267/300], Step [200/600], d_loss: 1.0969, g_loss: 1.1847, D(x): 0.62, D(G(z)): 0.36\n",
            "Epoch [267/300], Step [400/600], d_loss: 1.0422, g_loss: 0.9813, D(x): 0.63, D(G(z)): 0.38\n",
            "Epoch [267/300], Step [600/600], d_loss: 1.1434, g_loss: 1.0562, D(x): 0.59, D(G(z)): 0.38\n",
            "Saving fake_images-0268.png\n",
            "Epoch [268/300], Step [200/600], d_loss: 1.1921, g_loss: 1.0553, D(x): 0.60, D(G(z)): 0.41\n",
            "Epoch [268/300], Step [400/600], d_loss: 1.0570, g_loss: 1.0520, D(x): 0.62, D(G(z)): 0.37\n",
            "Epoch [268/300], Step [600/600], d_loss: 1.1119, g_loss: 1.1061, D(x): 0.62, D(G(z)): 0.39\n",
            "Saving fake_images-0269.png\n",
            "Epoch [269/300], Step [200/600], d_loss: 1.0215, g_loss: 1.0305, D(x): 0.60, D(G(z)): 0.34\n",
            "Epoch [269/300], Step [400/600], d_loss: 1.1693, g_loss: 1.0043, D(x): 0.64, D(G(z)): 0.43\n",
            "Epoch [269/300], Step [600/600], d_loss: 1.1431, g_loss: 1.0372, D(x): 0.62, D(G(z)): 0.39\n",
            "Saving fake_images-0270.png\n",
            "Epoch [270/300], Step [200/600], d_loss: 1.0981, g_loss: 1.0518, D(x): 0.63, D(G(z)): 0.40\n",
            "Epoch [270/300], Step [400/600], d_loss: 1.0791, g_loss: 1.2038, D(x): 0.60, D(G(z)): 0.35\n",
            "Epoch [270/300], Step [600/600], d_loss: 1.1136, g_loss: 1.1858, D(x): 0.58, D(G(z)): 0.34\n",
            "Saving fake_images-0271.png\n",
            "Epoch [271/300], Step [200/600], d_loss: 1.2446, g_loss: 1.0071, D(x): 0.60, D(G(z)): 0.42\n",
            "Epoch [271/300], Step [400/600], d_loss: 1.2949, g_loss: 1.0726, D(x): 0.52, D(G(z)): 0.37\n",
            "Epoch [271/300], Step [600/600], d_loss: 1.1514, g_loss: 1.1106, D(x): 0.61, D(G(z)): 0.39\n",
            "Saving fake_images-0272.png\n",
            "Epoch [272/300], Step [200/600], d_loss: 1.1017, g_loss: 1.0957, D(x): 0.60, D(G(z)): 0.36\n",
            "Epoch [272/300], Step [400/600], d_loss: 1.0447, g_loss: 0.9963, D(x): 0.65, D(G(z)): 0.38\n",
            "Epoch [272/300], Step [600/600], d_loss: 1.1748, g_loss: 0.9458, D(x): 0.59, D(G(z)): 0.39\n",
            "Saving fake_images-0273.png\n",
            "Epoch [273/300], Step [200/600], d_loss: 1.2279, g_loss: 0.9642, D(x): 0.62, D(G(z)): 0.44\n",
            "Epoch [273/300], Step [400/600], d_loss: 1.1340, g_loss: 1.0180, D(x): 0.62, D(G(z)): 0.40\n",
            "Epoch [273/300], Step [600/600], d_loss: 1.1902, g_loss: 1.2251, D(x): 0.57, D(G(z)): 0.37\n",
            "Saving fake_images-0274.png\n",
            "Epoch [274/300], Step [200/600], d_loss: 1.1318, g_loss: 1.0829, D(x): 0.65, D(G(z)): 0.42\n",
            "Epoch [274/300], Step [400/600], d_loss: 1.0625, g_loss: 0.9980, D(x): 0.65, D(G(z)): 0.40\n",
            "Epoch [274/300], Step [600/600], d_loss: 1.2171, g_loss: 0.9481, D(x): 0.62, D(G(z)): 0.44\n",
            "Saving fake_images-0275.png\n",
            "Epoch [275/300], Step [200/600], d_loss: 1.1570, g_loss: 1.0800, D(x): 0.56, D(G(z)): 0.37\n",
            "Epoch [275/300], Step [400/600], d_loss: 1.1319, g_loss: 1.1700, D(x): 0.60, D(G(z)): 0.35\n",
            "Epoch [275/300], Step [600/600], d_loss: 1.1366, g_loss: 0.9734, D(x): 0.63, D(G(z)): 0.41\n",
            "Saving fake_images-0276.png\n",
            "Epoch [276/300], Step [200/600], d_loss: 1.0406, g_loss: 0.9788, D(x): 0.63, D(G(z)): 0.38\n",
            "Epoch [276/300], Step [400/600], d_loss: 1.1178, g_loss: 0.9949, D(x): 0.63, D(G(z)): 0.41\n",
            "Epoch [276/300], Step [600/600], d_loss: 1.1162, g_loss: 1.0491, D(x): 0.63, D(G(z)): 0.40\n",
            "Saving fake_images-0277.png\n",
            "Epoch [277/300], Step [200/600], d_loss: 1.0945, g_loss: 1.0516, D(x): 0.64, D(G(z)): 0.40\n",
            "Epoch [277/300], Step [400/600], d_loss: 1.1582, g_loss: 1.1003, D(x): 0.59, D(G(z)): 0.38\n",
            "Epoch [277/300], Step [600/600], d_loss: 1.1009, g_loss: 1.1598, D(x): 0.58, D(G(z)): 0.32\n",
            "Saving fake_images-0278.png\n",
            "Epoch [278/300], Step [200/600], d_loss: 1.1264, g_loss: 1.0992, D(x): 0.58, D(G(z)): 0.36\n",
            "Epoch [278/300], Step [400/600], d_loss: 1.1043, g_loss: 1.0918, D(x): 0.60, D(G(z)): 0.37\n",
            "Epoch [278/300], Step [600/600], d_loss: 1.1508, g_loss: 1.0154, D(x): 0.61, D(G(z)): 0.40\n",
            "Saving fake_images-0279.png\n",
            "Epoch [279/300], Step [200/600], d_loss: 1.1326, g_loss: 1.1862, D(x): 0.60, D(G(z)): 0.38\n",
            "Epoch [279/300], Step [400/600], d_loss: 1.2428, g_loss: 0.9639, D(x): 0.62, D(G(z)): 0.44\n",
            "Epoch [279/300], Step [600/600], d_loss: 1.1739, g_loss: 1.0128, D(x): 0.61, D(G(z)): 0.41\n",
            "Saving fake_images-0280.png\n",
            "Epoch [280/300], Step [200/600], d_loss: 1.1278, g_loss: 1.0413, D(x): 0.59, D(G(z)): 0.36\n",
            "Epoch [280/300], Step [400/600], d_loss: 1.1066, g_loss: 1.2839, D(x): 0.58, D(G(z)): 0.34\n",
            "Epoch [280/300], Step [600/600], d_loss: 1.1579, g_loss: 1.1287, D(x): 0.58, D(G(z)): 0.36\n",
            "Saving fake_images-0281.png\n",
            "Epoch [281/300], Step [200/600], d_loss: 1.1297, g_loss: 1.0939, D(x): 0.60, D(G(z)): 0.39\n",
            "Epoch [281/300], Step [400/600], d_loss: 1.3220, g_loss: 1.0960, D(x): 0.58, D(G(z)): 0.44\n",
            "Epoch [281/300], Step [600/600], d_loss: 1.1453, g_loss: 1.2151, D(x): 0.59, D(G(z)): 0.38\n",
            "Saving fake_images-0282.png\n",
            "Epoch [282/300], Step [200/600], d_loss: 1.1107, g_loss: 1.0434, D(x): 0.63, D(G(z)): 0.40\n",
            "Epoch [282/300], Step [400/600], d_loss: 1.1071, g_loss: 1.0931, D(x): 0.62, D(G(z)): 0.38\n",
            "Epoch [282/300], Step [600/600], d_loss: 1.2028, g_loss: 1.1700, D(x): 0.58, D(G(z)): 0.38\n",
            "Saving fake_images-0283.png\n",
            "Epoch [283/300], Step [200/600], d_loss: 1.1375, g_loss: 0.9266, D(x): 0.64, D(G(z)): 0.43\n",
            "Epoch [283/300], Step [400/600], d_loss: 1.1570, g_loss: 0.9014, D(x): 0.62, D(G(z)): 0.42\n",
            "Epoch [283/300], Step [600/600], d_loss: 1.1648, g_loss: 1.0691, D(x): 0.59, D(G(z)): 0.39\n",
            "Saving fake_images-0284.png\n",
            "Epoch [284/300], Step [200/600], d_loss: 1.1509, g_loss: 0.9323, D(x): 0.65, D(G(z)): 0.42\n",
            "Epoch [284/300], Step [400/600], d_loss: 1.1073, g_loss: 1.0250, D(x): 0.61, D(G(z)): 0.40\n",
            "Epoch [284/300], Step [600/600], d_loss: 1.1759, g_loss: 1.2514, D(x): 0.58, D(G(z)): 0.37\n",
            "Saving fake_images-0285.png\n",
            "Epoch [285/300], Step [200/600], d_loss: 1.2963, g_loss: 1.0984, D(x): 0.58, D(G(z)): 0.42\n",
            "Epoch [285/300], Step [400/600], d_loss: 1.0850, g_loss: 1.1245, D(x): 0.63, D(G(z)): 0.38\n",
            "Epoch [285/300], Step [600/600], d_loss: 1.1606, g_loss: 1.0213, D(x): 0.62, D(G(z)): 0.41\n",
            "Saving fake_images-0286.png\n",
            "Epoch [286/300], Step [200/600], d_loss: 1.0178, g_loss: 0.9771, D(x): 0.65, D(G(z)): 0.37\n",
            "Epoch [286/300], Step [400/600], d_loss: 1.1716, g_loss: 1.0796, D(x): 0.58, D(G(z)): 0.35\n",
            "Epoch [286/300], Step [600/600], d_loss: 1.1359, g_loss: 0.9443, D(x): 0.62, D(G(z)): 0.41\n",
            "Saving fake_images-0287.png\n",
            "Epoch [287/300], Step [200/600], d_loss: 1.1993, g_loss: 0.9988, D(x): 0.58, D(G(z)): 0.40\n",
            "Epoch [287/300], Step [400/600], d_loss: 1.0711, g_loss: 0.9873, D(x): 0.61, D(G(z)): 0.36\n",
            "Epoch [287/300], Step [600/600], d_loss: 1.0272, g_loss: 0.9141, D(x): 0.68, D(G(z)): 0.41\n",
            "Saving fake_images-0288.png\n",
            "Epoch [288/300], Step [200/600], d_loss: 1.1237, g_loss: 1.0568, D(x): 0.62, D(G(z)): 0.40\n",
            "Epoch [288/300], Step [400/600], d_loss: 1.1449, g_loss: 1.1885, D(x): 0.59, D(G(z)): 0.37\n",
            "Epoch [288/300], Step [600/600], d_loss: 1.0880, g_loss: 0.9727, D(x): 0.63, D(G(z)): 0.39\n",
            "Saving fake_images-0289.png\n",
            "Epoch [289/300], Step [200/600], d_loss: 1.1551, g_loss: 1.0696, D(x): 0.57, D(G(z)): 0.35\n",
            "Epoch [289/300], Step [400/600], d_loss: 1.2138, g_loss: 0.9802, D(x): 0.59, D(G(z)): 0.41\n",
            "Epoch [289/300], Step [600/600], d_loss: 1.2084, g_loss: 1.1084, D(x): 0.61, D(G(z)): 0.42\n",
            "Saving fake_images-0290.png\n",
            "Epoch [290/300], Step [200/600], d_loss: 1.1374, g_loss: 1.1260, D(x): 0.61, D(G(z)): 0.38\n",
            "Epoch [290/300], Step [400/600], d_loss: 1.1294, g_loss: 1.0353, D(x): 0.63, D(G(z)): 0.40\n",
            "Epoch [290/300], Step [600/600], d_loss: 1.1596, g_loss: 1.0831, D(x): 0.64, D(G(z)): 0.40\n",
            "Saving fake_images-0291.png\n",
            "Epoch [291/300], Step [200/600], d_loss: 1.2253, g_loss: 1.2319, D(x): 0.54, D(G(z)): 0.34\n",
            "Epoch [291/300], Step [400/600], d_loss: 1.1003, g_loss: 1.1267, D(x): 0.64, D(G(z)): 0.40\n",
            "Epoch [291/300], Step [600/600], d_loss: 1.1271, g_loss: 1.0066, D(x): 0.60, D(G(z)): 0.38\n",
            "Saving fake_images-0292.png\n",
            "Epoch [292/300], Step [200/600], d_loss: 1.1018, g_loss: 1.0328, D(x): 0.67, D(G(z)): 0.43\n",
            "Epoch [292/300], Step [400/600], d_loss: 1.1098, g_loss: 1.1001, D(x): 0.62, D(G(z)): 0.37\n",
            "Epoch [292/300], Step [600/600], d_loss: 1.1850, g_loss: 1.1912, D(x): 0.56, D(G(z)): 0.37\n",
            "Saving fake_images-0293.png\n",
            "Epoch [293/300], Step [200/600], d_loss: 1.0810, g_loss: 0.9952, D(x): 0.62, D(G(z)): 0.38\n",
            "Epoch [293/300], Step [400/600], d_loss: 1.0493, g_loss: 0.9761, D(x): 0.65, D(G(z)): 0.40\n",
            "Epoch [293/300], Step [600/600], d_loss: 1.0519, g_loss: 0.9657, D(x): 0.68, D(G(z)): 0.41\n",
            "Saving fake_images-0294.png\n",
            "Epoch [294/300], Step [200/600], d_loss: 1.0338, g_loss: 1.1079, D(x): 0.64, D(G(z)): 0.36\n",
            "Epoch [294/300], Step [400/600], d_loss: 1.2572, g_loss: 1.0757, D(x): 0.57, D(G(z)): 0.42\n",
            "Epoch [294/300], Step [600/600], d_loss: 1.1688, g_loss: 0.9838, D(x): 0.60, D(G(z)): 0.41\n",
            "Saving fake_images-0295.png\n",
            "Epoch [295/300], Step [200/600], d_loss: 1.1057, g_loss: 1.2223, D(x): 0.61, D(G(z)): 0.37\n",
            "Epoch [295/300], Step [400/600], d_loss: 1.0391, g_loss: 1.0214, D(x): 0.64, D(G(z)): 0.37\n",
            "Epoch [295/300], Step [600/600], d_loss: 1.1227, g_loss: 1.0791, D(x): 0.61, D(G(z)): 0.38\n",
            "Saving fake_images-0296.png\n",
            "Epoch [296/300], Step [200/600], d_loss: 1.0644, g_loss: 1.0536, D(x): 0.63, D(G(z)): 0.38\n",
            "Epoch [296/300], Step [400/600], d_loss: 1.2066, g_loss: 1.0001, D(x): 0.57, D(G(z)): 0.38\n",
            "Epoch [296/300], Step [600/600], d_loss: 1.1456, g_loss: 1.0364, D(x): 0.58, D(G(z)): 0.37\n",
            "Saving fake_images-0297.png\n",
            "Epoch [297/300], Step [200/600], d_loss: 1.0651, g_loss: 1.0478, D(x): 0.62, D(G(z)): 0.36\n",
            "Epoch [297/300], Step [400/600], d_loss: 1.0924, g_loss: 0.9905, D(x): 0.65, D(G(z)): 0.40\n",
            "Epoch [297/300], Step [600/600], d_loss: 1.0816, g_loss: 1.0058, D(x): 0.62, D(G(z)): 0.39\n",
            "Saving fake_images-0298.png\n",
            "Epoch [298/300], Step [200/600], d_loss: 1.1333, g_loss: 1.0451, D(x): 0.63, D(G(z)): 0.41\n",
            "Epoch [298/300], Step [400/600], d_loss: 1.1515, g_loss: 1.0461, D(x): 0.61, D(G(z)): 0.39\n",
            "Epoch [298/300], Step [600/600], d_loss: 1.1448, g_loss: 0.9838, D(x): 0.62, D(G(z)): 0.41\n",
            "Saving fake_images-0299.png\n",
            "Epoch [299/300], Step [200/600], d_loss: 1.1169, g_loss: 1.0619, D(x): 0.61, D(G(z)): 0.38\n",
            "Epoch [299/300], Step [400/600], d_loss: 1.1926, g_loss: 0.9488, D(x): 0.63, D(G(z)): 0.43\n",
            "Epoch [299/300], Step [600/600], d_loss: 1.1756, g_loss: 1.0764, D(x): 0.63, D(G(z)): 0.41\n",
            "Saving fake_images-0300.png\n",
            "CPU times: user 3h 36s, sys: 21 s, total: 3h 58s\n",
            "Wall time: 3h 2min 5s\n"
          ]
        }
      ],
      "source": [
        "%%time\n",
        "total_step = len(data_loader)\n",
        "d_losses, g_losses, real_scores, fake_scores = [], [], [], []\n",
        "G.to(device)\n",
        "D.to(device)\n",
        "for epoch in range(num_epochs):\n",
        "    for i, (images, _) in enumerate(data_loader):\n",
        "        # Load a batch & transform to vectors\n",
        "        images = images.reshape(batch_size, -1).to(device)\n",
        "\n",
        "        # Train the discriminator\n",
        "        d_loss, real_score, fake_score = train_discriminator(D, G, images)\n",
        "        # Train the generator\n",
        "        g_loss, fake_images = train_generator(G)\n",
        "        # Inspect the losses\n",
        "        if (i + 1) % 200 == 0:\n",
        "            d_losses.append(d_loss.item())\n",
        "            g_losses.append(g_loss.item())\n",
        "            real_scores.append(real_score.mean().item())\n",
        "            fake_scores.append(fake_score.mean().item())\n",
        "            print(\n",
        "                \"Epoch [{}/{}], Step [{}/{}], d_loss: {:.4f}, g_loss: {:.4f}, D(x): {:.2f}, D(G(z)): {:.2f}\".format(\n",
        "                    epoch,\n",
        "                    num_epochs,\n",
        "                    i + 1,\n",
        "                    total_step,\n",
        "                    d_loss.item(),\n",
        "                    g_loss.item(),\n",
        "                    real_score.mean().item(),\n",
        "                    fake_score.mean().item(),\n",
        "                )\n",
        "            )\n",
        "    # Sample and save images\n",
        "    save_fake_images_mnist(G, epoch + 1)"
      ]
    },
    {
      "cell_type": "code",
      "execution_count": 28,
      "metadata": {
        "execution": {
          "iopub.execute_input": "2024-10-10T15:37:25.108051Z",
          "iopub.status.busy": "2024-10-10T15:37:25.107067Z",
          "iopub.status.idle": "2024-10-10T15:37:25.134995Z",
          "shell.execute_reply": "2024-10-10T15:37:25.134084Z",
          "shell.execute_reply.started": "2024-10-10T15:37:25.108005Z"
        },
        "id": "Dlm4M7ja___j",
        "pycharm": {
          "name": "#%%\n"
        },
        "tags": [],
        "colab": {
          "base_uri": "https://localhost:8080/",
          "height": 319
        },
        "outputId": "daf25145-2b91-4e29-da91-23d76dcdfe95"
      },
      "outputs": [
        {
          "output_type": "execute_result",
          "data": {
            "text/plain": [
              "<PIL.PngImagePlugin.PngImageFile image mode=RGB size=302x302>"
            ],
            "image/png": "[encoded data removed]",
            "image/jpeg": "[encoded data removed]"
          },
          "metadata": {},
          "execution_count": 28
        }
      ],
      "source": [
        "# show output after epochs training\n",
        "Image.open(os.path.join(sample_dir, \"fake_images-0225.png\"))"
      ]
    },
    {
      "cell_type": "code",
      "execution_count": 29,
      "metadata": {
        "execution": {
          "iopub.execute_input": "2024-10-10T15:37:35.256863Z",
          "iopub.status.busy": "2024-10-10T15:37:35.255705Z",
          "iopub.status.idle": "2024-10-10T15:37:35.505641Z",
          "shell.execute_reply": "2024-10-10T15:37:35.504504Z",
          "shell.execute_reply.started": "2024-10-10T15:37:35.256815Z"
        },
        "id": "LuLUwaaY___k",
        "pycharm": {
          "name": "#%%\n"
        },
        "tags": [],
        "colab": {
          "base_uri": "https://localhost:8080/",
          "height": 477
        },
        "outputId": "bc51d84e-e583-4e73-e01b-6313a8140168"
      },
      "outputs": [
        {
          "output_type": "display_data",
          "data": {
            "text/plain": [
              "<Figure size 640x480 with 1 Axes>"
            ],
            "image/png": "[encoded data removed]"
          },
          "metadata": {}
        }
      ],
      "source": [
        "# show the discrimator loss and generator loss\n",
        "plt.plot(d_losses, \"-\")\n",
        "plt.plot(g_losses, \"-\")\n",
        "plt.xlabel(\"epoch\")\n",
        "plt.ylabel(\"loss\")\n",
        "plt.legend([\"Discriminator\", \"Generator\"])\n",
        "plt.title(\"Losses\");"
      ]
    },
    {
      "cell_type": "code",
      "execution_count": 30,
      "metadata": {
        "execution": {
          "iopub.execute_input": "2024-10-10T15:37:47.364714Z",
          "iopub.status.busy": "2024-10-10T15:37:47.363403Z",
          "iopub.status.idle": "2024-10-10T15:37:47.606757Z",
          "shell.execute_reply": "2024-10-10T15:37:47.605906Z",
          "shell.execute_reply.started": "2024-10-10T15:37:47.364668Z"
        },
        "id": "KXe1OMMA___l",
        "pycharm": {
          "name": "#%%\n"
        },
        "tags": [],
        "colab": {
          "base_uri": "https://localhost:8080/",
          "height": 477
        },
        "outputId": "86b21f44-d1f4-461c-8dfd-515beae2d15d"
      },
      "outputs": [
        {
          "output_type": "display_data",
          "data": {
            "text/plain": [
              "<Figure size 640x480 with 1 Axes>"
            ],
            "image/png": "[encoded data removed]"
          },
          "metadata": {}
        }
      ],
      "source": [
        "# plot the accuracy of discrimator\n",
        "plt.plot(real_scores, \"-\")\n",
        "plt.plot(fake_scores, \"-\")\n",
        "plt.xlabel(\"epoch\")\n",
        "plt.ylabel(\"score\")\n",
        "plt.legend([\"Real Score\", \"Fake score\"])\n",
        "plt.title(\"Scores\");"
      ]
    },
    {
      "cell_type": "markdown",
      "metadata": {
        "id": "VxjGRy71___l",
        "pycharm": {
          "name": "#%% md\n"
        }
      },
      "source": [
        "## 2. DCGAN"
      ]
    },
    {
      "cell_type": "markdown",
      "metadata": {
        "id": "R2SBUbSM___m",
        "pycharm": {
          "name": "#%% md\n"
        }
      },
      "source": [
        "*Source: <a href=\"https://arxiv.org/pdf/1511.06434v2.pdf\" target=\"_blank\">Radford, Alec, Luke Metz, and Soumith Chintala. \"Unsupervised representation learning with deep convolutional generative adversarial networks.\" arXiv preprint arXiv:1511.06434 (2015)</a>.*"
      ]
    },
    {
      "cell_type": "markdown",
      "metadata": {
        "id": "AOaZuDsv___m",
        "pycharm": {
          "name": "#%% md\n"
        }
      },
      "source": [
        "The goal of this part is to enhance your results achieved in the part one with DCGAN. Feel free to reuse your code, improve architecture or training scheme, etc."
      ]
    },
    {
      "cell_type": "code",
      "execution_count": null,
      "metadata": {
        "execution": {
          "iopub.status.busy": "2024-10-10T14:20:03.655770Z",
          "iopub.status.idle": "2024-10-10T14:20:03.656128Z",
          "shell.execute_reply": "2024-10-10T14:20:03.655979Z",
          "shell.execute_reply.started": "2024-10-10T14:20:03.655963Z"
        },
        "id": "jJWbnASW___m",
        "pycharm": {
          "name": "#%%\n"
        }
      },
      "outputs": [],
      "source": [
        "class CFG:\n",
        "    batch_size = 128\n",
        "    num_epochs = 300\n",
        "    workers = 4\n",
        "    seed = 2021\n",
        "    image_size = 64\n",
        "    download = True\n",
        "    dataroot = \"data\"\n",
        "    nc = 3  ## number of chanels\n",
        "    ngf = 64  # Size of feature maps in generator\n",
        "    nz = 100  # latent random input vector\n",
        "    ndf = 64  # Size of feature maps in discriminator\n",
        "    lr = 0.0002\n",
        "    device = \"cuda\" if torch.cuda.is_available() else \"cpu\"\n",
        "    sample_dir = \"./images/\"\n",
        "\n",
        "\n",
        "if not os.path.exists(CFG.sample_dir):\n",
        "    os.makedirs(CFG.sample_dir)\n",
        "\n",
        "cifar_dataset = CIFAR10(\n",
        "    root=CFG.dataroot,\n",
        "    download=CFG.download,\n",
        "    transform=transforms.Compose(\n",
        "        [\n",
        "            transforms.Resize([CFG.image_size, CFG.image_size]),\n",
        "            transforms.ToTensor(),\n",
        "            transforms.Normalize((0.5, 0.5, 0.5), (0.5, 0.5, 0.5)),\n",
        "        ]\n",
        "    ),\n",
        ")"
      ]
    },
    {
      "cell_type": "code",
      "execution_count": null,
      "metadata": {
        "execution": {
          "iopub.status.busy": "2024-10-10T14:20:03.658002Z",
          "iopub.status.idle": "2024-10-10T14:20:03.658760Z",
          "shell.execute_reply": "2024-10-10T14:20:03.658556Z",
          "shell.execute_reply.started": "2024-10-10T14:20:03.658530Z"
        },
        "id": "1zQ13kF6___n",
        "pycharm": {
          "name": "#%%\n"
        }
      },
      "outputs": [],
      "source": [
        "img, label = cifar_dataset[0]\n",
        "print(\"Label: \", label)\n",
        "plt.hist(img[:, 5:15, 5:15].flatten(), bins=15)"
      ]
    },
    {
      "cell_type": "code",
      "execution_count": null,
      "metadata": {
        "execution": {
          "iopub.status.busy": "2024-10-10T14:20:03.659925Z",
          "iopub.status.idle": "2024-10-10T14:20:03.660642Z",
          "shell.execute_reply": "2024-10-10T14:20:03.660439Z",
          "shell.execute_reply.started": "2024-10-10T14:20:03.660416Z"
        },
        "id": "bQek-_xx___o",
        "pycharm": {
          "name": "#%%\n"
        }
      },
      "outputs": [],
      "source": [
        "# unnormalization image from range (-1)-1 to range 0-1 to display it\n",
        "def denorm(img):\n",
        "    # write your code\n",
        "\n",
        "# show  image sample with matplotlib\n"
      ]
    },
    {
      "cell_type": "code",
      "execution_count": null,
      "metadata": {
        "execution": {
          "iopub.status.busy": "2024-10-10T14:20:03.661483Z",
          "iopub.status.idle": "2024-10-10T14:20:03.662563Z",
          "shell.execute_reply": "2024-10-10T14:20:03.662346Z",
          "shell.execute_reply.started": "2024-10-10T14:20:03.662323Z"
        },
        "id": "QCgngJq5___o",
        "pycharm": {
          "name": "#%%\n"
        }
      },
      "outputs": [],
      "source": [
        "# create the data_loader"
      ]
    },
    {
      "cell_type": "markdown",
      "metadata": {
        "id": "8Eeg3xE8___o",
        "pycharm": {
          "name": "#%% md\n"
        }
      },
      "source": [
        "### DCGAN implementation"
      ]
    },
    {
      "cell_type": "code",
      "execution_count": null,
      "metadata": {
        "execution": {
          "iopub.status.busy": "2024-10-10T14:20:03.663471Z",
          "iopub.status.idle": "2024-10-10T14:20:03.664321Z",
          "shell.execute_reply": "2024-10-10T14:20:03.664121Z",
          "shell.execute_reply.started": "2024-10-10T14:20:03.664093Z"
        },
        "id": "tlvyHI7Q___p",
        "pycharm": {
          "name": "#%%\n"
        }
      },
      "outputs": [],
      "source": [
        "class DCGenerator(nn.Module):\n",
        "    def __init__(self, nc, nz, ngf):\n",
        "        # ConvTranspose2d - BatchNorm - Relu -ConvTranspose2d - BatchNorm - Relu -ConvTranspose2d - BatchNorm - Relu\n",
        "        # ConvTranspose2d - BatchNorm - Relu - ConvTranspose2d - Tanh\n",
        "        super(Generator, self).__init__()\n",
        "        ##\n",
        "\n",
        "    def forward(self, x):\n",
        "        ##\n",
        "        return F.tanh(x)\n",
        "\n",
        "\n",
        "class DCDiscriminator(nn.Module):\n",
        "    def __init__(self, nc, ndf):\n",
        "        # conv2d - leaky - conv2d - batchnorm - leaky - conv2d - batchnorm - leaky - conv - batchnorm - leaky - conv2d\n",
        "        super(Discriminator, self).__init__()\n",
        "        ##\n",
        "\n",
        "    def forward(self, x):\n",
        "        ##\n",
        "        return F.sigmoid(x)"
      ]
    },
    {
      "cell_type": "code",
      "execution_count": null,
      "metadata": {
        "execution": {
          "iopub.status.busy": "2024-10-10T14:20:03.665500Z",
          "iopub.status.idle": "2024-10-10T14:20:03.665971Z",
          "shell.execute_reply": "2024-10-10T14:20:03.665775Z",
          "shell.execute_reply.started": "2024-10-10T14:20:03.665754Z"
        },
        "id": "sPVR9Rh1___p",
        "pycharm": {
          "name": "#%%\n"
        }
      },
      "outputs": [],
      "source": [
        "# create new Generator model\n",
        "\n",
        "# DCG = DCGenerator...\n",
        "\n",
        "# create new Discriminator model\n",
        "\n",
        "# DCD = DCDiscriminator..."
      ]
    },
    {
      "cell_type": "code",
      "execution_count": null,
      "metadata": {
        "execution": {
          "iopub.status.busy": "2024-10-10T14:20:03.666711Z",
          "iopub.status.idle": "2024-10-10T14:20:03.667164Z",
          "shell.execute_reply": "2024-10-10T14:20:03.666972Z",
          "shell.execute_reply.started": "2024-10-10T14:20:03.666950Z"
        },
        "id": "Gq2e2ccb___p",
        "pycharm": {
          "name": "#%%\n"
        }
      },
      "outputs": [],
      "source": [
        "# show the output of model\n",
        "y = DCG(torch.randn(2, CFG.nz))"
      ]
    },
    {
      "cell_type": "code",
      "execution_count": null,
      "metadata": {
        "execution": {
          "iopub.status.busy": "2024-10-10T14:20:03.667884Z",
          "iopub.status.idle": "2024-10-10T14:20:03.668354Z",
          "shell.execute_reply": "2024-10-10T14:20:03.668164Z",
          "shell.execute_reply.started": "2024-10-10T14:20:03.668144Z"
        },
        "id": "13uPUnSB___q",
        "pycharm": {
          "name": "#%%\n"
        }
      },
      "outputs": [],
      "source": [
        "# define the criterion is nn.BCELoss()\n",
        "criterion = nn.BCELoss()\n",
        "## Define the optimizer for generator and discrimator"
      ]
    },
    {
      "cell_type": "code",
      "execution_count": null,
      "metadata": {
        "execution": {
          "iopub.status.busy": "2024-10-10T14:20:03.669664Z",
          "iopub.status.idle": "2024-10-10T14:20:03.670113Z",
          "shell.execute_reply": "2024-10-10T14:20:03.669930Z",
          "shell.execute_reply.started": "2024-10-10T14:20:03.669911Z"
        },
        "id": "IkrRHEa3___q",
        "pycharm": {
          "name": "#%%\n"
        }
      },
      "outputs": [],
      "source": [
        "# feel free to reuse your training functions"
      ]
    },
    {
      "cell_type": "markdown",
      "metadata": {
        "id": "j7ONDPUq___r",
        "pycharm": {
          "name": "#%% md\n"
        }
      },
      "source": [
        "### Start the training proccess"
      ]
    },
    {
      "cell_type": "code",
      "execution_count": null,
      "metadata": {
        "execution": {
          "iopub.status.busy": "2024-10-10T14:20:03.672267Z",
          "iopub.status.idle": "2024-10-10T14:20:03.673140Z",
          "shell.execute_reply": "2024-10-10T14:20:03.672932Z",
          "shell.execute_reply.started": "2024-10-10T14:20:03.672903Z"
        },
        "id": "ByYpMvdf___r",
        "pycharm": {
          "name": "#%%\n"
        }
      },
      "outputs": [],
      "source": [
        "def save_fake_images_cifar(DCG_model, index):\n",
        "    sample_vectors = torch.randn(CFG.batch_size, CFG.nz, 1, 1).to(CFG.device)\n",
        "    fake_images = DCG_model(sample_vectors)\n",
        "    fake_images = fake_images.reshape(fake_images.size(0), 3, 64, 64)\n",
        "    fake_fname = \"fake_images-{0:0=4d}.png\".format(index)\n",
        "    print(\"Saving\", fake_fname)\n",
        "    save_image(\n",
        "        denorm(fake_images), os.path.join(CFG.sample_dir, fake_fname), nrow=10\n",
        "    )"
      ]
    },
    {
      "cell_type": "code",
      "execution_count": null,
      "metadata": {
        "execution": {
          "iopub.status.busy": "2024-10-10T14:20:03.674136Z",
          "iopub.status.idle": "2024-10-10T14:20:03.674847Z",
          "shell.execute_reply": "2024-10-10T14:20:03.674642Z",
          "shell.execute_reply.started": "2024-10-10T14:20:03.674618Z"
        },
        "id": "jVBi-pBJ___r",
        "pycharm": {
          "name": "#%%\n"
        }
      },
      "outputs": [],
      "source": [
        "%%time\n",
        "device = CFG.device\n",
        "num_epochs = CFG.num_epochs\n",
        "batch_size = CFG.batch_size\n",
        "\n",
        "total_step = len(data_loader)\n",
        "d_losses, g_losses, real_scores, fake_scores = [], [], [], []\n",
        "DCG.to(device)\n",
        "DCD.to(device)\n",
        "\n",
        "for epoch in range(num_epochs):\n",
        "    for i, (images, _) in enumerate(data_loader):\n",
        "        # Load a batch & transform to vectors\n",
        "        images = images.reshape(batch_size, -1).to(device)\n",
        "\n",
        "        # Train the discriminator\n",
        "\n",
        "        # Train the generator\n",
        "\n",
        "        # Inspect the losses\n",
        "        if (i + 1) % 200 == 0:\n",
        "            d_losses.append(d_loss.item())\n",
        "            g_losses.append(g_loss.item())\n",
        "            real_scores.append(real_score.mean().item())\n",
        "            fake_scores.append(fake_score.mean().item())\n",
        "            print(\n",
        "                \"Epoch [{}/{}], Step [{}/{}], d_loss: {:.4f}, g_loss: {:.4f}, D(x): {:.2f}, D(G(z)): {:.2f}\".format(\n",
        "                    epoch,\n",
        "                    num_epochs,\n",
        "                    i + 1,\n",
        "                    total_step,\n",
        "                    d_loss.item(),\n",
        "                    g_loss.item(),\n",
        "                    real_score.mean().item(),\n",
        "                    fake_score.mean().item(),\n",
        "                )\n",
        "            )\n",
        "    # Sample and save images\n",
        "    save_fake_images_cifar(epoch + 1)"
      ]
    },
    {
      "cell_type": "code",
      "execution_count": null,
      "metadata": {
        "execution": {
          "iopub.status.busy": "2024-10-10T14:20:03.676350Z",
          "iopub.status.idle": "2024-10-10T14:20:03.677171Z",
          "shell.execute_reply": "2024-10-10T14:20:03.676957Z",
          "shell.execute_reply.started": "2024-10-10T14:20:03.676930Z"
        },
        "id": "V-23l5zp___s",
        "pycharm": {
          "name": "#%%\n"
        },
        "tags": []
      },
      "outputs": [],
      "source": [
        "# show your results!"
      ]
    }
  ],
  "metadata": {
    "colab": {
      "provenance": [],
      "include_colab_link": true
    },
    "kernelspec": {
      "display_name": "DataSphere Kernel",
      "language": "python",
      "name": "python3"
    },
    "language_info": {
      "codemirror_mode": {
        "name": "ipython",
        "version": 3
      },
      "file_extension": ".py",
      "mimetype": "text/x-python",
      "name": "python",
      "nbconvert_exporter": "python",
      "pygments_lexer": "ipython3",
      "version": "3.10.12"
    }
  },
  "nbformat": 4,
  "nbformat_minor": 0
}